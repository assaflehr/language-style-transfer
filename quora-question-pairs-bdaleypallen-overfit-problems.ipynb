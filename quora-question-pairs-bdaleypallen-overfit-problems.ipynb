{
  "nbformat": 4,
  "nbformat_minor": 0,
  "metadata": {
    "colab": {
      "name": "quora-question-pairs-data-prep.ipynb",
      "version": "0.3.2",
      "provenance": []
    },
    "kernelspec": {
      "display_name": "Python 3",
      "language": "python",
      "name": "python3"
    },
    "accelerator": "GPU"
  },
  "cells": [
    {
      "metadata": {
        "id": "-5wzZxtNpvYr",
        "colab_type": "text"
      },
      "cell_type": "markdown",
      "source": [
        "# Quora question pairs: data preparation"
      ]
    },
    {
      "metadata": {
        "id": "NYYm9ELXpvYs",
        "colab_type": "text"
      },
      "cell_type": "markdown",
      "source": [
        "## Import packages"
      ]
    },
    {
      "metadata": {
        "id": "1VPo7wSHpvYt",
        "colab_type": "code",
        "colab": {
          "base_uri": "https://localhost:8080/",
          "height": 35
        },
        "outputId": "77e4f941-2816-47fa-f55e-0407f53d4784"
      },
      "cell_type": "code",
      "source": [
        "from __future__ import print_function\n",
        "\n",
        "import numpy as np\n",
        "import csv, json\n",
        "from zipfile import ZipFile\n",
        "from os.path import expanduser, exists\n",
        "\n",
        "from keras.preprocessing.text import Tokenizer\n",
        "from keras.preprocessing.sequence import pad_sequences\n",
        "from keras.utils.data_utils import get_file"
      ],
      "execution_count": 1,
      "outputs": [
        {
          "output_type": "stream",
          "text": [
            "Using TensorFlow backend.\n"
          ],
          "name": "stderr"
        }
      ]
    },
    {
      "metadata": {
        "id": "-gP3t_dZpvYy",
        "colab_type": "text"
      },
      "cell_type": "markdown",
      "source": [
        "## Initialize global variables"
      ]
    },
    {
      "metadata": {
        "id": "Ex9Du58spvYz",
        "colab_type": "code",
        "colab": {
          "base_uri": "https://localhost:8080/",
          "height": 17
        },
        "outputId": "ee7901c0-8d58-4e40-f10d-cee06a401d82"
      },
      "cell_type": "code",
      "source": [
        "KERAS_DATASETS_DIR = expanduser('~/.keras/datasets/')\n",
        "QUESTION_PAIRS_FILE_URL = 'http://qim.ec.quoracdn.net/quora_duplicate_questions.tsv'\n",
        "QUESTION_PAIRS_FILE = 'quora_duplicate_questions.tsv'\n",
        "GLOVE_ZIP_FILE_URL = 'http://nlp.stanford.edu/data/glove.840B.300d.zip'\n",
        "GLOVE_ZIP_FILE = 'glove.840B.300d.zip'\n",
        "GLOVE_FILE = 'glove.840B.300d.txt'\n",
        "Q1_TRAINING_DATA_FILE = 'q1_train.npy'\n",
        "Q2_TRAINING_DATA_FILE = 'q2_train.npy'\n",
        "LABEL_TRAINING_DATA_FILE = 'label_train.npy'\n",
        "WORD_EMBEDDING_MATRIX_FILE = 'word_embedding_matrix.npy'\n",
        "NB_WORDS_DATA_FILE = 'nb_words.json'\n",
        "MAX_NB_WORDS = 200000\n",
        "MAX_SEQUENCE_LENGTH = 25\n",
        "EMBEDDING_DIM = 300"
      ],
      "execution_count": 2,
      "outputs": []
    },
    {
      "metadata": {
        "id": "PNvqCclEpvY3",
        "colab_type": "text"
      },
      "cell_type": "markdown",
      "source": [
        "## Download and extract questions pairs data"
      ]
    },
    {
      "metadata": {
        "id": "cv_kfmuCpvY4",
        "colab_type": "code",
        "colab": {
          "base_uri": "https://localhost:8080/",
          "height": 90
        },
        "outputId": "23bfe88b-cc44-4438-8477-2d70c777fd64"
      },
      "cell_type": "code",
      "source": [
        "if not exists(KERAS_DATASETS_DIR + QUESTION_PAIRS_FILE):\n",
        "    get_file(QUESTION_PAIRS_FILE, QUESTION_PAIRS_FILE_URL)\n",
        "\n",
        "print(\"Processing\", QUESTION_PAIRS_FILE)\n",
        "\n",
        "question1 = []\n",
        "question2 = []\n",
        "is_duplicate = []\n",
        "with open(KERAS_DATASETS_DIR + QUESTION_PAIRS_FILE, encoding='utf-8') as csvfile:\n",
        "    reader = csv.DictReader(csvfile, delimiter='\\t')\n",
        "    for row in reader:\n",
        "        question1.append(row['question1'])\n",
        "        question2.append(row['question2'])\n",
        "        is_duplicate.append(row['is_duplicate'])\n",
        "\n",
        "print('Question pairs: %d' % len(question1))"
      ],
      "execution_count": 3,
      "outputs": [
        {
          "output_type": "stream",
          "text": [
            "Downloading data from http://qim.ec.quoracdn.net/quora_duplicate_questions.tsv\n",
            "58179584/58176133 [==============================] - 0s 0us/step\n",
            "Processing quora_duplicate_questions.tsv\n",
            "Question pairs: 404290\n"
          ],
          "name": "stdout"
        }
      ]
    },
    {
      "metadata": {
        "id": "25rcv1dSpvY8",
        "colab_type": "text"
      },
      "cell_type": "markdown",
      "source": [
        "## Build tokenized word index"
      ]
    },
    {
      "metadata": {
        "id": "7Y2M2_1fpvY9",
        "colab_type": "code",
        "colab": {
          "base_uri": "https://localhost:8080/",
          "height": 35
        },
        "outputId": "def493e9-deda-4a63-cb9e-666c97d6fa13"
      },
      "cell_type": "code",
      "source": [
        "questions = question1 + question2\n",
        "tokenizer = Tokenizer(num_words=MAX_NB_WORDS)\n",
        "tokenizer.fit_on_texts(questions)\n",
        "question1_word_sequences = tokenizer.texts_to_sequences(question1)\n",
        "question2_word_sequences = tokenizer.texts_to_sequences(question2)\n",
        "word_index = tokenizer.word_index\n",
        "\n",
        "print(\"Words in index: %d\" % len(word_index))"
      ],
      "execution_count": 4,
      "outputs": [
        {
          "output_type": "stream",
          "text": [
            "Words in index: 95596\n"
          ],
          "name": "stdout"
        }
      ]
    },
    {
      "metadata": {
        "id": "G3Pe0BqlpvZA",
        "colab_type": "text"
      },
      "cell_type": "markdown",
      "source": [
        "## Download and process GloVe embeddings"
      ]
    },
    {
      "metadata": {
        "id": "UcJkzvpGpvZB",
        "colab_type": "code",
        "colab": {
          "base_uri": "https://localhost:8080/",
          "height": 110
        },
        "outputId": "0a59fa6c-5100-4ec2-d44a-93d87e7ce8f9"
      },
      "cell_type": "code",
      "source": [
        "if not exists(KERAS_DATASETS_DIR + GLOVE_ZIP_FILE):\n",
        "    zipfile = ZipFile(get_file(GLOVE_ZIP_FILE, GLOVE_ZIP_FILE_URL))\n",
        "    zipfile.extract(GLOVE_FILE, path=KERAS_DATASETS_DIR)\n",
        "    \n",
        "print(\"Processing\", GLOVE_FILE)\n",
        "\n",
        "embeddings_index = {}\n",
        "with open(KERAS_DATASETS_DIR + GLOVE_FILE, encoding='utf-8') as f:\n",
        "    for line in f:\n",
        "        values = line.split(' ')\n",
        "        word = values[0]\n",
        "        embedding = np.asarray(values[1:], dtype='float32')\n",
        "        embeddings_index[word] = embedding\n",
        "\n",
        "print('Word embeddings: %d' % len(embeddings_index))"
      ],
      "execution_count": 5,
      "outputs": [
        {
          "output_type": "stream",
          "text": [
            "Downloading data from http://nlp.stanford.edu/data/glove.840B.300d.zip\n",
            "1059217408/2176768927 [=============>................] - ETA: 59s"
          ],
          "name": "stdout"
        },
        {
          "output_type": "stream",
          "text": [
            "2176770048/2176768927 [==============================] - 115s 0us/step\n",
            "Processing glove.840B.300d.txt\n",
            "Word embeddings: 2196016\n"
          ],
          "name": "stdout"
        }
      ]
    },
    {
      "metadata": {
        "id": "xsdZkTd_pvZI",
        "colab_type": "text"
      },
      "cell_type": "markdown",
      "source": [
        "## Prepare word embedding matrix"
      ]
    },
    {
      "metadata": {
        "id": "AgsYUai0pvZJ",
        "colab_type": "code",
        "colab": {
          "base_uri": "https://localhost:8080/",
          "height": 35
        },
        "outputId": "9fbed4f6-e94b-4fd0-c135-7a7e61935886"
      },
      "cell_type": "code",
      "source": [
        "nb_words = min(MAX_NB_WORDS, len(word_index))\n",
        "word_embedding_matrix = np.zeros((nb_words + 1, EMBEDDING_DIM))\n",
        "for word, i in word_index.items():\n",
        "    if i > MAX_NB_WORDS:\n",
        "        continue\n",
        "    embedding_vector = embeddings_index.get(word)\n",
        "    if embedding_vector is not None:\n",
        "        word_embedding_matrix[i] = embedding_vector\n",
        "\n",
        "print('Null word embeddings: %d' % np.sum(np.sum(word_embedding_matrix, axis=1) == 0))"
      ],
      "execution_count": 6,
      "outputs": [
        {
          "output_type": "stream",
          "text": [
            "Null word embeddings: 29276\n"
          ],
          "name": "stdout"
        }
      ]
    },
    {
      "metadata": {
        "id": "0eSMu4x2pvZO",
        "colab_type": "text"
      },
      "cell_type": "markdown",
      "source": [
        "## Prepare training data tensors"
      ]
    },
    {
      "metadata": {
        "id": "VZRLTCoGpvZP",
        "colab_type": "code",
        "colab": {
          "base_uri": "https://localhost:8080/",
          "height": 72
        },
        "outputId": "d62cbb8f-ae4f-43da-8836-ed48f5ef4acc"
      },
      "cell_type": "code",
      "source": [
        "q1_data = pad_sequences(question1_word_sequences, maxlen=MAX_SEQUENCE_LENGTH)\n",
        "q2_data = pad_sequences(question2_word_sequences, maxlen=MAX_SEQUENCE_LENGTH)\n",
        "labels = np.array(is_duplicate, dtype=int)\n",
        "print('Shape of question1 data tensor:', q1_data.shape)\n",
        "print('Shape of question2 data tensor:', q2_data.shape)\n",
        "print('Shape of label tensor:', labels.shape)"
      ],
      "execution_count": 7,
      "outputs": [
        {
          "output_type": "stream",
          "text": [
            "Shape of question1 data tensor: (404290, 25)\n",
            "Shape of question2 data tensor: (404290, 25)\n",
            "Shape of label tensor: (404290,)\n"
          ],
          "name": "stdout"
        }
      ]
    },
    {
      "metadata": {
        "id": "lBs_tgivpvZU",
        "colab_type": "text"
      },
      "cell_type": "markdown",
      "source": [
        "## Persist training and configuration data to files"
      ]
    },
    {
      "metadata": {
        "id": "P7IRDRq2pvZW",
        "colab_type": "code",
        "colab": {
          "base_uri": "https://localhost:8080/",
          "height": 17
        },
        "outputId": "6a2a49d4-f742-4598-ddaa-2910921724cf"
      },
      "cell_type": "code",
      "source": [
        "np.save(open(Q1_TRAINING_DATA_FILE, 'wb'), q1_data)\n",
        "np.save(open(Q2_TRAINING_DATA_FILE, 'wb'), q2_data)\n",
        "np.save(open(LABEL_TRAINING_DATA_FILE, 'wb'), labels)\n",
        "np.save(open(WORD_EMBEDDING_MATRIX_FILE, 'wb'), word_embedding_matrix)\n",
        "with open(NB_WORDS_DATA_FILE, 'w') as f:\n",
        "    json.dump({'nb_words': nb_words}, f)"
      ],
      "execution_count": 8,
      "outputs": []
    },
    {
      "metadata": {
        "id": "L5dRefMYsASI",
        "colab_type": "code",
        "colab": {
          "base_uri": "https://localhost:8080/",
          "height": 145
        },
        "outputId": "8cfc8420-c361-44c6-a889-343fa56880c1"
      },
      "cell_type": "code",
      "source": [
        "!ls -lh"
      ],
      "execution_count": 11,
      "outputs": [
        {
          "output_type": "stream",
          "text": [
            "total 300M\r\n",
            "drwxr-xr-x 3 root root 4.0K Jul  2 16:56 datalab\r\n",
            "-rw-r--r-- 1 root root 3.1M Jul  4 09:44 label_train.npy\r\n",
            "-rw-r--r-- 1 root root   19 Jul  4 09:44 nb_words.json\r\n",
            "-rw-r--r-- 1 root root  39M Jul  4 09:44 q1_train.npy\r\n",
            "-rw-r--r-- 1 root root  39M Jul  4 09:44 q2_train.npy\r\n",
            "-rw-r--r-- 1 root root 219M Jul  4 09:44 word_embedding_matrix.npy\r\n"
          ],
          "name": "stdout"
        }
      ]
    },
    {
      "metadata": {
        "id": "gezIPbGssNLu",
        "colab_type": "code",
        "colab": {}
      },
      "cell_type": "code",
      "source": [
        ""
      ],
      "execution_count": 0,
      "outputs": []
    },
    {
      "metadata": {
        "id": "1Emf3a2rsNOk",
        "colab_type": "code",
        "colab": {}
      },
      "cell_type": "code",
      "source": [
        ""
      ],
      "execution_count": 0,
      "outputs": []
    },
    {
      "metadata": {
        "id": "7bz2GGppsNR0",
        "colab_type": "code",
        "colab": {}
      },
      "cell_type": "code",
      "source": [
        ""
      ],
      "execution_count": 0,
      "outputs": []
    },
    {
      "metadata": {
        "id": "4KfPjhrRp1WK",
        "colab_type": "code",
        "colab": {
          "base_uri": "https://localhost:8080/",
          "height": 17
        },
        "outputId": "96fb0042-5d94-45a9-fb56-18347f73cb1a"
      },
      "cell_type": "code",
      "source": [
        "%matplotlib inline\n",
        "from __future__ import print_function\n",
        "import numpy as np\n",
        "import pandas as pd\n",
        "import datetime, time, json\n",
        "from keras.models import Model\n",
        "from keras.layers import Input, TimeDistributed, Dense, Lambda, concatenate, Dropout, BatchNormalization\n",
        "from keras.layers.embeddings import Embedding\n",
        "from keras.regularizers import l2\n",
        "from keras.callbacks import Callback, ModelCheckpoint\n",
        "from keras import backend as K\n",
        "from sklearn.model_selection import train_test_split"
      ],
      "execution_count": 13,
      "outputs": []
    },
    {
      "metadata": {
        "id": "UA6no2Rxp1WP",
        "colab_type": "text"
      },
      "cell_type": "markdown",
      "source": [
        "## Initialize global variables"
      ]
    },
    {
      "metadata": {
        "id": "ozz2ixJ4p1WQ",
        "colab_type": "code",
        "colab": {
          "base_uri": "https://localhost:8080/",
          "height": 17
        },
        "outputId": "d5b50c35-a85d-4221-8a02-273835449543"
      },
      "cell_type": "code",
      "source": [
        "Q1_TRAINING_DATA_FILE = 'q1_train.npy'\n",
        "Q2_TRAINING_DATA_FILE = 'q2_train.npy'\n",
        "LABEL_TRAINING_DATA_FILE = 'label_train.npy'\n",
        "WORD_EMBEDDING_MATRIX_FILE = 'word_embedding_matrix.npy'\n",
        "NB_WORDS_DATA_FILE = 'nb_words.json'\n",
        "MODEL_WEIGHTS_FILE = 'question_pairs_weights.h5'\n",
        "MAX_SEQUENCE_LENGTH = 25\n",
        "EMBEDDING_DIM = 300\n",
        "VALIDATION_SPLIT = 0.1\n",
        "TEST_SPLIT = 0.1\n",
        "RNG_SEED = 13371447\n",
        "NB_EPOCHS = 25\n",
        "DROPOUT = 0.1\n",
        "BATCH_SIZE = 32"
      ],
      "execution_count": 14,
      "outputs": []
    },
    {
      "metadata": {
        "id": "tbaQimg4p1WU",
        "colab_type": "text"
      },
      "cell_type": "markdown",
      "source": [
        "## Load the dataset, embedding matrix and word count"
      ]
    },
    {
      "metadata": {
        "id": "IHTzrkxyp1WV",
        "colab_type": "code",
        "colab": {
          "base_uri": "https://localhost:8080/",
          "height": 17
        },
        "outputId": "355b4f09-6a99-49c2-c3ce-7d4d111156a8"
      },
      "cell_type": "code",
      "source": [
        "q1_data = np.load(open(Q1_TRAINING_DATA_FILE, 'rb'))\n",
        "q2_data = np.load(open(Q2_TRAINING_DATA_FILE, 'rb'))\n",
        "labels = np.load(open(LABEL_TRAINING_DATA_FILE, 'rb'))\n",
        "word_embedding_matrix = np.load(open(WORD_EMBEDDING_MATRIX_FILE, 'rb'))\n",
        "with open(NB_WORDS_DATA_FILE, 'r') as f:\n",
        "    nb_words = json.load(f)['nb_words']"
      ],
      "execution_count": 15,
      "outputs": []
    },
    {
      "metadata": {
        "id": "Owg8BnpPp1WZ",
        "colab_type": "text"
      },
      "cell_type": "markdown",
      "source": [
        "## Partition the dataset into train and test sets"
      ]
    },
    {
      "metadata": {
        "id": "K41KLHlDp1WZ",
        "colab_type": "code",
        "colab": {
          "base_uri": "https://localhost:8080/",
          "height": 17
        },
        "outputId": "b7bd1384-b9d2-4a61-c7a0-cba40dc48fd4"
      },
      "cell_type": "code",
      "source": [
        "X = np.stack((q1_data, q2_data), axis=1)\n",
        "y = labels\n",
        "X_train, X_test, y_train, y_test = train_test_split(X, y, test_size=TEST_SPLIT, random_state=RNG_SEED)\n",
        "Q1_train = X_train[:,0]\n",
        "Q2_train = X_train[:,1]\n",
        "Q1_test = X_test[:,0]\n",
        "Q2_test = X_test[:,1]"
      ],
      "execution_count": 16,
      "outputs": []
    },
    {
      "metadata": {
        "id": "ciGIzdbBp1Wd",
        "colab_type": "text"
      },
      "cell_type": "markdown",
      "source": [
        "## Define the model"
      ]
    },
    {
      "metadata": {
        "id": "UZlsbLb_p1Wd",
        "colab_type": "code",
        "colab": {
          "base_uri": "https://localhost:8080/",
          "height": 17
        },
        "outputId": "ec48219f-f75f-49a2-90e3-b5d875b16043"
      },
      "cell_type": "code",
      "source": [
        "question1 = Input(shape=(MAX_SEQUENCE_LENGTH,))\n",
        "question2 = Input(shape=(MAX_SEQUENCE_LENGTH,))\n",
        "\n",
        "q1 = Embedding(nb_words + 1, \n",
        "                 EMBEDDING_DIM, \n",
        "                 weights=[word_embedding_matrix], \n",
        "                 input_length=MAX_SEQUENCE_LENGTH, \n",
        "                 trainable=False)(question1)\n",
        "q1 = TimeDistributed(Dense(EMBEDDING_DIM, activation='relu'))(q1)\n",
        "q1 = Lambda(lambda x: K.max(x, axis=1), output_shape=(EMBEDDING_DIM, ))(q1)\n",
        "\n",
        "q2 = Embedding(nb_words + 1, \n",
        "                 EMBEDDING_DIM, \n",
        "                 weights=[word_embedding_matrix], \n",
        "                 input_length=MAX_SEQUENCE_LENGTH, \n",
        "                 trainable=False)(question2)\n",
        "q2 = TimeDistributed(Dense(EMBEDDING_DIM, activation='relu'))(q2)\n",
        "q2 = Lambda(lambda x: K.max(x, axis=1), output_shape=(EMBEDDING_DIM, ))(q2)\n",
        "\n",
        "merged = concatenate([q1,q2])\n",
        "#merged = Dense(200, activation='relu')(merged)\n",
        "#merged = Dropout(DROPOUT)(merged)\n",
        "#merged = BatchNormalization()(merged)\n",
        "#merged = Dense(200, activation='relu')(merged)\n",
        "#merged = Dropout(DROPOUT)(merged)\n",
        "#merged = BatchNormalization()(merged)\n",
        "#merged = Dense(200, activation='relu')(merged)\n",
        "#merged = Dropout(DROPOUT)(merged)\n",
        "#merged = BatchNormalization()(merged)\n",
        "merged = Dense(200, activation='relu')(merged)\n",
        "merged = Dropout(DROPOUT)(merged)\n",
        "#merged = BatchNormalization()(merged)\n",
        "\n",
        "is_duplicate = Dense(1, activation='sigmoid')(merged)\n",
        "\n",
        "model = Model(inputs=[question1,question2], outputs=is_duplicate)\n",
        "model.compile(loss='binary_crossentropy', optimizer='adam', metrics=['accuracy'])"
      ],
      "execution_count": 23,
      "outputs": []
    },
    {
      "metadata": {
        "id": "NL88Ce64p1Wg",
        "colab_type": "code",
        "colab": {
          "base_uri": "https://localhost:8080/",
          "height": 599
        },
        "outputId": "d3119465-e7e6-4956-cdcf-c2885859c636"
      },
      "cell_type": "code",
      "source": [
        "model.summary()"
      ],
      "execution_count": 24,
      "outputs": [
        {
          "output_type": "stream",
          "text": [
            "__________________________________________________________________________________________________\n",
            "Layer (type)                    Output Shape         Param #     Connected to                     \n",
            "==================================================================================================\n",
            "input_7 (InputLayer)            (None, 25)           0                                            \n",
            "__________________________________________________________________________________________________\n",
            "input_8 (InputLayer)            (None, 25)           0                                            \n",
            "__________________________________________________________________________________________________\n",
            "embedding_7 (Embedding)         (None, 25, 300)      28679100    input_7[0][0]                    \n",
            "__________________________________________________________________________________________________\n",
            "embedding_8 (Embedding)         (None, 25, 300)      28679100    input_8[0][0]                    \n",
            "__________________________________________________________________________________________________\n",
            "time_distributed_7 (TimeDistrib (None, 25, 300)      90300       embedding_7[0][0]                \n",
            "__________________________________________________________________________________________________\n",
            "time_distributed_8 (TimeDistrib (None, 25, 300)      90300       embedding_8[0][0]                \n",
            "__________________________________________________________________________________________________\n",
            "lambda_7 (Lambda)               (None, 300)          0           time_distributed_7[0][0]         \n",
            "__________________________________________________________________________________________________\n",
            "lambda_8 (Lambda)               (None, 300)          0           time_distributed_8[0][0]         \n",
            "__________________________________________________________________________________________________\n",
            "concatenate_4 (Concatenate)     (None, 600)          0           lambda_7[0][0]                   \n",
            "                                                                 lambda_8[0][0]                   \n",
            "__________________________________________________________________________________________________\n",
            "dense_21 (Dense)                (None, 200)          120200      concatenate_4[0][0]              \n",
            "__________________________________________________________________________________________________\n",
            "dropout_10 (Dropout)            (None, 200)          0           dense_21[0][0]                   \n",
            "__________________________________________________________________________________________________\n",
            "dense_22 (Dense)                (None, 1)            201         dropout_10[0][0]                 \n",
            "==================================================================================================\n",
            "Total params: 57,659,201\n",
            "Trainable params: 301,001\n",
            "Non-trainable params: 57,358,200\n",
            "__________________________________________________________________________________________________\n"
          ],
          "name": "stdout"
        }
      ]
    },
    {
      "metadata": {
        "id": "DsJ_jgbap1Wl",
        "colab_type": "text"
      },
      "cell_type": "markdown",
      "source": [
        "## Train the model, checkpointing weights with best validation accuracy"
      ]
    },
    {
      "metadata": {
        "id": "OMfzV9tsp1Wn",
        "colab_type": "code",
        "colab": {
          "base_uri": "https://localhost:8080/",
          "height": 163
        },
        "outputId": "734769a0-aa97-467d-ffd7-5da7609fdb85"
      },
      "cell_type": "code",
      "source": [
        "print(\"Starting training at\", datetime.datetime.now())\n",
        "t0 = time.time()\n",
        "callbacks = [ModelCheckpoint(MODEL_WEIGHTS_FILE, monitor='val_acc', save_best_only=True)]\n",
        "S= int(len(Q1_train)/2)\n",
        "print (f'training on a subset of size {S}')\n",
        "history = model.fit([Q1_train[:S], Q2_train[:S]],\n",
        "                    y_train[:S],\n",
        "                    epochs=NB_EPOCHS,\n",
        "                    validation_split=VALIDATION_SPLIT,\n",
        "                    verbose=2,\n",
        "                    batch_size=BATCH_SIZE,\n",
        "                    callbacks=callbacks)\n",
        "t1 = time.time()\n",
        "print(\"Training ended at\", datetime.datetime.now())\n",
        "print(\"Minutes elapsed: %f\" % ((t1 - t0) / 60.))"
      ],
      "execution_count": 0,
      "outputs": [
        {
          "output_type": "stream",
          "text": [
            "Starting training at 2018-07-04 10:02:19.251590\n",
            "training on a subset of size 181930\n",
            "Train on 163737 samples, validate on 18193 samples\n",
            "Epoch 1/25\n",
            " - 41s - loss: 0.4681 - acc: 0.7742 - val_loss: 0.4700 - val_acc: 0.7685\n",
            "Epoch 2/25\n",
            " - 41s - loss: 0.4251 - acc: 0.7966 - val_loss: 0.4642 - val_acc: 0.7760\n",
            "Epoch 3/25\n"
          ],
          "name": "stdout"
        }
      ]
    },
    {
      "metadata": {
        "id": "qr1tcf64p1Wt",
        "colab_type": "text"
      },
      "cell_type": "markdown",
      "source": [
        "## Plot training and validation accuracy"
      ]
    },
    {
      "metadata": {
        "id": "XQ0wMapYp1Wt",
        "colab_type": "code",
        "colab": {},
        "outputId": "d40d4858-a174-4704-81a7-73df4685c742"
      },
      "cell_type": "code",
      "source": [
        "acc = pd.DataFrame({'epoch': [ i + 1 for i in history.epoch ],\n",
        "                    'training': history.history['acc'],\n",
        "                    'validation': history.history['val_acc']})\n",
        "ax = acc.iloc[:,:].plot(x='epoch', figsize={5,8}, grid=True)\n",
        "ax.set_ylabel(\"accuracy\")\n",
        "ax.set_ylim([0.0,1.0]);"
      ],
      "execution_count": 0,
      "outputs": [
        {
          "output_type": "display_data",
          "data": {
            "image/png": "[encoded data removed]",
            "text/plain": [
              "<matplotlib.figure.Figure at 0x7f09d3623390>"
            ]
          },
          "metadata": {
            "tags": []
          }
        }
      ]
    },
    {
      "metadata": {
        "id": "A5oXNQaYp1Wx",
        "colab_type": "text"
      },
      "cell_type": "markdown",
      "source": [
        "## Print best validation accuracy and epoch"
      ]
    },
    {
      "metadata": {
        "id": "28HpgHa-p1Wy",
        "colab_type": "code",
        "colab": {},
        "outputId": "9e3d681d-4b86-4678-e2f4-5966d2f627df"
      },
      "cell_type": "code",
      "source": [
        "max_val_acc, idx = max((val, idx) for (idx, val) in enumerate(history.history['val_acc']))\n",
        "print('Maximum accuracy at epoch', '{:d}'.format(idx+1), '=', '{:.4f}'.format(max_val_acc))"
      ],
      "execution_count": 0,
      "outputs": [
        {
          "output_type": "stream",
          "text": [
            "Maximum accuracy at epoch 16 = 0.8083\n"
          ],
          "name": "stdout"
        }
      ]
    },
    {
      "metadata": {
        "id": "aqBkTkNTp1W3",
        "colab_type": "text"
      },
      "cell_type": "markdown",
      "source": [
        "## Evaluate the model with best validation accuracy on the test partition"
      ]
    },
    {
      "metadata": {
        "id": "-1kp_Mztp1W4",
        "colab_type": "code",
        "colab": {},
        "outputId": "71354bc1-9022-400a-ca5d-82a526c87cd9"
      },
      "cell_type": "code",
      "source": [
        "model.load_weights(MODEL_WEIGHTS_FILE)\n",
        "loss, accuracy = model.evaluate([Q1_test, Q2_test], y_test, verbose=0)\n",
        "print('loss = {0:.4f}, accuracy = {1:.4f}'.format(loss, accuracy))"
      ],
      "execution_count": 0,
      "outputs": [
        {
          "output_type": "stream",
          "text": [
            "loss = 0.4102, accuracy = 0.8110\n"
          ],
          "name": "stdout"
        }
      ]
    }
  ]
}