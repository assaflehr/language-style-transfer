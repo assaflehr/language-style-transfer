{
  "nbformat": 4,
  "nbformat_minor": 0,
  "metadata": {
    "colab": {
      "name": "drnet_nlp_dataset.ipynb",
      "version": "0.3.2",
      "provenance": [],
      "collapsed_sections": [],
      "toc_visible": true,
      "include_colab_link": true
    },
    "kernelspec": {
      "name": "python3",
      "display_name": "Python 3"
    },
    "accelerator": "GPU"
  },
  "cells": [
    {
      "cell_type": "markdown",
      "metadata": {
        "id": "view-in-github",
        "colab_type": "text"
      },
      "source": [
        "[View in Colaboratory](https://colab.research.google.com/github/assaflehr/language-style-transfer/blob/master/notebooks/drnet_nlp_dataset.ipynb)"
      ]
    },
    {
      "metadata": {
        "id": "9DZmHoW4hbsO",
        "colab_type": "code",
        "colab": {
          "base_uri": "https://localhost:8080/",
          "height": 917
        },
        "outputId": "97aaf4ed-d312-42cf-d3f5-999557eba535"
      },
      "cell_type": "code",
      "source": [
        "#!pip install spacy   #can take few minutes\n",
        "#!python -m spacy download en\n",
        "#!pip install git+https://github.com/fastai/fastai.git\n",
        "!pip install torch -U # 0.4 at-least\n",
        "\n",
        "!pip install torchtext  # for simpler datasets\n",
        "\n",
        "!pip install git+https://github.com/IBM/pytorch-seq2seq  #for seq2seq\n",
        "!pip install dill  #req of seq2seq\n",
        "!pip install tqdm  #req of seq2seq\n",
        "\n",
        "#!pip install revtok"
      ],
      "execution_count": 1,
      "outputs": [
        {
          "output_type": "stream",
          "text": [
            "Collecting torch\n",
            "\u001b[?25l  Downloading https://files.pythonhosted.org/packages/49/0e/e382bcf1a6ae8225f50b99cc26effa2d4cc6d66975ccf3fa9590efcbedce/torch-0.4.1-cp36-cp36m-manylinux1_x86_64.whl (519.5MB)\n",
            "\u001b[K    100% |████████████████████████████████| 519.5MB 27kB/s \n",
            "tcmalloc: large alloc 1073750016 bytes == 0x5871e000 @  0x7ff3b14e81c4 0x46d6a4 0x5fcbcc 0x4c494d 0x54f3c4 0x553aaf 0x54e4c8 0x54f4f6 0x553aaf 0x54efc1 0x54f24d 0x553aaf 0x54efc1 0x54f24d 0x553aaf 0x54efc1 0x54f24d 0x551ee0 0x54e4c8 0x54f4f6 0x553aaf 0x54efc1 0x54f24d 0x551ee0 0x54efc1 0x54f24d 0x551ee0 0x54e4c8 0x54f4f6 0x553aaf 0x54e4c8\n",
            "\u001b[?25hInstalling collected packages: torch\n",
            "Successfully installed torch-0.4.1\n",
            "Collecting torchtext\n",
            "\u001b[?25l  Downloading https://files.pythonhosted.org/packages/78/90/474d5944d43001a6e72b9aaed5c3e4f77516fbef2317002da2096fd8b5ea/torchtext-0.2.3.tar.gz (42kB)\n",
            "\u001b[K    100% |████████████████████████████████| 51kB 3.2MB/s \n",
            "\u001b[?25hCollecting tqdm (from torchtext)\n",
            "\u001b[?25l  Downloading https://files.pythonhosted.org/packages/7d/e6/19dfaff08fcbee7f3453e5b537e65a8364f1945f921a36d08be1e2ff3475/tqdm-4.24.0-py2.py3-none-any.whl (43kB)\n",
            "\u001b[K    100% |████████████████████████████████| 51kB 5.2MB/s \n",
            "\u001b[?25hRequirement already satisfied: requests in /usr/local/lib/python3.6/dist-packages (from torchtext) (2.18.4)\n",
            "Requirement already satisfied: chardet<3.1.0,>=3.0.2 in /usr/local/lib/python3.6/dist-packages (from requests->torchtext) (3.0.4)\n",
            "Requirement already satisfied: urllib3<1.23,>=1.21.1 in /usr/local/lib/python3.6/dist-packages (from requests->torchtext) (1.22)\n",
            "Requirement already satisfied: idna<2.7,>=2.5 in /usr/local/lib/python3.6/dist-packages (from requests->torchtext) (2.6)\n",
            "Requirement already satisfied: certifi>=2017.4.17 in /usr/local/lib/python3.6/dist-packages (from requests->torchtext) (2018.4.16)\n",
            "Building wheels for collected packages: torchtext\n",
            "  Running setup.py bdist_wheel for torchtext ... \u001b[?25l-\b \b\\\b \bdone\n",
            "\u001b[?25h  Stored in directory: /content/.cache/pip/wheels/42/a6/f4/b267328bde6bb680094a0c173e8e5627ccc99543abded97204\n",
            "Successfully built torchtext\n",
            "Installing collected packages: tqdm, torchtext\n",
            "Successfully installed torchtext-0.2.3 tqdm-4.24.0\n",
            "Collecting git+https://github.com/IBM/pytorch-seq2seq\n",
            "  Cloning https://github.com/IBM/pytorch-seq2seq to /tmp/pip-req-build-nj05jeiq\n"
          ],
          "name": "stdout"
        },
        {
          "output_type": "stream",
          "text": [
            "Requirement already satisfied: numpy in /usr/local/lib/python3.6/dist-packages (from seq2seq==0.1.6) (1.14.5)\r\n",
            "Requirement already satisfied: torch in /usr/local/lib/python3.6/dist-packages (from seq2seq==0.1.6) (0.4.1)\r\n",
            "Requirement already satisfied: torchtext in /usr/local/lib/python3.6/dist-packages (from seq2seq==0.1.6) (0.2.3)\r\n",
            "Requirement already satisfied: tqdm in /usr/local/lib/python3.6/dist-packages (from torchtext->seq2seq==0.1.6) (4.24.0)\r\n",
            "Requirement already satisfied: requests in /usr/local/lib/python3.6/dist-packages (from torchtext->seq2seq==0.1.6) (2.18.4)\n",
            "Requirement already satisfied: certifi>=2017.4.17 in /usr/local/lib/python3.6/dist-packages (from requests->torchtext->seq2seq==0.1.6) (2018.4.16)\n",
            "Requirement already satisfied: urllib3<1.23,>=1.21.1 in /usr/local/lib/python3.6/dist-packages (from requests->torchtext->seq2seq==0.1.6) (1.22)\n",
            "Requirement already satisfied: chardet<3.1.0,>=3.0.2 in /usr/local/lib/python3.6/dist-packages (from requests->torchtext->seq2seq==0.1.6) (3.0.4)\n",
            "Requirement already satisfied: idna<2.7,>=2.5 in /usr/local/lib/python3.6/dist-packages (from requests->torchtext->seq2seq==0.1.6) (2.6)\n",
            "Building wheels for collected packages: seq2seq\n",
            "  Running setup.py bdist_wheel for seq2seq ... \u001b[?25l-\b \b\\\b \bdone\n",
            "\u001b[?25h  Stored in directory: /tmp/pip-ephem-wheel-cache-jd42spq0/wheels/98/b5/06/771c406b3ecc8ed34f07da72d7baf65b87e561bd9f808e91bd\n",
            "Successfully built seq2seq\n",
            "Installing collected packages: seq2seq\n",
            "Successfully installed seq2seq-0.1.6\n",
            "Collecting dill\n",
            "\u001b[?25l  Downloading https://files.pythonhosted.org/packages/6f/78/8b96476f4ae426db71c6e86a8e6a81407f015b34547e442291cd397b18f3/dill-0.2.8.2.tar.gz (150kB)\n",
            "\u001b[K    100% |████████████████████████████████| 153kB 6.9MB/s \n",
            "\u001b[?25hBuilding wheels for collected packages: dill\n",
            "  Running setup.py bdist_wheel for dill ... \u001b[?25l-\b \b\\\b \bdone\n",
            "\u001b[?25h  Stored in directory: /content/.cache/pip/wheels/e2/5d/17/f87cb7751896ac629b435a8696f83ee75b11029f5d6f6bda72\n",
            "Successfully built dill\n",
            "Installing collected packages: dill\n",
            "Successfully installed dill-0.2.8.2\n",
            "Requirement already satisfied: tqdm in /usr/local/lib/python3.6/dist-packages (4.24.0)\n"
          ],
          "name": "stdout"
        }
      ]
    },
    {
      "metadata": {
        "id": "qHWOFxkWSubZ",
        "colab_type": "text"
      },
      "cell_type": "markdown",
      "source": [
        "# Dataset with torchtext"
      ]
    },
    {
      "metadata": {
        "id": "vQn5WXMiSzae",
        "colab_type": "code",
        "colab": {
          "base_uri": "https://localhost:8080/",
          "height": 213
        },
        "outputId": "0d369823-9c9f-4512-fdc9-093e6a6a363b"
      },
      "cell_type": "code",
      "source": [
        "from torch.utils.data import Dataset#, DataLoader\n",
        "import numpy as np\n",
        "import time\n",
        "\n",
        "from torch.utils.data import Dataset, DataLoader\n",
        "import numpy as np\n",
        "%matplotlib inline\n",
        "import torchtext.data as data\n",
        "from collections import namedtuple\n",
        "\n",
        "\n",
        "TimeExample = namedtuple('TimeExample',['src','sent_0','sent_1','sent_x','is_x_0','sent_0_target'])\n",
        "\n",
        "class TimeStyleDataset(Dataset):\n",
        "  \n",
        "  def __init__(self,max_id,time_mod_3_result): \n",
        "    \"\"\"\n",
        "    max_id how many samples are in this dataset. Size of one epoc!\n",
        "    time_mod_3_result - to make sure time is train/test/valid is different, pass 0,1,2\n",
        "    \"\"\"\n",
        "    self.max_id =int(max_id)\n",
        "    #TODO : add more!!# see here: https://docs.python.org/2/library/datetime.html month can be: %b,%B,%m , year: %y,%Y\n",
        "    self.formats = [\"%b %d %Y %H:%M:%S\", \"%m/%d/%Y %H:%M:%S\", \"%d-%b-%Y %H.%M.%S.00\",\n",
        "                    \"%B %d %y %H:%M:%S\" ,\"%B %d %H:%M:%S %Y\", \"%d/%B/%Y %H:%M:%S\"]\n",
        "    self.time_mod_3_result=time_mod_3_result\n",
        "  \n",
        "  def __len__(self):\n",
        "    return self.max_id\n",
        "  \n",
        "  def _tvt(self,idx):\n",
        "    # for 10, if train, return 9, valid 10, test 11\n",
        "    return (idx//3) * 3 + self.time_mod_3_result #10//3 * 3 + x = 9+x\n",
        "  \n",
        "  def __getitem__(self,idx):\n",
        "    if idx > self.max_id:\n",
        "      raise IndexError(f'TimeStyleDataset {idx} is out of range {self.max_id}')\n",
        "    \n",
        "    \"\"\" x -  x[0] semantic0   , style0\n",
        "             x[1] semantic0   , style1   \n",
        "             x[2] semantic0orX, style0 (1/2 the time 0 , half X)\n",
        "    \"\"\"\n",
        "    max_time= int(2e9)  #means 1970-2001\n",
        "    \n",
        "    random_ids = np.random.randint(low=0,high=max_time,size=2)\n",
        "    idx = random_ids[0] #other_idx is 50% same, 50% other\n",
        "    other_idx = random_ids[1] if np.random.randint(0,2)==0 else random_ids[0]\n",
        "\n",
        "    idx = self._tvt(idx)\n",
        "    other_idx = self._tvt(other_idx)\n",
        "   \n",
        "    # two random formats\n",
        "    random_fs= np.random.choice(len(self.formats),size=2,replace=False)\n",
        "    \n",
        "    sent_0= time.strftime(self.formats[random_fs[0]],time.gmtime(idx)) \n",
        "    sent_1= time.strftime(self.formats[random_fs[1]],time.gmtime(idx)) \n",
        "    sent_x= time.strftime(self.formats[random_fs[0]],time.gmtime(other_idx))\n",
        "    y = np.array([idx==other_idx],np.float32)\n",
        "    return TimeExample(sent_0,sent_0,sent_1,sent_x,y,sent_0)\n",
        "\n",
        "def test():\n",
        "  dataset = TimeStyleDataset(1e3,1)\n",
        "  for i in range(3):\n",
        "    sample = dataset[i] ; print (sample)  \n",
        "  print ('len',len(dataset))\n",
        "  \n",
        "test()\n",
        "\n",
        "\n",
        "from seq2seq.dataset import SourceField,TargetField\n",
        "TEXT = SourceField(batch_first =True,sequential=True,use_vocab=True, lower=False,\n",
        "                            tokenize=lambda x: list(x)) # fix_length=10\n",
        "TEXT_TARGET = TargetField(batch_first =True,sequential=True,use_vocab=True, lower=False,\n",
        "                            tokenize=lambda x: list(x)) # fix_length=10\n",
        "LABEL= data.Field(batch_first=True,sequential=False,use_vocab=False)\n",
        "\n",
        "fields = [('src',TEXT),('sent_0',TEXT),('sent_1',TEXT),('sent_x',TEXT),('is_x_0',LABEL),('sent_0_target',TEXT_TARGET)] \n",
        "ds = data.Dataset(TimeStyleDataset(1e3,1), fields)\n",
        "ds_eval = data.Dataset(TimeStyleDataset(1e3,2), fields)\n",
        "\n",
        "# usage\n",
        "print (ds[2].sent_0) #not processed\n",
        "print (ds[2].is_x_0) #not processed\n",
        "print (f'building vocab on {len(ds)}')\n",
        "TEXT.build_vocab(ds, max_size=80000)\n",
        "TEXT_TARGET.build_vocab(ds, max_size=80000)\n",
        "print (TEXT.vocab.freqs)\n",
        "# READ:  https://github.com/mjc92/TorchTextTutorial/blob/master/01.%20Getting%20started.ipynb\n",
        "train_iter = iter(data.BucketIterator( dataset=ds, batch_size=4)) \n",
        "eval_iter =  iter(data.BucketIterator( dataset=ds_eval, batch_size=4))\n",
        "#performance note: the first next, takes 3.5s, the next are fast (10000 is 1s)\n",
        "b= next(train_iter)\n",
        "print (b.sent_0[0].shape,b.sent_0[1].shape)#TEXT.reverse(b.sent_0))\n",
        "print ('b.src is values+len tuple',b.src[0].shape,b.src[1].shape)#TEXT.reverse(b.sent_0))"
      ],
      "execution_count": 31,
      "outputs": [
        {
          "output_type": "stream",
          "text": [
            "TimeExample(src='24/May/2007 16:19:37', sent_0='24/May/2007 16:19:37', sent_1='May 24 2007 16:19:37', sent_x='12/May/2005 17:37:52', is_x_0=array([0.], dtype=float32), sent_0_target='24/May/2007 16:19:37')\n",
            "TimeExample(src='16-Jan-2030 20.48.13.00', sent_0='16-Jan-2030 20.48.13.00', sent_1='16/January/2030 20:48:13', sent_x='16-Jan-2030 20.48.13.00', is_x_0=array([1.], dtype=float32), sent_0_target='16-Jan-2030 20.48.13.00')\n",
            "TimeExample(src='12/29/1980 07:19:10', sent_0='12/29/1980 07:19:10', sent_1='December 29 80 07:19:10', sent_x='12/29/1980 07:19:10', is_x_0=array([1.], dtype=float32), sent_0_target='12/29/1980 07:19:10')\n",
            "len 1000\n",
            "03-Dec-1973 00.08.07.00\n",
            "[1.]\n",
            "building vocab on 1000\n",
            "Counter({'0': 10381, '1': 9282, ' ': 8070, '2': 7714, ':': 6702, '9': 4091, '3': 3870, '4': 3347, '5': 3328, '7': 2678, '/': 2636, '8': 2593, 'e': 2167, '6': 2048, '.': 1959, 'r': 1743, 'u': 1345, '-': 1306, 'a': 1170, 'b': 970, 'J': 852, 'y': 757, 'c': 709, 't': 640, 'n': 589, 'A': 559, 'p': 554, 'M': 541, 'm': 496, 'o': 436, 'l': 430, 'F': 298, 'O': 288, 'g': 270, 'S': 265, 'D': 263, 'N': 260, 'v': 260, 's': 174, 'i': 167, 'h': 158})\n",
            "torch.Size([4, 23]) torch.Size([4])\n",
            "b.src is values+len tuple torch.Size([4, 23]) torch.Size([4])\n"
          ],
          "name": "stdout"
        }
      ]
    },
    {
      "metadata": {
        "id": "a66fouEILpSz",
        "colab_type": "text"
      },
      "cell_type": "markdown",
      "source": [
        "# Seq2Seq Sanity"
      ]
    },
    {
      "metadata": {
        "id": "i9Q6pVYxLr7n",
        "colab_type": "code",
        "colab": {
          "base_uri": "https://localhost:8080/",
          "height": 1832
        },
        "outputId": "20ab99a3-b5a3-49d4-a94d-04b59ba88ccf"
      },
      "cell_type": "code",
      "source": [
        "import os\n",
        "import argparse\n",
        "import logging\n",
        "\n",
        "import torch\n",
        "from torch.optim.lr_scheduler import StepLR\n",
        "import torchtext\n",
        "\n",
        "import seq2seq\n",
        "from seq2seq.trainer import SupervisedTrainer\n",
        "from seq2seq.models import EncoderRNN, DecoderRNN, Seq2seq\n",
        "from seq2seq.loss import Perplexity\n",
        "from seq2seq.optim import Optimizer\n",
        "from seq2seq.dataset import SourceField, TargetField\n",
        "from seq2seq.evaluator import Predictor\n",
        "\n",
        "\n",
        "\n",
        "# Prepare dataset\n",
        "src = SourceField()\n",
        "tgt = TargetField()\n",
        "max_len = 20\n",
        "src = TEXT\n",
        "tgt = TEXT_TARGET\n",
        "input_vocab = src.vocab\n",
        "output_vocab = tgt.vocab\n",
        "train = ds\n",
        "dev = ds_eval\n",
        "\n",
        "# NOTE: If the source field name and the target field name\n",
        "# are different from 'src' and 'tgt' respectively, they have\n",
        "# to be set explicitly before any training or inference\n",
        "seq2seq.src_field_name = 'sent_0'\n",
        "seq2seq.tgt_field_name = 'sent_0_target'\n",
        "\n",
        "# Prepare loss\n",
        "weight = torch.ones(len(tgt.vocab))\n",
        "pad = tgt.vocab.stoi[tgt.pad_token]\n",
        "loss = Perplexity(weight, pad)\n",
        "if torch.cuda.is_available():\n",
        "    loss.cuda()\n",
        "\n",
        "seq2seq = None\n",
        "optimizer = None\n",
        "# Initialize model\n",
        "hidden_size=128\n",
        "bidirectional = True\n",
        "encoder = EncoderRNN(len(src.vocab), max_len, hidden_size,\n",
        "                     bidirectional=bidirectional, variable_lengths=True)\n",
        "decoder = DecoderRNN(len(tgt.vocab), max_len, hidden_size * 2 if bidirectional else hidden_size,\n",
        "                     dropout_p=0.2, use_attention=True, bidirectional=bidirectional,\n",
        "                     eos_id=tgt.eos_id, sos_id=tgt.sos_id)\n",
        "seq2seq = Seq2seq(encoder, decoder)\n",
        "if torch.cuda.is_available():\n",
        "    seq2seq.cuda()\n",
        "\n",
        "for param in seq2seq.parameters():\n",
        "    param.data.uniform_(-0.08, 0.08)\n",
        "\n",
        "# Optimizer and learning rate scheduler can be customized by\n",
        "# explicitly constructing the objects and pass to the trainer.\n",
        "#\n",
        "# optimizer = Optimizer(torch.optim.Adam(seq2seq.parameters()), max_grad_norm=5)\n",
        "# scheduler = StepLR(optimizer.optimizer, 1)\n",
        "# optimizer.set_scheduler(scheduler)\n",
        "\n",
        "# train\n",
        "import logging\n",
        "logger = logging.getLogger()\n",
        "logger.setLevel(logging.INFO)\n",
        "\n",
        "\n",
        "logging.basicConfig(format='%(asctime)s %(levelname)s:%(message)s', level=logging.DEBUG, datefmt='%I:%M:%S')\n",
        "\n",
        "t = SupervisedTrainer(loss=loss, batch_size=32,\n",
        "                    checkpoint_every=50,\n",
        "                    print_every=10, expt_dir='.')\n",
        "\n",
        "seq2seq = t.train(seq2seq, train,\n",
        "                  num_epochs=20, dev_data=dev,\n",
        "                  optimizer=optimizer,\n",
        "                  teacher_forcing_ratio=0.5,\n",
        "                  resume=False,)\n",
        "\n",
        "predictor = Predictor(seq2seq, input_vocab, output_vocab)\n",
        "seq_str = \"November 21 77 14:07:40\" #raw_input(\"Type in a source sequence:\")\n",
        "seq = seq_str.strip().split()\n",
        "''.join(predictor.predict(\"NoveMBer 21 77 14:07:40\"))"
      ],
      "execution_count": 32,
      "outputs": [
        {
          "output_type": "stream",
          "text": [
            "/usr/local/lib/python3.6/dist-packages/torch/nn/functional.py:52: UserWarning: size_average and reduce args will be deprecated, please use reduction='sum' instead.\n",
            "  warnings.warn(warning.format(ret))\n",
            "/usr/local/lib/python3.6/dist-packages/torch/nn/modules/rnn.py:38: UserWarning: dropout option adds dropout after all but last recurrent layer, so non-zero dropout expects num_layers greater than 1, but got dropout=0.2 and num_layers=1\n",
            "  \"num_layers={}\".format(dropout, num_layers))\n",
            "11:49:04 INFO:Optimizer: Adam (\n",
            "Parameter Group 0\n",
            "    amsgrad: False\n",
            "    betas: (0.9, 0.999)\n",
            "    eps: 1e-08\n",
            "    lr: 0.001\n",
            "    weight_decay: 0\n",
            "), Scheduler: None\n",
            "/usr/local/lib/python3.6/dist-packages/torch/nn/functional.py:995: UserWarning: nn.functional.tanh is deprecated. Use torch.tanh instead.\n",
            "  warnings.warn(\"nn.functional.tanh is deprecated. Use torch.tanh instead.\")\n",
            "11:49:06 INFO:Progress: 3%, Train Perplexity: 52.3218\n",
            "11:49:07 INFO:Progress: 4%, Train Perplexity: 16.1965\n",
            "/usr/local/lib/python3.6/dist-packages/torchtext/data/field.py:321: UserWarning: volatile was removed and now has no effect. Use `with torch.no_grad():` instead.\n",
            "  return Variable(arr, volatile=not train), lengths\n",
            "/usr/local/lib/python3.6/dist-packages/torchtext/data/field.py:322: UserWarning: volatile was removed and now has no effect. Use `with torch.no_grad():` instead.\n",
            "  return Variable(arr, volatile=not train)\n",
            "11:49:09 INFO:Finished epoch 1: Train Perplexity: 22.4753, Dev Perplexity: 16.6471, Accuracy: 0.1384\n",
            "11:49:10 INFO:Progress: 6%, Train Perplexity: 16.2952\n",
            "11:49:11 INFO:Progress: 7%, Train Perplexity: 16.3324\n",
            "11:49:12 INFO:Progress: 9%, Train Perplexity: 15.3651\n",
            "11:49:14 INFO:Finished epoch 2: Train Perplexity: 16.2093, Dev Perplexity: 14.8108, Accuracy: 0.1441\n",
            "11:49:15 INFO:Progress: 10%, Train Perplexity: 17.5116\n",
            "11:49:16 INFO:Progress: 12%, Train Perplexity: 16.5808\n",
            "11:49:17 INFO:Progress: 14%, Train Perplexity: 15.9468\n",
            "11:49:19 INFO:Finished epoch 3: Train Perplexity: 15.9596, Dev Perplexity: 13.9061, Accuracy: 0.1912\n",
            "11:49:20 INFO:Progress: 15%, Train Perplexity: 13.7106\n",
            "11:49:21 INFO:Progress: 17%, Train Perplexity: 12.8190\n",
            "11:49:21 INFO:Progress: 18%, Train Perplexity: 11.0532\n",
            "11:49:24 INFO:Finished epoch 4: Train Perplexity: 11.7235, Dev Perplexity: 11.5441, Accuracy: 0.2262\n",
            "11:49:24 INFO:Progress: 20%, Train Perplexity: 10.4254\n",
            "11:49:25 INFO:Progress: 21%, Train Perplexity: 9.8445\n",
            "11:49:26 INFO:Progress: 23%, Train Perplexity: 9.3247\n",
            "11:49:27 INFO:Progress: 25%, Train Perplexity: 9.1270\n",
            "11:49:29 INFO:Finished epoch 5: Train Perplexity: 9.5244, Dev Perplexity: 9.1211, Accuracy: 0.2686\n",
            "11:49:30 INFO:Progress: 26%, Train Perplexity: 7.5330\n",
            "11:49:31 INFO:Progress: 28%, Train Perplexity: 7.7999\n",
            "11:49:32 INFO:Progress: 29%, Train Perplexity: 6.8102\n",
            "11:49:34 INFO:Finished epoch 6: Train Perplexity: 7.3167, Dev Perplexity: 7.8059, Accuracy: 0.3247\n",
            "11:49:35 INFO:Progress: 31%, Train Perplexity: 6.0094\n",
            "11:49:36 INFO:Progress: 32%, Train Perplexity: 6.0785\n",
            "11:49:37 INFO:Progress: 34%, Train Perplexity: 6.1512\n",
            "11:49:40 INFO:Finished epoch 7: Train Perplexity: 6.1961, Dev Perplexity: 7.2211, Accuracy: 0.3337\n",
            "11:49:40 INFO:Progress: 35%, Train Perplexity: 5.4631\n",
            "11:49:41 INFO:Progress: 37%, Train Perplexity: 4.2208\n",
            "11:49:42 INFO:Progress: 39%, Train Perplexity: 3.6121\n",
            "11:49:44 INFO:Finished epoch 8: Train Perplexity: 3.9649, Dev Perplexity: 4.5853, Accuracy: 0.5196\n",
            "11:49:45 INFO:Progress: 40%, Train Perplexity: 4.0391\n",
            "11:49:46 INFO:Progress: 42%, Train Perplexity: 4.5005\n",
            "11:49:47 INFO:Progress: 43%, Train Perplexity: 2.6421\n",
            "11:49:49 INFO:Finished epoch 9: Train Perplexity: 3.6212, Dev Perplexity: 2.6296, Accuracy: 0.7193\n",
            "11:49:50 INFO:Progress: 45%, Train Perplexity: 3.4464\n",
            "11:49:51 INFO:Progress: 46%, Train Perplexity: 1.9612\n"
          ],
          "name": "stderr"
        },
        {
          "output_type": "stream",
          "text": [
            "11:49:52 INFO:Progress: 48%, Train Perplexity: 2.1860\n",
            "11:49:53 INFO:Progress: 50%, Train Perplexity: 1.8706\n",
            "11:49:55 INFO:Finished epoch 10: Train Perplexity: 2.1273, Dev Perplexity: 1.9786, Accuracy: 0.8401\n",
            "11:49:56 INFO:Progress: 51%, Train Perplexity: 1.6025\n",
            "11:49:57 INFO:Progress: 53%, Train Perplexity: 2.6599\n",
            "11:49:58 INFO:Progress: 54%, Train Perplexity: 2.2558\n",
            "11:50:00 INFO:Finished epoch 11: Train Perplexity: 2.1167, Dev Perplexity: 1.6357, Accuracy: 0.9004\n",
            "11:50:01 INFO:Progress: 56%, Train Perplexity: 1.4109\n",
            "11:50:02 INFO:Progress: 57%, Train Perplexity: 1.4681\n",
            "11:50:03 INFO:Progress: 59%, Train Perplexity: 1.0850\n",
            "11:50:05 INFO:Finished epoch 12: Train Perplexity: 1.2900, Dev Perplexity: 1.3348, Accuracy: 0.9541\n",
            "11:50:06 INFO:Progress: 60%, Train Perplexity: 1.0690\n",
            "11:50:06 INFO:Progress: 62%, Train Perplexity: 1.3512\n",
            "11:50:07 INFO:Progress: 64%, Train Perplexity: 2.4706\n",
            "11:50:10 INFO:Finished epoch 13: Train Perplexity: 1.5873, Dev Perplexity: 1.0415, Accuracy: 0.9936\n",
            "11:50:10 INFO:Progress: 65%, Train Perplexity: 1.0105\n",
            "11:50:11 INFO:Progress: 67%, Train Perplexity: 1.0096\n",
            "11:50:12 INFO:Progress: 68%, Train Perplexity: 1.0124\n",
            "11:50:15 INFO:Finished epoch 14: Train Perplexity: 1.0098, Dev Perplexity: 1.0248, Accuracy: 0.9949\n",
            "11:50:15 INFO:Progress: 70%, Train Perplexity: 1.0149\n",
            "11:50:16 INFO:Progress: 71%, Train Perplexity: 1.0906\n",
            "11:50:17 INFO:Progress: 73%, Train Perplexity: 1.0405\n",
            "11:50:18 INFO:Progress: 75%, Train Perplexity: 1.0097\n",
            "11:50:20 INFO:Finished epoch 15: Train Perplexity: 1.0465, Dev Perplexity: 1.5775, Accuracy: 0.9534\n",
            "11:50:21 INFO:Progress: 76%, Train Perplexity: 1.1587\n",
            "11:50:22 INFO:Progress: 78%, Train Perplexity: 1.0310\n",
            "11:50:23 INFO:Progress: 79%, Train Perplexity: 1.1202\n",
            "11:50:26 INFO:Finished epoch 16: Train Perplexity: 1.0979, Dev Perplexity: 1.0074, Accuracy: 0.9993\n",
            "11:50:26 INFO:Progress: 81%, Train Perplexity: 1.0045\n",
            "11:50:27 INFO:Progress: 82%, Train Perplexity: 1.0016\n",
            "11:50:28 INFO:Progress: 84%, Train Perplexity: 1.0007\n",
            "11:50:31 INFO:Finished epoch 17: Train Perplexity: 1.0011, Dev Perplexity: 1.0009, Accuracy: 0.9998\n",
            "11:50:31 INFO:Progress: 85%, Train Perplexity: 1.0005\n",
            "11:50:32 INFO:Progress: 87%, Train Perplexity: 1.0009\n",
            "11:50:33 INFO:Progress: 89%, Train Perplexity: 1.0101\n",
            "11:50:35 INFO:Finished epoch 18: Train Perplexity: 1.0036, Dev Perplexity: 1.0044, Accuracy: 0.9996\n",
            "11:50:36 INFO:Progress: 90%, Train Perplexity: 1.0002\n",
            "11:50:37 INFO:Progress: 92%, Train Perplexity: 1.0079\n",
            "11:50:37 INFO:Progress: 93%, Train Perplexity: 1.0046\n",
            "11:50:40 INFO:Finished epoch 19: Train Perplexity: 1.0042, Dev Perplexity: 1.0001, Accuracy: 1.0000\n",
            "11:50:41 INFO:Progress: 95%, Train Perplexity: 1.0007\n",
            "11:50:42 INFO:Progress: 96%, Train Perplexity: 1.0010\n",
            "11:50:43 INFO:Progress: 98%, Train Perplexity: 1.0030\n",
            "11:50:43 INFO:Progress: 100%, Train Perplexity: 1.0004\n",
            "11:50:45 INFO:Finished epoch 20: Train Perplexity: 1.0014, Dev Perplexity: 1.0001, Accuracy: 1.0000\n"
          ],
          "name": "stderr"
        },
        {
          "output_type": "stream",
          "text": [
            "['7', '/', '4', '6', ':', '0', '6', ':', '4', '6', ':', '4', '6', ':', '4', '6', ':', '4', '9', ':']\n"
          ],
          "name": "stdout"
        }
      ]
    },
    {
      "metadata": {
        "id": "efa1qLb_QXOo",
        "colab_type": "code",
        "colab": {
          "base_uri": "https://localhost:8080/",
          "height": 90
        },
        "outputId": "2fe66e9f-96ad-446a-aa23-e69681d5382c"
      },
      "cell_type": "code",
      "source": [
        "\n",
        "\n",
        "\n"
      ],
      "execution_count": 63,
      "outputs": [
        {
          "output_type": "stream",
          "text": [
            "/usr/local/lib/python3.6/dist-packages/torch/nn/functional.py:995: UserWarning: nn.functional.tanh is deprecated. Use torch.tanh instead.\n",
            "  warnings.warn(\"nn.functional.tanh is deprecated. Use torch.tanh instead.\")\n"
          ],
          "name": "stderr"
        },
        {
          "output_type": "execute_result",
          "data": {
            "text/plain": [
              "'ovember 21 77 14:07:'"
            ]
          },
          "metadata": {
            "tags": []
          },
          "execution_count": 63
        }
      ]
    },
    {
      "metadata": {
        "id": "PdoVxGFbP-GR",
        "colab_type": "text"
      },
      "cell_type": "markdown",
      "source": [
        ""
      ]
    },
    {
      "metadata": {
        "id": "oX4qPrM7bjUn",
        "colab_type": "text"
      },
      "cell_type": "markdown",
      "source": [
        "## Let's implement another Time\n",
        "\n",
        "\n",
        "\n"
      ]
    },
    {
      "metadata": {
        "id": "QnDXClYdBhZ0",
        "colab_type": "code",
        "colab": {
          "base_uri": "https://localhost:8080/",
          "height": 54
        },
        "outputId": "0e8f1008-815f-4743-8a1f-1c4d770251bc"
      },
      "cell_type": "code",
      "source": [
        "'''from torch.utils.data import Dataset#, DataLoader\n",
        "import numpy as np\n",
        "import time\n",
        "\n",
        "from torch.utils.data import Dataset, DataLoader\n",
        "import numpy as np\n",
        "%matplotlib inline\n",
        "\n",
        "class TimePairsDataset(Dataset):\n",
        "  \n",
        "  def __init__(self,length,time_mod_3_result): #1e9 means 1970-2001\n",
        "    \"\"\"\n",
        "    time_mod_3_result - to make sure time is train/test/valid is different, pass\n",
        "    a different result here.\n",
        "    \"\"\"\n",
        "    #super().__init__()\n",
        "    self.length = length\n",
        "    self.formats = [\"%b %d %Y %H:%M:%S\", \"%m/%b/%Y %H:%M:%S\"] # STAY WITH 2 STYLES, DISCRIMINATOR SIMPLER #\"%d %b %Y %H:%M:%S\",\n",
        "    self.time_mod_3_result=time_mod_3_result\n",
        "  \n",
        "  \n",
        "  def __len__(self):\n",
        "    return int(self.length)\n",
        "  \n",
        "  def _choose(self,idx,style):\n",
        "    st = time.strftime(self.formats[style],time.gmtime(idx))\n",
        "    return np.array([ord(c) for c in list(st)][:24],np.float32)/120 #chars are up to that\n",
        "  \n",
        "  def untokenize_sample(self,sample):\n",
        "    \"\"\" sample x and y, x contains multiple sentences\"\"\"\n",
        "    x,y = sample\n",
        "    out=[] \n",
        "    for tokens in x:    \n",
        "      out.append(self.untokenize_tokens(tokens) )\n",
        "    return out,y\n",
        "\n",
        "  def untokenize_tokens(self,tokens):\n",
        "    \"\"\" one sentence\"\"\"\n",
        "    if type(tokens)==torch.Tensor:\n",
        "      tokens = tokens.detach().numpy()\n",
        "    return ''.join([chr(int(round(token*120))) for token in tokens])\n",
        "  \n",
        "  \n",
        "  def _tvt(self,idx):\n",
        "    # for 10, if train, return 9, valid 10, test 11\n",
        "    return (idx//3) * 3 + self.time_mod_3_result #10//3 * 3 + x = 9+x\n",
        "  \n",
        "  def __getitem__(self,idx):\n",
        "    \"\"\" x -  x[0] semantic0   , style0\n",
        "             x[1] semantic0   , style1   \n",
        "             x[2] semantic0orX, style0 (1/2 the time 0 , half X)\n",
        "    \"\"\"\n",
        "    \n",
        "    #other_idx is 50% same, 50% other\n",
        "    other_idx = (idx + np.random.randint(0,2)*(np.random.randint(10,self.length))) %self.length\n",
        "    #print (idx,other_idx)\n",
        "    idx = self._tvt(idx)\n",
        "    other_idx = self._tvt(other_idx)\n",
        "    #print (idx,other_idx)\n",
        "    \n",
        "    # two random formats\n",
        "    random_fs= np.random.choice(len(self.formats),size=2,replace=False)\n",
        "    #print (random_fs)\n",
        "    x_list = []\n",
        "    x_list.append(self._choose(idx,random_fs[0]))\n",
        "    x_list.append(self._choose(idx,random_fs[1]))\n",
        "    x_list.append(self._choose(other_idx,random_fs[0]))\n",
        "    \n",
        "    y = np.array([idx==other_idx],np.float32)\n",
        "    \n",
        "   \n",
        "    return  (np.vstack(x_list), y)\n",
        "\n",
        "def test():\n",
        "  dataset = TimePairsDataset(1e9,1)\n",
        "  sample = dataset[9] ;#print (sample)\n",
        "  print (dataset.untokenize_sample(sample))\n",
        "  print ('shapes x,y',sample[0].shape,sample[1].shape)\n",
        "  \n",
        "test()\n",
        "'''"
      ],
      "execution_count": 81,
      "outputs": [
        {
          "output_type": "execute_result",
          "data": {
            "text/plain": [
              "'from torch.utils.data import Dataset#, DataLoader\\nimport numpy as np\\nimport time\\n\\nfrom torch.utils.data import Dataset, DataLoader\\nimport numpy as np\\n%matplotlib inline\\n\\nclass TimePairsDataset(Dataset):\\n  \\n  def __init__(self,length,time_mod_3_result): #1e9 means 1970-2001\\n    \"\"\"\\n    time_mod_3_result - to make sure time is train/test/valid is different, pass\\n    a different result here.\\n    \"\"\"\\n    #super().__init__()\\n    self.length = length\\n    self.formats = [\"%b %d %Y %H:%M:%S\", \"%m/%b/%Y %H:%M:%S\"] # STAY WITH 2 STYLES, DISCRIMINATOR SIMPLER #\"%d %b %Y %H:%M:%S\",\\n    self.time_mod_3_result=time_mod_3_result\\n  \\n  \\n  def __len__(self):\\n    return int(self.length)\\n  \\n  def _choose(self,idx,style):\\n    st = time.strftime(self.formats[style],time.gmtime(idx))\\n    return np.array([ord(c) for c in list(st)][:24],np.float32)/120 #chars are up to that\\n  \\n  def untokenize_sample(self,sample):\\n    \"\"\" sample x and y, x contains multiple sentences\"\"\"\\n    x,y = sample\\n    out=[] \\n    for tokens in x:    \\n      out.append(self.untokenize_tokens(tokens) )\\n    return out,y\\n\\n  def untokenize_tokens(self,tokens):\\n    \"\"\" one sentence\"\"\"\\n    if type(tokens)==torch.Tensor:\\n      tokens = tokens.detach().numpy()\\n    return \\'\\'.join([chr(int(round(token*120))) for token in tokens])\\n  \\n  \\n  def _tvt(self,idx):\\n    # for 10, if train, return 9, valid 10, test 11\\n    return (idx//3) * 3 + self.time_mod_3_result #10//3 * 3 + x = 9+x\\n  \\n  def __getitem__(self,idx):\\n    \"\"\" x -  x[0] semantic0   , style0\\n             x[1] semantic0   , style1   \\n             x[2] semantic0orX, style0 (1/2 the time 0 , half X)\\n    \"\"\"\\n    \\n    #other_idx is 50% same, 50% other\\n    other_idx = (idx + np.random.randint(0,2)*(np.random.randint(10,self.length))) %self.length\\n    #print (idx,other_idx)\\n    idx = self._tvt(idx)\\n    other_idx = self._tvt(other_idx)\\n    #print (idx,other_idx)\\n    \\n    # two random formats\\n    random_fs= np.random.choice(len(self.formats),size=2,replace=False)\\n    #print (random_fs)\\n    x_list = []\\n    x_list.append(self._choose(idx,random_fs[0]))\\n    x_list.append(self._choose(idx,random_fs[1]))\\n    x_list.append(self._choose(other_idx,random_fs[0]))\\n    \\n    y = np.array([idx==other_idx],np.float32)\\n    \\n   \\n    return  (np.vstack(x_list), y)\\n\\ndef test():\\n  dataset = TimePairsDataset(1e9,1)\\n  sample = dataset[9] ;#print (sample)\\n  print (dataset.untokenize_sample(sample))\\n  print (\\'shapes x,y\\',sample[0].shape,sample[1].shape)\\n  \\ntest()\\n'"
            ]
          },
          "metadata": {
            "tags": []
          },
          "execution_count": 81
        }
      ]
    },
    {
      "metadata": {
        "id": "zDrO9682vv7k",
        "colab_type": "code",
        "colab": {}
      },
      "cell_type": "code",
      "source": [
        "\n",
        " \n",
        "    \n",
        "    \n",
        "    \n",
        "    "
      ],
      "execution_count": 0,
      "outputs": []
    },
    {
      "metadata": {
        "id": "Mx_wvDraYghh",
        "colab_type": "text"
      },
      "cell_type": "markdown",
      "source": [
        "# models define"
      ]
    },
    {
      "metadata": {
        "id": "nMc6XeMxWxha",
        "colab_type": "text"
      },
      "cell_type": "markdown",
      "source": [
        "## Documentation"
      ]
    },
    {
      "metadata": {
        "id": "wnsebPEMW0d4",
        "colab_type": "code",
        "colab": {
          "base_uri": "https://localhost:8080/",
          "height": 298
        },
        "outputId": "786674e3-f1ee-4e7b-a1b6-7762451d81f6"
      },
      "cell_type": "code",
      "source": [
        "\n",
        "\n",
        "\n",
        "# semantic_encoder : take sentence return a vector with only semantics\n",
        "# semantic similiary objective: given a pair of sentences with the same semantics,\n",
        "#    expect their results to be close (MeanSquared)    \n",
        "\n",
        "# see idea from https://github.com/edenton/drnet-py/blob/master/models/classifiers.py\n",
        "# in her train method:\n",
        "# FRAMES: VID A: FRAME 1 x_c1 , ?x_p2? (1/2 of times)\n",
        "#                FRAME 2 x_c2 , x_p1\n",
        "#         VID B: FRAME 1      , ?x_p2? (1/2 of times)\n",
        "#  \n",
        "# x_p1,x_p2 chosen randonly from same/not-same video\n",
        "# x_c1,x_c2 are always same-video\n",
        "# c1 and p1 are same content, different pose.\n",
        "\n",
        "# train_scene_discriminator()\n",
        "# h_p1,h_p2 = netEP applied to x[0],x[1]. assumption: SAME VIDEO\n",
        "# important: detach both!\n",
        "# override half of h_p2 by random-permutations of the batch. \n",
        "#   [1,2,3,4,5,6]\n",
        "#   [2,3,1,4,5,6] after 1st half permute\n",
        "#   [1,1,1,0,0,0] set unequal the labels (1=unequal, 0 equal. does it matter? should it be 0.9,0.1?)\n",
        "# apply BCE on inpit: concat of [h_p1,h_p2] \n",
        "# run backward, and optimizer on the netC classifier ONLY! emphasize! not on the encoder\n",
        "\n",
        "\n",
        "# train()\n",
        "# h_c1,h_c2 = netEC(x_c1), netEC(x_c2)  where input is x[0],x[1] sim loss is MSE directly on the hidden content-semantics\n",
        "# h_p1,h_p2 = netEP(x_p1),netEP(x_p2) where input is x[2],x[3]\n",
        "# rec = netD([h_c1, h_p1]) h_c1 is DIFFERENT FRAME , but same content, than h_p1\n",
        "# netC is the semantic-discriminator given h_p1,h_p2, target 0.5 (max-entropy). \n",
        "# emphasize! don't optimize netC is this stage\n",
        "\n",
        "\n",
        "# ANTI-ADVERSERTIAL LOSS FUNCTION, target is 0.5, so min value is 0.6931471805599453\n",
        "%matplotlib inline\n",
        "import matplotlib.pyplot as plt\n",
        "x = np.arange(1,100)/100.0\n",
        "plt.title(\"anti adv-loss with target of 0.5. min is 0.693147 \")\n",
        "plt.plot(x, -0.5*(np.log(x)+np.log(1-x)))"
      ],
      "execution_count": 12,
      "outputs": [
        {
          "output_type": "execute_result",
          "data": {
            "text/plain": [
              "[<matplotlib.lines.Line2D at 0x7f83215e6e10>]"
            ]
          },
          "metadata": {
            "tags": []
          },
          "execution_count": 12
        },
        {
          "output_type": "display_data",
          "data": {
            "image/png": "[encoded data removed]",
            "text/plain": [
              "<matplotlib.figure.Figure at 0x7f83215e6e48>"
            ]
          },
          "metadata": {
            "tags": []
          }
        }
      ]
    },
    {
      "metadata": {
        "id": "2qo5XKYPW25Z",
        "colab_type": "text"
      },
      "cell_type": "markdown",
      "source": [
        "## PARAMS"
      ]
    },
    {
      "metadata": {
        "id": "ytDrOHZtXMuc",
        "colab_type": "text"
      },
      "cell_type": "markdown",
      "source": [
        ""
      ]
    },
    {
      "metadata": {
        "id": "I9CZBDxzYbt_",
        "colab_type": "code",
        "colab": {
          "base_uri": "https://localhost:8080/",
          "height": 34
        },
        "outputId": "56868b0a-49a6-4e3f-d852-3ffc07824f5d"
      },
      "cell_type": "code",
      "source": [
        "import argparse\n",
        "import sys\n",
        "parser = argparse.ArgumentParser()\n",
        "\n",
        "parser.add_argument('--epocs', type=int, default=2, help='number of epochs to train for')\n",
        "parser.add_argument('--epoch_size', type=int, default=600, help='epoch size')\n",
        "parser.add_argument('--batch_size', default=100, type=int, help='batch size')\n",
        "\n",
        "parser.add_argument('--optimizer', default='adam', help='optimizer to train with. only Adam supported')\n",
        "parser.add_argument('--lr', default=0.02, type=float, help='learning rate. source=0.002')\n",
        "parser.add_argument('--adv_disc_lr', default=0.002, type=float, help='learning rate')\n",
        "\n",
        "parser.add_argument('--beta1', default=0.5, type=float, help='momentum term for adam')\n",
        "\n",
        "parser.add_argument('--semantics_dim', type=int, default=20, help='size of the semantics vector')\n",
        "parser.add_argument('--style_dim', type=int, default=5, help='size of the style vector')\n",
        "parser.add_argument('--sd_weight', type=float, default=0.001, help='weight on adversarial loss 0.0001 originally. reducing')\n",
        "\n",
        "'''\n",
        "parser.add_argument('--max_step', type=int, default=20, help='maximum distance between frames')\n",
        "parser.add_argument('--seed', default=1, type=int, help='manual seed')\n",
        "parser.add_argument('--log_dir', default='logs', help='base directory to save logs')\n",
        "parser.add_argument('--data_root', default='', help='root directory for data')\n",
        "\n",
        "parser.add_argument('--dataset', default='moving_mnist', help='dataset to train with')\n",
        "\n",
        "parser.add_argument('--sd_nf', type=int, default=100, help='number of layers')\n",
        "parser.add_argument('--content_model', default='dcgan_unet', help='model type (dcgan | dcgan_unet | vgg_unet)')\n",
        "parser.add_argument('--pose_model', default='dcgan', help='model type (dcgan | unet | resnet)')\n",
        "parser.add_argument('--data_threads', type=int, default=5, help='number of parallel data loading threads')\n",
        "parser.add_argument('--data_type', default='drnet', help='speed up data loading for drnet training')\n",
        "'''\n",
        "sys.argv=[\"nothing\"]\n",
        "opt = parser.parse_args()\n",
        "print (opt.lr,opt.beta1)"
      ],
      "execution_count": 84,
      "outputs": [
        {
          "output_type": "stream",
          "text": [
            "0.02 0.5\n"
          ],
          "name": "stdout"
        }
      ]
    },
    {
      "metadata": {
        "id": "tRl4xEzXDwZD",
        "colab_type": "code",
        "colab": {
          "base_uri": "https://localhost:8080/",
          "height": 1366
        },
        "outputId": "4c28a902-eeaf-4af0-e927-d1f3b1037596"
      },
      "cell_type": "code",
      "source": [
        "from seq2seq.models import EncoderRNN\n",
        "\n",
        "en_sem = EncoderRNN(len(TEXT.vocab),50, opt.semantics_dim)\n",
        "\n",
        "#en_sty = EncoderRNN(len(TEXT.vocab),max_seq_length opt.style_dim\n",
        "sample = next(train_iter)\n",
        "en_sem(sample.sent_0)\n"
      ],
      "execution_count": 132,
      "outputs": [
        {
          "output_type": "error",
          "ename": "RuntimeError",
          "evalue": "ignored",
          "traceback": [
            "\u001b[0;31m---------------------------------------------------------------------------\u001b[0m",
            "\u001b[0;31mRuntimeError\u001b[0m                              Traceback (most recent call last)",
            "\u001b[0;32m/usr/local/lib/python3.6/dist-packages/IPython/core/formatters.py\u001b[0m in \u001b[0;36m__call__\u001b[0;34m(self, obj)\u001b[0m\n\u001b[1;32m    697\u001b[0m                 \u001b[0mtype_pprinters\u001b[0m\u001b[0;34m=\u001b[0m\u001b[0mself\u001b[0m\u001b[0;34m.\u001b[0m\u001b[0mtype_printers\u001b[0m\u001b[0;34m,\u001b[0m\u001b[0;34m\u001b[0m\u001b[0m\n\u001b[1;32m    698\u001b[0m                 deferred_pprinters=self.deferred_printers)\n\u001b[0;32m--> 699\u001b[0;31m             \u001b[0mprinter\u001b[0m\u001b[0;34m.\u001b[0m\u001b[0mpretty\u001b[0m\u001b[0;34m(\u001b[0m\u001b[0mobj\u001b[0m\u001b[0;34m)\u001b[0m\u001b[0;34m\u001b[0m\u001b[0m\n\u001b[0m\u001b[1;32m    700\u001b[0m             \u001b[0mprinter\u001b[0m\u001b[0;34m.\u001b[0m\u001b[0mflush\u001b[0m\u001b[0;34m(\u001b[0m\u001b[0;34m)\u001b[0m\u001b[0;34m\u001b[0m\u001b[0m\n\u001b[1;32m    701\u001b[0m             \u001b[0;32mreturn\u001b[0m \u001b[0mstream\u001b[0m\u001b[0;34m.\u001b[0m\u001b[0mgetvalue\u001b[0m\u001b[0;34m(\u001b[0m\u001b[0;34m)\u001b[0m\u001b[0;34m\u001b[0m\u001b[0m\n",
            "\u001b[0;32m/usr/local/lib/python3.6/dist-packages/IPython/lib/pretty.py\u001b[0m in \u001b[0;36mpretty\u001b[0;34m(self, obj)\u001b[0m\n\u001b[1;32m    381\u001b[0m                 \u001b[0;32mif\u001b[0m \u001b[0mcls\u001b[0m \u001b[0;32min\u001b[0m \u001b[0mself\u001b[0m\u001b[0;34m.\u001b[0m\u001b[0mtype_pprinters\u001b[0m\u001b[0;34m:\u001b[0m\u001b[0;34m\u001b[0m\u001b[0m\n\u001b[1;32m    382\u001b[0m                     \u001b[0;31m# printer registered in self.type_pprinters\u001b[0m\u001b[0;34m\u001b[0m\u001b[0;34m\u001b[0m\u001b[0m\n\u001b[0;32m--> 383\u001b[0;31m                     \u001b[0;32mreturn\u001b[0m \u001b[0mself\u001b[0m\u001b[0;34m.\u001b[0m\u001b[0mtype_pprinters\u001b[0m\u001b[0;34m[\u001b[0m\u001b[0mcls\u001b[0m\u001b[0;34m]\u001b[0m\u001b[0;34m(\u001b[0m\u001b[0mobj\u001b[0m\u001b[0;34m,\u001b[0m \u001b[0mself\u001b[0m\u001b[0;34m,\u001b[0m \u001b[0mcycle\u001b[0m\u001b[0;34m)\u001b[0m\u001b[0;34m\u001b[0m\u001b[0m\n\u001b[0m\u001b[1;32m    384\u001b[0m                 \u001b[0;32melse\u001b[0m\u001b[0;34m:\u001b[0m\u001b[0;34m\u001b[0m\u001b[0m\n\u001b[1;32m    385\u001b[0m                     \u001b[0;31m# deferred printer\u001b[0m\u001b[0;34m\u001b[0m\u001b[0;34m\u001b[0m\u001b[0m\n",
            "\u001b[0;32m/usr/local/lib/python3.6/dist-packages/IPython/lib/pretty.py\u001b[0m in \u001b[0;36minner\u001b[0;34m(obj, p, cycle)\u001b[0m\n\u001b[1;32m    565\u001b[0m                 \u001b[0mp\u001b[0m\u001b[0;34m.\u001b[0m\u001b[0mtext\u001b[0m\u001b[0;34m(\u001b[0m\u001b[0;34m','\u001b[0m\u001b[0;34m)\u001b[0m\u001b[0;34m\u001b[0m\u001b[0m\n\u001b[1;32m    566\u001b[0m                 \u001b[0mp\u001b[0m\u001b[0;34m.\u001b[0m\u001b[0mbreakable\u001b[0m\u001b[0;34m(\u001b[0m\u001b[0;34m)\u001b[0m\u001b[0;34m\u001b[0m\u001b[0m\n\u001b[0;32m--> 567\u001b[0;31m             \u001b[0mp\u001b[0m\u001b[0;34m.\u001b[0m\u001b[0mpretty\u001b[0m\u001b[0;34m(\u001b[0m\u001b[0mx\u001b[0m\u001b[0;34m)\u001b[0m\u001b[0;34m\u001b[0m\u001b[0m\n\u001b[0m\u001b[1;32m    568\u001b[0m         \u001b[0;32mif\u001b[0m \u001b[0mlen\u001b[0m\u001b[0;34m(\u001b[0m\u001b[0mobj\u001b[0m\u001b[0;34m)\u001b[0m \u001b[0;34m==\u001b[0m \u001b[0;36m1\u001b[0m \u001b[0;32mand\u001b[0m \u001b[0mtype\u001b[0m\u001b[0;34m(\u001b[0m\u001b[0mobj\u001b[0m\u001b[0;34m)\u001b[0m \u001b[0;32mis\u001b[0m \u001b[0mtuple\u001b[0m\u001b[0;34m:\u001b[0m\u001b[0;34m\u001b[0m\u001b[0m\n\u001b[1;32m    569\u001b[0m             \u001b[0;31m# Special case for 1-item tuples.\u001b[0m\u001b[0;34m\u001b[0m\u001b[0;34m\u001b[0m\u001b[0m\n",
            "\u001b[0;32m/usr/local/lib/python3.6/dist-packages/IPython/lib/pretty.py\u001b[0m in \u001b[0;36mpretty\u001b[0;34m(self, obj)\u001b[0m\n\u001b[1;32m    396\u001b[0m                             \u001b[0;32mif\u001b[0m \u001b[0mcallable\u001b[0m\u001b[0;34m(\u001b[0m\u001b[0mmeth\u001b[0m\u001b[0;34m)\u001b[0m\u001b[0;34m:\u001b[0m\u001b[0;34m\u001b[0m\u001b[0m\n\u001b[1;32m    397\u001b[0m                                 \u001b[0;32mreturn\u001b[0m \u001b[0mmeth\u001b[0m\u001b[0;34m(\u001b[0m\u001b[0mobj\u001b[0m\u001b[0;34m,\u001b[0m \u001b[0mself\u001b[0m\u001b[0;34m,\u001b[0m \u001b[0mcycle\u001b[0m\u001b[0;34m)\u001b[0m\u001b[0;34m\u001b[0m\u001b[0m\n\u001b[0;32m--> 398\u001b[0;31m             \u001b[0;32mreturn\u001b[0m \u001b[0m_default_pprint\u001b[0m\u001b[0;34m(\u001b[0m\u001b[0mobj\u001b[0m\u001b[0;34m,\u001b[0m \u001b[0mself\u001b[0m\u001b[0;34m,\u001b[0m \u001b[0mcycle\u001b[0m\u001b[0;34m)\u001b[0m\u001b[0;34m\u001b[0m\u001b[0m\n\u001b[0m\u001b[1;32m    399\u001b[0m         \u001b[0;32mfinally\u001b[0m\u001b[0;34m:\u001b[0m\u001b[0;34m\u001b[0m\u001b[0m\n\u001b[1;32m    400\u001b[0m             \u001b[0mself\u001b[0m\u001b[0;34m.\u001b[0m\u001b[0mend_group\u001b[0m\u001b[0;34m(\u001b[0m\u001b[0;34m)\u001b[0m\u001b[0;34m\u001b[0m\u001b[0m\n",
            "\u001b[0;32m/usr/local/lib/python3.6/dist-packages/IPython/lib/pretty.py\u001b[0m in \u001b[0;36m_default_pprint\u001b[0;34m(obj, p, cycle)\u001b[0m\n\u001b[1;32m    516\u001b[0m     \u001b[0;32mif\u001b[0m \u001b[0m_safe_getattr\u001b[0m\u001b[0;34m(\u001b[0m\u001b[0mklass\u001b[0m\u001b[0;34m,\u001b[0m \u001b[0;34m'__repr__'\u001b[0m\u001b[0;34m,\u001b[0m \u001b[0;32mNone\u001b[0m\u001b[0;34m)\u001b[0m \u001b[0;32mnot\u001b[0m \u001b[0;32min\u001b[0m \u001b[0m_baseclass_reprs\u001b[0m\u001b[0;34m:\u001b[0m\u001b[0;34m\u001b[0m\u001b[0m\n\u001b[1;32m    517\u001b[0m         \u001b[0;31m# A user-provided repr. Find newlines and replace them with p.break_()\u001b[0m\u001b[0;34m\u001b[0m\u001b[0;34m\u001b[0m\u001b[0m\n\u001b[0;32m--> 518\u001b[0;31m         \u001b[0m_repr_pprint\u001b[0m\u001b[0;34m(\u001b[0m\u001b[0mobj\u001b[0m\u001b[0;34m,\u001b[0m \u001b[0mp\u001b[0m\u001b[0;34m,\u001b[0m \u001b[0mcycle\u001b[0m\u001b[0;34m)\u001b[0m\u001b[0;34m\u001b[0m\u001b[0m\n\u001b[0m\u001b[1;32m    519\u001b[0m         \u001b[0;32mreturn\u001b[0m\u001b[0;34m\u001b[0m\u001b[0m\n\u001b[1;32m    520\u001b[0m     \u001b[0mp\u001b[0m\u001b[0;34m.\u001b[0m\u001b[0mbegin_group\u001b[0m\u001b[0;34m(\u001b[0m\u001b[0;36m1\u001b[0m\u001b[0;34m,\u001b[0m \u001b[0;34m'<'\u001b[0m\u001b[0;34m)\u001b[0m\u001b[0;34m\u001b[0m\u001b[0m\n",
            "\u001b[0;32m/usr/local/lib/python3.6/dist-packages/IPython/lib/pretty.py\u001b[0m in \u001b[0;36m_repr_pprint\u001b[0;34m(obj, p, cycle)\u001b[0m\n\u001b[1;32m    707\u001b[0m     \u001b[0;34m\"\"\"A pprint that just redirects to the normal repr function.\"\"\"\u001b[0m\u001b[0;34m\u001b[0m\u001b[0m\n\u001b[1;32m    708\u001b[0m     \u001b[0;31m# Find newlines and replace them with p.break_()\u001b[0m\u001b[0;34m\u001b[0m\u001b[0;34m\u001b[0m\u001b[0m\n\u001b[0;32m--> 709\u001b[0;31m     \u001b[0moutput\u001b[0m \u001b[0;34m=\u001b[0m \u001b[0mrepr\u001b[0m\u001b[0;34m(\u001b[0m\u001b[0mobj\u001b[0m\u001b[0;34m)\u001b[0m\u001b[0;34m\u001b[0m\u001b[0m\n\u001b[0m\u001b[1;32m    710\u001b[0m     \u001b[0;32mfor\u001b[0m \u001b[0midx\u001b[0m\u001b[0;34m,\u001b[0m\u001b[0moutput_line\u001b[0m \u001b[0;32min\u001b[0m \u001b[0menumerate\u001b[0m\u001b[0;34m(\u001b[0m\u001b[0moutput\u001b[0m\u001b[0;34m.\u001b[0m\u001b[0msplitlines\u001b[0m\u001b[0;34m(\u001b[0m\u001b[0;34m)\u001b[0m\u001b[0;34m)\u001b[0m\u001b[0;34m:\u001b[0m\u001b[0;34m\u001b[0m\u001b[0m\n\u001b[1;32m    711\u001b[0m         \u001b[0;32mif\u001b[0m \u001b[0midx\u001b[0m\u001b[0;34m:\u001b[0m\u001b[0;34m\u001b[0m\u001b[0m\n",
            "\u001b[0;32m/usr/local/lib/python3.6/dist-packages/torch/tensor.py\u001b[0m in \u001b[0;36m__repr__\u001b[0;34m(self)\u001b[0m\n\u001b[1;32m     55\u001b[0m         \u001b[0;31m# characters to replace unicode characters with.\u001b[0m\u001b[0;34m\u001b[0m\u001b[0;34m\u001b[0m\u001b[0m\n\u001b[1;32m     56\u001b[0m         \u001b[0;32mif\u001b[0m \u001b[0msys\u001b[0m\u001b[0;34m.\u001b[0m\u001b[0mversion_info\u001b[0m \u001b[0;34m>\u001b[0m \u001b[0;34m(\u001b[0m\u001b[0;36m3\u001b[0m\u001b[0;34m,\u001b[0m\u001b[0;34m)\u001b[0m\u001b[0;34m:\u001b[0m\u001b[0;34m\u001b[0m\u001b[0m\n\u001b[0;32m---> 57\u001b[0;31m             \u001b[0;32mreturn\u001b[0m \u001b[0mtorch\u001b[0m\u001b[0;34m.\u001b[0m\u001b[0m_tensor_str\u001b[0m\u001b[0;34m.\u001b[0m\u001b[0m_str\u001b[0m\u001b[0;34m(\u001b[0m\u001b[0mself\u001b[0m\u001b[0;34m)\u001b[0m\u001b[0;34m\u001b[0m\u001b[0m\n\u001b[0m\u001b[1;32m     58\u001b[0m         \u001b[0;32melse\u001b[0m\u001b[0;34m:\u001b[0m\u001b[0;34m\u001b[0m\u001b[0m\n\u001b[1;32m     59\u001b[0m             \u001b[0;32mif\u001b[0m \u001b[0mhasattr\u001b[0m\u001b[0;34m(\u001b[0m\u001b[0msys\u001b[0m\u001b[0;34m.\u001b[0m\u001b[0mstdout\u001b[0m\u001b[0;34m,\u001b[0m \u001b[0;34m'encoding'\u001b[0m\u001b[0;34m)\u001b[0m\u001b[0;34m:\u001b[0m\u001b[0;34m\u001b[0m\u001b[0m\n",
            "\u001b[0;32m/usr/local/lib/python3.6/dist-packages/torch/_tensor_str.py\u001b[0m in \u001b[0;36m_str\u001b[0;34m(self)\u001b[0m\n\u001b[1;32m    254\u001b[0m             \u001b[0msuffix\u001b[0m \u001b[0;34m+=\u001b[0m \u001b[0;34m', dtype='\u001b[0m \u001b[0;34m+\u001b[0m \u001b[0mstr\u001b[0m\u001b[0;34m(\u001b[0m\u001b[0mself\u001b[0m\u001b[0;34m.\u001b[0m\u001b[0mdtype\u001b[0m\u001b[0;34m)\u001b[0m\u001b[0;34m\u001b[0m\u001b[0m\n\u001b[1;32m    255\u001b[0m \u001b[0;34m\u001b[0m\u001b[0m\n\u001b[0;32m--> 256\u001b[0;31m         \u001b[0mformatter\u001b[0m \u001b[0;34m=\u001b[0m \u001b[0m_Formatter\u001b[0m\u001b[0;34m(\u001b[0m\u001b[0mget_summarized_data\u001b[0m\u001b[0;34m(\u001b[0m\u001b[0mself\u001b[0m\u001b[0;34m)\u001b[0m \u001b[0;32mif\u001b[0m \u001b[0msummarize\u001b[0m \u001b[0;32melse\u001b[0m \u001b[0mself\u001b[0m\u001b[0;34m)\u001b[0m\u001b[0;34m\u001b[0m\u001b[0m\n\u001b[0m\u001b[1;32m    257\u001b[0m         \u001b[0mtensor_str\u001b[0m \u001b[0;34m=\u001b[0m \u001b[0m_tensor_str\u001b[0m\u001b[0;34m(\u001b[0m\u001b[0mself\u001b[0m\u001b[0;34m,\u001b[0m \u001b[0mindent\u001b[0m\u001b[0;34m,\u001b[0m \u001b[0mformatter\u001b[0m\u001b[0;34m,\u001b[0m \u001b[0msummarize\u001b[0m\u001b[0;34m)\u001b[0m\u001b[0;34m\u001b[0m\u001b[0m\n\u001b[1;32m    258\u001b[0m \u001b[0;34m\u001b[0m\u001b[0m\n",
            "\u001b[0;32m/usr/local/lib/python3.6/dist-packages/torch/_tensor_str.py\u001b[0m in \u001b[0;36mget_summarized_data\u001b[0;34m(self)\u001b[0m\n\u001b[1;32m    214\u001b[0m             \u001b[0;32mreturn\u001b[0m \u001b[0mself\u001b[0m\u001b[0;34m\u001b[0m\u001b[0m\n\u001b[1;32m    215\u001b[0m     \u001b[0;32mif\u001b[0m \u001b[0mself\u001b[0m\u001b[0;34m.\u001b[0m\u001b[0msize\u001b[0m\u001b[0;34m(\u001b[0m\u001b[0;36m0\u001b[0m\u001b[0;34m)\u001b[0m \u001b[0;34m>\u001b[0m \u001b[0;36m2\u001b[0m \u001b[0;34m*\u001b[0m \u001b[0mPRINT_OPTS\u001b[0m\u001b[0;34m.\u001b[0m\u001b[0medgeitems\u001b[0m\u001b[0;34m:\u001b[0m\u001b[0;34m\u001b[0m\u001b[0m\n\u001b[0;32m--> 216\u001b[0;31m         \u001b[0mstart\u001b[0m \u001b[0;34m=\u001b[0m \u001b[0;34m[\u001b[0m\u001b[0mget_summarized_data\u001b[0m\u001b[0;34m(\u001b[0m\u001b[0mself\u001b[0m\u001b[0;34m[\u001b[0m\u001b[0mi\u001b[0m\u001b[0;34m]\u001b[0m\u001b[0;34m)\u001b[0m\u001b[0;34m.\u001b[0m\u001b[0mview\u001b[0m\u001b[0;34m(\u001b[0m\u001b[0;34m-\u001b[0m\u001b[0;36m1\u001b[0m\u001b[0;34m)\u001b[0m \u001b[0;32mfor\u001b[0m \u001b[0mi\u001b[0m \u001b[0;32min\u001b[0m \u001b[0mrange\u001b[0m\u001b[0;34m(\u001b[0m\u001b[0;36m0\u001b[0m\u001b[0;34m,\u001b[0m \u001b[0mPRINT_OPTS\u001b[0m\u001b[0;34m.\u001b[0m\u001b[0medgeitems\u001b[0m\u001b[0;34m)\u001b[0m\u001b[0;34m]\u001b[0m\u001b[0;34m\u001b[0m\u001b[0m\n\u001b[0m\u001b[1;32m    217\u001b[0m         end = ([get_summarized_data(self[i]).view(-1)\n\u001b[1;32m    218\u001b[0m                for i in range(len(self) - PRINT_OPTS.edgeitems, len(self))])\n",
            "\u001b[0;32m/usr/local/lib/python3.6/dist-packages/torch/_tensor_str.py\u001b[0m in \u001b[0;36m<listcomp>\u001b[0;34m(.0)\u001b[0m\n\u001b[1;32m    214\u001b[0m             \u001b[0;32mreturn\u001b[0m \u001b[0mself\u001b[0m\u001b[0;34m\u001b[0m\u001b[0m\n\u001b[1;32m    215\u001b[0m     \u001b[0;32mif\u001b[0m \u001b[0mself\u001b[0m\u001b[0;34m.\u001b[0m\u001b[0msize\u001b[0m\u001b[0;34m(\u001b[0m\u001b[0;36m0\u001b[0m\u001b[0;34m)\u001b[0m \u001b[0;34m>\u001b[0m \u001b[0;36m2\u001b[0m \u001b[0;34m*\u001b[0m \u001b[0mPRINT_OPTS\u001b[0m\u001b[0;34m.\u001b[0m\u001b[0medgeitems\u001b[0m\u001b[0;34m:\u001b[0m\u001b[0;34m\u001b[0m\u001b[0m\n\u001b[0;32m--> 216\u001b[0;31m         \u001b[0mstart\u001b[0m \u001b[0;34m=\u001b[0m \u001b[0;34m[\u001b[0m\u001b[0mget_summarized_data\u001b[0m\u001b[0;34m(\u001b[0m\u001b[0mself\u001b[0m\u001b[0;34m[\u001b[0m\u001b[0mi\u001b[0m\u001b[0;34m]\u001b[0m\u001b[0;34m)\u001b[0m\u001b[0;34m.\u001b[0m\u001b[0mview\u001b[0m\u001b[0;34m(\u001b[0m\u001b[0;34m-\u001b[0m\u001b[0;36m1\u001b[0m\u001b[0;34m)\u001b[0m \u001b[0;32mfor\u001b[0m \u001b[0mi\u001b[0m \u001b[0;32min\u001b[0m \u001b[0mrange\u001b[0m\u001b[0;34m(\u001b[0m\u001b[0;36m0\u001b[0m\u001b[0;34m,\u001b[0m \u001b[0mPRINT_OPTS\u001b[0m\u001b[0;34m.\u001b[0m\u001b[0medgeitems\u001b[0m\u001b[0;34m)\u001b[0m\u001b[0;34m]\u001b[0m\u001b[0;34m\u001b[0m\u001b[0m\n\u001b[0m\u001b[1;32m    217\u001b[0m         end = ([get_summarized_data(self[i]).view(-1)\n\u001b[1;32m    218\u001b[0m                for i in range(len(self) - PRINT_OPTS.edgeitems, len(self))])\n",
            "\u001b[0;31mRuntimeError\u001b[0m: invalid argument 2: view size is not compatible with input tensor's size and stride (at least one dimension spans across two contiguous subspaces). Call .contiguous() before .view(). at /pytorch/aten/src/TH/generic/THTensor.cpp:237"
          ]
        }
      ]
    },
    {
      "metadata": {
        "id": "r5eh7qthtyX5",
        "colab_type": "code",
        "colab": {}
      },
      "cell_type": "code",
      "source": [
        "   "
      ],
      "execution_count": 0,
      "outputs": []
    },
    {
      "metadata": {
        "id": "G3ghi3B0ymmk",
        "colab_type": "text"
      },
      "cell_type": "markdown",
      "source": [
        "# FC  decoders"
      ]
    },
    {
      "metadata": {
        "id": "bXi51149ioGD",
        "colab_type": "code",
        "colab": {
          "base_uri": "https://localhost:8080/",
          "height": 34
        },
        "outputId": "ef9b9e01-62c0-4394-c9c3-940b351de6be"
      },
      "cell_type": "code",
      "source": [
        "\n",
        "\n",
        "trn_dl = DataLoader(TimePairsDataset(1e5,1), batch_size=opt.batch_size,)\n",
        "x,y = next(iter(trn_dl)) \n",
        "print ('input . x is vertically stacked sentences',x.shape,'y',y.shape)\n",
        "\n",
        "batch,pair,sentence_len=x.shape\n",
        "\n",
        "\n",
        "      \n",
        "en_sem = nn.Sequential(\n",
        "  # expect sentence_len,so from outside, cut a pair into x[0],x[1] and pass seperatly each\n",
        "  nn.Linear(sentence_len,19),\n",
        "  nn.ReLU(inplace=True), \n",
        "  nn.Linear(19,opt.semantics_dim),\n",
        "  #nn.Tanh()\n",
        ")\n",
        "\n",
        "en_sty= nn.Sequential(\n",
        "  nn.Linear(sentence_len,19),\n",
        "  nn.ReLU(inplace=True),\n",
        "  nn.Linear(19,opt.style_dim),\n",
        "  #nn.Tanh()\n",
        ")\n",
        "decoder = nn.Sequential(\n",
        "  # input concat of semantic and style\n",
        "  # output sentence_len , each word/char has currently value in range 0..1\n",
        "  nn.Linear(opt.semantics_dim+opt.style_dim,19),\n",
        "  nn.ReLU(inplace=True),\n",
        "  nn.Linear(19,60),\n",
        "  nn.ReLU(inplace=True),\n",
        "  nn.Linear(60,sentence_len),\n",
        "  # we apply MSE on this\n",
        ")\n",
        "adv_disc = nn.Sequential(\n",
        "  # input concat of two style\n",
        "  nn.Linear(2*opt.style_dim,6),\n",
        "  nn.ReLU(inplace=True),\n",
        "  nn.Linear(6,1),\n",
        "  nn.Sigmoid()  #Must be sigmoid, we apply later BCE\n",
        ")\n",
        "\n",
        "if opt.optimizer=='adam':\n",
        "  optimizer = torch.optim.Adam\n",
        "\n",
        "optimizer_en_sem = optimizer(en_sem.parameters(), lr=opt.lr) #(, betas=(opt.beta1, 0.999))\n",
        "optimizer_en_sty = optimizer(en_sty.parameters(), lr=opt.lr) #), betas=(opt.beta1, 0.999))\n",
        "optimizer_decoder = optimizer(decoder.parameters(), lr=0.1) #)opt.lr), betas=(opt.beta1, 0.999))\n",
        "optimizer_adv_disc = optimizer(adv_disc.parameters(), lr=opt.adv_disc_lr) ##), betas=(opt.beta1, 0.999))\n",
        " "
      ],
      "execution_count": 30,
      "outputs": [
        {
          "output_type": "stream",
          "text": [
            "input . x is vertically stacked sentences torch.Size([32, 3, 20]) y torch.Size([32, 1])\n"
          ],
          "name": "stdout"
        }
      ]
    },
    {
      "metadata": {
        "id": "GaVWTeleYkWk",
        "colab_type": "text"
      },
      "cell_type": "markdown",
      "source": [
        "# Train loop"
      ]
    },
    {
      "metadata": {
        "id": "6Yu8nIAYyta5",
        "colab_type": "code",
        "colab": {}
      },
      "cell_type": "code",
      "source": [
        "teacher_forcing_ratio = 0.5\n",
        "\n",
        "\n",
        "def train(input_tensor, target_tensor, encoder, decoder, encoder_optimizer, decoder_optimizer, criterion, max_length=MAX_LENGTH):\n",
        "    encoder_hidden = encoder.initHidden()\n",
        "\n",
        "    encoder_optimizer.zero_grad()\n",
        "    decoder_optimizer.zero_grad()\n",
        "\n",
        "    input_length = input_tensor.size(0)\n",
        "    target_length = target_tensor.size(0)\n",
        "\n",
        "    encoder_outputs = torch.zeros(max_length, encoder.hidden_size, device=device)\n",
        "\n",
        "    loss = 0\n",
        "\n",
        "    for ei in range(input_length):\n",
        "        encoder_output, encoder_hidden = encoder(\n",
        "            input_tensor[ei], encoder_hidden)\n",
        "        encoder_outputs[ei] = encoder_output[0, 0]\n",
        "\n",
        "    decoder_input = torch.tensor([[SOS_token]], device=device)\n",
        "\n",
        "    decoder_hidden = encoder_hidden\n",
        "\n",
        "    use_teacher_forcing = True if random.random() < teacher_forcing_ratio else False\n",
        "\n",
        "    if use_teacher_forcing:\n",
        "        # Teacher forcing: Feed the target as the next input\n",
        "        for di in range(target_length):\n",
        "            decoder_output, decoder_hidden, decoder_attention = decoder(\n",
        "                decoder_input, decoder_hidden, encoder_outputs)\n",
        "            loss += criterion(decoder_output, target_tensor[di])\n",
        "            decoder_input = target_tensor[di]  # Teacher forcing\n",
        "\n",
        "    else:\n",
        "        # Without teacher forcing: use its own predictions as the next input\n",
        "        for di in range(target_length):\n",
        "            decoder_output, decoder_hidden, decoder_attention = decoder(\n",
        "                decoder_input, decoder_hidden, encoder_outputs)\n",
        "            topv, topi = decoder_output.topk(1)\n",
        "            decoder_input = topi.squeeze().detach()  # detach from history as input\n",
        "\n",
        "            loss += criterion(decoder_output, target_tensor[di])\n",
        "            if decoder_input.item() == EOS_token:\n",
        "                break\n",
        "\n",
        "    loss.backward()\n",
        "\n",
        "    encoder_optimizer.step()\n",
        "    decoder_optimizer.step()\n",
        "\n",
        "    return loss.item() / target_length"
      ],
      "execution_count": 0,
      "outputs": []
    },
    {
      "metadata": {
        "id": "_jDD-H1faFtq",
        "colab_type": "code",
        "colab": {
          "base_uri": "https://localhost:8080/",
          "height": 932
        },
        "outputId": "e5bec71d-f2b2-42d7-82c2-4a975e0b2ff8"
      },
      "cell_type": "code",
      "source": [
        "\n",
        "\n",
        "# --------- training funtions ------------------------------------\n",
        "def train(x,verbose=False):\n",
        "    #print (x.shape)\n",
        "    en_sty.zero_grad() \n",
        "    en_sem.zero_grad()\n",
        "    decoder.zero_grad()\n",
        "\n",
        "    \n",
        "    # x[0] semantic0   , style0\n",
        "    # x[1] semantic0   , style1   \n",
        "    # x[2] semantic0orX, style0 (1/2 the time 0 , half X)\n",
        "    sent0 = x[:,0]\n",
        "    sent1 = x[:,1]\n",
        "    sentX = x[:,2]\n",
        "    h_sem0 = en_sem(sent0) \n",
        "    h_sem1 = en_sem(sent1) \n",
        "    # if you want to use torch criterion, you need to copy the label and set it to not requreing gradiant\n",
        "    # so below is different than nn.MSELoss()(h_sem0,h_sem1.detach()). I wonder if only one get grad updates!\n",
        "    sim_loss = torch.mean(torch.pow(  h_sem0- h_sem1,2)) \n",
        "    #sim_loss = mse_criterion(h_c1[0] if opt.content_model[-4:] == 'unet' else h_c1, h_c2)\n",
        "    \n",
        "    \n",
        "    h_sty0 = en_sty(sent0)\n",
        "    recon_sent0 = decoder(torch.cat([h_sem1,h_sty0],dim=1)) #assume h_sem0==h_sem1\n",
        "    rec_loss = nn.MSELoss()(recon_sent0,sent0)\n",
        "\n",
        "    # TODO : willl it be better to use completely different sentences?\n",
        "    h_styX = en_sty(sentX)\n",
        "    adv_disc_p =  adv_disc(torch.cat([h_sty0,h_styX],dim=1))\n",
        "    if verbose:\n",
        "      print (adv_disc_p[0:3].data.numpy().T)\n",
        "    adv_target = torch.FloatTensor(np.full(shape =(sent0.shape[0],1),fill_value=0.5))\n",
        "    # the loss below is a parabula with min at log(0.5)=0.693... see documentation above\n",
        "    adv_disc_loss = nn.BCELoss()(adv_disc_p, adv_target) - np.log(0.5)\n",
        "    #print (adv_disc_loss)\n",
        "    \n",
        "    # full loss\n",
        "    loss = rec_loss #+ sim_loss + opt.sd_weight*adv_disc_loss\n",
        "    loss.backward()\n",
        "\n",
        "    optimizer_en_sem.step()\n",
        "    optimizer_en_sty.step()\n",
        "    optimizer_decoder.step()\n",
        "\n",
        "    return sim_loss.data.cpu().numpy(),rec_loss.data.cpu().numpy(),adv_disc_loss.data.cpu().numpy()*opt.sd_weight\n",
        "\n",
        "def train_scene_discriminator(x,y):\n",
        "    #print ('train_scene_discriminator',x.shape,y.shape)\n",
        "    \n",
        "    sent0 = x[:,0]\n",
        "    sentX = x[:,2]\n",
        "    \n",
        "    adv_disc.zero_grad()\n",
        "\n",
        "    h_sty0    = en_sty(sent0) #detach?\n",
        "    h_sty0or2 = en_sty(sentX)\n",
        "    \n",
        "  \n",
        "    out = adv_disc(torch.cat([h_sty0, h_sty0or2],dim=1))\n",
        "    #TODO: #Note BCELossWithLogits is faster and moer stable, to use it remove sigmoid from network end\n",
        "    bce = nn.BCELoss()(out, y) #should wrapp in varaible? \n",
        "\n",
        "    bce.backward()\n",
        "    optimizer_adv_disc.step()\n",
        "    #print (out.shape) #torch.Size([16, 1])\n",
        "    acc =  np.round(out.detach().numpy())==y  #CHECK THIS DIMENSTIONS!!! \n",
        "    #print (acc.shape) #1,16\n",
        "    acc = acc.reshape(-1).float()\n",
        "    acc= acc.sum()/len(acc)\n",
        "    return bce.data.cpu().numpy(), acc.numpy()\n",
        "\n",
        "# --------- training loop ------------------------------------\n",
        "train_ds = TimePairsDataset(1e9,1)\n",
        "eval_ds  = TimePairsDataset(1e9,2)\n",
        "training_batch_generator = iter(DataLoader(train_ds,batch_size=opt.batch_size))\n",
        "eval_batch_generator = iter(DataLoader(eval_ds,batch_size=opt.batch_size))\n",
        "\n",
        "x,y = next(training_batch_generator)\n",
        "print ('training_batch_generator',x.shape,y.shape) \n",
        "  \n",
        "opt.epocs=50 \n",
        "opt.epoch_size=500\n",
        "opt.batch_size= 32 #anti-adv-loss will be noiser\n",
        "\n",
        "  \n",
        "for epoch in range(opt.epocs):\n",
        "    #print ('new epoch')\n",
        "    en_sty.train()  # and not eval() mode\n",
        "    en_sem.train()\n",
        "    decoder.train()\n",
        "    adv_disc.train()\n",
        "    epoch_sim_loss, epoch_rec_loss, epoch_anti_disc_loss, epoch_sd_loss, epoch_sd_acc = 0, 0, 0, 0, 0\n",
        "\n",
        "    for i in range(opt.epoch_size):\n",
        "        #if i % 100==0 : print ('batch',i,'of',opt.epoch_size)\n",
        "        x,y = next(training_batch_generator)\n",
        "\n",
        "        # train scene discriminator\n",
        "        sd_loss, sd_acc = train_scene_discriminator(x,y)\n",
        "        epoch_sd_loss += sd_loss\n",
        "        epoch_sd_acc += sd_acc\n",
        "\n",
        "        # train main model\n",
        "        # verbose= i%5000==0\n",
        "        sim_loss, rec_loss, anti_disc_loss = train(x,verbose)\n",
        "        epoch_sim_loss += sim_loss\n",
        "        epoch_rec_loss += rec_loss\n",
        "        epoch_anti_disc_loss += anti_disc_loss\n",
        "    #print (epoch, epoch_rec_loss/opt.epoch_size, epoch_sim_loss/opt.epoch_size)\n",
        "    #print (epoch_sd_acc/opt.epoch_size)\n",
        "    #print (epoch*opt.epoch_size*opt.batch_size)\n",
        "    print('[%02d] rec loss: %.4f | sim loss: %.4f | anti_disc_loss: %.4f || scene disc %.4f %.3f%% ' % (epoch, epoch_rec_loss/opt.epoch_size, \n",
        "                epoch_sim_loss/opt.epoch_size, epoch_anti_disc_loss/opt.epoch_size,\n",
        "                epoch_sd_loss/opt.epoch_size, 100*epoch_sd_acc/opt.epoch_size))\n",
        "\n",
        "# back to eval mode\n",
        "en_sty.eval()  # and not eval() mode\n",
        "en_sem.eval()\n",
        "decoder.eval()\n",
        "adv_disc.eval()\n",
        "print ('training loop done')\n",
        "# TODO: save the model\n",
        "\n",
        "\n",
        "\n"
      ],
      "execution_count": 31,
      "outputs": [
        {
          "output_type": "stream",
          "text": [
            "training_batch_generator torch.Size([32, 3, 20]) torch.Size([32, 1])\n",
            "[00] rec loss: 0.0156 | sim loss: 0.0000 | anti_disc_loss: 0.0014 || scene disc 0.6937 49.794% \n",
            "[01] rec loss: 0.0135 | sim loss: 0.0000 | anti_disc_loss: 0.0014 || scene disc 0.6933 49.462% \n",
            "[02] rec loss: 0.0135 | sim loss: 0.0000 | anti_disc_loss: 0.0014 || scene disc 0.6933 49.350% \n",
            "[03] rec loss: 0.0136 | sim loss: 0.0000 | anti_disc_loss: 0.0014 || scene disc 0.6932 50.194% \n",
            "[04] rec loss: 0.0136 | sim loss: 0.0000 | anti_disc_loss: 0.0014 || scene disc 0.6932 50.150% \n",
            "[05] rec loss: 0.0135 | sim loss: 0.0000 | anti_disc_loss: 0.0014 || scene disc 0.6932 50.500% \n",
            "[06] rec loss: 0.0134 | sim loss: 0.0000 | anti_disc_loss: 0.0014 || scene disc 0.6932 50.038% \n",
            "[07] rec loss: 0.0134 | sim loss: 0.0000 | anti_disc_loss: 0.0014 || scene disc 0.6931 50.650% \n",
            "[08] rec loss: 0.0134 | sim loss: 0.0000 | anti_disc_loss: 0.0014 || scene disc 0.6932 50.638% \n",
            "[09] rec loss: 0.0135 | sim loss: 0.0000 | anti_disc_loss: 0.0014 || scene disc 0.6932 50.531% \n",
            "[10] rec loss: 0.0135 | sim loss: 0.0000 | anti_disc_loss: 0.0014 || scene disc 0.6933 49.281% \n",
            "[11] rec loss: 0.0133 | sim loss: 0.0000 | anti_disc_loss: 0.0014 || scene disc 0.6932 50.450% \n",
            "[12] rec loss: 0.0134 | sim loss: 0.0000 | anti_disc_loss: 0.0014 || scene disc 0.6932 49.825% \n",
            "[13] rec loss: 0.0134 | sim loss: 0.0000 | anti_disc_loss: 0.0014 || scene disc 0.6933 49.731% \n",
            "[14] rec loss: 0.0133 | sim loss: 0.0000 | anti_disc_loss: 0.0014 || scene disc 0.6933 49.388% \n",
            "[15] rec loss: 0.0134 | sim loss: 0.0000 | anti_disc_loss: 0.0014 || scene disc 0.6933 49.375% \n",
            "[16] rec loss: 0.0132 | sim loss: 0.0000 | anti_disc_loss: 0.0014 || scene disc 0.6933 49.712% \n",
            "[17] rec loss: 0.0133 | sim loss: 0.0000 | anti_disc_loss: 0.0014 || scene disc 0.6932 49.712% \n",
            "[18] rec loss: 0.0133 | sim loss: 0.0000 | anti_disc_loss: 0.0014 || scene disc 0.6932 50.263% \n",
            "[19] rec loss: 0.0133 | sim loss: 0.0000 | anti_disc_loss: 0.0014 || scene disc 0.6932 50.069% \n",
            "[20] rec loss: 0.0133 | sim loss: 0.0000 | anti_disc_loss: 0.0014 || scene disc 0.6932 50.212% \n",
            "[21] rec loss: 0.0132 | sim loss: 0.0000 | anti_disc_loss: 0.0014 || scene disc 0.6932 49.938% \n",
            "[22] rec loss: 0.0133 | sim loss: 0.0000 | anti_disc_loss: 0.0014 || scene disc 0.6932 50.169% \n",
            "[23] rec loss: 0.0132 | sim loss: 0.0000 | anti_disc_loss: 0.0014 || scene disc 0.6932 49.675% \n",
            "[24] rec loss: 0.0132 | sim loss: 0.0000 | anti_disc_loss: 0.0014 || scene disc 0.6933 49.663% \n",
            "[25] rec loss: 0.0132 | sim loss: 0.0000 | anti_disc_loss: 0.0014 || scene disc 0.6932 49.769% \n",
            "[26] rec loss: 0.0131 | sim loss: 0.0000 | anti_disc_loss: 0.0014 || scene disc 0.6932 50.312% \n",
            "[27] rec loss: 0.0130 | sim loss: 0.0000 | anti_disc_loss: 0.0014 || scene disc 0.6932 49.631% \n",
            "[28] rec loss: 0.0132 | sim loss: 0.0000 | anti_disc_loss: 0.0014 || scene disc 0.6929 50.856% \n",
            "[29] rec loss: 0.0131 | sim loss: 0.0000 | anti_disc_loss: 0.0014 || scene disc 0.6933 50.188% \n",
            "[30] rec loss: 0.0131 | sim loss: 0.0000 | anti_disc_loss: 0.0014 || scene disc 0.6931 50.669% \n",
            "[31] rec loss: 0.0130 | sim loss: 0.0000 | anti_disc_loss: 0.0014 || scene disc 0.6932 49.919% \n",
            "[32] rec loss: 0.0131 | sim loss: 0.0000 | anti_disc_loss: 0.0014 || scene disc 0.6932 50.000% \n",
            "[33] rec loss: 0.0130 | sim loss: 0.0000 | anti_disc_loss: 0.0014 || scene disc 0.6932 49.419% \n",
            "[34] rec loss: 0.0130 | sim loss: 0.0000 | anti_disc_loss: 0.0014 || scene disc 0.6932 49.444% \n",
            "[35] rec loss: 0.0130 | sim loss: 0.0000 | anti_disc_loss: 0.0014 || scene disc 0.6932 49.587% \n",
            "[36] rec loss: 0.0129 | sim loss: 0.0000 | anti_disc_loss: 0.0014 || scene disc 0.6931 50.281% \n",
            "[37] rec loss: 0.0129 | sim loss: 0.0000 | anti_disc_loss: 0.0014 || scene disc 0.6932 49.900% \n",
            "[38] rec loss: 0.0129 | sim loss: 0.0000 | anti_disc_loss: 0.0014 || scene disc 0.6932 49.419% \n",
            "[39] rec loss: 0.0129 | sim loss: 0.0000 | anti_disc_loss: 0.0014 || scene disc 0.6932 49.481% \n",
            "[40] rec loss: 0.0130 | sim loss: 0.0000 | anti_disc_loss: 0.0014 || scene disc 0.6932 50.062% \n",
            "[41] rec loss: 0.0129 | sim loss: 0.0000 | anti_disc_loss: 0.0014 || scene disc 0.6932 49.837% \n",
            "[42] rec loss: 0.0129 | sim loss: 0.0000 | anti_disc_loss: 0.0014 || scene disc 0.6932 49.737% \n",
            "[43] rec loss: 0.0127 | sim loss: 0.0000 | anti_disc_loss: 0.0014 || scene disc 0.6932 49.750% \n"
          ],
          "name": "stdout"
        },
        {
          "output_type": "stream",
          "text": [
            "[44] rec loss: 0.0128 | sim loss: 0.0000 | anti_disc_loss: 0.0014 || scene disc 0.6932 50.394% \n",
            "[45] rec loss: 0.0128 | sim loss: 0.0000 | anti_disc_loss: 0.0014 || scene disc 0.6932 50.306% \n",
            "[46] rec loss: 0.0128 | sim loss: 0.0000 | anti_disc_loss: 0.0014 || scene disc 0.6932 49.244% \n",
            "[47] rec loss: 0.0127 | sim loss: 0.0000 | anti_disc_loss: 0.0014 || scene disc 0.6931 50.669% \n",
            "[48] rec loss: 0.0131 | sim loss: 0.0000 | anti_disc_loss: 0.0014 || scene disc 0.6932 49.969% \n",
            "[49] rec loss: 0.0136 | sim loss: 0.0000 | anti_disc_loss: 0.0014 || scene disc 0.6932 50.319% \n",
            "training loop done\n"
          ],
          "name": "stdout"
        }
      ]
    },
    {
      "metadata": {
        "id": "hp_41_yw0vpK",
        "colab_type": "code",
        "colab": {
          "base_uri": "https://localhost:8080/",
          "height": 34
        },
        "outputId": "d2ebc07e-2ee3-469c-d5f3-f30d7c910fc6"
      },
      "cell_type": "code",
      "source": [
        "''' BCE dynamics\n",
        "bce=lambda a,p: nn.BCELoss()(torch.tensor(a),torch.tensor(p)).numpy()\n",
        "#p= np.array([[0.5001803,  0.50018024, 0.5001803 ]])\n",
        "p = np.array([[1.0,1.0,1.0]]); a = np.array([[0.0,0.0,0.0]]); loss = bce(p,a) ; print (a,p,loss)\n",
        "p = np.array([[1.0,1.0,1.0]]); a = np.array([[1.0,0.0,0.0]]); loss = bce(p,a) ; print (a,p,loss)\n",
        "p = np.array([[1.0,1.0,0.0]]); a = np.array([[0.5,0.5,0.5]]); loss = bce(p,a) ; print (a,p,loss)\n",
        "p = np.array([[0.5,0.5,0.5]]); a = np.array([[0.5,0.5,0.5]]); loss = bce(p,a) ; print (a,p,loss)\n",
        "p = np.array([[0.6,0.4,0.5]]); a = np.array([[0.5,0.5,0.5]]); loss = bce(p,a) ; print (a,p,loss)\n",
        "\n",
        "#       -1*( y* log(p) + (1-y) log(1-p) )\n",
        "#p=0.5  -1   y* 0.693  + (1-y)* 0.693  == -0.693 (y+1-y) = -0.693\n",
        "\n",
        "#a=0.5  -1* (0.5*log(p)+ 0.5*log(1-p)) = -0.5(log(p)+log(1-p))\n",
        "'''\n",
        "1"
      ],
      "execution_count": 17,
      "outputs": [
        {
          "output_type": "execute_result",
          "data": {
            "text/plain": [
              "1"
            ]
          },
          "metadata": {
            "tags": []
          },
          "execution_count": 17
        }
      ]
    },
    {
      "metadata": {
        "id": "Sg7Ny6D4QlXE",
        "colab_type": "text"
      },
      "cell_type": "markdown",
      "source": [
        "# EVAL"
      ]
    },
    {
      "metadata": {
        "id": "8df9zoymohYU",
        "colab_type": "code",
        "colab": {
          "base_uri": "https://localhost:8080/",
          "height": 298
        },
        "outputId": "f48a1a9f-4995-4ca5-95e0-9fda5fb1acb6"
      },
      "cell_type": "code",
      "source": [
        "eval_ds=  TimePairsDataset(1e7,2)\n",
        "eval_batch_generator=iter(DataLoader(eval_ds,batch_size=3))\n",
        "x,y = next(eval_batch_generator)\n",
        "print (x.shape,y.shape)\n",
        "\n",
        "sent0 = None    # x[0] semantic0   , style0\n",
        "sent1 = x[:,1]  # x[1] semantic0   , style1 \n",
        "sent2 = x[:,2]  # x[2] semantic0orX, style0 (1/2 the time 0 , half X)\n",
        "\n",
        "h_sem = en_sem(sent1)\n",
        "h_sty = en_sty(sent2)\n",
        "p = decoder(torch.cat([h_sem,h_sty],dim=1))\n",
        "  \n",
        "for i in range(len(x)) :\n",
        "  print ('source sent. take semantics: ',eval_ds.untokenize_tokens(sent1[i]))\n",
        "  print ('target sent. take style    : ',eval_ds.untokenize_tokens(sent2[i]))\n",
        "  print ('target sent                : ',eval_ds.untokenize_tokens(p[i]))\n",
        "  print ('\\n')\n",
        "  \n",
        "  \n",
        "  \n",
        "  "
      ],
      "execution_count": 32,
      "outputs": [
        {
          "output_type": "stream",
          "text": [
            "torch.Size([3, 3, 20]) torch.Size([3, 1])\n",
            "source sent. take semantics:  Jan 01 1970 00:00:02\n",
            "target sent. take style    :  04/Apr/1970 22:51:53\n",
            "target sent                :  ;MS3EJ&1970 06:00:35\n",
            "\n",
            "\n",
            "source sent. take semantics:  Jan 01 1970 00:00:02\n",
            "target sent. take style    :  01/Jan/1970 00:00:02\n",
            "target sent                :  ;MS3EJ&1970 06:00:35\n",
            "\n",
            "\n",
            "source sent. take semantics:  Jan 01 1970 00:00:02\n",
            "target sent. take style    :  02/Feb/1970 11:32:26\n",
            "target sent                :  ;MS3EJ&1970 06:00:35\n",
            "\n",
            "\n"
          ],
          "name": "stdout"
        }
      ]
    },
    {
      "metadata": {
        "id": "GSPSoEXTgVV_",
        "colab_type": "code",
        "colab": {}
      },
      "cell_type": "code",
      "source": [
        "#from here: http://anie.me/On-Torchtext/\n",
        "from torchtext.data import Field\n",
        "import torch\n",
        "\n",
        "class SplitReversibleField(Field):\n",
        "\n",
        "    def __init__(self, untokenize_char='', **kwargs):\n",
        "        super(SplitReversibleField, self).__init__(**kwargs)\n",
        "        self.untokenize_char = untokenize_char\n",
        "        \n",
        "\n",
        "    def reverse(self, batch):\n",
        "\n",
        "        if not self.batch_first:\n",
        "            batch = batch.t()\n",
        "        with torch.cuda.device_of(batch):\n",
        "            batch = batch.tolist()\n",
        "        batch = [[self.vocab.itos[ind] for ind in ex] for ex in batch]  # denumericalize\n",
        "\n",
        "        def trim(s, t):\n",
        "            sentence = []\n",
        "            for w in s:\n",
        "                if w == t:\n",
        "                    break\n",
        "                sentence.append(w)\n",
        "            return sentence\n",
        "\n",
        "        batch = [trim(ex, self.eos_token) for ex in batch]  # trim past frst eos\n",
        "\n",
        "        def filter_special(tok):\n",
        "            return tok not in (self.init_token, self.pad_token)\n",
        "\n",
        "        batch = [filter(filter_special, ex) for ex in batch]\n",
        "        return [self.untokenize_char.join(ex) for ex in batch]"
      ],
      "execution_count": 0,
      "outputs": []
    },
    {
      "metadata": {
        "id": "sQLllWeCXlrK",
        "colab_type": "code",
        "colab": {}
      },
      "cell_type": "code",
      "source": [
        ""
      ],
      "execution_count": 0,
      "outputs": []
    },
    {
      "metadata": {
        "id": "Fx9wR-zaDxTc",
        "colab_type": "text"
      },
      "cell_type": "markdown",
      "source": [
        "# MY EncoderRNN self made buggy start of result"
      ]
    },
    {
      "metadata": {
        "id": "vAVE29Z8hgHf",
        "colab_type": "code",
        "colab": {
          "base_uri": "https://localhost:8080/",
          "height": 34
        },
        "outputId": "139999cb-22e4-48ec-c033-df4d34f4cc82"
      },
      "cell_type": "code",
      "source": [
        "import torch\n",
        "import torch.nn as nn\n",
        "%matplotlib inline\n",
        "\n",
        "sample = next(train_iter)\n",
        "device='cpu'\n",
        "'''\n",
        "class MyEncoderRNN(nn.Module):  #see https://pytorch.org/tutorials/intermediate/seq2seq_translation_tutorial.html\n",
        "    def __init__(self, vocab_size, hidden_size):\n",
        "        super(EncoderRNN, self).__init__()\n",
        "        self.hidden_size = hidden_size\n",
        "        self.embedding = nn.Embedding(vocab_size, hidden_size)\n",
        "        self.gru = nn.GRU(hidden_size, hidden_size)\n",
        "\n",
        "    def forward(self, input, hidden):\n",
        "        \"\"\" input:  1xbs :  example: 1   x 32\n",
        "            hidden: hxbs :  example: 100 x 32\n",
        "        \"\"\"\n",
        "        print ('EncoderRNN input',input.shape, 'hidden',hidden.shape)\n",
        "        assert input.shape[1]==hidden.shape[1] # batch\n",
        "        assert input.shape[0]==1\n",
        "        assert hidden.shape[0]==self.hidden_size\n",
        "        \n",
        "        \n",
        "        embedded = self.embedding(input).view(1, input.shape[1], -1)\n",
        "        print (embedded.shape)\n",
        "        output, hidden = self.gru(embedded, hidden) #input must be 3 dimension\n",
        "        return output, hidden\n",
        "\n",
        "    def init_hidden(self,batch_size):\n",
        "        return torch.zeros( 1, self.hidden_size,batch_size, device=device)  \n",
        "\n",
        "class Encoder(nn.Module):\n",
        "    def __init__(self, encoder_rnn):\n",
        "        \"\"\" wrapper around EncoderRNN running on a full sequence in one fwd pass \"\"\"\n",
        "        super(Encoder, self).__init__()\n",
        "        self.encoder_rnn = encoder_rnn\n",
        "    \n",
        "    def forward(self, input):\n",
        "        print (input.shape)\n",
        "        sen_len, batch_size = input.shape\n",
        "        h= self.encoder_rnn.init_hidden(batch_size)\n",
        "        for i in range(sen_len):\n",
        "          o,h = self.encoder_rnn(input[i:i+1], h)\n",
        "        return h\n",
        "\n",
        "\n",
        "class MyDecoderRNN(nn.Module):\n",
        "    def __init__(self, input_hidden_size, output_vocab_size):\n",
        "        super(DecoderRNN, self).__init__()\n",
        "        self.hidden_size = hidden_size\n",
        "\n",
        "        self.embedding = nn.Embedding(output_size, hidden_size)\n",
        "        self.gru = nn.GRU(hidden_size, hidden_size)\n",
        "        self.out = nn.Linear(hidden_size, output_vocab_size)\n",
        "        self.softmax = nn.LogSoftmax(dim=1)\n",
        "\n",
        "    def forward(self, input, hidden):\n",
        "        output = self.embedding(input).view(1, 1, -1)\n",
        "        output = F.relu(output)\n",
        "        output, hidden = self.gru(output, hidden)\n",
        "        output = self.softmax(self.out(output[0]))\n",
        "        return output, hidden\n",
        "\n",
        "    def initHidden(self):\n",
        "        return torch.zeros(1, 1, self.hidden_size, device=device)\n",
        "      \n",
        "      \n",
        "#decoder= MyDecoderRNN(opt.semantics_dim+opt.style_dim)   \n",
        "\n",
        "\n",
        "en_sem = Encoder(EncoderRNN(len(TEXT.vocab), opt.semantics_dim))\n",
        "en_sty = Encoder(EncoderRNN(len(TEXT.vocab), opt.style_dim))\n",
        "\n",
        "en_sem(sample.sent_0)\n",
        "'''\n",
        "1"
      ],
      "execution_count": 0,
      "outputs": [
        {
          "output_type": "execute_result",
          "data": {
            "text/plain": [
              "1"
            ]
          },
          "metadata": {
            "tags": []
          },
          "execution_count": 64
        }
      ]
    }
  ]
}