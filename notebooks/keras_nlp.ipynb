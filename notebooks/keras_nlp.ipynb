{
  "nbformat": 4,
  "nbformat_minor": 0,
  "metadata": {
    "colab": {
      "name": "keras_nlp.ipynb",
      "version": "0.3.2",
      "provenance": [],
      "collapsed_sections": [],
      "toc_visible": true,
      "include_colab_link": true
    },
    "kernelspec": {
      "name": "python3",
      "display_name": "Python 3"
    },
    "accelerator": "GPU"
  },
  "cells": [
    {
      "cell_type": "markdown",
      "metadata": {
        "id": "view-in-github",
        "colab_type": "text"
      },
      "source": [
        "[View in Colaboratory](https://colab.research.google.com/github/assaflehr/language-style-transfer/blob/master/notebooks/keras_nlp.ipynb)"
      ]
    },
    {
      "metadata": {
        "id": "vR_wGTR6szDb",
        "colab_type": "text"
      },
      "cell_type": "markdown",
      "source": [
        "## Keras accuracy/performace limitations\n",
        "\n",
        "## Pretraining autoencoder or LM will surely help.\n",
        "\n",
        "see late review here: https://thegradient.pub/author/sebastian\n",
        "and autoencoder (which is less recommended than LM here: \"Semi-supervised Sequence Learning\" 2015. They use one RNN for both encoder and decoder)\n",
        "\n",
        "\n",
        "### CuDNNLSTM vs LSTM \n",
        "The former trains very fast on GPU, but does not support the attributes: dropout,recurrent_dropout,which are the STOA regulaizers. This is cuda problem, and even native TF does not support it\n",
        "\n",
        "### Tip to self:\n",
        "* manually check loss value on one sample (predict vs gt). From doing this, I saw <s> was not given one-hot-value"
      ]
    },
    {
      "metadata": {
        "id": "OrKzdh71sBKm",
        "colab_type": "text"
      },
      "cell_type": "markdown",
      "source": [
        ""
      ]
    },
    {
      "metadata": {
        "id": "UbJwZjyhsDvP",
        "colab_type": "code",
        "colab": {}
      },
      "cell_type": "code",
      "source": [
        "# adaptation of: https://blog.keras.io/a-ten-minute-introduction-to-sequence-to-sequence-learning-in-keras.html\n",
        "# first Dataset class to load bible-data\n",
        "# then copy of the model, but working with words instead of chars"
      ],
      "execution_count": 0,
      "outputs": []
    },
    {
      "metadata": {
        "id": "wwc6_EHFD_Ir",
        "colab_type": "text"
      },
      "cell_type": "markdown",
      "source": [
        "# Dataset"
      ]
    },
    {
      "metadata": {
        "id": "PcPSCDUrx3B8",
        "colab_type": "code",
        "colab": {
          "base_uri": "https://localhost:8080/",
          "height": 670
        },
        "outputId": "87a16e76-f336-4d56-9a53-f6d1bb0709d7"
      },
      "cell_type": "code",
      "source": [
        "## NLP preprocessing for text\n",
        "# has few parts:\n",
        "# 1. load zip files and then use glob to filter part of them (data/*/*.txt)\n",
        "# 2. parse each row into (x,y) by passing a parser method. it can be simple as lambda line:line:x, or if you use tab delimited lambda line: line.split(',')[4]\n",
        "# 3. tokenize - split by spaces, but also by ., and be smart about it.  ('...' should be one token , \"ai'nt\" one token. then; should be two 'token' and ';')\n",
        "#    you should also build vocabulary, keep X words and throw away rare ones, they will be replaced by <oov> flag.\n",
        "# 4. transform text to sequences for the result. for words there are usually two different types: ['s>','hello', 'world'] -> [0,5,6] but there is also \n",
        "#     a one-hot-econding version where 5 is actaully a vector of size voc-length full of zeros, with 5th index==1.\n",
        "#    The one-hot ecoding is used as output for text-generation and has a HUGE MEMORY requirement.  100K sentences of size 20 words need 2M floats = 8MB\n",
        "#    But for the one-hot-encoding multiply this by vocab-size. for char-encoding it's ~30 , for good vocab of 10K words, we need 80GB(!)\n",
        "#    The simple, and only , way to solve this , is to never keep one-hot-encoding in memory, just use a generator to make it one-hot in runtime\n",
        "\n",
        "\n",
        "\n",
        "from __future__ import print_function\n",
        "\n",
        "import numpy as np\n",
        "import os\n",
        "import glob\n",
        "import csv, json\n",
        "from collections import namedtuple\n",
        "from zipfile import ZipFile\n",
        "from os.path import expanduser, exists\n",
        "from keras.utils.data_utils import get_file\n",
        "from keras.preprocessing.text import Tokenizer\n",
        "from keras.preprocessing.sequence import pad_sequences\n",
        "from keras.utils.data_utils import get_file\n",
        "from keras.utils import to_categorical\n",
        "from keras.preprocessing.text import Tokenizer\n",
        "from keras.preprocessing.sequence import pad_sequences\n",
        "\n",
        "\n",
        "TVT = namedtuple('TVT',['train','val','test'])\n",
        "\n",
        "class Dataset:\n",
        "  #Dataset for COPY encoder-decoder\n",
        "  # to David: generator x,y where x is batch,max-words of type integer. (            <s>   hello word)\n",
        "  #                               y is batch,max-words,one-hot-encoding (offset one: hello world <end>)\n",
        "  # tokenizer is currently very bad. replace it\n",
        "  # vocabulary (training-only) , don't use 666 , use large number (10K?)\n",
        "  \n",
        "  # Dataset2 for style, x is sentence + STYLE(one-hot-encoding of integer) , y is one hot encoding \n",
        "  \n",
        "  # Dataset3 for classifier: x is sentence + STYLE(one-hot-encoding of integer),  output: STYLE(one-hot-encoding of integer)\n",
        "  \n",
        "  \n",
        "  \n",
        "  def __init__(self,unique_name,url,extract,cache_dir,pattern,skip_first,row_parser,validation_pattern=0.1,test_pattern=0.1):\n",
        "    '''\n",
        "    unique_name will be used for the dataset source(or zip) file. \n",
        "    pattern need to include path inside zip (including zip root)\n",
        "    extract - is it zipped/tarred or not\n",
        "    cache_dir - under which the files be downloaded <cache_dir>/datasets/<unique_name>\n",
        "    pattern - glob will be done to choose only those files ,for example data*.txt. This should incldude both train and test\n",
        "    validation - subset glob pattern to use. If it's a float like 0.1, use it as split of one file\n",
        "    test - see above\n",
        "    '''\n",
        "    if not extract and pattern:\n",
        "      raise ValueError('pattern must be empty if extract=False chooses a subset of the files (data/*.txt). but you downloaded only one file')\n",
        "\n",
        "    if not os.path.exists(cache_dir):\n",
        "       os.makedirs(cache_dir)\n",
        "\n",
        "    fpath=get_file(unique_name, url,extract=True, cache_dir=cache_dir)\n",
        "    print ('fpath',fpath)\n",
        "    files = [fpath] if not pattern else glob.glob(f'{cache_dir}/datasets/{pattern}')\n",
        "\n",
        "    train,val,test=[],[],[]\n",
        "    for f in files:\n",
        "      lines = [row_parser(f,line.rstrip()) for line in open(f,encoding=\"latin-1\").readlines()] \n",
        "      lines = lines[1 if skip_first else 0:][:10000]\n",
        "      print ('HARDCODED MAX LINES = 10000')\n",
        "      \n",
        "      print (files,'#lines',len(lines),'first 3 lines')\n",
        "      print (lines[0],'\\n',lines[1],'\\n',lines[2])\n",
        "      \n",
        "      if isinstance(validation_pattern,float) and isinstance(test_pattern,float):\n",
        "        test_count = int(len(lines)*(1-validation_pattern))\n",
        "        val_count =  int(len(lines)*(1-test_pattern-validation_pattern))\n",
        "        print ('(val_count,test_count)',val_count,test_count)\n",
        "        train+= lines[:val_count]\n",
        "        val+=   lines[val_count:test_count]\n",
        "        test+=  lines[test_count:]\n",
        "        \n",
        "    self.tvt_lines = TVT(train, val, test)\n",
        "    print ('train:',len(self.tvt_lines.train),'val',len(self.tvt_lines.val),'test',len(self.tvt_lines.test))\n",
        "    self.parsed= self.tvt_lines\n",
        "  \n",
        "  \n",
        "  def fit(self):\n",
        "    \"\"\" the current implementation is quite bad, hello world! will be 2 tokens world! is the second. \n",
        "    \"\"\"\n",
        "    print ('limiting num_words in Tokenizer due to MEMORY BOUNDS')  #num_words =100*1000\n",
        "\n",
        "    \n",
        "    # I use here tokenizer only to count freq. of words, then manually choose most freq. and manually split\n",
        "    # this is bad. There are better ways to do it (probably library/code which do it in one line)\n",
        "    print ('\\nREPLACE ME . BAD TOKENIZER!!!')\n",
        "    self.tokenizer = Tokenizer(num_words=100000, filters='', lower=False, split=' ', char_level=False, oov_token='<oov>')\n",
        "    \n",
        "    # self.parsed.train is a list , each value is tuple text_string,file_name\n",
        "    self.tokenizer.fit_on_texts([x for x,style in self.parsed.train])\n",
        "    self.styles = set([style for x,style in self.parsed.train])\n",
        "    print ('styles',self.styles)\n",
        "    self.style2index = {style:i for i,style in enumerate(self.styles)}\n",
        "    self.index2style = {index:style for style,index in self.style2index.items() }\n",
        "    print (self.style2index,self.index2style)\n",
        "    \n",
        "    print ('\\n word_index',len(self.tokenizer.word_index),'<oov>',self.tokenizer.word_index['<oov>'])\n",
        "    print ('common',list(self.tokenizer.word_index.items())[:15])\n",
        "    print ('uncommon',list(self.tokenizer.word_index.items())[-15:])\n",
        "  \n",
        "    num_words= 2000\n",
        "    print ('keeping only ',num_words,'of',len(self.tokenizer.word_index))\n",
        "           \n",
        "           \n",
        "    word2index = dict(list(self.tokenizer.word_index.items())[:num_words-len(self.styles)-2])\n",
        "    word2index['<s>']=0  #keras tokenizer keeps 0 unused\n",
        "    for i,style in enumerate(self.styles):\n",
        "      word2index[style]=num_words-1-len(self.styles)+i  #if num_words=100 . [96,97,98] \n",
        "    word2index['<oov>']=num_words-1                   #<oov> is [99]\n",
        "    print ('word2index',len(word2index))\n",
        "    \n",
        "    #FOR NOW the start and end are both ZERO. maybe not good???\n",
        "    \n",
        "    num_encoder_tokens = num_decoder_tokens= num_words # len(self.tokenizer.word_index)\n",
        "    self.word2index = word2index\n",
        "    self.index2word = {index:word for (word,index) in self.word2index.items()}\n",
        "    self.MAX_SEQUENCE_LENGTH=10\n",
        "    \n",
        "    verbose=5\n",
        "    result = []\n",
        "    for rows in self.parsed:\n",
        "\n",
        "      encoder_input_data  = np.zeros( (len(rows), self.MAX_SEQUENCE_LENGTH),    dtype='float32')\n",
        "      decoder_input_data  = np.zeros( (len(rows), self.MAX_SEQUENCE_LENGTH),    dtype='float32') # shifted by 1\n",
        "      decoder_target_data = np.zeros((len(rows),  self.MAX_SEQUENCE_LENGTH, num_decoder_tokens),    dtype='float32')\n",
        "      style_data          = np.zeros((len(rows),  len(self.styles)),    dtype='float32') #one-hot\n",
        "      \n",
        "      #input to decoder   <s> hello world\n",
        "      #target of decoder: hello world <s>\n",
        "      \n",
        "      for i, (input_text,style) in enumerate(rows):\n",
        "        input_text = input_text.split(' ') #BUG: we need to use tokenizer here!!!!\n",
        "        #pad with end token  hello world <end> <end> <end>\n",
        "        end_token='<s>'\n",
        "        input_text += [end_token for _ in range(self.MAX_SEQUENCE_LENGTH - len(input_text)+1)]\n",
        "        if verbose:\n",
        "          print ('input_text',input_text)\n",
        "          verbose-=1\n",
        "        # out : hello  world  <end>  (MAX_SEQUENCE_LENGTH=2)  <-encoder_input+ decoder_output(but one-hot)\n",
        "        #\n",
        "        # in: : <s>   hello   world  <- decoder-input\n",
        "         \n",
        "        for t, word in enumerate(([style]+input_text)[:self.MAX_SEQUENCE_LENGTH]):\n",
        "            one_hot = word2index['<oov>'] if word not in word2index else word2index[word]\n",
        "            decoder_input_data[i, t ] = one_hot\n",
        "            \n",
        "        for t,word in enumerate(input_text[:self.MAX_SEQUENCE_LENGTH]):  #last must be <end>=<s> token\n",
        "            one_hot = word2index['<oov>'] if word not in word2index else word2index[word]\n",
        "            encoder_input_data[i,t]=one_hot\n",
        "            decoder_target_data[i, t, one_hot] = 1. \n",
        "            \n",
        "        style_data[i,self.style2index[style]]= 1\n",
        "        \n",
        "      print (decoder_target_data.sum(),len(rows)*self.MAX_SEQUENCE_LENGTH)\n",
        "      assert int(decoder_target_data.sum())==len(rows)*self.MAX_SEQUENCE_LENGTH #one-hot-encoding must always include one\n",
        "      \n",
        "      result.append( (encoder_input_data,decoder_input_data,decoder_target_data,style_data))\n",
        "\n",
        "    self.result= TVT(*result)\n",
        "\n",
        "  def one_x_as_text(self,x):\n",
        "    \"\"\" 1x20 or 20 input\"\"\"\n",
        "    if len(x.shape)==2: \n",
        "      assert x.shape[0] ==1  #can only work on batch of 1\n",
        "      x= x[0]\n",
        "    return ' '.join([self.index2word[index] for index in x])\n",
        "\n",
        "  def one_y_as_text(self,y):\n",
        "    \"\"\" 1x20x2000 or 20x2000 input, in case of first will work on y[0]\"\"\"\n",
        "    if len(y.shape)==3: \n",
        "      assert y.shape[0] ==1  #can only work on batch of 1\n",
        "      y=y[0]\n",
        "      \n",
        "    best_token = np.argmax(y,1)\n",
        "    return ' '.join([self.index2word[index] for index in best_token])\n",
        "\n",
        "  \n",
        "cache_dir='cache' \n",
        "#dataset('quora_dups','http://qim.ec.quoracdn.net/quora_duplicate_questions.tsv',False,cache_dir) \n",
        "#dataset('bible4','https://codeload.github.com/keithecarlson/Zero-Shot-Style-Transfer/zip/master',extract=True,cache_dir=cache_dir\n",
        "#       pattern=('Zero-Shot-Style-Transfer-master/Data/Bibles/ASV/*/*.txt','Zero-Shot-Style-Transfer-master/Data/Bibles/BBE/*/*.txt')\n",
        "\n",
        "row_parser= lambda file_name,line: (line.split(',')[4],file_name.split('/')[-1]) #map x to x,style_file\n",
        "dataset = Dataset('bible_csv','https://codeload.github.com/ashual/style-transfer/zip/master',extract=True,cache_dir=cache_dir,\n",
        "                  #,t_bbe,BBE,english,Bible in Basic English,,http://en.wikipedia.org/wiki/Bible_in_Basic_English,,Public Domain,\n",
        "                  #,t_dby,DARBY,english,Darby English Bible,,http://en.wikipedia.org/wiki/Darby_Bible,,Public Domain,\n",
        "                  #,t_kjv,KJV,english,King James Version,,http://en.wikipedia.org/wiki/King_James_Version,,Public Domain,\n",
        "                  pattern='style-transfer-master/datasets/bible-corpus/t_[kb]*.csv',skip_first=True,row_parser=row_parser)    #kbd\n",
        "dataset.fit()        \n",
        "x_train, x_train_d, y_train,style_train = dataset.result.train\n",
        "x_val, x_val_d,y_val ,style_val= dataset.result.val\n",
        "x_test,x_test_d,y_test ,style_test= dataset.result.test\n",
        "\n",
        "print ('train',x_train.shape,x_train_d.shape,y_train.shape,style_train.shape)\n",
        "print('val',x_val.shape,y_val.shape)\n",
        "print ('train in MB x,y',x_train.nbytes/1e6,y_train.nbytes/1e6)\n"
      ],
      "execution_count": 185,
      "outputs": [
        {
          "output_type": "stream",
          "text": [
            "fpath cache/datasets/bible_csv\n",
            "HARDCODED MAX LINES = 10000\n",
            "['cache/datasets/style-transfer-master/datasets/bible-corpus/t_bbe.csv', 'cache/datasets/style-transfer-master/datasets/bible-corpus/t_kjv.csv'] #lines 10000 first 3 lines\n",
            "('At the first God made the heaven and the earth.', 't_bbe.csv') \n",
            " ('And the earth was waste and without form; and it was dark on the face of the deep: and the Spirit of God was moving on the face of the waters.', 't_bbe.csv') \n",
            " ('\"And God said', 't_bbe.csv')\n",
            "(val_count,test_count) 8000 9000\n",
            "HARDCODED MAX LINES = 10000\n",
            "['cache/datasets/style-transfer-master/datasets/bible-corpus/t_bbe.csv', 'cache/datasets/style-transfer-master/datasets/bible-corpus/t_kjv.csv'] #lines 10000 first 3 lines\n",
            "('In the beginning God created the heaven and the earth.', 't_kjv.csv') \n",
            " ('\"And the earth was without form', 't_kjv.csv') \n",
            " ('\"And God said', 't_kjv.csv')\n",
            "(val_count,test_count) 8000 9000\n",
            "train: 16000 val 2000 test 2000\n",
            "limiting num_words in Tokenizer due to MEMORY BOUNDS\n",
            "\n",
            "REPLACE ME . BAD TOKENIZER!!!\n",
            "styles {'t_bbe.csv', 't_kjv.csv'}\n",
            "{'t_bbe.csv': 0, 't_kjv.csv': 1} {0: 't_bbe.csv', 1: 't_kjv.csv'}\n",
            "\n",
            " word_index 7328 <oov> 7328\n",
            "common [('the', 1), ('of', 2), ('\"And', 3), ('to', 4), ('and', 5), ('in', 6), ('said', 7), ('he', 8), ('his', 9), ('a', 10), ('for', 11), ('unto', 12), ('be', 13), ('shall', 14), ('that', 15)]\n",
            "uncommon [('Jezreel;', 7314), ('anointed:', 7315), ('cruse', 7316), ('bolster;', 7317), ('faithfulness;', 7318), ('Gath:', 7319), ('disguised', 7320), ('obeyedst', 7321), ('straightway', 7322), ('distressed;', 7323), ('invasion', 7324), ('twilight', 7325), ('recovered', 7326), ('rescued', 7327), ('<oov>', 7328)]\n",
            "keeping only  2000 of 7328\n",
            "word2index 2000\n",
            "input_text ['At', 'the', 'first', 'God', 'made', 'the', 'heaven', 'and', 'the', 'earth.', '<s>']\n",
            "input_text ['And', 'the', 'earth', 'was', 'waste', 'and', 'without', 'form;', 'and', 'it', 'was', 'dark', 'on', 'the', 'face', 'of', 'the', 'deep:', 'and', 'the', 'Spirit', 'of', 'God', 'was', 'moving', 'on', 'the', 'face', 'of', 'the', 'waters.']\n",
            "input_text ['\"And', 'God', 'said', '<s>', '<s>', '<s>', '<s>', '<s>', '<s>', '<s>', '<s>']\n",
            "input_text ['\"And', 'God', '<s>', '<s>', '<s>', '<s>', '<s>', '<s>', '<s>', '<s>', '<s>']\n",
            "input_text ['\"Naming', 'the', 'light', '<s>', '<s>', '<s>', '<s>', '<s>', '<s>', '<s>', '<s>']\n",
            "160000.0 160000\n",
            "20000.0 20000\n",
            "20000.0 20000\n",
            "train (16000, 10) (16000, 10) (16000, 10, 2000) (16000, 2)\n",
            "val (2000, 10) (2000, 10, 2000)\n",
            "train in MB x,y 0.64 1280.0\n"
          ],
          "name": "stdout"
        }
      ]
    },
    {
      "metadata": {
        "id": "9GT06VNk7vSN",
        "colab_type": "code",
        "colab": {}
      },
      "cell_type": "code",
      "source": [
        "#!head -50 cache/datasets/style-transfer-master/datasets/bible-corpus/bible_version_key.csv\n",
        "#!ls -lh cache/datasets/style-transfer-master/datasets/bible-corpus\n",
        "#!head -5 cache/datasets/style-transfer-master/datasets/bible-corpus/t_kjv.csv\n",
        "#!head -5 cache/datasets/style-transfer-master/datasets/bible-corpus/t_bbe.csv\n",
        "#!head -5 cache/datasets/style-transfer-master/datasets/bible-corpus/t_dby.csv\n",
        "\n"
      ],
      "execution_count": 0,
      "outputs": []
    },
    {
      "metadata": {
        "id": "S_v9vKqIcTn6",
        "colab_type": "code",
        "colab": {
          "base_uri": "https://localhost:8080/",
          "height": 246
        },
        "outputId": "c31f9d23-3859-46b8-cf62-71fcbe0dbd1e"
      },
      "cell_type": "code",
      "source": [
        "#show a sample of x_train\n",
        "for i in range(1150,1152):\n",
        "  print ('\\ntokens  :' , x_train_d[i])\n",
        "  print ('as words:',[dataset.index2word[index] for index in x_train_d[i] ])\n",
        "  print ('original:',dataset.parsed.train[i][0].split(' '))\n",
        "  print (dataset.one_x_as_text(x_train_d[i]))\n",
        "  print (dataset.one_y_as_text(y_train[i]))"
      ],
      "execution_count": 186,
      "outputs": [
        {
          "output_type": "stream",
          "text": [
            "\n",
            "tokens  : [1997.   80.  116.   20.  176.  121.    4.  759.    5. 1999.]\n",
            "as words: ['t_bbe.csv', '\"Now', 'Joseph', 'was', 'taken', 'down', 'to', 'Egypt;', 'and', '<oov>']\n",
            "original: ['\"Now', 'Joseph', 'was', 'taken', 'down', 'to', 'Egypt;', 'and', 'Potiphar', 'the', 'Egyptian']\n",
            "t_bbe.csv \"Now Joseph was taken down to Egypt; and <oov>\n",
            "\"Now Joseph was taken down to Egypt; and <oov> the\n",
            "\n",
            "tokens  : [1.997e+03 3.000e+00 1.000e+00 2.400e+01 2.000e+01 2.800e+01 1.160e+02\n",
            " 0.000e+00 0.000e+00 0.000e+00]\n",
            "as words: ['t_bbe.csv', '\"And', 'the', 'Lord', 'was', 'with', 'Joseph', '<s>', '<s>', '<s>']\n",
            "original: ['\"And', 'the', 'Lord', 'was', 'with', 'Joseph']\n",
            "t_bbe.csv \"And the Lord was with Joseph <s> <s> <s>\n",
            "\"And the Lord was with Joseph <s> <s> <s> <s>\n"
          ],
          "name": "stdout"
        }
      ]
    },
    {
      "metadata": {
        "id": "BWVEcaeF6DBR",
        "colab_type": "text"
      },
      "cell_type": "markdown",
      "source": [
        "# Model defintion\n"
      ]
    },
    {
      "metadata": {
        "id": "8ceIddxbqWdD",
        "colab_type": "text"
      },
      "cell_type": "markdown",
      "source": [
        ""
      ]
    },
    {
      "metadata": {
        "id": "kqkLdFGl0FMB",
        "colab_type": "code",
        "colab": {
          "base_uri": "https://localhost:8080/",
          "height": 439
        },
        "outputId": "682ae052-3bfe-4709-e045-3071f813917c"
      },
      "cell_type": "code",
      "source": [
        "from keras.models import Model\n",
        "from keras.layers import Input, LSTM, Dense, Embedding,CuDNNLSTM,Bidirectional,Concatenate,Dropout\n",
        "\n",
        "# size of tokenizer indexes\n",
        "\n",
        "num_decoder_tokens = num_encoder_tokens = len(dataset.word2index) \n",
        "print (num_decoder_tokens)\n",
        "\n",
        "embedding_dim=300\n",
        "latent_dim = 256\n",
        "batch_size=64\n",
        "epochs=30\n",
        "\n",
        "bidi_encoder=False\n",
        "cuddlstm=True  #on bidi , diff in time is 20s vs 32 se\n",
        "\n",
        "# Define an input sequence and process it.\n",
        "encoder_inputs = Input(shape=(None,),name='encoder_inputs')\n",
        "\n",
        "shared_embedding = Embedding(num_encoder_tokens, \n",
        "                     embedding_dim, \n",
        "                     #weights=[word_embedding_matrix], if there is one\n",
        "                     #trainable=False,                            \n",
        "                     #input_length=MAX_SEQUENCE_LENGTH, if there is one\n",
        "                     )\n",
        "#see dropout disucssion: https://github.com/keras-team/keras/issues/7290. iliaschalkidis \n",
        "#Dropout(noise_shape=(batch_size, 1, features))\n",
        "x = shared_embedding(encoder_inputs) \n",
        "if (cuddlstm):\n",
        "  encoder_lstm=CuDNNLSTM(latent_dim, return_state=True)\n",
        "else:\n",
        "  print ('using LSTM with dropout!')\n",
        "  #need to tune the dropout values (maybe fast.ai tips) , just invented those value\n",
        "  encoder_lstm=LSTM(latent_dim, return_state=True,dropout=0.3,recurrent_dropout=0.3)\n",
        "if (bidi_encoder):\n",
        "  encoder_lstm=Bidirectional(encoder_lstm,merge_mode='concat')\n",
        "  x, forward_h, forward_c, backward_h, backward_c = encoder_lstm(x) #output,h1,c1,h2,c2\n",
        "  state_h = Concatenate()([forward_h, backward_h])\n",
        "  state_c = Concatenate()([forward_c, backward_c])\n",
        "else:  \n",
        "  \n",
        "  x, state_h, state_c = encoder_lstm(x)\n",
        "\n",
        "encoder_states = [state_h, state_c]\n",
        "\n",
        "# Set up the decoder, using `encoder_states` as initial state.\n",
        "decoder_inputs = Input(shape=(None,),name='decoder_inputs')\n",
        "\n",
        "decoder_latent_dim = latent_dim*2 if bidi_encoder else latent_dim #bi-di pass merge of h1+h2, c1+c2\n",
        "if (cuddlstm):\n",
        "  decoder_lstm = CuDNNLSTM(decoder_latent_dim, return_sequences=True,return_state=True) #returned state used in inference\n",
        "else:\n",
        "  decoder_lstm = LSTM(decoder_latent_dim, return_sequences=True,return_state=True)\n",
        "decoder_outputs, _, _  = decoder_lstm(shared_embedding(decoder_inputs), initial_state=encoder_states)\n",
        "decoder_dense  = Dense(num_decoder_tokens, activation='softmax',name='decoder_softmax')\n",
        "decoder_outputs = decoder_dense(decoder_outputs)\n",
        "\n",
        "# Define the model that will turn\n",
        "# `encoder_input_data` & `decoder_input_data` into `decoder_target_data`\n",
        "model = Model([encoder_inputs, decoder_inputs], decoder_outputs)\n",
        "\n",
        "# Compile & run training\n",
        "print (model.summary())\n",
        "\n",
        "\n",
        "\n",
        "\n",
        "\n",
        "\n",
        "\n",
        "# now for the INFER models (re-arrangement of the prev one)\n",
        "# Remember that the training model varaibles were:\n",
        "#                                        decoder_outputs\n",
        "#encoder   --->    encoder_states  -->   decoder_lstm  \n",
        "#shared_embedding                        shared_embeddings  \n",
        "#encoder_inputs                          decdoer_inputs                  \n",
        "encoder_model = Model(encoder_inputs, encoder_states)\n",
        "\n",
        "decoder_states_inputs = [Input(shape=(decoder_latent_dim,)), Input(shape=(decoder_latent_dim,))]\n",
        "\n",
        "decoder_outputs2, state_h, state_c = decoder_lstm(shared_embedding(decoder_inputs), initial_state=decoder_states_inputs)\n",
        "\n",
        "decoder_states = [state_h, state_c]\n",
        "decoder_outputs2 = decoder_dense(decoder_outputs2)\n",
        "\n",
        "decoder_model = Model(\n",
        "    [decoder_inputs] + decoder_states_inputs,\n",
        "    [decoder_outputs2] + decoder_states)\n",
        "\n",
        "\n",
        "\n",
        "    \n"
      ],
      "execution_count": 198,
      "outputs": [
        {
          "output_type": "stream",
          "text": [
            "2000\n",
            "__________________________________________________________________________________________________\n",
            "Layer (type)                    Output Shape         Param #     Connected to                     \n",
            "==================================================================================================\n",
            "decoder_inputs (InputLayer)     (None, None)         0                                            \n",
            "__________________________________________________________________________________________________\n",
            "encoder_inputs (InputLayer)     (None, None)         0                                            \n",
            "__________________________________________________________________________________________________\n",
            "embedding_10 (Embedding)        (None, None, 300)    600000      encoder_inputs[0][0]             \n",
            "                                                                 decoder_inputs[0][0]             \n",
            "__________________________________________________________________________________________________\n",
            "cu_dnnlstm_19 (CuDNNLSTM)       [(None, 256), (None, 571392      embedding_10[0][0]               \n",
            "__________________________________________________________________________________________________\n",
            "cu_dnnlstm_20 (CuDNNLSTM)       [(None, None, 256),  571392      embedding_10[1][0]               \n",
            "                                                                 cu_dnnlstm_19[0][1]              \n",
            "                                                                 cu_dnnlstm_19[0][2]              \n",
            "__________________________________________________________________________________________________\n",
            "decoder_softmax (Dense)         (None, None, 2000)   514000      cu_dnnlstm_20[0][0]              \n",
            "==================================================================================================\n",
            "Total params: 2,256,784\n",
            "Trainable params: 2,256,784\n",
            "Non-trainable params: 0\n",
            "__________________________________________________________________________________________________\n",
            "None\n"
          ],
          "name": "stdout"
        }
      ]
    },
    {
      "metadata": {
        "id": "S983Fs2WYshb",
        "colab_type": "code",
        "colab": {}
      },
      "cell_type": "code",
      "source": [
        ""
      ],
      "execution_count": 0,
      "outputs": []
    },
    {
      "metadata": {
        "id": "VTobPYftYvQC",
        "colab_type": "text"
      },
      "cell_type": "markdown",
      "source": [
        "##  classifier\n",
        "\n",
        "**Intro**\n",
        "\n",
        "(1) We start with regukar seq2seq is encoder->embedding->decoder and trained with reconstruction-loss\n",
        "\n",
        "(2)We can build style-discriminator where the target is to classify author-style from the sentence-embedding.\n",
        "When training it you need to freeze the encoder and decoder parts of the model, then:\n",
        "input1: sentence --freezed encoder--> embedding    (no need to run decoder)\n",
        "input2: style (one-hot)\n",
        "output: style (one-hot)  \n",
        "The discriminator can be a simple classifier (dense-based) with simple minimize cross-entropy target.\n",
        "\n",
        "(3) The smart-part: We want to train the encoder to create an embedding which will fool the discriminator.\n",
        "We will freeze the discriminator weights, and train the encoder-decoder similiarly to (1) with extra objective.\n",
        "That the loss from the discriminator will be Maximized. \n"
      ]
    },
    {
      "metadata": {
        "id": "2BIl7v9DnM5j",
        "colab_type": "code",
        "colab": {}
      },
      "cell_type": "code",
      "source": [
        "\n",
        "#### Classifier model #############################\n",
        "# works on the embedding itself\n",
        "style_concat= Concatenate()(encoder_states)\n",
        "\n",
        "a = Dropout(0.1)(style_concat)                          \n",
        "# if your inputs have shape  (batch_size, timesteps, features) and you want the dropout mask to be the same for all timesteps, you can use noise_shape=(batch_size, 1, features).\n",
        "a = Dense(100,activation='relu',name='d_dense1')(a)\n",
        "a = Dropout(0.1)(a)\n",
        "style_outputs = Dense(len(dataset.style2index),activation='softmax',name='d_dense_softmax')(a)\n",
        "\n",
        "style_classifier_model = Model(encoder_inputs,style_outputs)\n",
        "\n",
        "\n",
        "\n",
        "\n"
      ],
      "execution_count": 0,
      "outputs": []
    },
    {
      "metadata": {
        "id": "9TBO_5dXv40K",
        "colab_type": "text"
      },
      "cell_type": "markdown",
      "source": [
        "## adverserial model"
      ]
    },
    {
      "metadata": {
        "id": "owHJkiERHsG1",
        "colab_type": "code",
        "colab": {
          "base_uri": "https://localhost:8080/",
          "height": 615
        },
        "outputId": "7ffe1ba4-8bcc-4349-fccc-1960952e81ef"
      },
      "cell_type": "code",
      "source": [
        "############################# Adv model\n",
        "# Note that it does not have new layers, just combining all of them with new loss\n",
        "def inverse_categorical_crossentropy(y_true, y_pred):\n",
        "  #need to implement it better , sum(1/categorical_crossentropy_per_sample)\n",
        "  return 1/(K.categorical_crossentropy(y_true, y_pred)+0.0001)\n",
        "#style_outputs\n",
        "adv_model = Model([encoder_inputs, decoder_inputs],[decoder_outputs,style_outputs])\n",
        "\n",
        "print (adv_model.summary())\n"
      ],
      "execution_count": 201,
      "outputs": [
        {
          "output_type": "stream",
          "text": [
            "__________________________________________________________________________________________________\n",
            "Layer (type)                    Output Shape         Param #     Connected to                     \n",
            "==================================================================================================\n",
            "decoder_inputs (InputLayer)     (None, None)         0                                            \n",
            "__________________________________________________________________________________________________\n",
            "encoder_inputs (InputLayer)     (None, None)         0                                            \n",
            "__________________________________________________________________________________________________\n",
            "embedding_10 (Embedding)        (None, None, 300)    600000      encoder_inputs[0][0]             \n",
            "                                                                 decoder_inputs[0][0]             \n",
            "__________________________________________________________________________________________________\n",
            "cu_dnnlstm_19 (CuDNNLSTM)       [(None, 256), (None, 571392      embedding_10[0][0]               \n",
            "__________________________________________________________________________________________________\n",
            "concatenate_17 (Concatenate)    (None, 512)          0           cu_dnnlstm_19[0][1]              \n",
            "                                                                 cu_dnnlstm_19[0][2]              \n",
            "__________________________________________________________________________________________________\n",
            "dropout_27 (Dropout)            (None, 512)          0           concatenate_17[0][0]             \n",
            "__________________________________________________________________________________________________\n",
            "d_dense1 (Dense)                (None, 100)          51300       dropout_27[0][0]                 \n",
            "__________________________________________________________________________________________________\n",
            "cu_dnnlstm_20 (CuDNNLSTM)       [(None, None, 256),  571392      embedding_10[1][0]               \n",
            "                                                                 cu_dnnlstm_19[0][1]              \n",
            "                                                                 cu_dnnlstm_19[0][2]              \n",
            "__________________________________________________________________________________________________\n",
            "dropout_28 (Dropout)            (None, 100)          0           d_dense1[0][0]                   \n",
            "__________________________________________________________________________________________________\n",
            "decoder_softmax (Dense)         (None, None, 2000)   514000      cu_dnnlstm_20[0][0]              \n",
            "__________________________________________________________________________________________________\n",
            "d_dense_softmax (Dense)         (None, 2)            202         dropout_28[0][0]                 \n",
            "==================================================================================================\n",
            "Total params: 2,308,286\n",
            "Trainable params: 2,308,286\n",
            "Non-trainable params: 0\n",
            "__________________________________________________________________________________________________\n",
            "None\n"
          ],
          "name": "stdout"
        }
      ]
    },
    {
      "metadata": {
        "id": "YjI-3lfJv62T",
        "colab_type": "code",
        "colab": {
          "base_uri": "https://localhost:8080/",
          "height": 582
        },
        "outputId": "d6dd90f4-c447-4425-e8b0-8581593bbdf5"
      },
      "cell_type": "code",
      "source": [
        "# compile it all\n",
        "def print_trainable(model):\n",
        "  for layer in model.layers:\n",
        "    print (layer.name,layer,layer.trainable)\n",
        "    \n",
        "\n",
        "def set_trainable(model,trainable) :\n",
        "  \"\"\" set all layers of the model (ignores Input) to trainable True/False\"\"\"\n",
        "  for layer in model.layers:\n",
        "    if type(layer)==keras.engine.topology.InputLayer:\n",
        "      pass\n",
        "    else:\n",
        "      layer.trainable = trainable \n",
        "\n",
        "######################################3\n",
        "#compile all, set trainable parts (as keras hold it before compilation)\n",
        "set_trainable(d,model)    \n",
        "model.compile(optimizer='adam', loss='categorical_crossentropy')  #30peocs loss: 0.2836 - val_loss: 0.4428\n",
        "print ('\\nmodel compiled with:')\n",
        "print_trainable(model)\n",
        "\n",
        "\n",
        "# when training d, the encoder should not change.\n",
        "# impl. detail: instead of choose layers one by one, we first set all d True then override part with False\n",
        "set_trainable(d,True)    \n",
        "set_trainable(encoder_model,False) #setting it back(it's parts of d)\n",
        "d.compile(optimizer='adam', loss='categorical_crossentropy')\n",
        "print ('\\nd compiled with:')\n",
        "print_trainable(d)\n",
        "\n",
        "# when training adv_model, the decoder should not change\n",
        "set_trainable(d,False)\n",
        "set_trainable(model,True)\n",
        "adv_model.compile(optimizer='adam', \n",
        "                  loss=['categorical_crossentropy',inverse_categorical_crossentropy],\n",
        "                  loss_weights=[1, 10])\n",
        "print ('\\nadv compiled with:')\n",
        "print_trainable(adv_model)\n"
      ],
      "execution_count": 255,
      "outputs": [
        {
          "output_type": "stream",
          "text": [
            "\n",
            "model compiled with:\n",
            "decoder_inputs <keras.engine.topology.InputLayer object at 0x7f2e2afeda20> False\n",
            "encoder_inputs <keras.engine.topology.InputLayer object at 0x7f2e2afedfd0> False\n",
            "embedding_10 <keras.layers.embeddings.Embedding object at 0x7f2e2afede10> <keras.engine.training.Model object at 0x7f2ec7322be0>\n",
            "cu_dnnlstm_19 <keras.layers.cudnn_recurrent.CuDNNLSTM object at 0x7f2e2afeda90> <keras.engine.training.Model object at 0x7f2ec7322be0>\n",
            "cu_dnnlstm_20 <keras.layers.cudnn_recurrent.CuDNNLSTM object at 0x7f2e2b1fb7b8> True\n",
            "decoder_softmax <keras.layers.core.Dense object at 0x7f2e2b14ff98> True\n",
            "\n",
            "d compiled with:\n",
            "encoder_inputs <keras.engine.topology.InputLayer object at 0x7f2e2afedfd0> False\n",
            "embedding_10 <keras.layers.embeddings.Embedding object at 0x7f2e2afede10> False\n",
            "cu_dnnlstm_19 <keras.layers.cudnn_recurrent.CuDNNLSTM object at 0x7f2e2afeda90> False\n",
            "concatenate_16 <keras.layers.merge.Concatenate object at 0x7f2ec809c8d0> True\n",
            "dropout_25 <keras.layers.core.Dropout object at 0x7f2ec82a8080> True\n",
            "d_dense1 <keras.layers.core.Dense object at 0x7f2e2ae9c080> True\n",
            "dropout_26 <keras.layers.core.Dropout object at 0x7f2e2b2d7048> True\n",
            "d_dense_softmax <keras.layers.core.Dense object at 0x7f2ec809c3c8> True\n",
            "\n",
            "adv compiled with:\n",
            "decoder_inputs <keras.engine.topology.InputLayer object at 0x7f2e2afeda20> False\n",
            "encoder_inputs <keras.engine.topology.InputLayer object at 0x7f2e2afedfd0> False\n",
            "embedding_10 <keras.layers.embeddings.Embedding object at 0x7f2e2afede10> True\n",
            "cu_dnnlstm_19 <keras.layers.cudnn_recurrent.CuDNNLSTM object at 0x7f2e2afeda90> True\n",
            "concatenate_17 <keras.layers.merge.Concatenate object at 0x7f2e2b1fb2b0> True\n",
            "dropout_27 <keras.layers.core.Dropout object at 0x7f2e2b1fb278> True\n",
            "d_dense1 <keras.layers.core.Dense object at 0x7f2e2b1fb400> True\n",
            "cu_dnnlstm_20 <keras.layers.cudnn_recurrent.CuDNNLSTM object at 0x7f2e2b1fb7b8> True\n",
            "dropout_28 <keras.layers.core.Dropout object at 0x7f2e2b1fb320> True\n",
            "decoder_softmax <keras.layers.core.Dense object at 0x7f2e2b14ff98> True\n",
            "d_dense_softmax <keras.layers.core.Dense object at 0x7f2ec7a3ee80> True\n"
          ],
          "name": "stdout"
        }
      ]
    },
    {
      "metadata": {
        "id": "_ZC94QpK1bcw",
        "colab_type": "code",
        "colab": {}
      },
      "cell_type": "code",
      "source": [
        "max_decoder_seq_length=dataset.MAX_SEQUENCE_LENGTH\n",
        "\n",
        "\n",
        "def decode_sequence(input_seq,style,verbose=False):\n",
        "    assert input_seq.shape == (1, max_decoder_seq_length )\n",
        "    if verbose: print ('input_seq',input_seq.shape)\n",
        "    # Encode the input as state vectors.\n",
        "    states_value = encoder_model.predict(input_seq)\n",
        "    if verbose: print ('encoder result states_value','h',states_value[0].shape,states_value[0].mean(),'c',states_value[1].shape,states_value[1].mean())\n",
        "    \n",
        "    # Generate empty target sequence of length 1.\n",
        "    #                      batch,word-number value is token (0 /122)\n",
        "    target_seq = np.zeros((1, 1))\n",
        "    # Populate the first character of target sequence with the start character.\n",
        "    target_seq[0, 0] = dataset.word2index[style]\n",
        "\n",
        "    # Sampling loop for a batch of sequences\n",
        "    # (to simplify, here we assume a batch of size 1).\n",
        "    stop_condition = False\n",
        "    decoded_sentence = []\n",
        "    while not stop_condition:\n",
        "        #start with encoder-state then change to self state\n",
        "        output_tokens, h, c = decoder_model.predict( [target_seq] + states_value) \n",
        "        if verbose: print ('output_tokens',output_tokens.shape,output_tokens.mean(),'h',h.shape,'c',c.shape)\n",
        "\n",
        "        # Sample a token\n",
        "        sampled_token_index = np.argmax(output_tokens)# [0, -1, :])\n",
        "        if verbose: print ('sampled_token_index',sampled_token_index.shape,output_tokens.max(),sampled_token_index)\n",
        "        decoded_sentence.append(sampled_token_index)\n",
        "\n",
        "        # Exit condition: either hit max length\n",
        "        # or find stop character.\n",
        "        if (sampled_token_index == dataset.word2index['<s>'] or\n",
        "           len(decoded_sentence) > max_decoder_seq_length):\n",
        "          stop_condition = True\n",
        "\n",
        "        # Update the target sequence (of length 1).\n",
        "        target_seq = np.zeros((1, 1))\n",
        "        target_seq[0, 0] = sampled_token_index\n",
        "\n",
        "        # Update states\n",
        "        states_value = [h, c]\n",
        "\n",
        "    res= np.array(decoded_sentence) #[dataset.index2word[index] for index in decoded_sentence]\n",
        "    return res\n",
        "\n",
        "    "
      ],
      "execution_count": 0,
      "outputs": []
    },
    {
      "metadata": {
        "id": "9s0-8EJi6AG1",
        "colab_type": "text"
      },
      "cell_type": "markdown",
      "source": [
        "# TRAINING"
      ]
    },
    {
      "metadata": {
        "id": "0_0G8_Dr2bMM",
        "colab_type": "code",
        "colab": {}
      },
      "cell_type": "code",
      "source": [
        "import keras\n",
        "from keras.callbacks import ReduceLROnPlateau\n",
        "class LossHistory(keras.callbacks.Callback):\n",
        "    def __init__(self):\n",
        "      self.losses = {'loss':[],'val_loss':[]}\n",
        "      \n",
        "    #def on_train_begin(self, logs={}):\n",
        "    #  pass  \n",
        "    \n",
        "    def on_epoch_end(self, batch, logs={}):\n",
        "      for loss in ['loss','val_loss']:\n",
        "        self.losses[loss].append(logs.get(loss))\n",
        "        \n",
        "        \n",
        "\n",
        "\n",
        "loss_history = LossHistory()\n",
        "loss_history_d = LossHistory()\n",
        "loss_history_adv = LossHistory()\n",
        "\n"
      ],
      "execution_count": 0,
      "outputs": []
    },
    {
      "metadata": {
        "id": "Sm05AY862pem",
        "colab_type": "code",
        "colab": {
          "base_uri": "https://localhost:8080/",
          "height": 230
        },
        "outputId": "9c908d46-beab-4a63-9122-09e3a28b0e55"
      },
      "cell_type": "code",
      "source": [
        "from keras import backend as K\n",
        "\n",
        "\n",
        "def train_g(epochs):\n",
        "    model.fit([x_train, x_train_d], y_train,\n",
        "            batch_size=batch_size,\n",
        "            epochs=epochs,\n",
        "            #verbose=2,\n",
        "            validation_data=([x_val, x_val_d], y_val),callbacks=[loss_history,\n",
        "                                                                #ReduceLROnPlateau(monitor='val_loss', factor=0.2, patience=2, verbose=1, mode='auto', min_delta=0.0001, cooldown=3)\n",
        "                                                                ])\n",
        "def train_d(epochs):\n",
        "  # check wieghts\n",
        "  d.trainable = True  #only for warning\n",
        "  d.fit(x_train, style_train,\n",
        "            batch_size=batch_size,\n",
        "            epochs=epochs,\n",
        "            #verbose=2,\n",
        "            validation_data=(x_val,style_val),\n",
        "            callbacks=[loss_history_d,\n",
        "            #ReduceLROnPlateau(monitor='val_loss', factor=0.2, patience=2, verbose=1, mode='auto', min_delta=0.0001, cooldown=3)\n",
        "              ])\n",
        "  d.trainable = False  #only for warning\n",
        "\n",
        "  \n",
        "def train_adv(epochs):\n",
        "  adv_model.fit([x_train, x_train_d], [y_train,style_train],\n",
        "            batch_size=batch_size,\n",
        "            #verbose=2,\n",
        "            epochs=epochs,\n",
        "            validation_data=([x_val, x_val_d], [y_val,style_val]),callbacks=[loss_history_adv])\n",
        "\n",
        "\n",
        "  \n",
        "\n",
        "def print_d_mean():\n",
        "  print(d.get_layer('d_dense_softmax').get_weights()[0].mean(),'b',d.get_layer('d_dense_softmax').get_weights()[1].mean())\n",
        "\n",
        "'''\n",
        "train_g(3)\n",
        "train_d(2)\n",
        "train_g(20)\n",
        "train_adv(10)\n",
        "train_d(10)\n",
        "'''  \n",
        "train_adv(5)\n",
        "\n"
      ],
      "execution_count": 257,
      "outputs": [
        {
          "output_type": "stream",
          "text": [
            "Train on 16000 samples, validate on 2000 samples\n",
            "Epoch 1/5\n",
            "16000/16000 [==============================] - 8s 492us/step - loss: 5.4290 - decoder_softmax_loss: 0.2763 - d_dense_softmax_loss: 0.5153 - val_loss: 97.6461 - val_decoder_softmax_loss: 0.8268 - val_d_dense_softmax_loss: 9.6819\n",
            "Epoch 2/5\n",
            "16000/16000 [==============================] - 8s 480us/step - loss: 5.1784 - decoder_softmax_loss: 0.2173 - d_dense_softmax_loss: 0.4961 - val_loss: 9.9092 - val_decoder_softmax_loss: 0.9473 - val_d_dense_softmax_loss: 0.8962\n",
            "Epoch 3/5\n",
            " 4032/16000 [======>.......................] - ETA: 5s - loss: 5.8089 - decoder_softmax_loss: 0.2759 - d_dense_softmax_loss: 0.5533"
          ],
          "name": "stdout"
        },
        {
          "output_type": "stream",
          "text": [
            "16000/16000 [==============================] - 8s 487us/step - loss: 5.4386 - decoder_softmax_loss: 0.2505 - d_dense_softmax_loss: 0.5188 - val_loss: 75.4238 - val_decoder_softmax_loss: 0.8276 - val_d_dense_softmax_loss: 7.4596\n",
            "Epoch 4/5\n",
            "16000/16000 [==============================] - 8s 481us/step - loss: 4.8399 - decoder_softmax_loss: 0.1871 - d_dense_softmax_loss: 0.4653 - val_loss: 116.6845 - val_decoder_softmax_loss: 0.8139 - val_d_dense_softmax_loss: 11.5871\n",
            "Epoch 5/5\n",
            " 8512/16000 [==============>...............] - ETA: 3s - loss: 4.3149 - decoder_softmax_loss: 0.1510 - d_dense_softmax_loss: 0.4164"
          ],
          "name": "stdout"
        },
        {
          "output_type": "stream",
          "text": [
            "16000/16000 [==============================] - 8s 477us/step - loss: 4.6668 - decoder_softmax_loss: 0.1709 - d_dense_softmax_loss: 0.4496 - val_loss: 17.8018 - val_decoder_softmax_loss: 0.9164 - val_d_dense_softmax_loss: 1.6885\n"
          ],
          "name": "stdout"
        }
      ]
    },
    {
      "metadata": {
        "id": "R_OBmX182djj",
        "colab_type": "code",
        "colab": {
          "base_uri": "https://localhost:8080/",
          "height": 294
        },
        "outputId": "8382ca64-912e-4888-a8f1-dfd9dfc9554c"
      },
      "cell_type": "code",
      "source": [
        "import matplotlib.pyplot as plt \n",
        "\n",
        "# summarize history for loss\n",
        "def plt_losses(loss_history,title):\n",
        "  plt.plot(loss_history.losses['loss'][:])\n",
        "  plt.plot(loss_history.losses['val_loss'][:])\n",
        "  plt.title(title)\n",
        "  plt.ylabel('loss')\n",
        "  plt.xlabel('epoch')\n",
        "  plt.legend(['train', 'val'], loc='upper right')\n",
        "  \n",
        "\n",
        "plt.figure(figsize=(14,4))\n",
        "plt.subplot(131) #numrows, numcols, fignum\n",
        "plt_losses(loss_history,'g loss')  \n",
        "plt.subplot(132)\n",
        "plt_losses(loss_history_d,'d loss')  \n",
        "plt.subplot(133)\n",
        "plt_losses(loss_history_adv,'adv loss') \n",
        "plt.show()\n",
        "\n"
      ],
      "execution_count": 258,
      "outputs": [
        {
          "output_type": "display_data",
          "data": {
            "image/png": "[encoded data removed]",
            "text/plain": [
              "<matplotlib.figure.Figure at 0x7f2e278b6f28>"
            ]
          },
          "metadata": {
            "tags": []
          }
        }
      ]
    },
    {
      "metadata": {
        "id": "HWiYXoTTX02f",
        "colab_type": "code",
        "colab": {
          "base_uri": "https://localhost:8080/",
          "height": 897
        },
        "outputId": "0fa23830-7806-4778-b767-eb3c190be9de"
      },
      "cell_type": "code",
      "source": [
        ""
      ],
      "execution_count": 97,
      "outputs": [
        {
          "output_type": "stream",
          "text": [
            "[[1. 0.]\n",
            " [1. 0.]\n",
            " [1. 0.]\n",
            " [1. 0.]\n",
            " [1. 0.]\n",
            " [1. 0.]\n",
            " [1. 0.]\n",
            " [1. 0.]\n",
            " [1. 0.]\n",
            " [1. 0.]]\n",
            "\n",
            "gold  x:  ['At', 'the', 'first', 'God', 'made', 'the', 'heaven', 'and', 'the', 'earth.']\n",
            "gold_styl: ['t_bbe.csv', 'At', 'the', 'first', 'God', 'made', 'the', 'heaven', 'and', 'the']\n",
            "gold y:  ['At', 'the', 'first', 'God', 'made', 'the', 'heaven', 'and', 'the', 'earth.']\n",
            "actual y: ['At', 'the', 'first', 'God', 'made', 'the', 'heaven', 'and', 'the', 'earth.', 'cry']\n",
            "\n",
            "gold  x:  ['In', 'the', '<oov>', 'God', 'created', 'the', 'heaven', 'and', 'the', 'earth.']\n",
            "gold_styl: ['t_kjv.csv', 'In', 'the', '<oov>', 'God', 'created', 'the', 'heaven', 'and', 'the']\n",
            "gold y:  ['In', 'the', '<oov>', 'God', 'created', 'the', 'heaven', 'and', 'the', 'earth.']\n",
            "actual y: ['In', 'the', '<oov>', 'God', 'created', 'the', 'heaven', 'and', 'the', 'earth.', 'relation']\n",
            "\n",
            "gold  x:  ['And', 'the', 'earth', 'was', 'waste', 'and', 'without', '<oov>', 'and', 'it']\n",
            "gold_styl: ['t_bbe.csv', 'And', 'the', 'earth', 'was', 'waste', 'and', 'without', '<oov>', 'and']\n",
            "gold y:  ['And', 'the', 'earth', 'was', 'waste', 'and', 'without', '<oov>', 'and', 'it']\n",
            "actual y: ['And', 'the', 'earth', 'was', 'waste', 'and', 'without', '<oov>', 'and', 'it', '<oov>']\n",
            "\n",
            "gold  x:  ['\"And', 'the', 'earth', 'was', 'without', '<oov>', '<s>', '<s>', '<s>', '<s>']\n",
            "gold_styl: ['t_kjv.csv', '\"And', 'the', 'earth', 'was', 'without', '<oov>', '<s>', '<s>', '<s>']\n",
            "gold y:  ['\"And', 'the', 'earth', 'was', 'without', '<oov>', '<s>', '<s>', '<s>', '<s>']\n",
            "actual y: ['\"And', 'the', 'earth', 'was', 'without', '<oov>', '<s>']\n",
            "\n",
            "gold  x:  ['\"Then', 'Hamor', 'and', 'Shechem', '<s>', '<s>', '<s>', '<s>', '<s>', '<s>']\n",
            "gold_styl: ['t_bbe.csv', '\"Then', 'Hamor', 'and', 'Shechem', '<s>', '<s>', '<s>', '<s>', '<s>']\n",
            "gold y:  ['\"Then', 'Hamor', 'and', 'Shechem', '<s>', '<s>', '<s>', '<s>', '<s>', '<s>']\n",
            "actual y: ['\"Then', 'Hamor', 'and', 'Shechem', '<s>']\n",
            "\n",
            "gold  x:  ['\"And', 'Hamor', 'and', 'Shechem', 'his', 'son', 'came', 'unto', 'the', 'gate']\n",
            "gold_styl: ['t_kjv.csv', '\"And', 'Hamor', 'and', 'Shechem', 'his', 'son', 'came', 'unto', 'the']\n",
            "gold y:  ['\"And', 'Hamor', 'and', 'Shechem', 'his', 'son', 'came', 'unto', 'the', 'gate']\n",
            "actual y: ['\"And', 'Hamor', 'and', 'Shechem', 'his', 'son', 'came', 'unto', 'the', 'gate', 'of']\n",
            "\n",
            "gold  x:  ['\"It', 'is', 'the', 'desire', 'of', 'these', 'men', 'to', 'be', 'at']\n",
            "gold_styl: ['t_bbe.csv', '\"It', 'is', 'the', 'desire', 'of', 'these', 'men', 'to', 'be']\n",
            "gold y:  ['\"It', 'is', 'the', 'desire', 'of', 'these', 'men', 'to', 'be', 'at']\n",
            "actual y: ['\"It', 'is', 'the', 'desire', 'of', 'these', 'men', 'to', 'be', 'at', 'the']\n",
            "\n",
            "gold  x:  ['\"These', 'men', 'are', '<oov>', 'with', 'us;', 'therefore', 'let', 'them', 'dwell']\n",
            "gold_styl: ['t_kjv.csv', '\"These', 'men', 'are', '<oov>', 'with', 'us;', 'therefore', 'let', 'them']\n",
            "gold y:  ['\"These', 'men', 'are', '<oov>', 'with', 'us;', 'therefore', 'let', 'them', 'dwell']\n",
            "actual y: ['\"These', 'men', 'are', '<oov>', 'with', 'us;', 'therefore', 'let', 'them', 'dwell', '<s>']\n"
          ],
          "name": "stdout"
        }
      ]
    },
    {
      "metadata": {
        "id": "I2NGxSQb2dxD",
        "colab_type": "code",
        "colab": {
          "base_uri": "https://localhost:8080/",
          "height": 378
        },
        "outputId": "c9fcbba8-8e48-459e-d563-934d3e977955"
      },
      "cell_type": "code",
      "source": [
        "#print ('eval on train:',model.evaluate([x_train, x_train_d], y_train))\n",
        "#print ('eval on val:',model.evaluate([x_val, x_val_d], y_val))\n",
        "\n",
        "s=20\n",
        "e=s+1\n",
        "print ('score',model.evaluate([x_train[s:e], x_train_d[s:e]], y_train[s:e],batch_size=batch_size,verbose=0))\n",
        "\n",
        "show_sample('train',False,s) \n",
        "\n",
        "\n",
        "print ('\\n COMPARE TO VAL:\\n')\n",
        "print('score',model.evaluate([x_val[s:e], x_val_d[s:e]], y_val[s:e],batch_size=batch_size,verbose=0))\n",
        "show_sample('val',False,s) \n"
      ],
      "execution_count": 23,
      "outputs": [
        {
          "output_type": "stream",
          "text": [
            "score 0.006540380418300629\n"
          ],
          "name": "stdout"
        },
        {
          "output_type": "error",
          "ename": "TypeError",
          "evalue": "ignored",
          "traceback": [
            "\u001b[0;31m---------------------------------------------------------------------------\u001b[0m",
            "\u001b[0;31mTypeError\u001b[0m                                 Traceback (most recent call last)",
            "\u001b[0;32m<ipython-input-23-67451f46e0d1>\u001b[0m in \u001b[0;36m<module>\u001b[0;34m()\u001b[0m\n\u001b[1;32m      4\u001b[0m \u001b[0mprint\u001b[0m \u001b[0;34m(\u001b[0m\u001b[0;34m'score'\u001b[0m\u001b[0;34m,\u001b[0m\u001b[0mmodel\u001b[0m\u001b[0;34m.\u001b[0m\u001b[0mevaluate\u001b[0m\u001b[0;34m(\u001b[0m\u001b[0;34m[\u001b[0m\u001b[0mx_train\u001b[0m\u001b[0;34m[\u001b[0m\u001b[0ms\u001b[0m\u001b[0;34m:\u001b[0m\u001b[0me\u001b[0m\u001b[0;34m]\u001b[0m\u001b[0;34m,\u001b[0m \u001b[0mx_train_d\u001b[0m\u001b[0;34m[\u001b[0m\u001b[0ms\u001b[0m\u001b[0;34m:\u001b[0m\u001b[0me\u001b[0m\u001b[0;34m]\u001b[0m\u001b[0;34m]\u001b[0m\u001b[0;34m,\u001b[0m \u001b[0my_train\u001b[0m\u001b[0;34m[\u001b[0m\u001b[0ms\u001b[0m\u001b[0;34m:\u001b[0m\u001b[0me\u001b[0m\u001b[0;34m]\u001b[0m\u001b[0;34m,\u001b[0m\u001b[0mbatch_size\u001b[0m\u001b[0;34m=\u001b[0m\u001b[0mbatch_size\u001b[0m\u001b[0;34m,\u001b[0m\u001b[0mverbose\u001b[0m\u001b[0;34m=\u001b[0m\u001b[0;36m0\u001b[0m\u001b[0;34m)\u001b[0m\u001b[0;34m)\u001b[0m\u001b[0;34m\u001b[0m\u001b[0m\n\u001b[1;32m      5\u001b[0m \u001b[0;34m\u001b[0m\u001b[0m\n\u001b[0;32m----> 6\u001b[0;31m \u001b[0mshow_sample\u001b[0m\u001b[0;34m(\u001b[0m\u001b[0;34m'train'\u001b[0m\u001b[0;34m,\u001b[0m\u001b[0;32mFalse\u001b[0m\u001b[0;34m,\u001b[0m\u001b[0ms\u001b[0m\u001b[0;34m)\u001b[0m\u001b[0;34m\u001b[0m\u001b[0m\n\u001b[0m\u001b[1;32m      7\u001b[0m \u001b[0;34m\u001b[0m\u001b[0m\n\u001b[1;32m      8\u001b[0m \u001b[0;34m\u001b[0m\u001b[0m\n",
            "\u001b[0;32m<ipython-input-19-7470d20ad84d>\u001b[0m in \u001b[0;36mshow_sample\u001b[0;34m(data_type, teacher_forcing, sample_ids, replace_style)\u001b[0m\n\u001b[1;32m     50\u001b[0m     \u001b[0mteacher_forcing\u001b[0m \u001b[0;34m:\u001b[0m \u001b[0mshould\u001b[0m \u001b[0mwe\u001b[0m \u001b[0msimulate\u001b[0m \u001b[0mtraining\u001b[0m \u001b[0;32mand\u001b[0m \u001b[0mfeed\u001b[0m \u001b[0mthe\u001b[0m \u001b[0minput\u001b[0m\u001b[0;34m.\u001b[0m \u001b[0mdefault\u001b[0m \u001b[0;32mFalse\u001b[0m\u001b[0;34m,\u001b[0m \u001b[0;32mas\u001b[0m \u001b[0;32mfor\u001b[0m \u001b[0mtest\u001b[0m\u001b[0;34m\u001b[0m\u001b[0m\n\u001b[1;32m     51\u001b[0m   \"\"\"\n\u001b[0;32m---> 52\u001b[0;31m   \u001b[0;32mfor\u001b[0m \u001b[0mi\u001b[0m \u001b[0;32min\u001b[0m \u001b[0msample_ids\u001b[0m\u001b[0;34m:\u001b[0m\u001b[0;34m\u001b[0m\u001b[0m\n\u001b[0m\u001b[1;32m     53\u001b[0m       \u001b[0mdata\u001b[0m\u001b[0;34m=\u001b[0m\u001b[0;34m{\u001b[0m\u001b[0;34m'train'\u001b[0m\u001b[0;34m:\u001b[0m \u001b[0mdataset\u001b[0m\u001b[0;34m.\u001b[0m\u001b[0mresult\u001b[0m\u001b[0;34m.\u001b[0m\u001b[0mtrain\u001b[0m\u001b[0;34m,\u001b[0m\u001b[0;34m'val'\u001b[0m\u001b[0;34m:\u001b[0m\u001b[0mdataset\u001b[0m\u001b[0;34m.\u001b[0m\u001b[0mresult\u001b[0m\u001b[0;34m.\u001b[0m\u001b[0mval\u001b[0m \u001b[0;34m,\u001b[0m \u001b[0;34m'test'\u001b[0m\u001b[0;34m:\u001b[0m\u001b[0mdataset\u001b[0m\u001b[0;34m.\u001b[0m\u001b[0mresult\u001b[0m\u001b[0;34m.\u001b[0m\u001b[0mtest\u001b[0m\u001b[0;34m}\u001b[0m\u001b[0;34m\u001b[0m\u001b[0m\n\u001b[1;32m     54\u001b[0m \u001b[0;34m\u001b[0m\u001b[0m\n",
            "\u001b[0;31mTypeError\u001b[0m: 'int' object is not iterable"
          ]
        }
      ]
    },
    {
      "metadata": {
        "id": "XvIkFOWy55ov",
        "colab_type": "text"
      },
      "cell_type": "markdown",
      "source": [
        "# Error analysis"
      ]
    },
    {
      "metadata": {
        "id": "Ob6kDbRUBJki",
        "colab_type": "code",
        "colab": {
          "base_uri": "https://localhost:8080/",
          "height": 862
        },
        "outputId": "58270786-998c-4c4d-d961-2d9c772c93c6"
      },
      "cell_type": "code",
      "source": [
        "\n",
        "def show_sample(data_type='val',teacher_forcing=False,sample_ids=[1000],replace_style=None):\n",
        "  \"\"\" \n",
        "    teacher_forcing : should we simulate training and feed the input. default False, as for test\n",
        "  \"\"\"\n",
        "  for i in sample_ids:\n",
        "      data={'train': dataset.result.train,'val':dataset.result.val , 'test':dataset.result.test}\n",
        "      \n",
        "      print ('\\n')\n",
        "      one_x= data[data_type][0][i:i+1]\n",
        "\n",
        "      one_x_d= data[data_type][1][i:i+1]\n",
        "      if replace_style:\n",
        "        if dataset.index2word[one_x_d[0,0]]==replace_style:\n",
        "           print ('No need to replace style, already in',replace_style)\n",
        "        style_as_text = replace_style\n",
        "        one_x_d= np.copy(one_x_d)\n",
        "        one_x_d[0,0]=dataset.word2index[replace_style]\n",
        "      else:\n",
        "        style_as_text = dataset.index2word[one_x_d[0][0]]\n",
        "        \n",
        "      one_y= data[data_type][2][i:i+1]\n",
        "      if one_x.shape[0]==0:\n",
        "        print ('sample out of range',data[data_type][0].shape)\n",
        "      print ('gold  x: ',dataset.one_x_as_text(one_x))\n",
        "      #internal debug print ('gold_styl:',dataset.one_x_as_text(one_x_d))\n",
        "      #internal debug print ('gold y: ',dataset.one_y_as_text(one_y))\n",
        "      \n",
        "      \n",
        "      if teacher_forcing:\n",
        "        p = model.predict([one_x,one_x_d])\n",
        "        print ('actual y:',dataset.one_y_as_text(p))  \n",
        "        print ('used teacher-forcing:',one_x_d[0][0])\n",
        "      else:\n",
        "        p = decode_sequence(one_x,style_as_text)\n",
        "        print ('actual y:',dataset.one_x_as_text(p))   \n",
        "        print ('used sample:',style_as_text)\n",
        "\n",
        "\n",
        "#show_sample(data_type='train',sample_ids=[0,8000,16000])#,replace_style='t_bbe.csv')    \n",
        "#show_sample(data_type='train',sample_ids=[1,8001,16001])#,replace_style='t_bbe.csv')  \n",
        "\n",
        "\n",
        "for i in [0,1,1000,1001]:\n",
        "  print ('#'*30,'verb',i,'#'*30)\n",
        "  show_sample('train',sample_ids=[i,8000+i],teacher_forcing=True,replace_style='t_bbe.csv') "
      ],
      "execution_count": 224,
      "outputs": [
        {
          "output_type": "stream",
          "text": [
            "############################## verb 0 ##############################\n",
            "\n",
            "\n",
            "No need to replace style, already in t_bbe.csv\n",
            "gold  x:  At the first God made the heaven and the earth.\n",
            "actual y: May the first God made the people and the head\n",
            "used teacher-forcing: 1997.0\n",
            "\n",
            "\n",
            "gold  x:  In the <oov> God created the heaven and the earth.\n",
            "actual y: In the <oov> God the the earth and the Gadites\n",
            "used teacher-forcing: 1997.0\n",
            "############################## verb 1 ##############################\n",
            "\n",
            "\n",
            "No need to replace style, already in t_bbe.csv\n",
            "gold  x:  And the earth was waste and without <oov> and it\n",
            "actual y: And the earth was on and without <oov> and <oov>\n",
            "used teacher-forcing: 1997.0\n",
            "\n",
            "\n",
            "gold  x:  \"And the earth was without <oov> <s> <s> <s> <s>\n",
            "actual y: \"And the earth was like <oov> <s> <s> <s> <s>\n",
            "used teacher-forcing: 1997.0\n",
            "############################## verb 1000 ##############################\n",
            "\n",
            "\n",
            "No need to replace style, already in t_bbe.csv\n",
            "gold  x:  \"Then Hamor and Shechem <s> <s> <s> <s> <s> <s>\n",
            "actual y: \"Then Hamor and Hamor <s> <s> <s> <s> <s> <s>\n",
            "used teacher-forcing: 1997.0\n",
            "\n",
            "\n",
            "gold  x:  \"And Hamor and Shechem his son came unto the gate\n",
            "actual y: \"And Hamor and Shechem his son came unto the wilderness\n",
            "used teacher-forcing: 1997.0\n",
            "############################## verb 1001 ##############################\n",
            "\n",
            "\n",
            "No need to replace style, already in t_bbe.csv\n",
            "gold  x:  \"It is the desire of these men to be at\n",
            "actual y: \"It is the man of these men to be at\n",
            "used teacher-forcing: 1997.0\n",
            "\n",
            "\n",
            "gold  x:  \"These men are <oov> with us; therefore let them dwell\n",
            "actual y: \"These sons are <oov> with us; even let them forth\n",
            "used teacher-forcing: 1997.0\n"
          ],
          "name": "stdout"
        }
      ]
    },
    {
      "metadata": {
        "id": "TkFXxinr0fNo",
        "colab_type": "code",
        "colab": {
          "base_uri": "https://localhost:8080/",
          "height": 343
        },
        "outputId": "1750af53-9416-4f6a-cfd6-efe4ac984f08"
      },
      "cell_type": "code",
      "source": [
        "\n",
        "\n",
        "\n",
        "#a= model.predict([x_train[s:e], x_train_d[s:e]])\n",
        "#for i in range(dataset.MAX_SEQUENCE_LENGTH):\n",
        "#  best=np.argmax(a[0,i])\n",
        "#  print (i,best,dataset.index2word[best],a[0,i,best],a[0,i,0])\n",
        "\n",
        "from keras.losses import categorical_crossentropy\n",
        "p=model.predict([x_val,x_val_d])\n",
        "scores=K.eval(K.sum(categorical_crossentropy(K.constant(p), K.constant(y_val) ),axis=1))\n",
        "worse_10 = scores.argsort()[::-1][:10]\n",
        "\n",
        "for i in range(len(worse_10)):\n",
        "  bad=worse_10[i]\n",
        "  print (i,'arg',bad,'score',scores[bad],show_sample('val',False,bad))\n",
        "  \n"
      ],
      "execution_count": 98,
      "outputs": [
        {
          "output_type": "error",
          "ename": "TypeError",
          "evalue": "ignored",
          "traceback": [
            "\u001b[0;31m---------------------------------------------------------------------------\u001b[0m",
            "\u001b[0;31mTypeError\u001b[0m                                 Traceback (most recent call last)",
            "\u001b[0;32m<ipython-input-98-1e4d70dec522>\u001b[0m in \u001b[0;36m<module>\u001b[0;34m()\u001b[0m\n\u001b[1;32m      7\u001b[0m \u001b[0;32mfor\u001b[0m \u001b[0mi\u001b[0m \u001b[0;32min\u001b[0m \u001b[0mrange\u001b[0m\u001b[0;34m(\u001b[0m\u001b[0mlen\u001b[0m\u001b[0;34m(\u001b[0m\u001b[0mworse_10\u001b[0m\u001b[0;34m)\u001b[0m\u001b[0;34m)\u001b[0m\u001b[0;34m:\u001b[0m\u001b[0;34m\u001b[0m\u001b[0m\n\u001b[1;32m      8\u001b[0m   \u001b[0mbad\u001b[0m\u001b[0;34m=\u001b[0m\u001b[0mworse_10\u001b[0m\u001b[0;34m[\u001b[0m\u001b[0mi\u001b[0m\u001b[0;34m]\u001b[0m\u001b[0;34m\u001b[0m\u001b[0m\n\u001b[0;32m----> 9\u001b[0;31m   \u001b[0mprint\u001b[0m \u001b[0;34m(\u001b[0m\u001b[0mi\u001b[0m\u001b[0;34m,\u001b[0m\u001b[0;34m'arg'\u001b[0m\u001b[0;34m,\u001b[0m\u001b[0mbad\u001b[0m\u001b[0;34m,\u001b[0m\u001b[0;34m'score'\u001b[0m\u001b[0;34m,\u001b[0m\u001b[0mscores\u001b[0m\u001b[0;34m[\u001b[0m\u001b[0mbad\u001b[0m\u001b[0;34m]\u001b[0m\u001b[0;34m,\u001b[0m\u001b[0mshow_sample\u001b[0m\u001b[0;34m(\u001b[0m\u001b[0;34m'val'\u001b[0m\u001b[0;34m,\u001b[0m\u001b[0;32mFalse\u001b[0m\u001b[0;34m,\u001b[0m\u001b[0mbad\u001b[0m\u001b[0;34m)\u001b[0m\u001b[0;34m)\u001b[0m\u001b[0;34m\u001b[0m\u001b[0m\n\u001b[0m\u001b[1;32m     10\u001b[0m \u001b[0;34m\u001b[0m\u001b[0m\n",
            "\u001b[0;32m<ipython-input-74-7470d20ad84d>\u001b[0m in \u001b[0;36mshow_sample\u001b[0;34m(data_type, teacher_forcing, sample_ids, replace_style)\u001b[0m\n\u001b[1;32m     50\u001b[0m     \u001b[0mteacher_forcing\u001b[0m \u001b[0;34m:\u001b[0m \u001b[0mshould\u001b[0m \u001b[0mwe\u001b[0m \u001b[0msimulate\u001b[0m \u001b[0mtraining\u001b[0m \u001b[0;32mand\u001b[0m \u001b[0mfeed\u001b[0m \u001b[0mthe\u001b[0m \u001b[0minput\u001b[0m\u001b[0;34m.\u001b[0m \u001b[0mdefault\u001b[0m \u001b[0;32mFalse\u001b[0m\u001b[0;34m,\u001b[0m \u001b[0;32mas\u001b[0m \u001b[0;32mfor\u001b[0m \u001b[0mtest\u001b[0m\u001b[0;34m\u001b[0m\u001b[0m\n\u001b[1;32m     51\u001b[0m   \"\"\"\n\u001b[0;32m---> 52\u001b[0;31m   \u001b[0;32mfor\u001b[0m \u001b[0mi\u001b[0m \u001b[0;32min\u001b[0m \u001b[0msample_ids\u001b[0m\u001b[0;34m:\u001b[0m\u001b[0;34m\u001b[0m\u001b[0m\n\u001b[0m\u001b[1;32m     53\u001b[0m       \u001b[0mdata\u001b[0m\u001b[0;34m=\u001b[0m\u001b[0;34m{\u001b[0m\u001b[0;34m'train'\u001b[0m\u001b[0;34m:\u001b[0m \u001b[0mdataset\u001b[0m\u001b[0;34m.\u001b[0m\u001b[0mresult\u001b[0m\u001b[0;34m.\u001b[0m\u001b[0mtrain\u001b[0m\u001b[0;34m,\u001b[0m\u001b[0;34m'val'\u001b[0m\u001b[0;34m:\u001b[0m\u001b[0mdataset\u001b[0m\u001b[0;34m.\u001b[0m\u001b[0mresult\u001b[0m\u001b[0;34m.\u001b[0m\u001b[0mval\u001b[0m \u001b[0;34m,\u001b[0m \u001b[0;34m'test'\u001b[0m\u001b[0;34m:\u001b[0m\u001b[0mdataset\u001b[0m\u001b[0;34m.\u001b[0m\u001b[0mresult\u001b[0m\u001b[0;34m.\u001b[0m\u001b[0mtest\u001b[0m\u001b[0;34m}\u001b[0m\u001b[0;34m\u001b[0m\u001b[0m\n\u001b[1;32m     54\u001b[0m \u001b[0;34m\u001b[0m\u001b[0m\n",
            "\u001b[0;31mTypeError\u001b[0m: 'numpy.int64' object is not iterable"
          ]
        }
      ]
    },
    {
      "metadata": {
        "id": "8QaOXXjUAwVH",
        "colab_type": "text"
      },
      "cell_type": "markdown",
      "source": [
        "## Error of style disc."
      ]
    },
    {
      "metadata": {
        "id": "t_YnBS4fAr1M",
        "colab_type": "code",
        "colab": {}
      },
      "cell_type": "code",
      "source": [
        "### Error of style discriminator\n",
        "\n",
        "#print (style_train[:10])\n",
        "#style_classifier_model.predict(x_train[:10])#, style_train,\n"
      ],
      "execution_count": 0,
      "outputs": []
    }
  ]
}