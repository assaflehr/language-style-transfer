{
  "nbformat": 4,
  "nbformat_minor": 0,
  "metadata": {
    "colab": {
      "name": "keras_nlp.ipynb",
      "version": "0.3.2",
      "provenance": [],
      "collapsed_sections": [],
      "toc_visible": true,
      "include_colab_link": true
    },
    "kernelspec": {
      "name": "python3",
      "display_name": "Python 3"
    }
  },
  "cells": [
    {
      "cell_type": "markdown",
      "metadata": {
        "id": "view-in-github",
        "colab_type": "text"
      },
      "source": [
        "[View in Colaboratory](https://colab.research.google.com/github/assaflehr/language-style-transfer/blob/master/notebooks/keras_nlp.ipynb)"
      ]
    },
    {
      "metadata": {
        "id": "wp4BcB4250bT",
        "colab_type": "toc"
      },
      "cell_type": "markdown",
      "source": [
        ">>[Keras accuracy/performace limitations](#scrollTo=Og2XNK-_53VP)\n",
        "\n",
        ">[Performace caution :](#scrollTo=Og2XNK-_53VP)\n",
        "\n",
        ">>[Pretraining autoencoder or LM will surely help.](#scrollTo=Og2XNK-_53VP)\n",
        "\n",
        ">>>[LSTM](#scrollTo=Og2XNK-_53VP)\n",
        "\n",
        ">>>[Tip to self:](#scrollTo=Og2XNK-_53VP)\n",
        "\n",
        ">>>[For David: example of how to clone, then use from github](#scrollTo=OrKzdh71sBKm)\n",
        "\n",
        ">[Some params](#scrollTo=MBAgWVvXycpF)\n",
        "\n",
        ">[Dataset](#scrollTo=wwc6_EHFD_Ir)\n",
        "\n",
        ">[Model defintion](#scrollTo=BWVEcaeF6DBR)\n",
        "\n",
        ">[compile](#scrollTo=VTobPYftYvQC)\n",
        "\n",
        ">[Sample and show sample](#scrollTo=xh5FwdLGU2n3)\n",
        "\n",
        ">[TRAINING](#scrollTo=9s0-8EJi6AG1)\n",
        "\n",
        ">[SAVE LOAD MODEL](#scrollTo=QOjAoPF-gAqx)\n",
        "\n",
        ">[Error analysis](#scrollTo=XvIkFOWy55ov)\n",
        "\n",
        ">>[Error of style disc.](#scrollTo=8QaOXXjUAwVH)\n",
        "\n",
        ">[FAQ and wierd exceptions](#scrollTo=E2yLpQu4mvAS)\n",
        "\n"
      ]
    },
    {
      "metadata": {
        "id": "Og2XNK-_53VP",
        "colab_type": "text"
      },
      "cell_type": "markdown",
      "source": [
        "## Keras accuracy/performace limitations\n",
        " \n",
        "# Performace caution :\n",
        "G training epoc (250x64 rows) \n",
        "\n",
        "type|RNN|bidi?|time\n",
        "--|--\n",
        "CPU|LSTM|Y| 15 min|\n",
        "GPU|LSTM|Y| 75s| (slower but more-accurate)\n",
        "GPU|CuDNNLSTM|Y| 42s\n",
        "GPU|CuDNNLSTM|N| 35s\n",
        "\n",
        "\n",
        "\n",
        "\n",
        "\n",
        "\n",
        "## Pretraining autoencoder or LM will surely help.\n",
        "\n",
        "see late review here: https://thegradient.pub/author/sebastian\n",
        "and autoencoder (which is less recommended than LM here: \"Semi-supervised Sequence Learning\" 2015. They use one RNN for both encoder and decoder)\n",
        "\n",
        "\n",
        "###   LSTM \n",
        "* CuDNNLSTM trains on GPU , but does not support the attributes: dropout,recurrent_dropout,which are the STOA regulaizers. This is cuda problem, and even native TF does not support it\n",
        "Hard to compare only that. all G (with dense and more...) takes 35s on GPU. on CPU ???\n",
        "* Make LSTM deep instead of bigger for linear instead of quadratic growth in compuation. when doing so, add skip connection to 2nd/3rd/... layers\n",
        "* large vocab size means huge softmax, means slow runtime. to optimize training NCE loss replaces softmax on train-time (TF only)\n",
        "\n",
        "### Tip to self:\n",
        "* manually check loss value on one sample (predict vs gt). From doing this, I saw <s> was not given one-hot-value"
      ]
    },
    {
      "metadata": {
        "id": "U1NId48JRlWE",
        "colab_type": "code",
        "colab": {
          "base_uri": "https://localhost:8080/",
          "height": 1744
        },
        "outputId": "397e93ae-14d3-4cfc-cf4a-8ef4ef4f33b9"
      },
      "cell_type": "code",
      "source": [
        "%load_ext autoreload\n",
        "%autoreload 2\n",
        "\n",
        "\n",
        "\n",
        "\n",
        "import tensorflow as tf\n",
        "import sys\n",
        "import numpy as np\n",
        "\n",
        "# colab requirements\n",
        "!pip install spacy\n",
        "!pip install pydrive   #to save to google-drive\n",
        "# our github proj!\n",
        "!rm -r paraphraser  #remove previous github copy if needed\n",
        "!git clone https://github.com/delkind/paraphraser.git\n",
        "sys.path.append('paraphraser/src')\n",
        "\n",
        "\n",
        "\n",
        "\n",
        "\n",
        "#usage example\n",
        "from utils.persistency import Persistency    #your code here!!!\n",
        "from models import D_G_Model\n",
        "\n",
        "#!ps -ef | grep python\n",
        "\n",
        "\n"
      ],
      "execution_count": 2,
      "outputs": [
        {
          "output_type": "stream",
          "text": [
            "Collecting spacy\n",
            "\u001b[?25l  Downloading https://files.pythonhosted.org/packages/3c/31/e60f88751e48851b002f78a35221d12300783d5a43d4ef12fbf10cca96c3/spacy-2.0.11.tar.gz (17.6MB)\n",
            "\u001b[K    100% |████████████████████████████████| 17.6MB 1.8MB/s \n",
            "\u001b[?25hRequirement already satisfied: numpy>=1.7 in /usr/local/lib/python3.6/dist-packages (from spacy) (1.14.5)\n",
            "Collecting murmurhash<0.29,>=0.28 (from spacy)\n",
            "  Downloading https://files.pythonhosted.org/packages/5e/31/c8c1ecafa44db30579c8c457ac7a0f819e8b1dbc3e58308394fff5ff9ba7/murmurhash-0.28.0.tar.gz\n",
            "Collecting cymem<1.32,>=1.30 (from spacy)\n",
            "  Downloading https://files.pythonhosted.org/packages/f8/9e/273fbea507de99166c11cd0cb3fde1ac01b5bc724d9a407a2f927ede91a1/cymem-1.31.2.tar.gz\n",
            "Collecting preshed<2.0.0,>=1.0.0 (from spacy)\n",
            "\u001b[?25l  Downloading https://files.pythonhosted.org/packages/1b/ac/7c17b1fd54b60972785b646d37da2826311cca70842c011c4ff84fbe95e0/preshed-1.0.0.tar.gz (89kB)\n",
            "\u001b[K    100% |████████████████████████████████| 92kB 18.6MB/s \n",
            "\u001b[?25hCollecting thinc<6.11.0,>=6.10.1 (from spacy)\n",
            "\u001b[?25l  Downloading https://files.pythonhosted.org/packages/55/fd/e9f36081e6f53699943381858848f3b4d759e0dd03c43b98807dde34c252/thinc-6.10.2.tar.gz (1.2MB)\n",
            "\u001b[K    100% |████████████████████████████████| 1.2MB 13.5MB/s \n",
            "\u001b[?25hCollecting plac<1.0.0,>=0.9.6 (from spacy)\n",
            "  Downloading https://files.pythonhosted.org/packages/9e/9b/62c60d2f5bc135d2aa1d8c8a86aaf84edb719a59c7f11a4316259e61a298/plac-0.9.6-py2.py3-none-any.whl\n",
            "Collecting pathlib (from spacy)\n",
            "\u001b[?25l  Downloading https://files.pythonhosted.org/packages/ac/aa/9b065a76b9af472437a0059f77e8f962fe350438b927cb80184c32f075eb/pathlib-1.0.1.tar.gz (49kB)\n",
            "\u001b[K    100% |████████████████████████████████| 51kB 16.1MB/s \n",
            "\u001b[?25hCollecting ujson>=1.35 (from spacy)\n",
            "\u001b[?25l  Downloading https://files.pythonhosted.org/packages/16/c4/79f3409bc710559015464e5f49b9879430d8f87498ecdc335899732e5377/ujson-1.35.tar.gz (192kB)\n",
            "\u001b[K    100% |████████████████████████████████| 194kB 18.6MB/s \n",
            "\u001b[?25hCollecting dill<0.3,>=0.2 (from spacy)\n",
            "\u001b[?25l  Downloading https://files.pythonhosted.org/packages/6f/78/8b96476f4ae426db71c6e86a8e6a81407f015b34547e442291cd397b18f3/dill-0.2.8.2.tar.gz (150kB)\n",
            "\u001b[K    100% |████████████████████████████████| 153kB 19.1MB/s \n",
            "\u001b[?25hCollecting regex==2017.4.5 (from spacy)\n",
            "\u001b[?25l  Downloading https://files.pythonhosted.org/packages/36/62/c0c0d762ffd4ffaf39f372eb8561b8d491a11ace5a7884610424a8b40f95/regex-2017.04.05.tar.gz (601kB)\n",
            "\u001b[K    100% |████████████████████████████████| 604kB 16.4MB/s \n",
            "\u001b[?25hCollecting wrapt (from thinc<6.11.0,>=6.10.1->spacy)\n",
            "  Downloading https://files.pythonhosted.org/packages/a0/47/66897906448185fcb77fc3c2b1bc20ed0ecca81a0f2f88eda3fc5a34fc3d/wrapt-1.10.11.tar.gz\n",
            "Collecting tqdm<5.0.0,>=4.10.0 (from thinc<6.11.0,>=6.10.1->spacy)\n",
            "\u001b[?25l  Downloading https://files.pythonhosted.org/packages/93/24/6ab1df969db228aed36a648a8959d1027099ce45fad67532b9673d533318/tqdm-4.23.4-py2.py3-none-any.whl (42kB)\n",
            "\u001b[K    100% |████████████████████████████████| 51kB 15.4MB/s \n",
            "\u001b[?25hCollecting cytoolz<0.9,>=0.8 (from thinc<6.11.0,>=6.10.1->spacy)\n",
            "\u001b[?25l  Downloading https://files.pythonhosted.org/packages/0f/e6/ccc124714dcc1bd511e64ddafb4d5d20ada2533b92e3173a4cf09e0d0831/cytoolz-0.8.2.tar.gz (386kB)\n",
            "\u001b[K    100% |████████████████████████████████| 389kB 16.0MB/s \n",
            "\u001b[?25hRequirement already satisfied: six<2.0.0,>=1.10.0 in /usr/local/lib/python3.6/dist-packages (from thinc<6.11.0,>=6.10.1->spacy) (1.11.0)\n",
            "Requirement already satisfied: termcolor in /usr/local/lib/python3.6/dist-packages (from thinc<6.11.0,>=6.10.1->spacy) (1.1.0)\n",
            "Collecting msgpack-python (from thinc<6.11.0,>=6.10.1->spacy)\n",
            "\u001b[?25l  Downloading https://files.pythonhosted.org/packages/8a/20/6eca772d1a5830336f84aca1d8198e5a3f4715cd1c7fc36d3cc7f7185091/msgpack-python-0.5.6.tar.gz (138kB)\n",
            "\u001b[K    100% |████████████████████████████████| 143kB 19.7MB/s \n",
            "\u001b[?25hCollecting msgpack-numpy==0.4.1 (from thinc<6.11.0,>=6.10.1->spacy)\n",
            "  Downloading https://files.pythonhosted.org/packages/2e/43/393e30e2768b0357541ac95891f96b80ccc4d517e0dd2fa3042fc8926538/msgpack_numpy-0.4.1-py2.py3-none-any.whl\n",
            "Requirement already satisfied: toolz>=0.8.0 in /usr/local/lib/python3.6/dist-packages (from cytoolz<0.9,>=0.8->thinc<6.11.0,>=6.10.1->spacy) (0.9.0)\n",
            "Building wheels for collected packages: spacy, murmurhash, cymem, preshed, thinc, pathlib, ujson, dill, regex, wrapt, cytoolz, msgpack-python\n",
            "  Running setup.py bdist_wheel for spacy ... \u001b[?25l-\b \b\\\b \b|\b \b/\b \b-\b \b\\\b \b|"
          ],
          "name": "stdout"
        },
        {
          "output_type": "stream",
          "text": [
            "\b \b/\b \b-\b \b\\\b \b|\b \b/\b \b-\b \b\\\b \b|\b \b/\b \b-\b \b\\\b \b|\b \b/\b \b-\b \b\\\b \b|\b \b/\b \b-\b \b\\\b \b|\b \b/\b \b-\b \b\\\b \b|\b \b/\b \b-\b \b\\\b \b|\b \b/\b \b-\b \b\\\b \b|\b \b/\b \b-\b \b\\\b \b|\b \b/\b \b-\b \b\\\b \b|\b \b/\b \b-\b \b\\\b \b|\b \b/\b \b-\b \b\\\b \b|\b \b/\b \b-\b \b\\\b \b|\b \b/\b \b-\b \b\\\b \b|\b \b/\b \b-\b \b\\\b \b|\b \b/\b \b-\b \b\\\b \b|\b \b/\b \b-\b \b\\\b \b|\b \b/\b \b-\b \b\\\b \b|\b \b/\b \b-\b \bdone\n",
            "\u001b[?25h  Stored in directory: /content/.cache/pip/wheels/fb/00/28/75c85d5135e7d9a100639137d1847d41e914ed16c962d467e4\n",
            "  Running setup.py bdist_wheel for murmurhash ... \u001b[?25l-\b \b\\\b \b|\b \b/\b \bdone\n",
            "\u001b[?25h  Stored in directory: /content/.cache/pip/wheels/b8/94/a4/f69f8664cdc1098603df44771b7fec5fd1b3d8364cdd83f512\n",
            "  Running setup.py bdist_wheel for cymem ... \u001b[?25l-\b \b\\\b \b|\b \bdone\n",
            "\u001b[?25h  Stored in directory: /content/.cache/pip/wheels/55/8d/4a/f6328252aa2aaec0b1cb906fd96a1566d77f0f67701071ad13\n",
            "  Running setup.py bdist_wheel for preshed ... \u001b[?25l-\b \b\\\b \b|\b \b/\b \b-\b \b\\\b \b|\b \bdone\n",
            "\u001b[?25h  Stored in directory: /content/.cache/pip/wheels/8f/85/06/2d132fb649a6bbcab22487e4147880a55b0dd0f4b18fdfd6b5\n",
            "  Running setup.py bdist_wheel for thinc ... \u001b[?25l-\b \b\\\b \b|\b \b/\b \b-\b \b\\\b \b|\b \b/\b \b-\b \b\\\b \b|\b \b/\b \b-\b \b\\\b \b|\b \b/\b \b-\b \b\\\b \b|\b \b/\b \b-\b \b\\\b \b|\b \b/\b \b-\b \b\\\b \bdone\n",
            "\u001b[?25h  Stored in directory: /content/.cache/pip/wheels/d8/5c/3e/9acf5d9974fb1c9e7b467563ea5429c9325f67306e93147961\n",
            "  Running setup.py bdist_wheel for pathlib ... \u001b[?25l-\b \bdone\n",
            "\u001b[?25h  Stored in directory: /content/.cache/pip/wheels/f9/b2/4a/68efdfe5093638a9918bd1bb734af625526e849487200aa171\n",
            "  Running setup.py bdist_wheel for ujson ... \u001b[?25l-\b \b\\\b \b|\b \b/\b \b-\b \b\\\b \bdone\n",
            "\u001b[?25h  Stored in directory: /content/.cache/pip/wheels/28/77/e4/0311145b9c2e2f01470e744855131f9e34d6919687550f87d1\n",
            "  Running setup.py bdist_wheel for dill ... \u001b[?25l-\b \b\\\b \bdone\n",
            "\u001b[?25h  Stored in directory: /content/.cache/pip/wheels/e2/5d/17/f87cb7751896ac629b435a8696f83ee75b11029f5d6f6bda72\n",
            "  Running setup.py bdist_wheel for regex ... \u001b[?25l-\b \b\\\b \b|\b \b/\b \b-\b \b\\\b \b|\b \bdone\n",
            "\u001b[?25h  Stored in directory: /content/.cache/pip/wheels/75/07/38/3c16b529d50cb4e0cd3dbc7b75cece8a09c132692c74450b01\n",
            "  Running setup.py bdist_wheel for wrapt ... \u001b[?25l-\b \b\\\b \bdone\n",
            "\u001b[?25h  Stored in directory: /content/.cache/pip/wheels/48/5d/04/22361a593e70d23b1f7746d932802efe1f0e523376a74f321e\n",
            "  Running setup.py bdist_wheel for cytoolz ... \u001b[?25l-\b \b\\"
          ],
          "name": "stdout"
        },
        {
          "output_type": "stream",
          "text": [
            "\b \b|\b \b/\b \b-\b \b\\\b \b|\b \b/\b \bdone\n",
            "\u001b[?25h  Stored in directory: /content/.cache/pip/wheels/f8/b1/86/c92e4d36b690208fff8471711b85eaa6bc6d19860a86199a09\n",
            "  Running setup.py bdist_wheel for msgpack-python ... \u001b[?25l-\b \b\\\b \b|\b \b/\b \bdone\n",
            "\u001b[?25h  Stored in directory: /content/.cache/pip/wheels/d5/de/86/7fa56fda12511be47ea0808f3502bc879df4e63ab168ec0406\n",
            "Successfully built spacy murmurhash cymem preshed thinc pathlib ujson dill regex wrapt cytoolz msgpack-python\n",
            "Installing collected packages: murmurhash, cymem, preshed, wrapt, tqdm, cytoolz, plac, dill, pathlib, msgpack-python, msgpack-numpy, thinc, ujson, regex, spacy\n",
            "Successfully installed cymem-1.31.2 cytoolz-0.8.2 dill-0.2.8.2 msgpack-numpy-0.4.1 msgpack-python-0.5.6 murmurhash-0.28.0 pathlib-1.0.1 plac-0.9.6 preshed-1.0.0 regex-2017.4.5 spacy-2.0.11 thinc-6.10.2 tqdm-4.23.4 ujson-1.35 wrapt-1.10.11\n",
            "Collecting pydrive\n",
            "\u001b[?25l  Downloading https://files.pythonhosted.org/packages/52/e0/0e64788e5dd58ce2d6934549676243dc69d982f198524be9b99e9c2a4fd5/PyDrive-1.3.1.tar.gz (987kB)\n",
            "\u001b[K    100% |████████████████████████████████| 993kB 7.2MB/s \n",
            "\u001b[?25hRequirement already satisfied: google-api-python-client>=1.2 in /usr/local/lib/python3.6/dist-packages (from pydrive) (1.6.7)\n",
            "Requirement already satisfied: oauth2client>=4.0.0 in /usr/local/lib/python3.6/dist-packages (from pydrive) (4.1.2)\n",
            "Requirement already satisfied: PyYAML>=3.0 in /usr/local/lib/python3.6/dist-packages (from pydrive) (3.13)\n",
            "Requirement already satisfied: uritemplate<4dev,>=3.0.0 in /usr/local/lib/python3.6/dist-packages (from google-api-python-client>=1.2->pydrive) (3.0.0)\n",
            "Requirement already satisfied: httplib2<1dev,>=0.9.2 in /usr/local/lib/python3.6/dist-packages (from google-api-python-client>=1.2->pydrive) (0.11.3)\n",
            "Requirement already satisfied: six<2dev,>=1.6.1 in /usr/local/lib/python3.6/dist-packages (from google-api-python-client>=1.2->pydrive) (1.11.0)\n",
            "Requirement already satisfied: pyasn1>=0.1.7 in /usr/local/lib/python3.6/dist-packages (from oauth2client>=4.0.0->pydrive) (0.4.3)\n",
            "Requirement already satisfied: pyasn1-modules>=0.0.5 in /usr/local/lib/python3.6/dist-packages (from oauth2client>=4.0.0->pydrive) (0.2.2)\n",
            "Requirement already satisfied: rsa>=3.1.4 in /usr/local/lib/python3.6/dist-packages (from oauth2client>=4.0.0->pydrive) (3.4.2)\n",
            "Building wheels for collected packages: pydrive\n",
            "  Running setup.py bdist_wheel for pydrive ... \u001b[?25l-\b \b\\\b \bdone\n",
            "\u001b[?25h  Stored in directory: /content/.cache/pip/wheels/fa/d2/9a/d3b6b506c2da98289e5d417215ce34b696db856643bad779f4\n",
            "Successfully built pydrive\n",
            "Installing collected packages: pydrive\n",
            "Successfully installed pydrive-1.3.1\n",
            "rm: cannot remove 'paraphraser': No such file or directory\n",
            "Cloning into 'paraphraser'...\n",
            "remote: Counting objects: 89, done.\u001b[K\n",
            "remote: Compressing objects: 100% (55/55), done.\u001b[K\n",
            "remote: Total 89 (delta 38), reused 71 (delta 24), pack-reused 0\u001b[K\n",
            "Unpacking objects: 100% (89/89), done.\n"
          ],
          "name": "stdout"
        },
        {
          "output_type": "stream",
          "text": [
            "Using TensorFlow backend.\n"
          ],
          "name": "stderr"
        }
      ]
    },
    {
      "metadata": {
        "id": "wwc6_EHFD_Ir",
        "colab_type": "text"
      },
      "cell_type": "markdown",
      "source": [
        "# Dataset"
      ]
    },
    {
      "metadata": {
        "id": "PcPSCDUrx3B8",
        "colab_type": "code",
        "colab": {
          "base_uri": "https://localhost:8080/",
          "height": 87
        },
        "outputId": "98ebb676-d641-4d16-de81-f6a488d981fb"
      },
      "cell_type": "code",
      "source": [
        "\n",
        "#dataset = BibleDataset(URL_ROOT, [\"asv\", \"bbe\", \"dby\", \"kjv\", \"wbt\", \"web\", \"ylt\"], CSV_EXT)\n",
        "# differences: very old , formal: ylt . very dynamic, simple words: bbe, middle ground (5 similiar wbt)\n",
        "from dataset.bible import BibleDataset\n",
        "\n",
        "dataset = BibleDataset(files=[\"bbe\", \"ylt\"]) \n",
        "\n"
      ],
      "execution_count": 3,
      "outputs": [
        {
          "output_type": "stream",
          "text": [
            "Downloading data from https://raw.githubusercontent.com/scrollmapper/bible_databases/master/csv/t_bbe.csv\n",
            "4784128/4783775 [==============================] - 0s 0us/step\n",
            "Downloading data from https://raw.githubusercontent.com/scrollmapper/bible_databases/master/csv/t_ylt.csv\n",
            "4784128/4779319 [==============================] - 0s 0us/step\n"
          ],
          "name": "stdout"
        }
      ]
    },
    {
      "metadata": {
        "id": "awc6u-eMPvju",
        "colab_type": "code",
        "colab": {}
      },
      "cell_type": "code",
      "source": [
        "import keras\n",
        "from keras.callbacks import ReduceLROnPlateau\n",
        "\n",
        "\n",
        "\n",
        "\n",
        "batch_size = 64\n",
        "\n",
        "\n",
        "\n",
        "class LossHistory(keras.callbacks.Callback):\n",
        "    def __init__(self):\n",
        "      self.losses = {'loss':[],'val_loss':[]}\n",
        "      \n",
        "    #def on_train_begin(self, logs={}):\n",
        "    #  pass  \n",
        "    \n",
        "    def on_epoch_end(self, batch, logs={}):\n",
        "      for loss in ['loss','val_loss']:\n",
        "        self.losses[loss].append(logs.get(loss))\n",
        "        \n",
        "np.random.seed(42)\n",
        "\n",
        "\n",
        "import matplotlib.pyplot as plt \n",
        "\n",
        "# summarize history for loss\n",
        "def plt_losses(loss_history,title,with_val=False):\n",
        "  plt.plot(loss_history.losses['loss'][:])\n",
        "  if with_val:\n",
        "    plt.plot(loss_history.losses['val_loss'][:])\n",
        "  plt.title(title)\n",
        "  med=0.1 if len(loss_history.losses['loss'])<1 else np.median(loss_history.losses['loss'])\n",
        "  plt.ylim(ymin=-0.1)\n",
        "  plt.ylim(ymax=med+1.5)\n",
        "  plt.ylabel('loss')\n",
        "  plt.xlabel('batchse')\n",
        "  plt.legend(['train', 'val'], loc='upper right')\n",
        "  \n",
        "\n",
        "def plt_all(with_val=True):  \n",
        "  plt.figure(figsize=(14,4))\n",
        "  plt.subplot(131) #numrows, numcols, fignum\n",
        "  plt_losses(loss_history,'g loss',with_val)  \n",
        "  plt.subplot(132)\n",
        "  plt_losses(loss_history_d,'d loss',with_val)  \n",
        "  plt.subplot(133)\n",
        "  plt_losses(loss_history_adv,'adv loss',with_val) \n",
        "  plt.show()\n",
        "\n",
        "\n",
        "#  \n",
        "loss_history = LossHistory()\n",
        "loss_history_d = LossHistory()\n",
        "loss_history_adv = LossHistory()  \n",
        "#plt_all()\n",
        "\n",
        "\n",
        "\n",
        "def train_g(g, steps, validation_steps=1):\n",
        "    g.fit_generator(dataset.gen_g(dataset.train, batch_size),\n",
        "                        steps,\n",
        "                        validation_steps=validation_steps,\n",
        "                        validation_data=dataset.gen_g(dataset.val, batch_size),\n",
        "                        callbacks=[loss_history],\n",
        "                        verbose=0 if steps < 10 else 1,\n",
        "                        max_queue_size=50,\n",
        "                        workers=2\n",
        "                        )\n",
        "\n",
        "    # model.fit([x_train, x_train_d], y_train,\n",
        "\n",
        "\n",
        "def train_d(d, steps, validation_steps=1):\n",
        "    # %time d_encoder_model.set_weights(encoder_model.get_weights())\n",
        "    d.fit_generator(dataset.gen_d(dataset.train, batch_size),\n",
        "                    steps,\n",
        "                    validation_steps=validation_steps,\n",
        "                    validation_data=dataset.gen_d(dataset.val, batch_size),\n",
        "                    verbose=0 if steps < 20 else 1,\n",
        "                    max_queue_size=50,\n",
        "                    workers=2,\n",
        "                    callbacks=[loss_history_d])\n",
        "    # d.fit(x_train, style_train,\n",
        "\n",
        "\n",
        "def train_adv(adv_model, steps, validation_steps=1):\n",
        "    # %time classifier_model.set_weights(d_classifier_model.get_weights())\n",
        "\n",
        "    adv_model.fit_generator(dataset.gen_adv(dataset.train, batch_size),\n",
        "                            steps,\n",
        "                            validation_steps=validation_steps,\n",
        "                            validation_data=dataset.gen_adv(dataset.val, batch_size),\n",
        "                            max_queue_size=50,\n",
        "                            workers=2,\n",
        "                            verbose=0 if steps < 20 else 1,\n",
        "                            callbacks=[loss_history_adv])\n",
        " \n",
        "  \n"
      ],
      "execution_count": 0,
      "outputs": []
    },
    {
      "metadata": {
        "id": "kqkLdFGl0FMB",
        "colab_type": "code",
        "colab": {}
      },
      "cell_type": "code",
      "source": [
        "from models import D_G_Model\n",
        "\n",
        "model = D_G_Model(num_encoder_tokens=len(dataset.word2index),\n",
        "                      num_decoder_tokens=len(dataset.word2index),  #from dataset 3628\n",
        "                      style_out_size=len(dataset.style2index), #from dataset 2\n",
        "                      cuddlstm=True,\n",
        "                      latent_dim = 512, #twice the default. make it stronger! but slower\n",
        "                      bidi_encoder = True,\n",
        "                      adv_loss_weight=1.0,)\n",
        "model.build_all()\n",
        "\n",
        "\n",
        "  \n",
        "  "
      ],
      "execution_count": 0,
      "outputs": []
    },
    {
      "metadata": {
        "id": "xh5FwdLGU2n3",
        "colab_type": "text"
      },
      "cell_type": "markdown",
      "source": [
        "# Sample and show sample"
      ]
    },
    {
      "metadata": {
        "id": "_ZC94QpK1bcw",
        "colab_type": "code",
        "colab": {
          "base_uri": "https://localhost:8080/",
          "height": 266
        },
        "outputId": "1cfb9f3d-c6ad-4051-9b5b-6177daeb14b6"
      },
      "cell_type": "code",
      "source": [
        "from decoder import SamplingDecoder\n",
        "sampler= SamplingDecoder(model)        \n",
        "#sampler.show_sample(dataset,'train',sample_ids=[0],teacher_forcing=True)           \n",
        "#sampler.show_sample(dataset,'val',sample_ids=[0],teacher_forcing=False)\n",
        "\n",
        "#show_sample('train',sample_id=[0,1,2],teacher_forcing=False) \n",
        "\n",
        "# test tokenizer, by looking at the originals:\n",
        "#orogi https://raw.githubusercontent.com/scrollmapper/bible_databases/master/csv/t_bbe.csv\n",
        "#At the first God made the heaven and the earth.\n",
        "#And the earth was waste and without form; and it was dark on the face of the deep: and the Spirit of God was moving on the face of the waters.\n",
        "#\"And God said, Let there be light: and there was light.\"\n",
        "\n",
        "#https://raw.githubusercontent.com/scrollmapper/bible_databases/master/csv/t_ylt.csv\n",
        "#In the beginning of God's preparing the heavens and the earth --\n",
        "#\"the earth hath existed waste and void, and darkness `is' on the face of the deep, and the Spirit of God fluttering on the face of the waters,\"\n",
        "#\"and God saith, `Let light be;' and light is.\"\n",
        "\n"
      ],
      "execution_count": 6,
      "outputs": [
        {
          "output_type": "stream",
          "text": [
            "############################## verb 0 ##############################\n",
            "\n",
            "##encoder_input[<bbe>]: at the first god made the heaven and the earth .\n",
            "\u001b[31mdecoder TF     [<bbe>]: supports stronger in mourned certain supports latter being being being pronounced pronounced shrine eleazar eleazar eleazar eleazar eleazar eleazar eleazar eleazar eleazar eleazar eleazar fifteenth fifteenth fifteenth fifteenth fifteenth fifteenth fifteenth fifteenth fifteenth fifteenth fifteenth fifteenth fifteenth fifteenth fifteenth fifteenth fifteenth fifteenth fifteenth fifteenth fifteenth fifteenth fifteenth fifteenth fifteenth fifteenth fifteenth fifteenth fifteenth fifteenth fifteenth fifteenth fifteenth fifteenth fifteenth fifteenth fifteenth\u001b[0m\n",
            "gold label     [<bbe>]: at the first god made the heaven and the earth .\n",
            "\u001b[31mdecoder TF     [<ylt>]: lamps lamps lamps overtake flesh flesh lamps asshur asshur overtake substance substance hin opinion fate fate fate eleazar eleazar eleazar eleazar eleazar eleazar fifteenth fifteenth fifteenth fifteenth fifteenth fifteenth fifteenth fifteenth fifteenth fifteenth fifteenth fifteenth fifteenth fifteenth fifteenth fifteenth fifteenth fifteenth fifteenth fifteenth fifteenth fifteenth fifteenth fifteenth fifteenth fifteenth fifteenth fifteenth fifteenth fifteenth fifteenth fifteenth fifteenth fifteenth fifteenth fifteenth fifteenth fifteenth\u001b[0m\n",
            "gold label     [<ylt>]: in the beginning of god 's <OOV> the heavens and the earth\n",
            "\n",
            "##encoder_input[<ylt>]: in the beginning of god 's <OOV> the heavens and the earth\n",
            "\u001b[31mdecoder TF     [<bbe>]: supports stronger in grip certain supports ethan being being being pronounced pronounced shrine eleazar eleazar eleazar eleazar eleazar eleazar eleazar eleazar eleazar eleazar eleazar fifteenth fifteenth fifteenth fifteenth fifteenth fifteenth fifteenth fifteenth fifteenth fifteenth fifteenth fifteenth fifteenth fifteenth fifteenth fifteenth fifteenth fifteenth fifteenth fifteenth fifteenth fifteenth fifteenth fifteenth fifteenth fifteenth fifteenth fifteenth fifteenth fifteenth fifteenth fifteenth fifteenth fifteenth fifteenth fifteenth fifteenth\u001b[0m\n",
            "gold label     [<bbe>]: at the first god made the heaven and the earth .\n",
            "\u001b[31mdecoder TF     [<ylt>]: overtake spoon overtake overtake overtake certain lamps hastily asshur saveth substance substance hin opinion oath fate fate fate eleazar eleazar eleazar eleazar eleazar fifteenth fifteenth fifteenth fifteenth fifteenth fifteenth fifteenth fifteenth fifteenth fifteenth fifteenth fifteenth fifteenth fifteenth fifteenth fifteenth fifteenth fifteenth fifteenth fifteenth fifteenth fifteenth fifteenth fifteenth fifteenth fifteenth fifteenth fifteenth fifteenth fifteenth fifteenth fifteenth fifteenth fifteenth fifteenth fifteenth fifteenth fifteenth\u001b[0m\n",
            "gold label     [<ylt>]: in the beginning of god 's <OOV> the heavens and the earth\n"
          ],
          "name": "stdout"
        }
      ]
    },
    {
      "metadata": {
        "id": "9s0-8EJi6AG1",
        "colab_type": "text"
      },
      "cell_type": "markdown",
      "source": [
        "# long  pre-TRAINING"
      ]
    },
    {
      "metadata": {
        "id": "Sm05AY862pem",
        "colab_type": "code",
        "colab": {
          "base_uri": "https://localhost:8080/",
          "height": 140
        },
        "outputId": "171df503-55d6-40bd-e790-3bbbbcd84c78"
      },
      "cell_type": "code",
      "source": [
        "train_size = len(dataset.index2style) * (dataset.train[1] - dataset.train[0])\n",
        "epoc = int(train_size/batch_size)\n",
        "print ('epoc is of',epoc,'of batches',batch_size,'total train_size',train_size)\n",
        "\n",
        "\n",
        "######## PRE TRAINING ##########################\n",
        "\n",
        "load_id='1kxKYkP0iojqYZ6JY5kNvhdrGSjMTqYMX'\n",
        "if load_id:\n",
        "  pers=Persistency()\n",
        "  pers.load_weights_from(model.get_models(),model.get_model_names(),folder='from_gdrive/',download_gdrive_id=load_id)\n",
        "  pre_train=False\n",
        "else:\n",
        "  pre_train= True\n",
        "  \n",
        "if (pre_train):\n",
        "  for i in range(20):\n",
        "    print ('EPOC',i)\n",
        "    train_g(model.g,int(epoc),validation_steps=int(epoc/10))  #pretrain\n",
        "\n",
        "\n",
        "    l=loss_history.losses['loss'][-1:][0]\n",
        "    plt_all()\n",
        "    sampler.show_sample(dataset,'train',[0],teacher_forcing=False) \n",
        "    sampler.show_sample(dataset,'train',[0],teacher_forcing=True)\n",
        "    if l<0.5: #0.5 is good value for 20 length sentences. for longer, NOT!\n",
        "      print ('early break at break at',l,'epoc',i)\n",
        "      break\n",
        "    \n",
        "  \n",
        "  for i in range(0):\n",
        "    train_d(model.d,epoc,validation_steps=100)\n",
        "    l=loss_history_d.losses['loss'][-1:][0]\n",
        "    if l<2:\n",
        "      print ('early break at break at',l,'epoc',i)\n",
        "      break\n",
        "\n",
        "  "
      ],
      "execution_count": 7,
      "outputs": [
        {
          "output_type": "stream",
          "text": [
            "loaded into  from_gdrive/\n",
            "loading from_gdrive//encoder_model.h5\n",
            "loading from_gdrive//decoder_sampling_model.h5\n",
            "loading from_gdrive//d.h5\n",
            "loading from_gdrive//g.h5\n",
            "loading from_gdrive//g_d.h5\n",
            "load from  from_gdrive/ complete. Make sure you already compiled the model and set optimizers\n"
          ],
          "name": "stdout"
        }
      ]
    },
    {
      "metadata": {
        "id": "509k3Hg2naw7",
        "colab_type": "code",
        "colab": {
          "base_uri": "https://localhost:8080/",
          "height": 494
        },
        "outputId": "216de2e2-9f29-4882-b02e-e2d92c860603"
      },
      "cell_type": "code",
      "source": [
        "sampler.show_sample(dataset,'train',[0],teacher_forcing=False) \n",
        "sampler.show_sample(dataset,'train',[0],teacher_forcing=True)"
      ],
      "execution_count": 8,
      "outputs": [
        {
          "output_type": "stream",
          "text": [
            "############################## verb 0 ##############################\n",
            "\n",
            "##encoder_input[<bbe>]: at the first god made the heaven and the earth .\n",
            "\u001b[34mdecoder sample [<bbe>]: at the first word the earth takes the heaven and are . <end>\u001b[0m\n",
            "gold label     [<bbe>]: at the first god made the heaven and the earth .\n",
            "\u001b[34mdecoder sample [<ylt>]: at the first one made the heavens and heaven was . <end>\u001b[0m\n",
            "gold label     [<ylt>]: in the beginning of god 's <OOV> the heavens and the earth\n",
            "\n",
            "##encoder_input[<ylt>]: in the beginning of god 's <OOV> the heavens and the earth\n",
            "\u001b[34mdecoder sample [<bbe>]: in the hearing of the king 's <OOV> earth and the heavens <end>\u001b[0m\n",
            "gold label     [<bbe>]: at the first god made the heaven and the earth .\n",
            "\u001b[34mdecoder sample [<ylt>]: in the beginning of god 's <OOV> the heavens and the earth answered me <end>\u001b[0m\n",
            "gold label     [<ylt>]: in the beginning of god 's <OOV> the heavens and the earth\n",
            "############################## verb 0 ##############################\n",
            "\n",
            "##encoder_input[<bbe>]: at the first god made the heaven and the earth .\n",
            "\u001b[31mdecoder TF     [<bbe>]: at the first word made the heaven and the earth . <end> <end> <end> <end> <end> <end> <end> <end> <end> <end> <end> <end> <end> <end> <end> <end> <end> <end> <end> <end> <end> <end> <end> <end> <end> <end> <end> <end> <end> <end> <end> <end> <end> <end> <end> <end> <end> <end> <end> <end> <end> <end> <end> <end> <end> <end> <end> <end> <end> <end>\u001b[0m\n",
            "gold label     [<bbe>]: at the first god made the heaven and the earth .\n",
            "\u001b[31mdecoder TF     [<ylt>]: at the first place job there life the things was things earth . . <end> <end> <end> <end> <end> <end> <end> <end> <end> <end> <end> <end> <end> <end> <end> <end> <end> <end> <end> <end> <end> <end> <end> <end> <end> <end> <end> <end> <end> <end> <end> <end> <end> <end> <end> <end> <end> <end> <end> <end> <end> <end> <end> <end> <end> <end> <end>\u001b[0m\n",
            "gold label     [<ylt>]: in the beginning of god 's <OOV> the heavens and the earth\n",
            "\n",
            "##encoder_input[<ylt>]: in the beginning of god 's <OOV> the heavens and the earth\n",
            "\u001b[31mdecoder TF     [<bbe>]: in the in in of <OOV> <OOV> of <OOV> <OOV> <OOV> <OOV> in <end> <end> <end> <end> <end> <end> <end> <end> <end> <end> <end> <end> <end> <end> <end> <end> <end> <end> <end> <end> <end> <end> <end> <end> <end> <end> <end> <end> <end> <end> <end> <end> <end> <end> <end> <end> <end> <end> <end> <end> <end> <end> <end> <end> <end> <end> <end> <end>\u001b[0m\n",
            "gold label     [<bbe>]: at the first god made the heaven and the earth .\n",
            "\u001b[31mdecoder TF     [<ylt>]: in the beginning of god 's <OOV> the heavens and the earth answered <end> <end> <end> <end> <end> <end> <end> <end> <end> <end> <end> <end> <end> <end> <end> <end> <end> <end> <end> <end> <end> <end> <end> <end> <end> <end> <end> <end> <end> <end> <end> <end> <end> <end> <end> <end> <end> <end> <end> <end> <end> <end> <end> <end> <end> <end> <end> <end>\u001b[0m\n",
            "gold label     [<ylt>]: in the beginning of god 's <OOV> the heavens and the earth\n"
          ],
          "name": "stdout"
        }
      ]
    },
    {
      "metadata": {
        "id": "CgMjyDo2h5Hm",
        "colab_type": "code",
        "colab": {
          "base_uri": "https://localhost:8080/",
          "height": 230
        },
        "outputId": "94d3e831-0153-4d39-8c81-daa8375f464c"
      },
      "cell_type": "code",
      "source": [
        "\n",
        "#Persistency().save_weights(model.get_models(),model.get_model_names(),save_to_gdrive=True) #not run yet....\n",
        "# saving models/models_weights_2018-07-17_19-40-05.zip as id 1kxKYkP0iojqYZ6JY5kNvhdrGSjMTqYMX  "
      ],
      "execution_count": 142,
      "outputs": [
        {
          "output_type": "stream",
          "text": [
            "Requirement already satisfied: pydrive in /usr/local/lib/python3.6/dist-packages (1.3.1)\n",
            "Requirement already satisfied: google-api-python-client>=1.2 in /usr/local/lib/python3.6/dist-packages (from pydrive) (1.6.7)\n",
            "Requirement already satisfied: PyYAML>=3.0 in /usr/local/lib/python3.6/dist-packages (from pydrive) (3.13)\n",
            "Requirement already satisfied: oauth2client>=4.0.0 in /usr/local/lib/python3.6/dist-packages (from pydrive) (4.1.2)\n",
            "Requirement already satisfied: uritemplate<4dev,>=3.0.0 in /usr/local/lib/python3.6/dist-packages (from google-api-python-client>=1.2->pydrive) (3.0.0)\n",
            "Requirement already satisfied: httplib2<1dev,>=0.9.2 in /usr/local/lib/python3.6/dist-packages (from google-api-python-client>=1.2->pydrive) (0.11.3)\n",
            "Requirement already satisfied: six<2dev,>=1.6.1 in /usr/local/lib/python3.6/dist-packages (from google-api-python-client>=1.2->pydrive) (1.11.0)\n",
            "Requirement already satisfied: rsa>=3.1.4 in /usr/local/lib/python3.6/dist-packages (from oauth2client>=4.0.0->pydrive) (3.4.2)\n",
            "Requirement already satisfied: pyasn1>=0.1.7 in /usr/local/lib/python3.6/dist-packages (from oauth2client>=4.0.0->pydrive) (0.4.3)\n",
            "Requirement already satisfied: pyasn1-modules>=0.0.5 in /usr/local/lib/python3.6/dist-packages (from oauth2client>=4.0.0->pydrive) (0.2.2)\n",
            "saving models/models_weights_2018-07-17_19-40-05.zip as id 1kxKYkP0iojqYZ6JY5kNvhdrGSjMTqYMX\n"
          ],
          "name": "stdout"
        }
      ]
    },
    {
      "metadata": {
        "id": "1o3NE3Cf8qwS",
        "colab_type": "text"
      },
      "cell_type": "markdown",
      "source": [
        "## Long adverserial training"
      ]
    },
    {
      "metadata": {
        "id": "uAhFRiSIik6s",
        "colab_type": "code",
        "colab": {
          "base_uri": "https://localhost:8080/",
          "height": 877
        },
        "outputId": "096ffd8f-b8bd-4b4c-8bd6-96549c577ebc"
      },
      "cell_type": "code",
      "source": [
        "print ('epoc contains ',epoc,'batches of', batch_size)\n",
        "# 4 epocs of 1/10.  started well, then adv. start to be too-strong\n",
        "# then 1/100\n",
        "small_steps_d=1\n",
        "small_steps_adv=19\n",
        "\n",
        "\n",
        "for e in range(30):\n",
        "  print ('#'*30,'epocs',e)\n",
        "  for i in range(int(epoc/small_steps_adv)):\n",
        "    if i % 20 ==0:print (i,'of',int(epoc/small_steps_adv),'small steps of size',small_steps_adv,'please wait... ')\n",
        "    \n",
        "    train_d(model.d,small_steps_d)\n",
        "    while loss_history_d.losses['loss'][-1:][0]>0.5:\n",
        "      train_d(model.d,small_steps_d)\n",
        "    \n",
        "    train_adv(model.g_d,small_steps_adv)\n",
        "    while loss_history_d.losses['loss'][-1:][0]>0.3: #maybe less?\n",
        "      train_adv(model.g_d,small_steps_adv)\n",
        "      \n",
        "  sampler.show_sample(dataset,'train'  ,sample_ids=[0,1],teacher_forcing=True)\n",
        "  plt_all()\n",
        "  if e%10==9:\n",
        "    Persistency().save_weights(model.get_models(),model.get_model_names(),save_to_gdrive=True)\n",
        "print ('done')\n",
        "\n"
      ],
      "execution_count": 0,
      "outputs": [
        {
          "output_type": "stream",
          "text": [
            "epoc contains  755 batches of 64\n",
            "############################## epocs 0\n",
            "0 of 39 small steps of size 19 please wait... \n",
            "20 of 39 small steps of size 19 please wait... \n",
            "############################## verb 0 ##############################\n",
            "\n",
            "##encoder_input[<bbe>]: at the first god made the heaven and the earth .\n",
            "\u001b[31mdecoder TF     [<bbe>]: at the first god made the heaven and the earth . <end> <end> <end> <end> <end> <end> <end> <end> <end> <end> <end> <end> <end> <end> <end> <end> <end> <end> <end> <end> <end> <end> <end> <end> <end> <end> <end> <end> <end> <end> <end> <end> <end> <end> <end> <end> <end> <end> <end> <end> <end> <end> <end> <end> <end> <end> <end> <end> <end> <end>\u001b[0m\n",
            "gold label     [<bbe>]: at the first god made the heaven and the earth .\n",
            "\u001b[31mdecoder TF     [<ylt>]: at the first life life still life the life was . earth . . . <end> <end> <end> <end> <end> <end> <end> <end> <end> <end> <end> <end> <end> <end> <end> <end> <end> <end> <end> <end> <end> <end> <end> <end> <end> <end> <end> <end> <end> <end> <end> <end> <end> <end> <end> <end> <end> <end> <end> <end> <end> <end> <end> <end> <end> <end>\u001b[0m\n",
            "gold label     [<ylt>]: in the beginning of god 's <OOV> the heavens and the earth\n",
            "\n",
            "##encoder_input[<ylt>]: in the beginning of god 's <OOV> the heavens and the earth\n",
            "\u001b[31mdecoder TF     [<bbe>]: in all in in of in <OOV> in in <OOV> in thy in thy <end> <end> <end> <end> <end> <end> <end> <end> <end> <end> <end> <end> <end> <end> <end> <end> <end> <end> <end> <end> <end> <end> <end> <end> <end> <end> <end> <end> <end> <end> <end> <end> <end> <end> <end> <end> <end> <end> <end> <end> <end> <end> <end> <end> <end> <end> <end>\u001b[0m\n",
            "gold label     [<bbe>]: at the first god made the heaven and the earth .\n",
            "\u001b[31mdecoder TF     [<ylt>]: in the beginning of the 's <OOV> the heavens and the earth <end> <end> <end> <end> <end> <end> <end> <end> <end> <end> <end> <end> <end> <end> <end> <end> <end> <end> <end> <end> <end> <end> <end> <end> <end> <end> <end> <end> <end> <end> <end> <end> <end> <end> <end> <end> <end> <end> <end> <end> <end> <end> <end> <end> <end> <end> <end> <end> <end>\u001b[0m\n",
            "gold label     [<ylt>]: in the beginning of god 's <OOV> the heavens and the earth\n",
            "############################## verb 1 ##############################\n",
            "\n",
            "##encoder_input[<bbe>]: and the earth was waste and without form ; and it was dark on the face of the deep : and the spirit of god was moving on the face of the waters .\n",
            "\u001b[31mdecoder TF     [<bbe>]: and the earth was waste and without punishment ; the it was dark on the face of the deep ; and the spirit of god was moving on the face of the waters . <end> <end> <end> <end> <end> <end> <end> <end> <end> <end> <end> <end> <end> <end> <end> <end> <end> <end> <end> <end> <end> <end> <end> <end> <end> <end> <end>\u001b[0m\n",
            "gold label     [<bbe>]: and the earth was waste and without form ; and it was dark on the face of the deep : and the spirit of god was moving on the face of the waters .\n",
            "\u001b[31mdecoder TF     [<ylt>]: and wind and become and and very very very very ; very like it very like it very ; it it very were it were : it face of it earth of to : <end> <end> <end> <end> <end> <end> <end> <end> <end> <end> <end> <end> <end> <end> <end> <end> <end> <end> <end> <end> <end> <end> <end> <end> <end> <end> <end>\u001b[0m\n",
            "gold label     [<ylt>]: the earth hath <OOV> waste and void , and darkness is ' on the face of the deep , and the spirit of god <OOV> on the face of the waters ,\n",
            "\n",
            "##encoder_input[<ylt>]: the earth hath <OOV> waste and void , and darkness is ' on the face of the deep , and the spirit of god <OOV> on the face of the waters ,\n",
            "\u001b[31mdecoder TF     [<bbe>]: the the earth hath <OOV> <OOV> <OOV> <OOV> , and the hath <OOV> <OOV> the face of the city , ' the spirit of ' <OOV> <OOV> over the city answereth mountains sea . <end> <end> <end> <end> <end> <end> <end> <end> <end> <end> <end> <end> <end> <end> <end> <end> <end> <end> <end> <end> <end> <end> <end> <end> <end> <end> <end>\u001b[0m\n",
            "gold label     [<bbe>]: and the earth was waste and without form ; and it was dark on the face of the deep : and the spirit of god was moving on the face of the waters .\n",
            "\u001b[31mdecoder TF     [<ylt>]: the earth hath <OOV> waste and void , and the is ' on the face of the deep , and the spirit of god passeth on the face of the waters , <end> <end> <end> <end> <end> <end> <end> <end> <end> <end> <end> <end> <end> <end> <end> <end> <end> <end> <end> <end> <end> <end> <end> <end> <end> <end> <end> <end> <end>\u001b[0m\n",
            "gold label     [<ylt>]: the earth hath <OOV> waste and void , and darkness is ' on the face of the deep , and the spirit of god <OOV> on the face of the waters ,\n"
          ],
          "name": "stdout"
        },
        {
          "output_type": "display_data",
          "data": {
            "image/png": "[encoded data removed]",
            "text/plain": [
              "<matplotlib.figure.Figure at 0x7f0aa924c4a8>"
            ]
          },
          "metadata": {
            "tags": []
          }
        },
        {
          "output_type": "stream",
          "text": [
            "############################## epocs 1\n",
            "0 of 39 small steps of size 19 please wait... \n"
          ],
          "name": "stdout"
        }
      ]
    },
    {
      "metadata": {
        "id": "C-s4-isl4KwE",
        "colab_type": "code",
        "colab": {
          "base_uri": "https://localhost:8080/",
          "height": 301
        },
        "outputId": "dab96404-8437-4ca0-96df-1dc6fb34e906"
      },
      "cell_type": "code",
      "source": [
        "#train_adv(model.g_d,10000,1)\n",
        "\n",
        "sampler.show_sample(dataset,'train'  ,sample_ids=[1],teacher_forcing=False)   #,8000+0\n",
        "#train_g(model.g,100,1)\n",
        "train_d(model.d,100)"
      ],
      "execution_count": 14,
      "outputs": [
        {
          "output_type": "stream",
          "text": [
            "############################## verb 1 ##############################\n",
            "\n",
            "##encoder_input[<bbe>]: and the earth was waste and without form ; and it was dark on the face of the deep : and the spirit of god was moving on the face of the waters .\n",
            "\u001b[34mdecoder sample [<bbe>]: and the earth was waste and there are the way ; like it dark by the face of the east : it is dark on clouds and on the face of the earth : <end>\u001b[0m\n",
            "gold label     [<bbe>]: and the earth was waste and without form ; and it was dark on the face of the deep : and the spirit of god was moving on the face of the waters .\n",
            "\u001b[34mdecoder sample [<ylt>]: and the earth was waste and there is no ; like it like the light on the face of the earth : and thick clouds of dark and cloud on the ends of earth . <end>\u001b[0m\n",
            "gold label     [<ylt>]: the earth hath <OOV> waste and void , and darkness is ' on the face of the deep , and the spirit of god <OOV> on the face of the waters ,\n",
            "\n",
            "##encoder_input[<ylt>]: the earth hath <OOV> waste and void , and darkness is ' on the face of the deep , and the spirit of god <OOV> on the face of the waters ,\n",
            "\u001b[34mdecoder sample [<bbe>]: the earth hath <OOV> up and dust , and the thing is ' on the face of the east , and the darkness is ' destruction on the face of the <OOV> . <end>\u001b[0m\n",
            "gold label     [<bbe>]: and the earth was waste and without form ; and it was dark on the face of the deep : and the spirit of god was moving on the face of the waters .\n",
            "\u001b[34mdecoder sample [<ylt>]: the earth hath <OOV> up and dust , and the darkness is ' on the top of the north , and the spirit of god hath passed over the earth before him . <end>\u001b[0m\n",
            "gold label     [<ylt>]: the earth hath <OOV> waste and void , and darkness is ' on the face of the deep , and the spirit of god <OOV> on the face of the waters ,\n",
            "Epoch 1/1\n",
            "100/100 [==============================] - 3s 29ms/step - loss: 0.0273 - acc: 0.9916 - val_loss: 0.2189 - val_acc: 0.9565\n"
          ],
          "name": "stdout"
        }
      ]
    },
    {
      "metadata": {
        "id": "AQgG6EU84qAy",
        "colab_type": "text"
      },
      "cell_type": "markdown",
      "source": [
        ""
      ]
    },
    {
      "metadata": {
        "id": "XvIkFOWy55ov",
        "colab_type": "text"
      },
      "cell_type": "markdown",
      "source": [
        "# Error analysis"
      ]
    },
    {
      "metadata": {
        "id": "Ob6kDbRUBJki",
        "colab_type": "code",
        "colab": {
          "base_uri": "https://localhost:8080/",
          "height": 771
        },
        "outputId": "e2ddde01-df63-49c8-81ed-d13d4fd22e8f"
      },
      "cell_type": "code",
      "source": [
        "#show_sample('test',sample_id=[0,1,2,999],teacher_forcing=False)   #,8000+0\n",
        "#print (' VAL '*10)                          #TEst with FALSE\n",
        "plt_all()\n",
        "sampler.show_sample(dataset,'train'  ,sample_ids=[1],teacher_forcing=True)   #,8000+0\n",
        "\n",
        "sampler.show_sample(dataset,'train'  ,sample_ids=[1],teacher_forcing=False)   #,8000+0\n"
      ],
      "execution_count": 34,
      "outputs": [
        {
          "output_type": "display_data",
          "data": {
            "image/png": "[encoded data removed]",
            "text/plain": [
              "<matplotlib.figure.Figure at 0x7f67d046c2e8>"
            ]
          },
          "metadata": {
            "tags": []
          }
        },
        {
          "output_type": "stream",
          "text": [
            "############################## verb 1 ##############################\n",
            "\n",
            "##encoder_input[<bbe>]: and the earth was waste and without form ; and it was dark on the face of the deep : and the spirit of god was moving on the face of the waters .\n",
            "\u001b[31mdecoder TF     [<bbe>]: the the of , , the , , and the the , , the the of the lord , the the lord , the , , , <end> <end> of the <end> , <end> <end> <end> <end> <end> <end> <end> <end> <end> <end> <end> <end> <end> <end> <end> <end> <end> <end> <end> <end> <end> <end> <end> <end> <end> <end> <end>\u001b[0m\n",
            "gold label     [<bbe>]: and the earth was waste and without form ; and it was dark on the face of the deep : and the spirit of god was moving on the face of the waters .\n",
            "\u001b[31mdecoder TF     [<ylt>]: the of the , , the , and the , the the , the of the lord , and the lord , the , , , lord of the lord , and <end> <end> <end> <end> <end> <end> <end> <end> <end> <end> <end> <end> <end> <end> <end> <end> <end> <end> <end> <end> <end> <end> <end> <end> <end> <end> <end> <end>\u001b[0m\n",
            "gold label     [<ylt>]: the earth hath <OOV> waste and void , and darkness is ' on the face of the deep , and the spirit of god <OOV> on the face of the waters ,\n",
            "\n",
            "##encoder_input[<ylt>]: the earth hath <OOV> waste and void , and darkness is ' on the face of the deep , and the spirit of god <OOV> on the face of the waters ,\n",
            "\u001b[31mdecoder TF     [<bbe>]: the the of , , the , , and the the , , the the of the lord , the the lord , the , , , <end> <end> of the <end> , <end> <end> <end> <end> <end> <end> <end> <end> <end> <end> <end> <end> <end> <end> <end> <end> <end> <end> <end> <end> <end> <end> <end> <end> <end> <end> <end>\u001b[0m\n",
            "gold label     [<bbe>]: and the earth was waste and without form ; and it was dark on the face of the deep : and the spirit of god was moving on the face of the waters .\n",
            "\u001b[31mdecoder TF     [<ylt>]: the of the , , the , and the , the the , the of the lord , and the lord , the , , , lord of the lord , and <end> <end> <end> <end> <end> <end> <end> <end> <end> <end> <end> <end> <end> <end> <end> <end> <end> <end> <end> <end> <end> <end> <end> <end> <end> <end> <end> <end>\u001b[0m\n",
            "gold label     [<ylt>]: the earth hath <OOV> waste and void , and darkness is ' on the face of the deep , and the spirit of god <OOV> on the face of the waters ,\n",
            "############################## verb 1 ##############################\n",
            "\n",
            "##encoder_input[<bbe>]: and the earth was waste and without form ; and it was dark on the face of the deep : and the spirit of god was moving on the face of the waters .\n",
            "decoder sample [<bbe>]: and the the lord , and the lord , and the lord , and the lord , and the lord , and the lord , and the lord , and <end>\n",
            "gold label     [<bbe>]: and the earth was waste and without form ; and it was dark on the face of the deep : and the spirit of god was moving on the face of the waters .\n",
            "decoder sample [<ylt>]: and the the lord , and the lord , and the lord , and the lord , and the lord , and the lord , and the lord , and <end>\n",
            "gold label     [<ylt>]: the earth hath <OOV> waste and void , and darkness is ' on the face of the deep , and the spirit of god <OOV> on the face of the waters ,\n",
            "\n",
            "##encoder_input[<ylt>]: the earth hath <OOV> waste and void , and darkness is ' on the face of the deep , and the spirit of god <OOV> on the face of the waters ,\n",
            "decoder sample [<bbe>]: and the the lord , and the lord , and the lord , and the lord , and the lord , and the lord , and the lord , and <end>\n",
            "gold label     [<bbe>]: and the earth was waste and without form ; and it was dark on the face of the deep : and the spirit of god was moving on the face of the waters .\n",
            "decoder sample [<ylt>]: and the the lord , and the lord , and the lord , and the lord , and the lord , and the lord , and the lord , and <end>\n",
            "gold label     [<ylt>]: the earth hath <OOV> waste and void , and darkness is ' on the face of the deep , and the spirit of god <OOV> on the face of the waters ,\n"
          ],
          "name": "stdout"
        }
      ]
    },
    {
      "metadata": {
        "id": "pWeHOax44IFY",
        "colab_type": "code",
        "colab": {}
      },
      "cell_type": "code",
      "source": [
        "t"
      ],
      "execution_count": 0,
      "outputs": []
    },
    {
      "metadata": {
        "id": "TkFXxinr0fNo",
        "colab_type": "code",
        "colab": {
          "base_uri": "https://localhost:8080/",
          "height": 627
        },
        "outputId": "b3ae0eec-c0e3-450d-f947-6aaed5fff1be"
      },
      "cell_type": "code",
      "source": [
        "\n",
        "\n",
        "\n",
        "#a= model.predict([x_train[s:e], x_train_d[s:e]])\n",
        "#for i in range(dataset.MAX_SEQUENCE_LENGTH):\n",
        "#  best=np.argmax(a[0,i])\n",
        "#  print (i,best,dataset.index2word[best],a[0,i,best],a[0,i,0])\n",
        "\n",
        "#NEED TO FIX CODE HERE\n",
        "from keras.losses import categorical_crossentropy\n",
        "p=model.predict([x_val,x_val_d])\n",
        "scores=K.eval(K.sum(categorical_crossentropy(K.constant(p), K.constant(y_val) ),axis=1))\n",
        "worse_10 = scores.argsort()[::-1][:10]\n",
        "\n",
        "for i in range(len(worse_10)):\n",
        "  bad=worse_10[i]\n",
        "  print (i,'arg',bad,'score',scores[bad],show_sample('val',False,bad))\n",
        "  \n"
      ],
      "execution_count": 287,
      "outputs": [
        {
          "output_type": "error",
          "ename": "ValueError",
          "evalue": "ignored",
          "traceback": [
            "\u001b[0;31m---------------------------------------------------------------------------\u001b[0m",
            "\u001b[0;31mValueError\u001b[0m                                Traceback (most recent call last)",
            "\u001b[0;32m<ipython-input-287-1e4d70dec522>\u001b[0m in \u001b[0;36m<module>\u001b[0;34m()\u001b[0m\n\u001b[1;32m      2\u001b[0m \u001b[0;32mfrom\u001b[0m \u001b[0mkeras\u001b[0m\u001b[0;34m.\u001b[0m\u001b[0mlosses\u001b[0m \u001b[0;32mimport\u001b[0m \u001b[0mcategorical_crossentropy\u001b[0m\u001b[0;34m\u001b[0m\u001b[0m\n\u001b[1;32m      3\u001b[0m \u001b[0mp\u001b[0m\u001b[0;34m=\u001b[0m\u001b[0mmodel\u001b[0m\u001b[0;34m.\u001b[0m\u001b[0mpredict\u001b[0m\u001b[0;34m(\u001b[0m\u001b[0;34m[\u001b[0m\u001b[0mx_val\u001b[0m\u001b[0;34m,\u001b[0m\u001b[0mx_val_d\u001b[0m\u001b[0;34m]\u001b[0m\u001b[0;34m)\u001b[0m\u001b[0;34m\u001b[0m\u001b[0m\n\u001b[0;32m----> 4\u001b[0;31m \u001b[0mscores\u001b[0m\u001b[0;34m=\u001b[0m\u001b[0mK\u001b[0m\u001b[0;34m.\u001b[0m\u001b[0meval\u001b[0m\u001b[0;34m(\u001b[0m\u001b[0mK\u001b[0m\u001b[0;34m.\u001b[0m\u001b[0msum\u001b[0m\u001b[0;34m(\u001b[0m\u001b[0mcategorical_crossentropy\u001b[0m\u001b[0;34m(\u001b[0m\u001b[0mK\u001b[0m\u001b[0;34m.\u001b[0m\u001b[0mconstant\u001b[0m\u001b[0;34m(\u001b[0m\u001b[0mp\u001b[0m\u001b[0;34m)\u001b[0m\u001b[0;34m,\u001b[0m \u001b[0mK\u001b[0m\u001b[0;34m.\u001b[0m\u001b[0mconstant\u001b[0m\u001b[0;34m(\u001b[0m\u001b[0my_val\u001b[0m\u001b[0;34m)\u001b[0m \u001b[0;34m)\u001b[0m\u001b[0;34m,\u001b[0m\u001b[0maxis\u001b[0m\u001b[0;34m=\u001b[0m\u001b[0;36m1\u001b[0m\u001b[0;34m)\u001b[0m\u001b[0;34m)\u001b[0m\u001b[0;34m\u001b[0m\u001b[0m\n\u001b[0m\u001b[1;32m      5\u001b[0m \u001b[0mworse_10\u001b[0m \u001b[0;34m=\u001b[0m \u001b[0mscores\u001b[0m\u001b[0;34m.\u001b[0m\u001b[0margsort\u001b[0m\u001b[0;34m(\u001b[0m\u001b[0;34m)\u001b[0m\u001b[0;34m[\u001b[0m\u001b[0;34m:\u001b[0m\u001b[0;34m:\u001b[0m\u001b[0;34m-\u001b[0m\u001b[0;36m1\u001b[0m\u001b[0;34m]\u001b[0m\u001b[0;34m[\u001b[0m\u001b[0;34m:\u001b[0m\u001b[0;36m10\u001b[0m\u001b[0;34m]\u001b[0m\u001b[0;34m\u001b[0m\u001b[0m\n\u001b[1;32m      6\u001b[0m \u001b[0;34m\u001b[0m\u001b[0m\n",
            "\u001b[0;32m/usr/local/lib/python3.6/dist-packages/keras/backend/tensorflow_backend.py\u001b[0m in \u001b[0;36mconstant\u001b[0;34m(value, dtype, shape, name)\u001b[0m\n\u001b[1;32m    422\u001b[0m     \u001b[0;32mif\u001b[0m \u001b[0mdtype\u001b[0m \u001b[0;32mis\u001b[0m \u001b[0;32mNone\u001b[0m\u001b[0;34m:\u001b[0m\u001b[0;34m\u001b[0m\u001b[0m\n\u001b[1;32m    423\u001b[0m         \u001b[0mdtype\u001b[0m \u001b[0;34m=\u001b[0m \u001b[0mfloatx\u001b[0m\u001b[0;34m(\u001b[0m\u001b[0;34m)\u001b[0m\u001b[0;34m\u001b[0m\u001b[0m\n\u001b[0;32m--> 424\u001b[0;31m     \u001b[0;32mreturn\u001b[0m \u001b[0mtf\u001b[0m\u001b[0;34m.\u001b[0m\u001b[0mconstant\u001b[0m\u001b[0;34m(\u001b[0m\u001b[0mvalue\u001b[0m\u001b[0;34m,\u001b[0m \u001b[0mdtype\u001b[0m\u001b[0;34m=\u001b[0m\u001b[0mdtype\u001b[0m\u001b[0;34m,\u001b[0m \u001b[0mshape\u001b[0m\u001b[0;34m=\u001b[0m\u001b[0mshape\u001b[0m\u001b[0;34m,\u001b[0m \u001b[0mname\u001b[0m\u001b[0;34m=\u001b[0m\u001b[0mname\u001b[0m\u001b[0;34m)\u001b[0m\u001b[0;34m\u001b[0m\u001b[0m\n\u001b[0m\u001b[1;32m    425\u001b[0m \u001b[0;34m\u001b[0m\u001b[0m\n\u001b[1;32m    426\u001b[0m \u001b[0;34m\u001b[0m\u001b[0m\n",
            "\u001b[0;32m/usr/local/lib/python3.6/dist-packages/tensorflow/python/framework/constant_op.py\u001b[0m in \u001b[0;36mconstant\u001b[0;34m(value, dtype, shape, name, verify_shape)\u001b[0m\n\u001b[1;32m    194\u001b[0m   tensor_value.tensor.CopyFrom(\n\u001b[1;32m    195\u001b[0m       tensor_util.make_tensor_proto(\n\u001b[0;32m--> 196\u001b[0;31m           value, dtype=dtype, shape=shape, verify_shape=verify_shape))\n\u001b[0m\u001b[1;32m    197\u001b[0m   \u001b[0mdtype_value\u001b[0m \u001b[0;34m=\u001b[0m \u001b[0mattr_value_pb2\u001b[0m\u001b[0;34m.\u001b[0m\u001b[0mAttrValue\u001b[0m\u001b[0;34m(\u001b[0m\u001b[0mtype\u001b[0m\u001b[0;34m=\u001b[0m\u001b[0mtensor_value\u001b[0m\u001b[0;34m.\u001b[0m\u001b[0mtensor\u001b[0m\u001b[0;34m.\u001b[0m\u001b[0mdtype\u001b[0m\u001b[0;34m)\u001b[0m\u001b[0;34m\u001b[0m\u001b[0m\n\u001b[1;32m    198\u001b[0m   const_tensor = g.create_op(\n",
            "\u001b[0;32m/usr/local/lib/python3.6/dist-packages/tensorflow/python/framework/tensor_util.py\u001b[0m in \u001b[0;36mmake_tensor_proto\u001b[0;34m(values, dtype, shape, verify_shape)\u001b[0m\n\u001b[1;32m    422\u001b[0m   \u001b[0;32melse\u001b[0m\u001b[0;34m:\u001b[0m\u001b[0;34m\u001b[0m\u001b[0m\n\u001b[1;32m    423\u001b[0m     \u001b[0;32mif\u001b[0m \u001b[0mvalues\u001b[0m \u001b[0;32mis\u001b[0m \u001b[0;32mNone\u001b[0m\u001b[0;34m:\u001b[0m\u001b[0;34m\u001b[0m\u001b[0m\n\u001b[0;32m--> 424\u001b[0;31m       \u001b[0;32mraise\u001b[0m \u001b[0mValueError\u001b[0m\u001b[0;34m(\u001b[0m\u001b[0;34m\"None values not supported.\"\u001b[0m\u001b[0;34m)\u001b[0m\u001b[0;34m\u001b[0m\u001b[0m\n\u001b[0m\u001b[1;32m    425\u001b[0m     \u001b[0;31m# if dtype is provided, forces numpy array to be the type\u001b[0m\u001b[0;34m\u001b[0m\u001b[0;34m\u001b[0m\u001b[0m\n\u001b[1;32m    426\u001b[0m     \u001b[0;31m# provided if possible.\u001b[0m\u001b[0;34m\u001b[0m\u001b[0;34m\u001b[0m\u001b[0m\n",
            "\u001b[0;31mValueError\u001b[0m: None values not supported."
          ]
        }
      ]
    },
    {
      "metadata": {
        "id": "8QaOXXjUAwVH",
        "colab_type": "text"
      },
      "cell_type": "markdown",
      "source": [
        "## Error of style disc."
      ]
    },
    {
      "metadata": {
        "id": "t_YnBS4fAr1M",
        "colab_type": "code",
        "colab": {
          "base_uri": "https://localhost:8080/",
          "height": 248
        },
        "outputId": "2a68d9f1-fedf-4ff5-e9b0-bab402a459d8"
      },
      "cell_type": "code",
      "source": [
        "### Error of style discriminator\n",
        "x,y=next(gen(dataset.result.val,10,'d'))\n",
        "print ('eval',d.evaluate(x,y))\n",
        "p=d.predict(x)\n",
        "for i in range(len(y)):\n",
        "  print (i,'error',(abs(y[i][0]-p[i][0])),'gold',y[i],p[i],dataset.one_x_as_text(x[i]))\n",
        "\n",
        "\n",
        "\n"
      ],
      "execution_count": 211,
      "outputs": [
        {
          "output_type": "stream",
          "text": [
            "\r10/10 [==============================] - 0s 2ms/step\n",
            "eval [0.6257959008216858, 0.8999999761581421]\n",
            "0 actual 0.38546136 [0. 1.] [0.38546136 0.6145386 ] For I have kept the ways of the Lord; I have not been turned away in sin from my God.\n",
            "1 actual 0.42803007 [0. 1.] [0.42803007 0.5719699 ] \"And while she was still talking with the king, <oov> the prophet came in.\" <s> <s> <s> <s> <s> <s>\n",
            "2 actual 0.31531385 [0. 1.] [0.31531385 0.6846862 ] \"Then he gave a cry to the servant who was waiting on him and said, Put this woman out, and\n",
            "3 actual 0.01998341 [1. 0.] [0.9800166  0.01998337] \"And all the people come up after him, and the people are <oov> with <oov> and <oov> -- great joy,\n",
            "4 actual 0.116271734 [0. 1.] [0.11627173 0.8837283 ] \"Now the servants of David and <oov> had been out attacking a band of armed men, and they came back\n",
            "5 actual 0.10636711 [0. 1.] [0.10636711 0.8936329 ] \"He made them of liquid metal in the lowland of Jordan, at the way across the river, at <oov> between\n",
            "6 actual 0.98686856 [1. 0.] [0.01313142 0.98686856] \"and the people who `are' in it he hath brought out, and setteth to the saw, and to cutting instruments\n",
            "7 actual 0.11351353 [1. 0.] [0.8864865 0.1135135] <oov> Thou hast been great, Jehovah God, for there is none like Thee, and there is no God save Thee,\n",
            "8 actual 0.10948968 [1. 0.] [0.8905103  0.10948969] \"and <oov> hath risen early, and stood by the side of the way of the gate, and it cometh to\n",
            "9 actual 0.0081293825 [0. 1.] [0.00812938 0.99187064] \"Is it not clear to you that Abner, the son of Ner, came with deceit to get knowledge of your\n"
          ],
          "name": "stdout"
        }
      ]
    },
    {
      "metadata": {
        "id": "yuyAKbHkxsJ-",
        "colab_type": "code",
        "colab": {}
      },
      "cell_type": "code",
      "source": [
        "why GANs work?\n",
        "d classifies fake and real.\n",
        "g is working to make fakes look more real."
      ],
      "execution_count": 0,
      "outputs": []
    },
    {
      "metadata": {
        "id": "E2yLpQu4mvAS",
        "colab_type": "text"
      },
      "cell_type": "markdown",
      "source": [
        "# FAQ and wierd exceptions\n",
        "\n",
        "* If you get exceptions related to cuda-lstm , inside the show_sample, but you actially not using it at all.  You will need to restart the notebook (thinking it's TF issue/bug)\n",
        "* why the sampler without teacher-forcing emits garabage? if it emits the 1st word differently from teacher-forcing, it means that the models somehow got disconnected, or that you use wrong label (y1 should be one-hot of x1 not of x2)\n",
        "* why the decoder shows bad sentences when my loss gets lower?  the loss should be **very** low before you start getting real results. typically values of g of less than 0.5"
      ]
    },
    {
      "metadata": {
        "id": "9rRMNtUdrey1",
        "colab_type": "code",
        "colab": {}
      },
      "cell_type": "code",
      "source": [
        "# Very slow training speed, is it generator next() which is slow?\n",
        "%time gen= dataset.gen_adv(dataset.train, batch_size)\n",
        "%time next(gen)\n",
        "%time next(gen)\n",
        "%time next(gen)\n",
        "[x1,x2],[y1,y2]=next(gen)\n",
        "print (x1.shape)  #20 batches per second\n",
        "\n",
        "#for i in range(100): #batch-generation time is up to 50ms. means 10 batches is 0.5 seconds, means train step is 1sec only generation!\n",
        "train_adv(model.g_d, 1000, validation_steps=1) #looked like 2-3min 180s, of which 100s are "
      ],
      "execution_count": 0,
      "outputs": []
    }
  ]
}