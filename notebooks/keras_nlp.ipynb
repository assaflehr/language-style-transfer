{
  "nbformat": 4,
  "nbformat_minor": 0,
  "metadata": {
    "colab": {
      "name": "keras_nlp.ipynb",
      "version": "0.3.2",
      "provenance": [],
      "collapsed_sections": [],
      "toc_visible": true,
      "include_colab_link": true
    },
    "kernelspec": {
      "name": "python3",
      "display_name": "Python 3"
    },
    "accelerator": "GPU"
  },
  "cells": [
    {
      "cell_type": "markdown",
      "metadata": {
        "id": "view-in-github",
        "colab_type": "text"
      },
      "source": [
        "[View in Colaboratory](https://colab.research.google.com/github/assaflehr/language-style-transfer/blob/master/notebooks/keras_nlp.ipynb)"
      ]
    },
    {
      "metadata": {
        "id": "vR_wGTR6szDb",
        "colab_type": "text"
      },
      "cell_type": "markdown",
      "source": [
        ""
      ]
    },
    {
      "metadata": {
        "id": "IlHFO8mRiISw",
        "colab_type": "code",
        "colab": {
          "base_uri": "https://localhost:8080/",
          "height": 125
        },
        "outputId": "6f148447-33ca-421e-c5ec-e623d2100d89"
      },
      "cell_type": "code",
      "source": [
        "!ps -ef | grep python\n",
        "\n",
        "import tensorflow as tf\n",
        "tf.test.gpu_device_name()\n"
      ],
      "execution_count": 230,
      "outputs": [
        {
          "output_type": "stream",
          "text": [
            "root        73    67  0 07:41 ?        00:01:14 /usr/bin/python2 /usr/local/bin/jupyter-notebook -y --no-browser --log-level=DEBUG --debug --NotebookApp.allow_origin=\"*\" --NotebookApp.log_format=\"%(message)s\" --NotebookApp.disable_check_xsrf=True --NotebookApp.token= --Session.key=\"\" --Session.keyfile=\"\" --ContentsManager.untitled_directory=\"Untitled Folder\" --ContentsManager.untitled_file=\"Untitled File\" --ContentsManager.untitled_notebook=\"Untitled Notebook\" --KernelManager.autorestart=True --MultiKernelManager.default_kernel_name=\"python2\" --ip=\"127.0.0.1\" --port=9000 --port-retries=0 --notebook-dir=\"/content\" --NotebookApp.base_url=/tun/m/gpu-2g6xqzfzg6n8d/\r\n",
            "root        81    73 41 07:41 ?        02:01:48 /usr/bin/python3 -m ipykernel_launcher -f /content/.local/share/jupyter/runtime/kernel-06ba2743-ed0a-4ddb-a2db-40574824e7b4.json\r\n",
            "root      4882    81 99 12:32 pts/0    00:00:01 /bin/sh -c ps -ef | grep python\r\n",
            "root      4884  4882  0 12:32 pts/0    00:00:00 grep python\r\n"
          ],
          "name": "stdout"
        },
        {
          "output_type": "execute_result",
          "data": {
            "text/plain": [
              "'/device:GPU:0'"
            ]
          },
          "metadata": {
            "tags": []
          },
          "execution_count": 230
        }
      ]
    },
    {
      "metadata": {
        "id": "wp4BcB4250bT",
        "colab_type": "toc"
      },
      "cell_type": "markdown",
      "source": [
        ">>[Keras accuracy/performace limitations](#scrollTo=vR_wGTR6szDb)\n",
        "\n",
        ">>[Pretraining autoencoder or LM will surely help.](#scrollTo=vR_wGTR6szDb)\n",
        "\n",
        ">>>[CuDNNLSTM vs LSTM](#scrollTo=vR_wGTR6szDb)\n",
        "\n",
        ">>>[Tip to self:](#scrollTo=vR_wGTR6szDb)\n",
        "\n",
        ">>>[For David: example of how to clone, then use from github](#scrollTo=OrKzdh71sBKm)\n",
        "\n",
        ">[Dataset](#scrollTo=wwc6_EHFD_Ir)\n",
        "\n",
        ">[Model defintion](#scrollTo=BWVEcaeF6DBR)\n",
        "\n",
        ">>[classifier](#scrollTo=VTobPYftYvQC)\n",
        "\n",
        ">>[adverserial model](#scrollTo=9TBO_5dXv40K)\n",
        "\n",
        ">[TRAINING](#scrollTo=9s0-8EJi6AG1)\n",
        "\n",
        ">[Error analysis](#scrollTo=XvIkFOWy55ov)\n",
        "\n",
        ">>[Error of style disc.](#scrollTo=8QaOXXjUAwVH)\n",
        "\n"
      ]
    },
    {
      "metadata": {
        "id": "Og2XNK-_53VP",
        "colab_type": "text"
      },
      "cell_type": "markdown",
      "source": [
        "## Keras accuracy/performace limitations\n",
        " \n",
        "# Performace caution :\n",
        "G training epoc (250x64 rows) \n",
        "\n",
        "type|RNN|bidi?|time\n",
        "--|--\n",
        "CPU|LSTM|Y| 15 min|\n",
        "GPU|LSTM|Y| 75s| (slower but more-accurate)\n",
        "GPU|CuDNNLSTM|Y| 42s\n",
        "GPU|CuDNNLSTM|N| 35s\n",
        "\n",
        "\n",
        "\n",
        "\n",
        "\n",
        "\n",
        "## Pretraining autoencoder or LM will surely help.\n",
        "\n",
        "see late review here: https://thegradient.pub/author/sebastian\n",
        "and autoencoder (which is less recommended than LM here: \"Semi-supervised Sequence Learning\" 2015. They use one RNN for both encoder and decoder)\n",
        "\n",
        "\n",
        "###   LSTM \n",
        "* CuDNNLSTM trains on GPU , but does not support the attributes: dropout,recurrent_dropout,which are the STOA regulaizers. This is cuda problem, and even native TF does not support it\n",
        "Hard to compare only that. all G (with dense and more...) takes 35s on GPU. on CPU ???\n",
        "* Make LSTM deep instead of bigger for linear instead of quadratic growth in compuation. when doing so, add skip connection to 2nd/3rd/... layers\n",
        "* large vocab size means huge softmax, means slow runtime. to optimize training NCE loss replaces softmax on train-time (TF only)\n",
        "\n",
        "### Tip to self:\n",
        "* manually check loss value on one sample (predict vs gt). From doing this, I saw <s> was not given one-hot-value"
      ]
    },
    {
      "metadata": {
        "id": "OrKzdh71sBKm",
        "colab_type": "text"
      },
      "cell_type": "markdown",
      "source": [
        "### For David: example of how to clone, then use from github\n",
        "```python\n",
        "#!rm -r language-style-transfer  #remove previous github copy if needed\n",
        "!git clone https://github.com/assaflehr/language-style-transfer.git\n",
        "#we rename to as lang_transfer will be the package name\n",
        "!mv language-style-transfer/code language-style-transfer/lang_transfer\n",
        "\n",
        "# Add the local_modules directory to the set of paths Python uses to look for imports.\n",
        "import sys\n",
        "sys.path.append('language-style-transfer')\n",
        "\n",
        "import lang_transfer   #your code here!!!\n",
        "```"
      ]
    },
    {
      "metadata": {
        "id": "sR6UgvoTTaA4",
        "colab_type": "code",
        "colab": {}
      },
      "cell_type": "code",
      "source": [
        ""
      ],
      "execution_count": 0,
      "outputs": []
    },
    {
      "metadata": {
        "id": "UbJwZjyhsDvP",
        "colab_type": "code",
        "colab": {}
      },
      "cell_type": "code",
      "source": [
        "# adaptation of: https://blog.keras.io/a-ten-minute-introduction-to-sequence-to-sequence-learning-in-keras.html\n",
        "# first Dataset class to load bible-data\n",
        "# then copy of the model, but working with words instead of chars\n",
        "\n",
        "\n",
        "\n"
      ],
      "execution_count": 0,
      "outputs": []
    },
    {
      "metadata": {
        "id": "MBAgWVvXycpF",
        "colab_type": "text"
      },
      "cell_type": "markdown",
      "source": [
        "# Some params"
      ]
    },
    {
      "metadata": {
        "id": "tyGmM8WFrH4n",
        "colab_type": "code",
        "colab": {}
      },
      "cell_type": "code",
      "source": [
        "embedding_dim=300 #100-300 good numbers\n",
        "\n",
        "# for hidden unit of LSTM. Increasing it increase the model strength (and compuation time).\n",
        "# increasing should increase fit to train (and when using stronger reguralization/dropout even val)\n",
        "latent_dim = 512 \n",
        "\n",
        "bidi_encoder=True\n",
        "\n",
        "cuddlstm=True  \n",
        " \n",
        "# LSTM dropouts, one of the best ways to fight overfiltting. ragnge 0-0.5++ (0 means no dropout)\n",
        "# Increase it to reduce diff between train and val\n",
        "en_lstm_dropout=0.3          \n",
        "en_lstm_recurent_dropout=0.3 #only relevant if NOT cuddlstm.\n",
        "de_lstm_dropout=0.0          #only relevant if NOT cuddlstm.\n",
        "de_lstm_recurent_dropout=0.0 #only relevant if NOT cuddlstm\n",
        "\n",
        "batch_size=64\n",
        "\n"
      ],
      "execution_count": 0,
      "outputs": []
    },
    {
      "metadata": {
        "id": "wwc6_EHFD_Ir",
        "colab_type": "text"
      },
      "cell_type": "markdown",
      "source": [
        "# Dataset"
      ]
    },
    {
      "metadata": {
        "id": "PcPSCDUrx3B8",
        "colab_type": "code",
        "colab": {
          "base_uri": "https://localhost:8080/",
          "height": 635
        },
        "outputId": "30db3d01-d9cb-45bf-aabe-387b3cfe873b"
      },
      "cell_type": "code",
      "source": [
        "## NLP preprocessing for text\n",
        "# has few parts:\n",
        "# 1. load zip files and then use glob to filter part of them (data/*/*.txt)\n",
        "# 2. parse each row into (x,y) by passing a parser method. it can be simple as lambda line:line:x, or if you use tab delimited lambda line: line.split(',')[4]\n",
        "# 3. tokenize - split by spaces, but also by ., and be smart about it.  ('...' should be one token , \"ai'nt\" one token. then; should be two 'token' and ';')\n",
        "#    you should also build vocabulary, keep X words and throw away rare ones, they will be replaced by <oov> flag.\n",
        "# 4. transform text to sequences for the result. for words there are usually two different types: ['s>','hello', 'world'] -> [0,5,6] but there is also \n",
        "#     a one-hot-econding version where 5 is actaully a vector of size voc-length full of zeros, with 5th index==1.\n",
        "#    The one-hot ecoding is used as output for text-generation and has a HUGE MEMORY requirement.  100K sentences of size 20 words need 2M floats = 8MB\n",
        "#    But for the one-hot-encoding multiply this by vocab-size. for char-encoding it's ~30 , for good vocab of 10K words, we need 80GB(!)\n",
        "#    The simple, and only , way to solve this , is to never keep one-hot-encoding in memory, just use a generator to make it one-hot in runtime\n",
        "\n",
        "\n",
        "\n",
        "from __future__ import print_function\n",
        "\n",
        "import numpy as np\n",
        "import os\n",
        "import glob\n",
        "import csv, json\n",
        "from collections import namedtuple\n",
        "from zipfile import ZipFile\n",
        "from os.path import expanduser, exists\n",
        "import keras\n",
        "from keras import backend as K\n",
        "from keras.utils.data_utils import get_file\n",
        "from keras.preprocessing.text import Tokenizer\n",
        "from keras.preprocessing.sequence import pad_sequences\n",
        "from keras.utils.data_utils import get_file\n",
        "from keras.utils import to_categorical\n",
        "from keras.preprocessing.text import Tokenizer\n",
        "\n",
        "\n",
        "\n",
        "TVT = namedtuple('TVT',['train','val','test'])\n",
        "\n",
        "class Dataset:\n",
        "  #Dataset for COPY encoder-decoder\n",
        "  # to David: generator x,y where x1 is encoder_input is batch_size,max-words of type integer. (hello word <e> )   [x] (64,10)\n",
        "  #                               x2 is decoder_input is batch,max-words of type integer  ( <s>  hello word)  [x]      (64,10)\n",
        "  #                               y1             batch,max-words,one-hot-encoding (offset one: hello world <end>) (64,10,10000)\n",
        "  #                               y_style:           batch,one-hot-of-style                                       (64,2)\n",
        "  #                                          shape: (64,10)  batch_size=64 ,max_words=10 , vocab_size= 10000  style_vocab=2/5\n",
        "  # tokenizer is currently very bad. replace it\n",
        "  # vocabulary (training-only) , don't use 666 , use large number (10K?)\n",
        "  # Generator : iteration result ([x1,x2],[y1,y_style])\n",
        "  \n",
        "  # for auto-encoder pre-training without style  ([x1,x2],y1)  with no y_style\n",
        "  \n",
        "  \n",
        "  def __init__(self,unique_name,url,extract,cache_dir,pattern,skip_first,row_parser,validation_pattern=0.1,test_pattern=0.1):\n",
        "    '''\n",
        "    unique_name will be used for the dataset source(or zip) file. \n",
        "    pattern need to include path inside zip (including zip root)\n",
        "    extract - is it zipped/tarred or not\n",
        "    cache_dir - under which the files be downloaded <cache_dir>/datasets/<unique_name>\n",
        "    pattern - glob will be done to choose only those files ,for example data*.txt. This should incldude both train and test\n",
        "    validation - subset glob pattern to use. If it's a float like 0.1, use it as split of one file\n",
        "    test - see above\n",
        "    '''\n",
        "    if not extract and pattern:\n",
        "      raise ValueError('pattern must be empty if extract=False chooses a subset of the files (data/*.txt). but you downloaded only one file')\n",
        "\n",
        "    if not os.path.exists(cache_dir):\n",
        "       os.makedirs(cache_dir)\n",
        "\n",
        "    fpath=get_file(unique_name, url,extract=True, cache_dir=cache_dir)\n",
        "    print ('fpath',fpath)\n",
        "    files = [fpath] if not pattern else glob.glob(f'{cache_dir}/datasets/{pattern}')\n",
        "\n",
        "    train,val,test=[],[],[]\n",
        "    for f in files:\n",
        "      lines = [row_parser(f,line.rstrip()) for line in open(f,encoding=\"latin-1\").readlines()] \n",
        "      print ('max lines in file f',len(lines))\n",
        "      lines = lines[1 if skip_first else 0:][:30000]\n",
        "      print ('HARDCODED MAX LINES = 30000')\n",
        "      \n",
        "      print (files,'#lines',len(lines),'first 3 lines')\n",
        "      print (lines[0],'\\n',lines[1],'\\n',lines[2])\n",
        "      \n",
        "      if isinstance(validation_pattern,float) and isinstance(test_pattern,float):\n",
        "        test_count = int(len(lines)*(1-validation_pattern))\n",
        "        val_count =  int(len(lines)*(1-test_pattern-validation_pattern))\n",
        "        print ('(val_count,test_count)',val_count,test_count)\n",
        "        train+= lines[:val_count]\n",
        "        val+=   lines[val_count:test_count]\n",
        "        test+=  lines[test_count:]\n",
        "        \n",
        "    self.tvt_lines = TVT(train, val, test)\n",
        "    print ('train:',len(self.tvt_lines.train),'val',len(self.tvt_lines.val),'test',len(self.tvt_lines.test))\n",
        "    self.parsed= self.tvt_lines\n",
        "  \n",
        "  \n",
        "  def fit(self):\n",
        "    \"\"\" the current implementation is quite bad, hello world! will be 2 tokens world! is the second. \n",
        "    \"\"\"\n",
        "    print ('limiting num_words in Tokenizer due to MEMORY BOUNDS')  #num_words =100*1000\n",
        "\n",
        "    \n",
        "    # I use here tokenizer only to count freq. of words, then manually choose most freq. and manually split\n",
        "    # this is bad. There are better ways to do it (probably library/code which do it in one line)\n",
        "    print ('\\nREPLACE ME . BAD TOKENIZER!!!')\n",
        "    self.tokenizer = Tokenizer(num_words=100000, filters='', lower=False, split=' ', char_level=False, oov_token='<oov>')\n",
        "    \n",
        "    # self.parsed.train is a list , each value is tuple text_string,file_name\n",
        "    self.tokenizer.fit_on_texts([x for x,style in self.parsed.train])\n",
        "    self.styles = set([style for x,style in self.parsed.train])\n",
        "    print ('styles',self.styles)\n",
        "    self.style2index = {style:i for i,style in enumerate(self.styles)}\n",
        "    self.index2style = {index:style for style,index in self.style2index.items() }\n",
        "    print (self.style2index,self.index2style)\n",
        "    \n",
        "    #print ('\\n word_index',len(self.tokenizer.word_index),'<oov>',self.tokenizer.word_index['<oov>'])\n",
        "    print ('common',list(self.tokenizer.word_index.items())[:15])\n",
        "    print ('uncommon',list(self.tokenizer.word_index.items())[-15:])\n",
        "  \n",
        "    \n",
        "    num_words= 10000\n",
        "    print ('CAPPING. keeping ',num_words,'of',len(self.tokenizer.word_index))\n",
        "    \n",
        "    num_words= min(num_words,len(self.styles)+1+len(self.tokenizer.word_index))\n",
        "    print (num_words,num_words,num_words)    \n",
        "    word2index = dict(list(self.tokenizer.word_index.items())[:num_words-len(self.styles)-2])\n",
        "    word2index['<s>']=0  #keras tokenizer keeps 0 unused\n",
        "    for i,style in enumerate(self.styles):\n",
        "      word2index[style]=num_words-1-len(self.styles)+i  #if num_words=100 . [96,97,98] \n",
        "    word2index['<oov>']=num_words-1                     #<oov> is [99]\n",
        "    print ('word2index',len(word2index))\n",
        "    \n",
        "    #FOR NOW the start and end are both ZERO. maybe not good???\n",
        "    \n",
        "    num_encoder_tokens = num_decoder_tokens= num_words # len(self.tokenizer.word_index)\n",
        "    self.word2index = word2index\n",
        "    self.index2word = {index:word for (word,index) in self.word2index.items()}\n",
        "    self.MAX_SEQUENCE_LENGTH=20  #100\n",
        "    \n",
        "    verbose=5\n",
        "    result = []\n",
        "    for rows in self.parsed:\n",
        "\n",
        "      encoder_input_data  = np.zeros( (len(rows), self.MAX_SEQUENCE_LENGTH),    dtype='float32')\n",
        "      decoder_input_data  = np.zeros( (len(rows), self.MAX_SEQUENCE_LENGTH),    dtype='float32') # shifted by 1\n",
        "      decoder_target_data = None #np.zeros((len(rows),  self.MAX_SEQUENCE_LENGTH, num_decoder_tokens),    dtype='float32')\n",
        "      style_data          = np.zeros((len(rows),  len(self.styles)),    dtype='float32') #one-hot\n",
        "      \n",
        "      #input to decoder   <s> hello world\n",
        "      #target of decoder: hello world <s>\n",
        "      \n",
        "      for i, (input_text,style) in enumerate(rows):\n",
        "        input_text = input_text.split(' ') #BUG: we need to use tokenizer here!!!!\n",
        "        #pad with end token  hello world <end> <end> <end>\n",
        "        end_token='<s>'\n",
        "        input_text += [end_token for _ in range(self.MAX_SEQUENCE_LENGTH - len(input_text)+1)]\n",
        "        if verbose:\n",
        "          print ('input_text',input_text)\n",
        "          verbose-=1\n",
        "        # out : hello  world  <end>  (MAX_SEQUENCE_LENGTH=2)  <-encoder_input+ decoder_output(but one-hot)\n",
        "        #\n",
        "        # in: : <s>   hello   world  <- decoder-input\n",
        "         \n",
        "        for t, word in enumerate(([style]+input_text)[:self.MAX_SEQUENCE_LENGTH]):\n",
        "            one_hot = word2index['<oov>'] if word not in word2index else word2index[word]\n",
        "            decoder_input_data[i, t ] = one_hot\n",
        "            \n",
        "        for t,word in enumerate(input_text[:self.MAX_SEQUENCE_LENGTH]):  #last must be <end>=<s> token\n",
        "            one_hot = word2index['<oov>'] if word not in word2index else word2index[word]\n",
        "            encoder_input_data[i,t]=one_hot\n",
        "            #decoder_target_data[i, t, one_hot] = 1. \n",
        "            \n",
        "        style_data[i,self.style2index[style]]= 1\n",
        "        \n",
        "      #print (decoder_target_data.sum(),len(rows)*self.MAX_SEQUENCE_LENGTH)\n",
        "      #assert int(decoder_target_data.sum())==len(rows)*self.MAX_SEQUENCE_LENGTH #one-hot-encoding must always include one\n",
        "      \n",
        "      result.append( (encoder_input_data,decoder_input_data,decoder_target_data,style_data))\n",
        "\n",
        "    self.result= TVT(*result)\n",
        "\n",
        "  def one_x_as_text(self,x):\n",
        "    \"\"\" 1x20 or 20 input\"\"\"\n",
        "    if len(x.shape)==2: \n",
        "      assert x.shape[0] ==1  #can only work on batch of 1\n",
        "      x= x[0]\n",
        "    return ' '.join([self.index2word[index] for index in x])\n",
        "\n",
        "  def one_y_as_text(self,y):\n",
        "    \"\"\" 1x20x2000 or 20x2000 input, in case of first will work on y[0]\"\"\"\n",
        "    if len(y.shape)==3: \n",
        "      assert y.shape[0] ==1  #can only work on batch of 1\n",
        "      y=y[0]\n",
        "      \n",
        "    best_token = np.argmax(y,1)\n",
        "    return ' '.join([self.index2word[index] for index in best_token])\n",
        "\n",
        "  \n",
        "cache_dir='cache' \n",
        "#dataset('quora_dups','http://qim.ec.quoracdn.net/quora_duplicate_questions.tsv',False,cache_dir) \n",
        "#dataset('bible4','https://codeload.github.com/keithecarlson/Zero-Shot-Style-Transfer/zip/master',extract=True,cache_dir=cache_dir\n",
        "#       pattern=('Zero-Shot-Style-Transfer-master/Data/Bibles/ASV/*/*.txt','Zero-Shot-Style-Transfer-master/Data/Bibles/BBE/*/*.txt')\n",
        "\n",
        "#x,y,z,t,and good, will happen , here\n",
        "row_parser= lambda file_name,line: (','.join(line.split(',')[4:]),\n",
        "                                    file_name.split('/')[-1]) #map x to x,style_file\n",
        "dataset = Dataset('bible_csv','https://codeload.github.com/ashual/style-transfer/zip/master',extract=True,cache_dir=cache_dir,\n",
        "                  \n",
        "                  pattern='style-transfer-master/datasets/bible-corpus/t_[yb]*.csv',skip_first=True,row_parser=row_parser)    #kbd\n",
        "dataset.fit()        \n",
        "x_train, x_train_d, y_train,style_train = dataset.result.train\n",
        "x_val, x_val_d,y_val ,style_val= dataset.result.val\n",
        "x_test,x_test_d,y_test ,style_test= dataset.result.test\n",
        "\n",
        "print ('train',x_train.shape,x_train_d.shape,y_train,style_train.shape)\n",
        "print('val',x_val.shape)\n",
        "print ('train in MB x,y',x_train.nbytes/1e6)\n",
        "\n",
        "\n",
        "#,t_bbe,BBE,english,Bible in Basic English,,http://en.wikipedia.org/wiki/Bible_in_Basic_English,,Public Domain,\n",
        "                  #,t_dby,DARBY,english,Darby English Bible,,http://en.wikipedia.org/wiki/Darby_Bible,,Public Domain,\n",
        "                  #,t_kjv,KJV,english,King James Version,,http://en.wikipedia.org/wiki/King_James_Version,,Public Domain,\n"
      ],
      "execution_count": 232,
      "outputs": [
        {
          "output_type": "stream",
          "text": [
            "fpath cache/datasets/bible_csv\n",
            "max lines in file f 31104\n",
            "HARDCODED MAX LINES = 30000\n",
            "['cache/datasets/style-transfer-master/datasets/bible-corpus/t_ylt.csv', 'cache/datasets/style-transfer-master/datasets/bible-corpus/t_bbe.csv'] #lines 30000 first 3 lines\n",
            "(\"In the beginning of God's preparing the heavens and the earth --\", 't_ylt.csv') \n",
            " ('\"the earth hath existed waste and void, and darkness `is\\' on the face of the deep, and the Spirit of God fluttering on the face of the waters,\"', 't_ylt.csv') \n",
            " ('\"and God saith, `Let light be;\\' and light is.\"', 't_ylt.csv')\n",
            "(val_count,test_count) 24000 27000\n",
            "max lines in file f 31104\n",
            "HARDCODED MAX LINES = 30000\n",
            "['cache/datasets/style-transfer-master/datasets/bible-corpus/t_ylt.csv', 'cache/datasets/style-transfer-master/datasets/bible-corpus/t_bbe.csv'] #lines 30000 first 3 lines\n",
            "('At the first God made the heaven and the earth.', 't_bbe.csv') \n",
            " ('And the earth was waste and without form; and it was dark on the face of the deep: and the Spirit of God was moving on the face of the waters.', 't_bbe.csv') \n",
            " ('\"And God said, Let there be light: and there was light.\"', 't_bbe.csv')\n",
            "(val_count,test_count) 24000 27000\n",
            "train: 48000 val 6000 test 6000\n",
            "limiting num_words in Tokenizer due to MEMORY BOUNDS\n",
            "\n",
            "REPLACE ME . BAD TOKENIZER!!!\n",
            "styles {'t_ylt.csv', 't_bbe.csv'}\n",
            "{'t_ylt.csv': 0, 't_bbe.csv': 1} {0: 't_ylt.csv', 1: 't_bbe.csv'}\n",
            "common [('the', 1), ('of', 2), ('and', 3), ('to', 4), ('in', 5), ('a', 6), ('\"And', 7), ('for', 8), ('his', 9), ('is', 10), ('have', 11), ('I', 12), ('he', 13), ('not', 14), ('will', 15)]\n",
            "uncommon [('scribes:', 39710), ('Synagogues,', 39711), ('Zachariah,', 39712), ('Barachiah,', 39713), ('her!', 39714), ('Christ;', 39715), ('wars:', 39716), ('reader),\"', 39717), ('Here;', 39718), ('wonders;', 39719), ('rooms;', 39720), ('moved:\"', 39721), ('fig-tree:', 39722), ('\"Heaven', 39723), ('<oov>', 39724)]\n",
            "CAPPING. keeping  10000 of 39724\n",
            "10000 10000 10000\n",
            "word2index 10000\n",
            "input_text ['In', 'the', 'beginning', 'of', \"God's\", 'preparing', 'the', 'heavens', 'and', 'the', 'earth', '--', '<s>', '<s>', '<s>', '<s>', '<s>', '<s>', '<s>', '<s>', '<s>']\n",
            "input_text ['\"the', 'earth', 'hath', 'existed', 'waste', 'and', 'void,', 'and', 'darkness', \"`is'\", 'on', 'the', 'face', 'of', 'the', 'deep,', 'and', 'the', 'Spirit', 'of', 'God', 'fluttering', 'on', 'the', 'face', 'of', 'the', 'waters,\"']\n",
            "input_text ['\"and', 'God', 'saith,', '`Let', 'light', \"be;'\", 'and', 'light', 'is.\"', '<s>', '<s>', '<s>', '<s>', '<s>', '<s>', '<s>', '<s>', '<s>', '<s>', '<s>', '<s>']\n",
            "input_text ['\"And', 'God', 'seeth', 'the', 'light', 'that', '`it', \"is'\", 'good,', 'and', 'God', 'separateth', 'between', 'the', 'light', 'and', 'the', 'darkness,\"', '<s>', '<s>', '<s>']\n",
            "input_text ['\"and', 'God', 'calleth', 'to', 'the', 'light', \"`Day,'\", 'and', 'to', 'the', 'darkness', 'He', 'hath', 'called', \"`Night;'\", 'and', 'there', 'is', 'an', 'evening,', 'and', 'there', 'is', 'a', 'morning', '--', 'day', 'one.\"']\n",
            "train (48000, 20) (48000, 20) None (48000, 2)\n",
            "val (6000, 20)\n",
            "train in MB x,y 3.84\n"
          ],
          "name": "stdout"
        }
      ]
    },
    {
      "metadata": {
        "id": "9GT06VNk7vSN",
        "colab_type": "code",
        "colab": {
          "base_uri": "https://localhost:8080/",
          "height": 530
        },
        "outputId": "84f03566-67a5-4cc2-e0fd-5c1343dbd795"
      },
      "cell_type": "code",
      "source": [
        "#!head -50 cache/datasets/style-transfer-master/datasets/bible-corpus/bible_version_key.csv\n",
        "#!ls -lh cache/datasets/style-transfer-master/datasets/bible-corpus\n",
        "\n",
        "for i in [2,3,4,998,999,1000,1001]: # good:[5000, 2002,3001]:\n",
        "  print ('\\n',i)\n",
        "  for j in ['ylt','bbe']:#['ylt','kjv','wbt','asv','web','bbe','dby']:\n",
        "    !sed -n -e {i}p cache/datasets/style-transfer-master/datasets/bible-corpus/t_{j}.csv\n",
        "\n",
        "# differences: \n",
        "# very old: ylt\n",
        "# very dynamic: bbe\n",
        "# middle ground (5 similiar wbt)"
      ],
      "execution_count": 233,
      "outputs": [
        {
          "output_type": "stream",
          "text": [
            "\n",
            " 2\n",
            "1001001,1,1,1,In the beginning of God's preparing the heavens and the earth --\n",
            "1001001,1,1,1,At the first God made the heaven and the earth.\n",
            "\n",
            " 3\n",
            "1001002,1,1,2,\"the earth hath existed waste and void, and darkness `is' on the face of the deep, and the Spirit of God fluttering on the face of the waters,\"\n",
            "1001002,1,1,2,And the earth was waste and without form; and it was dark on the face of the deep: and the Spirit of God was moving on the face of the waters.\n",
            "\n",
            " 4\n",
            "1001003,1,1,3,\"and God saith, `Let light be;' and light is.\"\n",
            "1001003,1,1,3,\"And God said, Let there be light: and there was light.\"\n",
            "\n",
            " 998\n",
            "1034016,1,34,16,\"then we have given our daughters to you, and your daughters we take to ourselves, and we have dwelt with you, and have become one people;\"\n",
            "1034016,1,34,16,Then we will give our daughters to you and take your daughters to us and go on living with you as one people.\n",
            "\n",
            " 999\n",
            "1034017,1,34,17,\"and if ye hearken not unto us to be circumcised, then we have taken our daughter, and have gone.'\"\n",
            "1034017,1,34,17,\"But if you will not undergo circumcision as we say, then we will take our daughter and go.\"\n",
            "\n",
            " 1000\n",
            "1034018,1,34,18,\"And their words are good in the eyes of Hamor, and in the eyes of Shechem, Hamor's son;\"\n",
            "1034018,1,34,18,And their words were pleasing to Hamor and his son Shechem.\n",
            "\n",
            " 1001\n",
            "1034019,1,34,19,\"and the young man delayed not to do the thing, for he had delight in Jacob's daughter, and he is honourable above all the house of his father.\"\n",
            "1034019,1,34,19,\"And without loss of time the young man did as they said, because he had delight in Jacob's daughter, and he was the noblest of his father's house.\"\n"
          ],
          "name": "stdout"
        }
      ]
    },
    {
      "metadata": {
        "id": "awc6u-eMPvju",
        "colab_type": "code",
        "colab": {}
      },
      "cell_type": "code",
      "source": [
        "import keras\n",
        "from keras.callbacks import ReduceLROnPlateau\n",
        "class LossHistory(keras.callbacks.Callback):\n",
        "    def __init__(self):\n",
        "      self.losses = {'loss':[],'val_loss':[]}\n",
        "      \n",
        "    #def on_train_begin(self, logs={}):\n",
        "    #  pass  \n",
        "    \n",
        "    def on_epoch_end(self, batch, logs={}):\n",
        "      for loss in ['loss','val_loss']:\n",
        "        self.losses[loss].append(logs.get(loss))\n",
        "        \n",
        "np.random.seed(42)\n",
        "\n",
        "\n",
        "def gen(t,batch_size,gen_type):\n",
        "    \"\"\"grn_type = g/d/adv\n",
        "    usage: gen(dataset.result.train,batch_size,'g')\n",
        "    \"\"\"\n",
        "    x_encoder,x_decoder,y_one_hot_decoder,y_style = t\n",
        "    WORDS=x_encoder.shape[1]\n",
        "    while 1:\n",
        "      ind=np.array(np.random.randint(len(x_encoder),size=(batch_size) ))\n",
        "      \n",
        "      #build decoder target data on the fly\n",
        "      one_hot = np.zeros((batch_size,WORDS,len(dataset.index2word)))\n",
        "      for row in range(batch_size):\n",
        "         for t in range(WORDS):\n",
        "            one_hot[row,t,int(x_encoder[ind][row,t])] = 1\n",
        "      \n",
        "      if gen_type=='g':\n",
        "        yield ([x_encoder[ind],x_decoder[ind]],one_hot)\n",
        "      elif gen_type=='d':\n",
        "        yield (x_encoder[ind],y_style[ind])\n",
        "      elif gen_type=='adv':\n",
        "        yield ([x_encoder[ind],x_decoder[ind]],[one_hot,y_style[ind]]) #y_one_hot_decoder[ind]\n",
        "      else:\n",
        "        raise ValueError('gen_type unkown',gen_type)\n",
        "\n",
        "\n",
        "\n",
        "import matplotlib.pyplot as plt \n",
        "\n",
        "# summarize history for loss\n",
        "def plt_losses(loss_history,title,with_val=False):\n",
        "  plt.plot(loss_history.losses['loss'][:])\n",
        "  if with_val:\n",
        "    plt.plot(loss_history.losses['val_loss'][:])\n",
        "  plt.title(title)\n",
        "  med=0.1 if len(loss_history.losses['loss'])<1 else np.median(loss_history.losses['loss'])\n",
        "  plt.ylim(ymin=-0.1)\n",
        "  plt.ylim(ymax=med+1.5)\n",
        "  plt.ylabel('loss')\n",
        "  plt.xlabel('batchse')\n",
        "  plt.legend(['train', 'val'], loc='upper right')\n",
        "  \n",
        "\n",
        "def plt_all():  \n",
        "  plt.figure(figsize=(14,4))\n",
        "  plt.subplot(131) #numrows, numcols, fignum\n",
        "  plt_losses(loss_history,'g loss')  \n",
        "  plt.subplot(132)\n",
        "  plt_losses(loss_history_d,'d loss')  \n",
        "  plt.subplot(133)\n",
        "  plt_losses(loss_history_adv,'adv loss') \n",
        "  plt.show()\n",
        "\n",
        "\n",
        "  \n",
        "loss_history = LossHistory()\n",
        "loss_history_d = LossHistory()\n",
        "loss_history_adv = LossHistory()  \n",
        "\n",
        "\n",
        "def train_g(g,steps,validation_steps=1):\n",
        "    \n",
        "    model.fit_generator(gen(dataset.result.train,batch_size,'g'),\n",
        "                        steps,\n",
        "                        validation_steps=validation_steps,\n",
        "                        validation_data=gen(dataset.result.val,batch_size,'g'),\n",
        "                        callbacks=[loss_history],\n",
        "                        verbose=0 if steps<10 else 1,\n",
        "                        #max_queue_size=10,\n",
        "                        #workers=2\n",
        "                       )\n",
        "    \n",
        "    #model.fit([x_train, x_train_d], y_train,\n",
        "\n",
        "    \n",
        "def train_d(d,steps,validation_steps=1):\n",
        "  #%time d_encoder_model.set_weights(encoder_model.get_weights())\n",
        "  d.fit_generator(gen(dataset.result.train,batch_size,'d'),\n",
        "                        steps,\n",
        "                        validation_steps=validation_steps,\n",
        "                        validation_data=gen(dataset.result.val,batch_size,'d'),\n",
        "                        verbose=0 if steps<20 else 1,\n",
        "                        callbacks=[loss_history_d])\n",
        "  # d.fit(x_train, style_train,\n",
        "\n",
        "  \n",
        "def train_adv(adv_model,steps,validation_steps=1):\n",
        "  #%time classifier_model.set_weights(d_classifier_model.get_weights())\n",
        "  \n",
        "  adv_model.fit_generator(gen(dataset.result.train,batch_size,'adv'),\n",
        "                        steps,\n",
        "                        validation_steps=validation_steps,\n",
        "                        validation_data=gen(dataset.result.val,batch_size,'adv'),\n",
        "                        verbose=0 if steps<10 else 1,\n",
        "                        callbacks=[loss_history_adv])\n",
        "  \n",
        " \n",
        "  \n",
        "#gener=gen(dataset.result.train,10,'d')\n",
        "#x1,y=next(gener)\n",
        "#print ('test gen batch 2',x1.shape,y.shape,y)\n",
        "\n",
        "#plt_all()  \n",
        "#for l in d.trainable_weights:\n",
        "#  print (l)#,l.trainable_weights)\n",
        "#print_trainable(d)\n",
        "#train_d(500,10)\n",
        "#train_g(50,10)  # THIS KILLS train_d after it\n",
        "#print_trainable(d)\n",
        "#train_adv(50,10)  # THIS KILLS train_d after it\n",
        "#train_d(500,10)"
      ],
      "execution_count": 0,
      "outputs": []
    },
    {
      "metadata": {
        "id": "S_v9vKqIcTn6",
        "colab_type": "code",
        "colab": {
          "base_uri": "https://localhost:8080/",
          "height": 283
        },
        "outputId": "6444b264-a99c-4e33-d68e-edfab52e9ca6"
      },
      "cell_type": "code",
      "source": [
        "#show a sample of x_train\n",
        "for i in range(0,2):\n",
        "  print ('\\ntokens  :' , x_train_d[i])\n",
        "  print ('as words:',[dataset.index2word[index] for index in x_train_d[i] ])\n",
        "  print ('original:',dataset.parsed.train[i][0].split(' '))\n",
        "  print (dataset.one_x_as_text(x_train_d[i]))\n",
        "  #print (dataset.one_y_as_text(y_train[i]))"
      ],
      "execution_count": 235,
      "outputs": [
        {
          "output_type": "stream",
          "text": [
            "\n",
            "tokens  : [9.997e+03 2.260e+02 1.000e+00 2.102e+03 2.000e+00 1.801e+03 6.542e+03\n",
            " 1.000e+00 4.240e+02 3.000e+00 1.000e+00 1.900e+02 3.300e+01 0.000e+00\n",
            " 0.000e+00 0.000e+00 0.000e+00 0.000e+00 0.000e+00 0.000e+00]\n",
            "as words: ['t_ylt.csv', 'In', 'the', 'beginning', 'of', \"God's\", 'preparing', 'the', 'heavens', 'and', 'the', 'earth', '--', '<s>', '<s>', '<s>', '<s>', '<s>', '<s>', '<s>']\n",
            "original: ['In', 'the', 'beginning', 'of', \"God's\", 'preparing', 'the', 'heavens', 'and', 'the', 'earth', '--']\n",
            "t_ylt.csv In the beginning of God's preparing the heavens and the earth -- <s> <s> <s> <s> <s> <s> <s>\n",
            "\n",
            "tokens  : [9.997e+03 1.465e+03 1.900e+02 2.600e+01 9.999e+03 2.630e+02 3.000e+00\n",
            " 9.999e+03 3.000e+00 1.499e+03 4.300e+01 1.600e+01 1.000e+00 1.930e+02\n",
            " 2.000e+00 1.000e+00 3.950e+03 3.000e+00 1.000e+00 1.382e+03]\n",
            "as words: ['t_ylt.csv', '\"the', 'earth', 'hath', '<oov>', 'waste', 'and', '<oov>', 'and', 'darkness', \"`is'\", 'on', 'the', 'face', 'of', 'the', 'deep,', 'and', 'the', 'Spirit']\n",
            "original: ['\"the', 'earth', 'hath', 'existed', 'waste', 'and', 'void,', 'and', 'darkness', \"`is'\", 'on', 'the', 'face', 'of', 'the', 'deep,', 'and', 'the', 'Spirit', 'of', 'God', 'fluttering', 'on', 'the', 'face', 'of', 'the', 'waters,\"']\n",
            "t_ylt.csv \"the earth hath <oov> waste and <oov> and darkness `is' on the face of the deep, and the Spirit\n"
          ],
          "name": "stdout"
        }
      ]
    },
    {
      "metadata": {
        "id": "BWVEcaeF6DBR",
        "colab_type": "text"
      },
      "cell_type": "markdown",
      "source": [
        "# Model defintion\n",
        "\n",
        "\n"
      ]
    },
    {
      "metadata": {
        "id": "kqkLdFGl0FMB",
        "colab_type": "code",
        "colab": {
          "base_uri": "https://localhost:8080/",
          "height": 34
        },
        "outputId": "06c437bb-451f-450f-9aa5-c398f0730727"
      },
      "cell_type": "code",
      "source": [
        "from keras.models import Model\n",
        "from keras.layers import Input, LSTM, Dense, Embedding,CuDNNLSTM,Bidirectional,Concatenate,Dropout\n",
        "\n",
        "# size of tokenizer indexes\n",
        "\n",
        "num_decoder_tokens = num_encoder_tokens = len(dataset.word2index) \n",
        "print (num_decoder_tokens)\n",
        "decoder_latent_dim = latent_dim*2 if bidi_encoder else latent_dim\n",
        "shared_embedding = Embedding(num_encoder_tokens, \n",
        "                       embedding_dim, \n",
        "                       #weights=[word_embedding_matrix], if there is one (word2vec)\n",
        "                       #trainable=False,                            \n",
        "                       #input_length=MAX_SEQUENCE_LENGTH, if there is one\n",
        "                       )\n",
        "\n",
        "# Define an input sequence and process it.  \n",
        "# input: batch,num-of-words of integers (not-one-hot)\n",
        "# each batch should be of the size and padded, but between batches size can be different\n",
        "# batch 1:   len 7,8,9,10(max)  inside the same batch, size is similiar (less waste on GPU)\n",
        "# batch 2 :    len 97-100(max)  between batches size is different.\n",
        "# order is random... sometime small batch sometime large \n",
        "\n",
        "  \n",
        "\n",
        "def build_encoder_model(encoder_inputs):\n",
        "  \n",
        "  \n",
        "  #see dropout disucssion: https://github.com/keras-team/keras/issues/7290. iliaschalkidis \n",
        "  #Dropout(noise_shape=(batch_size, 1, features))\n",
        "  x = shared_embedding(encoder_inputs) \n",
        "  if (cuddlstm):\n",
        "    encoder_lstm=CuDNNLSTM(latent_dim, return_state=True)\n",
        "  else:\n",
        "    print ('using LSTM with dropout!')\n",
        "    #need to tune the dropout values (maybe fast.ai tips) , just invented those value\n",
        "    encoder_lstm=LSTM(latent_dim, return_state=True,dropout=en_lstm_dropout,recurrent_dropout=en_lstm_recurent_dropout,name='rnn_encoder')\n",
        "  if (bidi_encoder):\n",
        "    encoder_lstm=Bidirectional(encoder_lstm,merge_mode='concat',name='rnn_encoder')\n",
        "    x, forward_h, forward_c, backward_h, backward_c = encoder_lstm(x) #output,h1,c1,h2,c2\n",
        "    state_h = Concatenate()([forward_h, backward_h])\n",
        "    state_c = Concatenate()([forward_c, backward_c])\n",
        "  else:  \n",
        "    x, state_h, state_c = encoder_lstm(x)\n",
        "\n",
        "  encoder_states = [state_h, state_c]  #sentence embedding LSTM: h,c  \n",
        "  encoder_model = Model(encoder_inputs, encoder_states)\n",
        "  return encoder_model\n",
        "\n",
        "\n",
        "\n",
        "def build_decoder_model(encoder_model,encoder_inputs,decoder_inputs):  \n",
        "  # Set up the decoder, using `encoder_states` as initial state.\n",
        "  #looks similiar to  \n",
        "  #gold decoder_ouputs: [1,0,0] [0,1,0] one-hot of the below\n",
        "  #encoder_inputs:      hello   world <end> <end>\n",
        "  #decoder_input      : <style> hello world <end>   | style = bible1,bible2,(maybe-generic for pertraining)\n",
        "  #encoder_inputs = Input(shape=(None,),name='encoder_inputs') \n",
        "  #decoder_inputs = Input(shape=(None,),name='decoder_inputs')  \n",
        "\n",
        "   #bi-di pass merge of h1+h2, c1+c2\n",
        "  if (cuddlstm):\n",
        "    decoder_lstm = CuDNNLSTM(decoder_latent_dim, return_sequences=True,return_state=True,name='rnn_decoder') #returned state used in inference\n",
        "  else:\n",
        "    decoder_lstm = LSTM(decoder_latent_dim, return_sequences=True,return_state=True,\n",
        "                        dropout=de_lstm_dropout,recurrent_dropout=de_lstm_recurent_dropout,name='rnn_decoder')\n",
        "  #decoder_outputs, _, _  = decoder_lstm(shared_embedding(decoder_inputs), initial_state=encoder_states)\n",
        "  decoder_outputs, _, _  = decoder_lstm(shared_embedding(decoder_inputs), initial_state=encoder_model(encoder_inputs))\n",
        "  decoder_dense  = Dense(num_decoder_tokens, activation='softmax',name='decoder_softmax')\n",
        "  decoder_outputs = decoder_dense(decoder_outputs)\n",
        "\n",
        "  # Define the model that will turn\n",
        "  # `encoder_input_data` & `decoder_input_data` into `decoder_target_data`\n",
        "  decoder_teacher_forcing_model = Model([encoder_inputs, decoder_inputs], decoder_outputs)\n",
        "\n",
        "  \n",
        "\n",
        "  ##################################################################\n",
        "  ################# decoder-sampling model #########################\n",
        "  ##################################################################\n",
        "  # now for the SAMPLING models (re-arrangement of the prev one)\n",
        "  # Remember that the training model varaibles were:\n",
        "  #                                        decoder_outputs\n",
        "  #encoder   --->    encoder_states  -->   decoder_lstm  \n",
        "  #shared_embedding                        shared_embeddings  \n",
        "  #encoder_inputs                          decdoer_inputs \n",
        "  #decoder_latent_dim = latent_dim*2 if bidi_encoder else latent_dim #bi-di pass merge of h1+h2, c1+c2\n",
        "  decoder_states_inputs = [Input(shape=(decoder_latent_dim,)), Input(shape=(decoder_latent_dim,))]\n",
        "\n",
        "  #decoder_outputs2, state_h, state_c = decoder_lstm(shared_embedding(decoder_inputs), initial_state=decoder_states_inputs)\n",
        "  decoder_outputs2, state_h, state_c = decoder_lstm(shared_embedding(decoder_inputs), initial_state=decoder_states_inputs)\n",
        "\n",
        "  decoder_states = [state_h, state_c]\n",
        "  decoder_outputs2 = decoder_dense(decoder_outputs2)\n",
        "\n",
        "  decoder_sampling_model = Model(\n",
        "      [decoder_inputs] + decoder_states_inputs,\n",
        "      [decoder_outputs2] + decoder_states)\n",
        "\n",
        "  return decoder_teacher_forcing_model,decoder_sampling_model\n",
        "\n",
        "\n",
        "\n",
        "\n",
        "##################################################################\n",
        "############################# d model ############################\n",
        "##################################################################\n",
        "\n",
        "def build_d():#encoder_model,d__encoder_inputs):\n",
        "  # IN on the sentnece embedding itself )list of h,c]\n",
        "  # Out style embedding\n",
        "  #d__states = encoder_model(d__encoder_inputs)\n",
        "  \n",
        "  d__states = [Input(shape=(decoder_latent_dim,)), Input(shape=(decoder_latent_dim,))]\n",
        "  d__a = Concatenate(name='d__concat1')(d__states)\n",
        "  d__a = Dropout(0.1,name='d__dropout1')(d__a)                          \n",
        "  # if your inputs have shape  (batch_size, timesteps, features) and you want the dropout mask to be the same for all timesteps, you can use noise_shape=(batch_size, 1, features).\n",
        "  d__a=Dense(100,activation='relu',name='d__dense1')(d__a) #a = keras.layers.LeakyReLU()(a) #LeakyReLU  #why leaky? see: how to train your GAN - BUT IT FAILED TO LEARN (accuracy always 0.5)\n",
        "  d__a = Dropout(0.1,name='d__dropout2')(d__a)\n",
        "  d__style_outputs = Dense(len(dataset.style2index),activation='softmax',name='d__dense_softmax')(d__a)\n",
        "\n",
        "  #d = Model(d_inputs,style_outputs)\n",
        "  #d = Model(d__encoder_inputs,d__style_outputs)  #style_outputs : batch , one-hot-encoding-of-style\n",
        "  d = Model(d__states,d__style_outputs,name='style_classifier')  #style_outputs : batch , one-hot-encoding-of-style\n",
        "  return d\n",
        "\n",
        "\n",
        "\n",
        "##################################################################\n",
        "############################# Adv model ##########################\n",
        "##################################################################\n",
        "\n",
        "from keras import backend as K\n",
        "\n",
        "# Note that it does not have new layers, just combining all of them with new loss\n",
        "def inverse_categorical_crossentropy(y_true, y_pred):\n",
        "  #need to implement it better , sum(1/categorical_crossentropy_per_sample)\n",
        "  # if discriminator is random, on 2 styles, if expect 50% which should mean logloss of 1. so 1/1= 1\n",
        "  # if discriminator is great, 99%, log-loss close to 0 , so 1/0 is big.\n",
        "  # so expeceted range is GREAT=1 , BAD=BIGGG\n",
        "  return 1/(K.categorical_crossentropy(y_true, y_pred)+0.0001)\n",
        "\n",
        " \n",
        "# Careful note:  we have one shared encoder model here, but two unshared classifiers\n",
        "# the weights in the classifier-head in 'd' are seperate between d, and g_d(adv)\n",
        "encoder_inputs = Input(shape=(None,),name='encoder_inputs')\n",
        "decoder_inputs = Input(shape=(None,),name='decoder_inputs')  \n",
        "encoder_model = build_encoder_model(encoder_inputs)  \n",
        "model,decoder_sampling_model = build_decoder_model(encoder_model,encoder_inputs,decoder_inputs)\n",
        "# TODO: improve optimizer = ''#clipvalue=0.5,clipnorm=1.0) \n",
        "model.compile(optimizer='adam', loss='categorical_crossentropy')  #30peocs loss: 0.2836 - val_loss: 0.4428\n",
        "\n",
        "\n",
        "# Seperate everything in d , both Encoder and Classfier\n",
        "d_encoder_model = build_encoder_model(encoder_inputs)  \n",
        "d_encoder_model.trainable=False\n",
        "d_classifier_model = build_d()\n",
        "d = Model(encoder_inputs,d_classifier_model(d_encoder_model(encoder_inputs)))\n",
        "d.compile(optimizer='adam', loss='categorical_crossentropy',metrics=['accuracy'])\n",
        "#train_d(d,50) # TRAINING WELL alone , had used wrong names for models\n",
        "\n",
        "classifier_model = build_d()\n",
        "adv_d_out = classifier_model(encoder_model(encoder_inputs))# encoder_model,encoder_inputs)\n",
        "adv_model = Model([encoder_inputs,decoder_inputs],[model.output,adv_d_out])\n",
        "# in adv , encoder is not trainable. decoder is not.\n",
        "classifier_model.trainable=False\n",
        "#print_trainable(adv_model)      \n",
        "adv_model.compile(optimizer='adam', \n",
        "                  loss=['categorical_crossentropy',inverse_categorical_crossentropy],\n",
        "                  loss_weights=[1, 1])\n",
        "\n",
        "\n",
        "#train_g(model,10) # TRAINING WELL! \n",
        "#train_d(d,50)\n",
        "\n"
      ],
      "execution_count": 236,
      "outputs": [
        {
          "output_type": "stream",
          "text": [
            "10000\n"
          ],
          "name": "stdout"
        }
      ]
    },
    {
      "metadata": {
        "id": "QCYbdp4BQQaX",
        "colab_type": "code",
        "colab": {}
      },
      "cell_type": "code",
      "source": [
        ""
      ],
      "execution_count": 0,
      "outputs": []
    },
    {
      "metadata": {
        "id": "3H8mv36UOYVK",
        "colab_type": "code",
        "colab": {}
      },
      "cell_type": "code",
      "source": [
        ""
      ],
      "execution_count": 0,
      "outputs": []
    },
    {
      "metadata": {
        "id": "MpvYnljbD_A5",
        "colab_type": "code",
        "colab": {}
      },
      "cell_type": "code",
      "source": [
        "\n",
        "\n"
      ],
      "execution_count": 0,
      "outputs": []
    },
    {
      "metadata": {
        "id": "S983Fs2WYshb",
        "colab_type": "code",
        "colab": {}
      },
      "cell_type": "code",
      "source": [
        ""
      ],
      "execution_count": 0,
      "outputs": []
    },
    {
      "metadata": {
        "id": "VTobPYftYvQC",
        "colab_type": "text"
      },
      "cell_type": "markdown",
      "source": [
        "# compile\n",
        "\n",
        "**Intro**\n",
        "\n",
        "(1) We start with regukar seq2seq is encoder->embedding->decoder and trained with reconstruction-loss\n",
        "\n",
        "(2)We can build style-discriminator where the target is to classify author-style from the sentence-embedding.\n",
        "When training it you need to freeze the encoder and decoder parts of the model, then:\n",
        "input1: sentence --freezed encoder--> embedding    (no need to run decoder)\n",
        "input2: style (one-hot)\n",
        "output: style (one-hot)  \n",
        "The discriminator can be a simple classifier (dense-based) with simple minimize cross-entropy target.\n",
        "\n",
        "(3) The smart-part: We want to train the encoder to create an embedding which will fool the discriminator.\n",
        "We will freeze the discriminator weights, and train the encoder-decoder similiarly to (1) with extra objective.\n",
        "That the loss from the discriminator will be Maximized. \n"
      ]
    },
    {
      "metadata": {
        "id": "YjI-3lfJv62T",
        "colab_type": "code",
        "colab": {}
      },
      "cell_type": "code",
      "source": [
        "# compile it all\n",
        "def print_trainable(m):\n",
        "  for layer in m.layers:\n",
        "    print (layer.name,layer,layer.trainable)#layer._trainable_weights,layer.trainable_weights)\n",
        "    \n",
        "\n",
        "\n",
        "\n"
      ],
      "execution_count": 0,
      "outputs": []
    },
    {
      "metadata": {
        "id": "xh5FwdLGU2n3",
        "colab_type": "text"
      },
      "cell_type": "markdown",
      "source": [
        "# Sample and show sample"
      ]
    },
    {
      "metadata": {
        "id": "_ZC94QpK1bcw",
        "colab_type": "code",
        "colab": {
          "base_uri": "https://localhost:8080/",
          "height": 301
        },
        "outputId": "4796910c-e4b2-4698-b1d8-047e19b41194"
      },
      "cell_type": "code",
      "source": [
        "max_decoder_seq_length=dataset.MAX_SEQUENCE_LENGTH\n",
        "\n",
        "# TODO: now it's greedy and use argmax\n",
        "# maybe to choose randomly by distribution\n",
        "# and maybe to implement BEAM SEARCH\n",
        "def decode_sequence(input_seq,style,verbose=False):\n",
        "    assert input_seq.shape == (1, max_decoder_seq_length )\n",
        "    if verbose: print ('input_seq',input_seq.shape)\n",
        "    # Encode the input as state vectors.\n",
        "    states_value = encoder_model.predict(input_seq)\n",
        "    if verbose: print ('encoder result states_value','h',states_value[0].shape,states_value[0].mean(),'c',states_value[1].shape,states_value[1].mean())\n",
        "    \n",
        "    # Generate empty target sequence of length 1.\n",
        "    #                      batch,word-number value is token (0 /122)\n",
        "    target_seq = np.zeros((1, 1))\n",
        "    # Populate the first character of target sequence with the start character.\n",
        "    target_seq[0, 0] = dataset.word2index[style]\n",
        "\n",
        "    # Sampling loop for a batch of sequences\n",
        "    # (to simplify, here we assume a batch of size 1).\n",
        "    stop_condition = False\n",
        "    decoded_sentence = []\n",
        "    while not stop_condition:\n",
        "        #start with encoder-state then change to self state\n",
        "        output_tokens, h, c = decoder_sampling_model.predict( [target_seq] + states_value) \n",
        "        if verbose: print ('output_tokens',output_tokens.shape,output_tokens.mean(),'h',h.shape,'c',c.shape)\n",
        "\n",
        "        # Sample a token\n",
        "        sampled_token_index = np.argmax(output_tokens)# [0, -1, :])\n",
        "        if verbose: print ('sampled_token_index',sampled_token_index.shape,output_tokens.max(),sampled_token_index)\n",
        "        decoded_sentence.append(sampled_token_index)\n",
        "\n",
        "        # Exit condition: either hit max length\n",
        "        # or find stop character.\n",
        "        if (sampled_token_index == dataset.word2index['<s>'] or\n",
        "           len(decoded_sentence) > max_decoder_seq_length):\n",
        "          stop_condition = True\n",
        "\n",
        "        # Update the target sequence (of length 1).\n",
        "        target_seq = np.zeros((1, 1))\n",
        "        target_seq[0, 0] = sampled_token_index\n",
        "\n",
        "        # Update states\n",
        "        states_value = [h, c]\n",
        "\n",
        "    res= np.array(decoded_sentence) #[dataset.index2word[index] for index in decoded_sentence]\n",
        "    return res\n",
        "\n",
        "  \n",
        "\n",
        "def show_sample(data_type='val',teacher_forcing=False,sample_id=[],replace_style=['t_bbe.csv','t_ylt.csv'],show_other_style=True):\n",
        "  \"\"\" \n",
        "    data_type - train/val/test\n",
        "    teacher_forcing : default False, sample argmax as for normal test. If true, feed decode-input from the dataset itself\n",
        "    sample_id : verse-id to sample (list)\n",
        "    replace_style: if true, will pass a different style\n",
        "  \"\"\"\n",
        "  for i in sample_id:\n",
        "    print ('#'*30,'verb',i,'#'*30)\n",
        "    data={'train': dataset.result.train,'val':dataset.result.val , 'test':dataset.result.test}\n",
        "\n",
        "    # extract the i`th row data\n",
        "    one_x= data[data_type][0][i:i+1]\n",
        "    if one_x.shape[0]==0:\n",
        "      print ('sample out of range',data[data_type][0].shape)\n",
        "    one_x_d= data[data_type][1][i:i+1]\n",
        "    style_as_text = dataset.index2word[one_x_d[0,0]]\n",
        "\n",
        "\n",
        "    print (f'encoder_input  [{style_as_text}]:',dataset.one_x_as_text(one_x))\n",
        "    if (show_other_style):\n",
        "      #temp , currently +8000/+2000 as half the size of data TODO: in other case different way\n",
        "      other_i=i + int(len(data[data_type][0])/2)\n",
        "      other_x= data[data_type][0][other_i]\n",
        "      other_style=  dataset.index2word[data[data_type][1][other_i][0]]\n",
        "      print (f'encoder_input  [{other_style}]:',dataset.one_x_as_text(other_x))\n",
        "\n",
        "    for replaced_style in replace_style:\n",
        "      # always replace_style:\n",
        "      one_x_d= np.copy(one_x_d)\n",
        "      one_x_d[0,0]=dataset.word2index[replaced_style]\n",
        "\n",
        "      if teacher_forcing:\n",
        "        p = model.predict([one_x,one_x_d])\n",
        "        print (f'decoder TF     [{replaced_style}]:',dataset.one_y_as_text(p))\n",
        "      else:\n",
        "        p = decode_sequence(one_x,replaced_style)\n",
        "        print (f'decoder sample [{replaced_style}]:',dataset.one_x_as_text(p))\n",
        "          \n",
        "          \n",
        "# please see more in error-anlysis section\n",
        "show_sample('train',sample_id=[0,1,2],teacher_forcing=False) \n",
        "\n",
        "\n",
        "    "
      ],
      "execution_count": 238,
      "outputs": [
        {
          "output_type": "stream",
          "text": [
            "############################## verb 0 ##############################\n",
            "encoder_input  [t_ylt.csv]: In the beginning of God's preparing the heavens and the earth -- <s> <s> <s> <s> <s> <s> <s> <s>\n",
            "encoder_input  [t_bbe.csv]: At the first God made the heaven and the earth. <s> <s> <s> <s> <s> <s> <s> <s> <s> <s>\n",
            "decoder sample [t_bbe.csv]: Gideon.\" \"Now living-place, touching not,\" not,\" `Surely `Surely `Surely past; past; past; Nebo Nebo Eshcol, Eshcol, Eshcol, \"As instead us;' turneth,\n",
            "decoder sample [t_ylt.csv]: heights anger, lay up:\" shrines, ones! ones! Hadoram throne throne future rock;\" shaking.\" room, room, value.\" good;\" good;\" Libnah Elah, weaver,\n",
            "############################## verb 1 ##############################\n",
            "encoder_input  [t_ylt.csv]: \"the earth hath <oov> waste and <oov> and darkness `is' on the face of the deep, and the Spirit of\n",
            "encoder_input  [t_bbe.csv]: And the earth was waste and without <oov> and it was dark on the face of the <oov> and the\n",
            "decoder sample [t_bbe.csv]: off: portion few, deepest deepest Japheth tent-circle, separation peace-offerings.\" Iddo, Iddo, confidence, I.'\" sojourneth Jehovah's sides, joy, \"Seeing several oppressed Jah,\n",
            "decoder sample [t_ylt.csv]: off: ever? asses; Joab, tents he, nail eaten asses.\" bury bury ephah.\" deliver Phrat, Phinehas Phinehas hath, rooted right lamp, watching\n",
            "############################## verb 2 ##############################\n",
            "encoder_input  [t_ylt.csv]: \"and God saith, `Let light <oov> and light is.\" <s> <s> <s> <s> <s> <s> <s> <s> <s> <s> <s>\n",
            "encoder_input  [t_bbe.csv]: \"And God said, Let there be light: and there was light.\" <s> <s> <s> <s> <s> <s> <s> <s> <s>\n",
            "decoder sample [t_bbe.csv]: \"Now singing, living-place, living-place, jubilee ploughing Ashdod ploughing short thirteenth troop, Jerubbaal circumcised, captivity, graves captivity, captivity, now: now: Jerubbaal Jerubbaal\n",
            "decoder sample [t_ylt.csv]: `At singing, counsel counsel day.'\" stricken Have followed arrows are, wave-offering river, awaking minute, troop flowers saith: saith: woods awaketh trained\n"
          ],
          "name": "stdout"
        }
      ]
    },
    {
      "metadata": {
        "id": "9s0-8EJi6AG1",
        "colab_type": "text"
      },
      "cell_type": "markdown",
      "source": [
        "# TRAINING"
      ]
    },
    {
      "metadata": {
        "id": "0_0G8_Dr2bMM",
        "colab_type": "code",
        "colab": {}
      },
      "cell_type": "code",
      "source": [
        ""
      ],
      "execution_count": 0,
      "outputs": []
    },
    {
      "metadata": {
        "id": "hUJbmXe5GW2t",
        "colab_type": "code",
        "colab": {
          "base_uri": "https://localhost:8080/",
          "height": 54
        },
        "outputId": "68b5b7bb-b1fe-495c-a025-8301298c73e5"
      },
      "cell_type": "code",
      "source": [
        ""
      ],
      "execution_count": 239,
      "outputs": [
        {
          "output_type": "execute_result",
          "data": {
            "text/plain": [
              "\"\\ndef print_d_mean():\\n  print(d_classifier_model.get_layer('d__dense1').get_weights()[0].mean(),'b',d_classifier_model.get_layer('d__dense1').get_weights()[1].mean())\\n\\ndef get_d_mean():\\n  m= d_classifier_model.get_layer('d__dense1').get_weights()[0].mean()\\n  return m\\n\\n\\n\\nd_mean_before = get_d_mean()\\ntrain_d(d,100)\\nd_mean_after = get_d_mean()\\nassert d_mean_before != d_mean_after\\n\\n\\n\\nprint ('\\ntraining g now')\\ntrain_g(50) \\n\\n\\nd_mean_before = get_d_mean()\\ntrain_d(500)\\nd_mean_after = get_d_mean()\\nassert d_mean_before != d_mean_after\\n\\n\\nprint ('\\ntraining d again now')\\nd_mean_before = get_d_mean()\\ntrain_d(500)\\nprint_d_mean()\\nd_mean_after = get_d_mean()\\nassert d_mean_before != d_mean_after\\n\\n\\n\\n#BUG CHECKS: reduce size of dataset rows for this\\n# run with no bidirectional. Result: still BUG (????)\\n# super-wierd? differences, run only train_g(2/20) steps , CPU(no-bidi) trains well (slow but changes)\\n# testing bidi again\\n\\n\\n# WORKAROUND\\n# if nothing helps, create a complete copy model (non-shared layers) \\n\""
            ]
          },
          "metadata": {
            "tags": []
          },
          "execution_count": 239
        }
      ]
    },
    {
      "metadata": {
        "id": "WzwFstjbjesR",
        "colab_type": "code",
        "colab": {}
      },
      "cell_type": "code",
      "source": [
        ""
      ],
      "execution_count": 0,
      "outputs": []
    },
    {
      "metadata": {
        "id": "Sm05AY862pem",
        "colab_type": "code",
        "colab": {
          "base_uri": "https://localhost:8080/",
          "height": 530
        },
        "outputId": "64fbcdb1-5e20-405a-8121-4d1cf95c523f"
      },
      "cell_type": "code",
      "source": [
        "print ('epoc contains ',epoc,'batches of', batch_size)\n",
        "\n",
        "######## PRE TRAINING ##########################\n",
        "for i in range(40):\n",
        "  train_g(model,epoc*1,validation_steps=100)  #pretrain\n",
        "  l=loss_history.losses['loss'][-1:][0]\n",
        "  if l<0.1:\n",
        "    print ('early break at break at',l,'epoc',i)\n",
        "    break\n",
        "show_sample('train',sample_id=[0,1,2],teacher_forcing=True)   #,8000+0\n",
        "\n",
        "for i in range(1):\n",
        "  train_d(d,epoc,validation_steps=100)\n",
        "  l=loss_history_d.losses['loss'][-1:][0]\n",
        "  if l<2:\n",
        "    print ('early break at break at',l,'epoc',i)\n",
        "    break\n",
        "\n",
        "# Expect to see nice results on G with 10 words , when loss is <2. If not continue training a bit"
      ],
      "execution_count": 247,
      "outputs": [
        {
          "output_type": "stream",
          "text": [
            "epoc contains  750 batches of 64\n",
            "Epoch 1/1\n",
            "750/750 [==============================] - 160s 214ms/step - loss: 0.1915 - val_loss: 1.0510\n",
            "Epoch 1/1\n",
            " 56/750 [=>............................] - ETA: 2:22 - loss: 0.1609"
          ],
          "name": "stdout"
        },
        {
          "output_type": "stream",
          "text": [
            "750/750 [==============================] - 166s 221ms/step - loss: 0.1367 - val_loss: 1.0138\n",
            "Epoch 1/1\n",
            "270/750 [=========>....................] - ETA: 1:39 - loss: 0.1100"
          ],
          "name": "stdout"
        },
        {
          "output_type": "stream",
          "text": [
            "750/750 [==============================] - 164s 218ms/step - loss: 0.1008 - val_loss: 1.0219\n",
            "Epoch 1/1\n",
            "355/750 [=============>................] - ETA: 1:21 - loss: 0.0841"
          ],
          "name": "stdout"
        },
        {
          "output_type": "stream",
          "text": [
            "750/750 [==============================] - 163s 217ms/step - loss: 0.0790 - val_loss: 1.0075\n",
            "early break at break at 0.07901280380785465 epoc 3\n",
            "############################## verb 0 ##############################\n",
            "encoder_input  [t_ylt.csv]: In the beginning of God's preparing the heavens and the earth -- <s> <s> <s> <s> <s> <s> <s> <s>\n",
            "encoder_input  [t_bbe.csv]: At the first God made the heaven and the earth. <s> <s> <s> <s> <s> <s> <s> <s> <s> <s>\n",
            "decoder TF     [t_bbe.csv]: In the memory of God's judging the heavens and the earth and <s> <s> <s> <s> <s> <s> <s> <s>\n",
            "decoder TF     [t_ylt.csv]: In the beginning of God's preparing the heavens and the earth -- <s> <s> <s> <s> <s> <s> <s> <s>\n",
            "############################## verb 1 ##############################\n",
            "encoder_input  [t_ylt.csv]: \"the earth hath <oov> waste and <oov> and darkness `is' on the face of the deep, and the Spirit of\n",
            "encoder_input  [t_bbe.csv]: And the earth was waste and without <oov> and it was dark on the face of the <oov> and the\n",
            "decoder TF     [t_bbe.csv]: \"the earth has <oov> waste and <oov> and puts on on the face of the deep, and the law of\n",
            "decoder TF     [t_ylt.csv]: \"the earth hath <oov> waste and <oov> and darkness `is' on the face of the deep, and the Spirit of\n",
            "############################## verb 2 ##############################\n",
            "encoder_input  [t_ylt.csv]: \"and God saith, `Let light <oov> and light is.\" <s> <s> <s> <s> <s> <s> <s> <s> <s> <s> <s>\n",
            "encoder_input  [t_bbe.csv]: \"And God said, Let there be light: and there was light.\" <s> <s> <s> <s> <s> <s> <s> <s> <s>\n",
            "decoder TF     [t_bbe.csv]: \"and God said, Let light <oov> and light is.\" <s> <s> <s> <s> <s> <s> <s> <s> <s> <s> <s>\n",
            "decoder TF     [t_ylt.csv]: \"and God saith, `Let light <oov> and light is.\" <s> <s> <s> <s> <s> <s> <s> <s> <s> <s> <s>\n",
            "Epoch 1/1\n",
            " 73/750 [=>............................] - ETA: 26s - loss: 0.2736 - acc: 0.8763"
          ],
          "name": "stdout"
        },
        {
          "output_type": "stream",
          "text": [
            "750/750 [==============================] - 35s 46ms/step - loss: 0.2538 - acc: 0.8881 - val_loss: 0.3692 - val_acc: 0.8380\n",
            "early break at break at 0.25377274816234907 epoc 0\n"
          ],
          "name": "stdout"
        }
      ]
    },
    {
      "metadata": {
        "id": "uAhFRiSIik6s",
        "colab_type": "code",
        "colab": {
          "base_uri": "https://localhost:8080/",
          "height": 5346
        },
        "outputId": "8f9e6387-b41a-464a-aed2-e56e8e39786d"
      },
      "cell_type": "code",
      "source": [
        "print ('epoc contains ',epoc,'batches of', batch_size)\n",
        "small_steps=5\n",
        "for e in range(50):\n",
        "  print ('#'*30,'epocs',e)\n",
        "  for i in range(int(epoc/small_steps)):\n",
        "    if i%10 ==0:print (i,'expect to wait a minute here on CPU... running few small steps, till',int(epoc/small_steps))\n",
        "    \n",
        "    for j in 10: #train d until it has a reasnbile value. or enough steps passed\n",
        "      train_d(d,small_steps)\n",
        "      l=loss_history_d.losses['loss'][-1:][0]\n",
        "      if l<0.5:\n",
        "        break\n",
        "      \n",
        "    train_adv(adv_model,small_steps)\n",
        "  show_sample('train',sample_id=[0],teacher_forcing=True)   #,8000+0\n",
        "  plt_all()\n",
        "print ('done')\n",
        "\n",
        "models      = [encoder_model   , model,    decoder_sampling_model,   d_classifier_model] #rest can be built from them?  \n",
        "model_names = ['encoder_model', 'model', 'decoder_sampling_model','d_classifier_model' ] #rest can be built from them?  \n",
        "#Persistency().load_weights_from('models/2018-07-15_10-15-21',models,model_names)\n",
        "Persistency().save_weights(models,model_names) #not run yet....\n"
      ],
      "execution_count": 220,
      "outputs": [
        {
          "output_type": "stream",
          "text": [
            "epoc contains  250 batches of 64\n",
            "############################## epocs 0\n",
            "0 expect to wait a minute here on CPU... running few small steps, till 50\n",
            "10 expect to wait a minute here on CPU... running few small steps, till 50\n",
            "20 expect to wait a minute here on CPU... running few small steps, till 50\n",
            "30 expect to wait a minute here on CPU... running few small steps, till 50\n",
            "40 expect to wait a minute here on CPU... running few small steps, till 50\n",
            "############################## verb 0 ##############################\n",
            "encoder_input  [t_ylt.csv]: In the beginning of God's preparing the heavens and the earth -- <s> <s> <s> <s> <s> <s> <s> <s>\n",
            "encoder_input  [t_bbe.csv]: At the first God made the heaven and the earth. <s> <s> <s> <s> <s> <s> <s> <s> <s> <s>\n",
            "decoder TF     [t_bbe.csv]: \"In the rock of the preparing the earth and the earth -- <s> <s> <s> <s> <s> <s> <s> <s>\n",
            "decoder TF     [t_ylt.csv]: `And the beginning of Naphtali, preparing the heavens and the earth -- <s> <s> <s> <s> <s> <s> <s> <s>\n",
            "1.0813442859649658\n",
            "0.3947778046131134\n",
            "1.7345712423324584\n"
          ],
          "name": "stdout"
        },
        {
          "output_type": "display_data",
          "data": {
            "image/png": "[encoded data removed]",
            "text/plain": [
              "<matplotlib.figure.Figure at 0x7fc0df71e7f0>"
            ]
          },
          "metadata": {
            "tags": []
          }
        },
        {
          "output_type": "stream",
          "text": [
            "############################## epocs 1\n",
            "0 expect to wait a minute here on CPU... running few small steps, till 50\n",
            "10 expect to wait a minute here on CPU... running few small steps, till 50\n",
            "20 expect to wait a minute here on CPU... running few small steps, till 50\n",
            "30 expect to wait a minute here on CPU... running few small steps, till 50\n",
            "40 expect to wait a minute here on CPU... running few small steps, till 50\n",
            "############################## verb 0 ##############################\n",
            "encoder_input  [t_ylt.csv]: In the beginning of God's preparing the heavens and the earth -- <s> <s> <s> <s> <s> <s> <s> <s>\n",
            "encoder_input  [t_bbe.csv]: At the first God made the heaven and the earth. <s> <s> <s> <s> <s> <s> <s> <s> <s> <s>\n",
            "decoder TF     [t_bbe.csv]: \"In the rock of the preparing the heavens and the earth -- <s> <s> <s> <s> <s> <s> <s> <s>\n",
            "decoder TF     [t_ylt.csv]: In the beginning of God's preparing the heavens and the earth -- <s> <s> <s> <s> <s> <s> <s> <s>\n",
            "1.0813442859649658\n",
            "0.38794830441474915\n",
            "1.6389423131942749\n"
          ],
          "name": "stdout"
        },
        {
          "output_type": "display_data",
          "data": {
            "image/png": "[encoded data removed]",
            "text/plain": [
              "<matplotlib.figure.Figure at 0x7fc0de639128>"
            ]
          },
          "metadata": {
            "tags": []
          }
        },
        {
          "output_type": "stream",
          "text": [
            "############################## epocs 2\n",
            "0 expect to wait a minute here on CPU... running few small steps, till 50\n",
            "10 expect to wait a minute here on CPU... running few small steps, till 50\n",
            "20 expect to wait a minute here on CPU... running few small steps, till 50\n",
            "30 expect to wait a minute here on CPU... running few small steps, till 50\n",
            "40 expect to wait a minute here on CPU... running few small steps, till 50\n",
            "############################## verb 0 ##############################\n",
            "encoder_input  [t_ylt.csv]: In the beginning of God's preparing the heavens and the earth -- <s> <s> <s> <s> <s> <s> <s> <s>\n",
            "encoder_input  [t_bbe.csv]: At the first God made the heaven and the earth. <s> <s> <s> <s> <s> <s> <s> <s> <s> <s>\n",
            "decoder TF     [t_bbe.csv]: \"In the rock of the preparing the earth and the earth -- <s> <s> <s> <s> <s> <s> <s> <s>\n",
            "decoder TF     [t_ylt.csv]: `And the beginning of God's preparing the heavens and the earth -- <s> <s> <s> <s> <s> <s> <s> <s>\n",
            "1.0813442859649658\n",
            "0.38102951645851135\n",
            "1.558627724647522\n"
          ],
          "name": "stdout"
        },
        {
          "output_type": "display_data",
          "data": {
            "image/png": "[encoded data removed]",
            "text/plain": [
              "<matplotlib.figure.Figure at 0x7fc0de3d50f0>"
            ]
          },
          "metadata": {
            "tags": []
          }
        },
        {
          "output_type": "stream",
          "text": [
            "############################## epocs 3\n",
            "0 expect to wait a minute here on CPU... running few small steps, till 50\n",
            "10 expect to wait a minute here on CPU... running few small steps, till 50\n",
            "20 expect to wait a minute here on CPU... running few small steps, till 50\n",
            "30 expect to wait a minute here on CPU... running few small steps, till 50\n",
            "40 expect to wait a minute here on CPU... running few small steps, till 50\n",
            "############################## verb 0 ##############################\n",
            "encoder_input  [t_ylt.csv]: In the beginning of God's preparing the heavens and the earth -- <s> <s> <s> <s> <s> <s> <s> <s>\n",
            "encoder_input  [t_bbe.csv]: At the first God made the heaven and the earth. <s> <s> <s> <s> <s> <s> <s> <s> <s> <s>\n",
            "decoder TF     [t_bbe.csv]: \"In the rock of the preparing the earth and the earth -- <s> <s> <s> <s> <s> <s> <s> <s>\n",
            "decoder TF     [t_ylt.csv]: In the beginning of God's preparing the heavens and the earth -- <s> <s> <s> <s> <s> <s> <s> <s>\n",
            "1.0813442859649658\n",
            "0.37487858533859253\n",
            "1.4800413131713868\n"
          ],
          "name": "stdout"
        },
        {
          "output_type": "display_data",
          "data": {
            "image/png": "[encoded data removed]",
            "text/plain": [
              "<matplotlib.figure.Figure at 0x7fc0de12b9e8>"
            ]
          },
          "metadata": {
            "tags": []
          }
        },
        {
          "output_type": "stream",
          "text": [
            "############################## epocs 4\n",
            "0 expect to wait a minute here on CPU... running few small steps, till 50\n",
            "10 expect to wait a minute here on CPU... running few small steps, till 50\n",
            "20 expect to wait a minute here on CPU... running few small steps, till 50\n",
            "30 expect to wait a minute here on CPU... running few small steps, till 50\n",
            "40 expect to wait a minute here on CPU... running few small steps, till 50\n",
            "############################## verb 0 ##############################\n",
            "encoder_input  [t_ylt.csv]: In the beginning of God's preparing the heavens and the earth -- <s> <s> <s> <s> <s> <s> <s> <s>\n",
            "encoder_input  [t_bbe.csv]: At the first God made the heaven and the earth. <s> <s> <s> <s> <s> <s> <s> <s> <s> <s>\n",
            "decoder TF     [t_bbe.csv]: \"In the rock of the preparing the heavens and the earth -- <s> <s> <s> <s> <s> <s> <s> <s>\n",
            "decoder TF     [t_ylt.csv]: In the beginning of God's preparing the heavens and the earth -- <s> <s> <s> <s> <s> <s> <s> <s>\n",
            "1.0813442859649658\n",
            "0.36822006702423093\n",
            "1.4060638427734375\n"
          ],
          "name": "stdout"
        },
        {
          "output_type": "display_data",
          "data": {
            "image/png": "[encoded data removed]",
            "text/plain": [
              "<matplotlib.figure.Figure at 0x7fc0de1d1550>"
            ]
          },
          "metadata": {
            "tags": []
          }
        },
        {
          "output_type": "stream",
          "text": [
            "############################## epocs 5\n",
            "0 expect to wait a minute here on CPU... running few small steps, till 50\n",
            "10 expect to wait a minute here on CPU... running few small steps, till 50\n",
            "20 expect to wait a minute here on CPU... running few small steps, till 50\n",
            "30 expect to wait a minute here on CPU... running few small steps, till 50\n",
            "40 expect to wait a minute here on CPU... running few small steps, till 50\n",
            "############################## verb 0 ##############################\n",
            "encoder_input  [t_ylt.csv]: In the beginning of God's preparing the heavens and the earth -- <s> <s> <s> <s> <s> <s> <s> <s>\n",
            "encoder_input  [t_bbe.csv]: At the first God made the heaven and the earth. <s> <s> <s> <s> <s> <s> <s> <s> <s> <s>\n",
            "decoder TF     [t_bbe.csv]: \"In the rock of God's preparing the heavens and the earth -- <s> <s> <s> <s> <s> <s> <s> <s>\n",
            "decoder TF     [t_ylt.csv]: In the beginning of God's preparing the heavens and the earth -- <s> <s> <s> <s> <s> <s> <s> <s>\n",
            "1.0813442859649658\n",
            "0.3632076621055603\n",
            "1.3617010831832885\n"
          ],
          "name": "stdout"
        },
        {
          "output_type": "display_data",
          "data": {
            "image/png": "[encoded data removed]",
            "text/plain": [
              "<matplotlib.figure.Figure at 0x7fc0ddf445c0>"
            ]
          },
          "metadata": {
            "tags": []
          }
        },
        {
          "output_type": "stream",
          "text": [
            "############################## epocs 6\n",
            "0 expect to wait a minute here on CPU... running few small steps, till 50\n",
            "10 expect to wait a minute here on CPU... running few small steps, till 50\n",
            "20 expect to wait a minute here on CPU... running few small steps, till 50\n",
            "30 expect to wait a minute here on CPU... running few small steps, till 50\n",
            "40 expect to wait a minute here on CPU... running few small steps, till 50\n",
            "############################## verb 0 ##############################\n",
            "encoder_input  [t_ylt.csv]: In the beginning of God's preparing the heavens and the earth -- <s> <s> <s> <s> <s> <s> <s> <s>\n",
            "encoder_input  [t_bbe.csv]: At the first God made the heaven and the earth. <s> <s> <s> <s> <s> <s> <s> <s> <s> <s>\n",
            "decoder TF     [t_bbe.csv]: \"In the rock of God's preparing the heavens and the earth -- <s> <s> <s> <s> <s> <s> <s> <s>\n",
            "decoder TF     [t_ylt.csv]: In the beginning of God's preparing the heavens and the earth -- <s> <s> <s> <s> <s> <s> <s> <s>\n",
            "1.0813442859649658\n",
            "0.3586388945579529\n",
            "1.3076873540878295\n"
          ],
          "name": "stdout"
        },
        {
          "output_type": "display_data",
          "data": {
            "image/png": "[encoded data removed]",
            "text/plain": [
              "<matplotlib.figure.Figure at 0x7fc0de14fc50>"
            ]
          },
          "metadata": {
            "tags": []
          }
        },
        {
          "output_type": "stream",
          "text": [
            "############################## epocs 7\n",
            "0 expect to wait a minute here on CPU... running few small steps, till 50\n",
            "10 expect to wait a minute here on CPU... running few small steps, till 50\n"
          ],
          "name": "stdout"
        },
        {
          "output_type": "error",
          "ename": "KeyboardInterrupt",
          "evalue": "ignored",
          "traceback": [
            "\u001b[0;31m---------------------------------------------------------------------------\u001b[0m",
            "\u001b[0;31mKeyboardInterrupt\u001b[0m                         Traceback (most recent call last)",
            "\u001b[0;32m<ipython-input-220-5726f2f903f2>\u001b[0m in \u001b[0;36m<module>\u001b[0;34m()\u001b[0m\n\u001b[1;32m      5\u001b[0m   \u001b[0;32mfor\u001b[0m \u001b[0mi\u001b[0m \u001b[0;32min\u001b[0m \u001b[0mrange\u001b[0m\u001b[0;34m(\u001b[0m\u001b[0mint\u001b[0m\u001b[0;34m(\u001b[0m\u001b[0mepoc\u001b[0m\u001b[0;34m/\u001b[0m\u001b[0msmall_steps\u001b[0m\u001b[0;34m)\u001b[0m\u001b[0;34m)\u001b[0m\u001b[0;34m:\u001b[0m\u001b[0;34m\u001b[0m\u001b[0m\n\u001b[1;32m      6\u001b[0m     \u001b[0;32mif\u001b[0m \u001b[0mi\u001b[0m\u001b[0;34m%\u001b[0m\u001b[0;36m10\u001b[0m \u001b[0;34m==\u001b[0m\u001b[0;36m0\u001b[0m\u001b[0;34m:\u001b[0m\u001b[0mprint\u001b[0m \u001b[0;34m(\u001b[0m\u001b[0mi\u001b[0m\u001b[0;34m,\u001b[0m\u001b[0;34m'expect to wait a minute here on CPU... running few small steps, till'\u001b[0m\u001b[0;34m,\u001b[0m\u001b[0mint\u001b[0m\u001b[0;34m(\u001b[0m\u001b[0mepoc\u001b[0m\u001b[0;34m/\u001b[0m\u001b[0msmall_steps\u001b[0m\u001b[0;34m)\u001b[0m\u001b[0;34m)\u001b[0m\u001b[0;34m\u001b[0m\u001b[0m\n\u001b[0;32m----> 7\u001b[0;31m     \u001b[0mtrain_d\u001b[0m\u001b[0;34m(\u001b[0m\u001b[0md\u001b[0m\u001b[0;34m,\u001b[0m\u001b[0msmall_steps\u001b[0m\u001b[0;34m/\u001b[0m\u001b[0;36m5\u001b[0m\u001b[0;34m)\u001b[0m\u001b[0;34m\u001b[0m\u001b[0m\n\u001b[0m\u001b[1;32m      8\u001b[0m     \u001b[0mtrain_adv\u001b[0m\u001b[0;34m(\u001b[0m\u001b[0madv_model\u001b[0m\u001b[0;34m,\u001b[0m\u001b[0msmall_steps\u001b[0m\u001b[0;34m)\u001b[0m\u001b[0;34m\u001b[0m\u001b[0m\n\u001b[1;32m      9\u001b[0m   \u001b[0mshow_sample\u001b[0m\u001b[0;34m(\u001b[0m\u001b[0;34m'train'\u001b[0m\u001b[0;34m,\u001b[0m\u001b[0msample_id\u001b[0m\u001b[0;34m=\u001b[0m\u001b[0;34m[\u001b[0m\u001b[0;36m0\u001b[0m\u001b[0;34m]\u001b[0m\u001b[0;34m,\u001b[0m\u001b[0mteacher_forcing\u001b[0m\u001b[0;34m=\u001b[0m\u001b[0;32mTrue\u001b[0m\u001b[0;34m)\u001b[0m   \u001b[0;31m#,8000+0\u001b[0m\u001b[0;34m\u001b[0m\u001b[0m\n",
            "\u001b[0;32m<ipython-input-172-b6fab5293870>\u001b[0m in \u001b[0;36mtrain_d\u001b[0;34m(d, steps, validation_steps)\u001b[0m\n\u001b[1;32m     93\u001b[0m                         \u001b[0mvalidation_data\u001b[0m\u001b[0;34m=\u001b[0m\u001b[0mgen\u001b[0m\u001b[0;34m(\u001b[0m\u001b[0mdataset\u001b[0m\u001b[0;34m.\u001b[0m\u001b[0mresult\u001b[0m\u001b[0;34m.\u001b[0m\u001b[0mval\u001b[0m\u001b[0;34m,\u001b[0m\u001b[0mbatch_size\u001b[0m\u001b[0;34m,\u001b[0m\u001b[0;34m'd'\u001b[0m\u001b[0;34m)\u001b[0m\u001b[0;34m,\u001b[0m\u001b[0;34m\u001b[0m\u001b[0m\n\u001b[1;32m     94\u001b[0m                         \u001b[0mverbose\u001b[0m\u001b[0;34m=\u001b[0m\u001b[0;36m0\u001b[0m \u001b[0;32mif\u001b[0m \u001b[0msteps\u001b[0m\u001b[0;34m<\u001b[0m\u001b[0;36m20\u001b[0m \u001b[0;32melse\u001b[0m \u001b[0;36m1\u001b[0m\u001b[0;34m,\u001b[0m\u001b[0;34m\u001b[0m\u001b[0m\n\u001b[0;32m---> 95\u001b[0;31m                         callbacks=[loss_history_d])\n\u001b[0m\u001b[1;32m     96\u001b[0m   \u001b[0;31m# d.fit(x_train, style_train,\u001b[0m\u001b[0;34m\u001b[0m\u001b[0;34m\u001b[0m\u001b[0m\n\u001b[1;32m     97\u001b[0m \u001b[0;34m\u001b[0m\u001b[0m\n",
            "\u001b[0;32m/usr/local/lib/python3.6/dist-packages/keras/legacy/interfaces.py\u001b[0m in \u001b[0;36mwrapper\u001b[0;34m(*args, **kwargs)\u001b[0m\n\u001b[1;32m     89\u001b[0m                 warnings.warn('Update your `' + object_name +\n\u001b[1;32m     90\u001b[0m                               '` call to the Keras 2 API: ' + signature, stacklevel=2)\n\u001b[0;32m---> 91\u001b[0;31m             \u001b[0;32mreturn\u001b[0m \u001b[0mfunc\u001b[0m\u001b[0;34m(\u001b[0m\u001b[0;34m*\u001b[0m\u001b[0margs\u001b[0m\u001b[0;34m,\u001b[0m \u001b[0;34m**\u001b[0m\u001b[0mkwargs\u001b[0m\u001b[0;34m)\u001b[0m\u001b[0;34m\u001b[0m\u001b[0m\n\u001b[0m\u001b[1;32m     92\u001b[0m         \u001b[0mwrapper\u001b[0m\u001b[0;34m.\u001b[0m\u001b[0m_original_function\u001b[0m \u001b[0;34m=\u001b[0m \u001b[0mfunc\u001b[0m\u001b[0;34m\u001b[0m\u001b[0m\n\u001b[1;32m     93\u001b[0m         \u001b[0;32mreturn\u001b[0m \u001b[0mwrapper\u001b[0m\u001b[0;34m\u001b[0m\u001b[0m\n",
            "\u001b[0;32m/usr/local/lib/python3.6/dist-packages/keras/engine/training.py\u001b[0m in \u001b[0;36mfit_generator\u001b[0;34m(self, generator, steps_per_epoch, epochs, verbose, callbacks, validation_data, validation_steps, class_weight, max_queue_size, workers, use_multiprocessing, shuffle, initial_epoch)\u001b[0m\n\u001b[1;32m   2228\u001b[0m                     outs = self.train_on_batch(x, y,\n\u001b[1;32m   2229\u001b[0m                                                \u001b[0msample_weight\u001b[0m\u001b[0;34m=\u001b[0m\u001b[0msample_weight\u001b[0m\u001b[0;34m,\u001b[0m\u001b[0;34m\u001b[0m\u001b[0m\n\u001b[0;32m-> 2230\u001b[0;31m                                                class_weight=class_weight)\n\u001b[0m\u001b[1;32m   2231\u001b[0m \u001b[0;34m\u001b[0m\u001b[0m\n\u001b[1;32m   2232\u001b[0m                     \u001b[0;32mif\u001b[0m \u001b[0;32mnot\u001b[0m \u001b[0misinstance\u001b[0m\u001b[0;34m(\u001b[0m\u001b[0mouts\u001b[0m\u001b[0;34m,\u001b[0m \u001b[0mlist\u001b[0m\u001b[0;34m)\u001b[0m\u001b[0;34m:\u001b[0m\u001b[0;34m\u001b[0m\u001b[0m\n",
            "\u001b[0;32m/usr/local/lib/python3.6/dist-packages/keras/engine/training.py\u001b[0m in \u001b[0;36mtrain_on_batch\u001b[0;34m(self, x, y, sample_weight, class_weight)\u001b[0m\n\u001b[1;32m   1881\u001b[0m             \u001b[0mins\u001b[0m \u001b[0;34m=\u001b[0m \u001b[0mx\u001b[0m \u001b[0;34m+\u001b[0m \u001b[0my\u001b[0m \u001b[0;34m+\u001b[0m \u001b[0msample_weights\u001b[0m\u001b[0;34m\u001b[0m\u001b[0m\n\u001b[1;32m   1882\u001b[0m         \u001b[0mself\u001b[0m\u001b[0;34m.\u001b[0m\u001b[0m_make_train_function\u001b[0m\u001b[0;34m(\u001b[0m\u001b[0;34m)\u001b[0m\u001b[0;34m\u001b[0m\u001b[0m\n\u001b[0;32m-> 1883\u001b[0;31m         \u001b[0moutputs\u001b[0m \u001b[0;34m=\u001b[0m \u001b[0mself\u001b[0m\u001b[0;34m.\u001b[0m\u001b[0mtrain_function\u001b[0m\u001b[0;34m(\u001b[0m\u001b[0mins\u001b[0m\u001b[0;34m)\u001b[0m\u001b[0;34m\u001b[0m\u001b[0m\n\u001b[0m\u001b[1;32m   1884\u001b[0m         \u001b[0;32mif\u001b[0m \u001b[0mlen\u001b[0m\u001b[0;34m(\u001b[0m\u001b[0moutputs\u001b[0m\u001b[0;34m)\u001b[0m \u001b[0;34m==\u001b[0m \u001b[0;36m1\u001b[0m\u001b[0;34m:\u001b[0m\u001b[0;34m\u001b[0m\u001b[0m\n\u001b[1;32m   1885\u001b[0m             \u001b[0;32mreturn\u001b[0m \u001b[0moutputs\u001b[0m\u001b[0;34m[\u001b[0m\u001b[0;36m0\u001b[0m\u001b[0;34m]\u001b[0m\u001b[0;34m\u001b[0m\u001b[0m\n",
            "\u001b[0;32m/usr/local/lib/python3.6/dist-packages/keras/backend/tensorflow_backend.py\u001b[0m in \u001b[0;36m__call__\u001b[0;34m(self, inputs)\u001b[0m\n\u001b[1;32m   2480\u001b[0m         \u001b[0msession\u001b[0m \u001b[0;34m=\u001b[0m \u001b[0mget_session\u001b[0m\u001b[0;34m(\u001b[0m\u001b[0;34m)\u001b[0m\u001b[0;34m\u001b[0m\u001b[0m\n\u001b[1;32m   2481\u001b[0m         updated = session.run(fetches=fetches, feed_dict=feed_dict,\n\u001b[0;32m-> 2482\u001b[0;31m                               **self.session_kwargs)\n\u001b[0m\u001b[1;32m   2483\u001b[0m         \u001b[0;32mreturn\u001b[0m \u001b[0mupdated\u001b[0m\u001b[0;34m[\u001b[0m\u001b[0;34m:\u001b[0m\u001b[0mlen\u001b[0m\u001b[0;34m(\u001b[0m\u001b[0mself\u001b[0m\u001b[0;34m.\u001b[0m\u001b[0moutputs\u001b[0m\u001b[0;34m)\u001b[0m\u001b[0;34m]\u001b[0m\u001b[0;34m\u001b[0m\u001b[0m\n\u001b[1;32m   2484\u001b[0m \u001b[0;34m\u001b[0m\u001b[0m\n",
            "\u001b[0;32m/usr/local/lib/python3.6/dist-packages/tensorflow/python/client/session.py\u001b[0m in \u001b[0;36mrun\u001b[0;34m(self, fetches, feed_dict, options, run_metadata)\u001b[0m\n\u001b[1;32m    898\u001b[0m     \u001b[0;32mtry\u001b[0m\u001b[0;34m:\u001b[0m\u001b[0;34m\u001b[0m\u001b[0m\n\u001b[1;32m    899\u001b[0m       result = self._run(None, fetches, feed_dict, options_ptr,\n\u001b[0;32m--> 900\u001b[0;31m                          run_metadata_ptr)\n\u001b[0m\u001b[1;32m    901\u001b[0m       \u001b[0;32mif\u001b[0m \u001b[0mrun_metadata\u001b[0m\u001b[0;34m:\u001b[0m\u001b[0;34m\u001b[0m\u001b[0m\n\u001b[1;32m    902\u001b[0m         \u001b[0mproto_data\u001b[0m \u001b[0;34m=\u001b[0m \u001b[0mtf_session\u001b[0m\u001b[0;34m.\u001b[0m\u001b[0mTF_GetBuffer\u001b[0m\u001b[0;34m(\u001b[0m\u001b[0mrun_metadata_ptr\u001b[0m\u001b[0;34m)\u001b[0m\u001b[0;34m\u001b[0m\u001b[0m\n",
            "\u001b[0;32m/usr/local/lib/python3.6/dist-packages/tensorflow/python/client/session.py\u001b[0m in \u001b[0;36m_run\u001b[0;34m(self, handle, fetches, feed_dict, options, run_metadata)\u001b[0m\n\u001b[1;32m   1133\u001b[0m     \u001b[0;32mif\u001b[0m \u001b[0mfinal_fetches\u001b[0m \u001b[0;32mor\u001b[0m \u001b[0mfinal_targets\u001b[0m \u001b[0;32mor\u001b[0m \u001b[0;34m(\u001b[0m\u001b[0mhandle\u001b[0m \u001b[0;32mand\u001b[0m \u001b[0mfeed_dict_tensor\u001b[0m\u001b[0;34m)\u001b[0m\u001b[0;34m:\u001b[0m\u001b[0;34m\u001b[0m\u001b[0m\n\u001b[1;32m   1134\u001b[0m       results = self._do_run(handle, final_targets, final_fetches,\n\u001b[0;32m-> 1135\u001b[0;31m                              feed_dict_tensor, options, run_metadata)\n\u001b[0m\u001b[1;32m   1136\u001b[0m     \u001b[0;32melse\u001b[0m\u001b[0;34m:\u001b[0m\u001b[0;34m\u001b[0m\u001b[0m\n\u001b[1;32m   1137\u001b[0m       \u001b[0mresults\u001b[0m \u001b[0;34m=\u001b[0m \u001b[0;34m[\u001b[0m\u001b[0;34m]\u001b[0m\u001b[0;34m\u001b[0m\u001b[0m\n",
            "\u001b[0;32m/usr/local/lib/python3.6/dist-packages/tensorflow/python/client/session.py\u001b[0m in \u001b[0;36m_do_run\u001b[0;34m(self, handle, target_list, fetch_list, feed_dict, options, run_metadata)\u001b[0m\n\u001b[1;32m   1314\u001b[0m     \u001b[0;32mif\u001b[0m \u001b[0mhandle\u001b[0m \u001b[0;32mis\u001b[0m \u001b[0;32mNone\u001b[0m\u001b[0;34m:\u001b[0m\u001b[0;34m\u001b[0m\u001b[0m\n\u001b[1;32m   1315\u001b[0m       return self._do_call(_run_fn, feeds, fetches, targets, options,\n\u001b[0;32m-> 1316\u001b[0;31m                            run_metadata)\n\u001b[0m\u001b[1;32m   1317\u001b[0m     \u001b[0;32melse\u001b[0m\u001b[0;34m:\u001b[0m\u001b[0;34m\u001b[0m\u001b[0m\n\u001b[1;32m   1318\u001b[0m       \u001b[0;32mreturn\u001b[0m \u001b[0mself\u001b[0m\u001b[0;34m.\u001b[0m\u001b[0m_do_call\u001b[0m\u001b[0;34m(\u001b[0m\u001b[0m_prun_fn\u001b[0m\u001b[0;34m,\u001b[0m \u001b[0mhandle\u001b[0m\u001b[0;34m,\u001b[0m \u001b[0mfeeds\u001b[0m\u001b[0;34m,\u001b[0m \u001b[0mfetches\u001b[0m\u001b[0;34m)\u001b[0m\u001b[0;34m\u001b[0m\u001b[0m\n",
            "\u001b[0;32m/usr/local/lib/python3.6/dist-packages/tensorflow/python/client/session.py\u001b[0m in \u001b[0;36m_do_call\u001b[0;34m(self, fn, *args)\u001b[0m\n\u001b[1;32m   1320\u001b[0m   \u001b[0;32mdef\u001b[0m \u001b[0m_do_call\u001b[0m\u001b[0;34m(\u001b[0m\u001b[0mself\u001b[0m\u001b[0;34m,\u001b[0m \u001b[0mfn\u001b[0m\u001b[0;34m,\u001b[0m \u001b[0;34m*\u001b[0m\u001b[0margs\u001b[0m\u001b[0;34m)\u001b[0m\u001b[0;34m:\u001b[0m\u001b[0;34m\u001b[0m\u001b[0m\n\u001b[1;32m   1321\u001b[0m     \u001b[0;32mtry\u001b[0m\u001b[0;34m:\u001b[0m\u001b[0;34m\u001b[0m\u001b[0m\n\u001b[0;32m-> 1322\u001b[0;31m       \u001b[0;32mreturn\u001b[0m \u001b[0mfn\u001b[0m\u001b[0;34m(\u001b[0m\u001b[0;34m*\u001b[0m\u001b[0margs\u001b[0m\u001b[0;34m)\u001b[0m\u001b[0;34m\u001b[0m\u001b[0m\n\u001b[0m\u001b[1;32m   1323\u001b[0m     \u001b[0;32mexcept\u001b[0m \u001b[0merrors\u001b[0m\u001b[0;34m.\u001b[0m\u001b[0mOpError\u001b[0m \u001b[0;32mas\u001b[0m \u001b[0me\u001b[0m\u001b[0;34m:\u001b[0m\u001b[0;34m\u001b[0m\u001b[0m\n\u001b[1;32m   1324\u001b[0m       \u001b[0mmessage\u001b[0m \u001b[0;34m=\u001b[0m \u001b[0mcompat\u001b[0m\u001b[0;34m.\u001b[0m\u001b[0mas_text\u001b[0m\u001b[0;34m(\u001b[0m\u001b[0me\u001b[0m\u001b[0;34m.\u001b[0m\u001b[0mmessage\u001b[0m\u001b[0;34m)\u001b[0m\u001b[0;34m\u001b[0m\u001b[0m\n",
            "\u001b[0;32m/usr/local/lib/python3.6/dist-packages/tensorflow/python/client/session.py\u001b[0m in \u001b[0;36m_run_fn\u001b[0;34m(feed_dict, fetch_list, target_list, options, run_metadata)\u001b[0m\n\u001b[1;32m   1305\u001b[0m       \u001b[0mself\u001b[0m\u001b[0;34m.\u001b[0m\u001b[0m_extend_graph\u001b[0m\u001b[0;34m(\u001b[0m\u001b[0;34m)\u001b[0m\u001b[0;34m\u001b[0m\u001b[0m\n\u001b[1;32m   1306\u001b[0m       return self._call_tf_sessionrun(\n\u001b[0;32m-> 1307\u001b[0;31m           options, feed_dict, fetch_list, target_list, run_metadata)\n\u001b[0m\u001b[1;32m   1308\u001b[0m \u001b[0;34m\u001b[0m\u001b[0m\n\u001b[1;32m   1309\u001b[0m     \u001b[0;32mdef\u001b[0m \u001b[0m_prun_fn\u001b[0m\u001b[0;34m(\u001b[0m\u001b[0mhandle\u001b[0m\u001b[0;34m,\u001b[0m \u001b[0mfeed_dict\u001b[0m\u001b[0;34m,\u001b[0m \u001b[0mfetch_list\u001b[0m\u001b[0;34m)\u001b[0m\u001b[0;34m:\u001b[0m\u001b[0;34m\u001b[0m\u001b[0m\n",
            "\u001b[0;32m/usr/local/lib/python3.6/dist-packages/tensorflow/python/client/session.py\u001b[0m in \u001b[0;36m_call_tf_sessionrun\u001b[0;34m(self, options, feed_dict, fetch_list, target_list, run_metadata)\u001b[0m\n\u001b[1;32m   1407\u001b[0m       return tf_session.TF_SessionRun_wrapper(\n\u001b[1;32m   1408\u001b[0m           \u001b[0mself\u001b[0m\u001b[0;34m.\u001b[0m\u001b[0m_session\u001b[0m\u001b[0;34m,\u001b[0m \u001b[0moptions\u001b[0m\u001b[0;34m,\u001b[0m \u001b[0mfeed_dict\u001b[0m\u001b[0;34m,\u001b[0m \u001b[0mfetch_list\u001b[0m\u001b[0;34m,\u001b[0m \u001b[0mtarget_list\u001b[0m\u001b[0;34m,\u001b[0m\u001b[0;34m\u001b[0m\u001b[0m\n\u001b[0;32m-> 1409\u001b[0;31m           run_metadata)\n\u001b[0m\u001b[1;32m   1410\u001b[0m     \u001b[0;32melse\u001b[0m\u001b[0;34m:\u001b[0m\u001b[0;34m\u001b[0m\u001b[0m\n\u001b[1;32m   1411\u001b[0m       \u001b[0;32mwith\u001b[0m \u001b[0merrors\u001b[0m\u001b[0;34m.\u001b[0m\u001b[0mraise_exception_on_not_ok_status\u001b[0m\u001b[0;34m(\u001b[0m\u001b[0;34m)\u001b[0m \u001b[0;32mas\u001b[0m \u001b[0mstatus\u001b[0m\u001b[0;34m:\u001b[0m\u001b[0;34m\u001b[0m\u001b[0m\n",
            "\u001b[0;31mKeyboardInterrupt\u001b[0m: "
          ]
        }
      ]
    },
    {
      "metadata": {
        "id": "wupd9F5AjoGS",
        "colab_type": "code",
        "colab": {
          "base_uri": "https://localhost:8080/",
          "height": 741
        },
        "outputId": "05d8d095-cbc7-4413-a18e-04f71955e488"
      },
      "cell_type": "code",
      "source": [
        ""
      ],
      "execution_count": 222,
      "outputs": [
        {
          "output_type": "stream",
          "text": [
            "############################## verb 0 ##############################\n",
            "encoder_input  [t_ylt.csv]: In the beginning of God's preparing the heavens and the earth -- <s> <s> <s> <s> <s> <s> <s> <s>\n",
            "encoder_input  [t_bbe.csv]: At the first God made the heaven and the earth. <s> <s> <s> <s> <s> <s> <s> <s> <s> <s>\n",
            "decoder TF     [t_bbe.csv]: \"In the rock of God's preparing the earth and the earth -- <s> <s> <s> <s> <s> <s> <s> <s>\n",
            "decoder TF     [t_ylt.csv]: In the beginning of God's preparing the heavens and the earth -- <s> <s> <s> <s> <s> <s> <s> <s>\n",
            "############################## verb 1 ##############################\n",
            "encoder_input  [t_ylt.csv]: \"the earth hath <oov> waste and <oov> and darkness `is' on the face of the deep, and the Spirit of\n",
            "encoder_input  [t_bbe.csv]: And the earth was waste and without form; and it was dark on the face of the <oov> and the\n",
            "decoder TF     [t_bbe.csv]: \"This earth hath <oov> waste and <oov> and darkness `is' on the face of the deep, and the Spirit of\n",
            "decoder TF     [t_ylt.csv]: \"the earth hath <oov> waste and <oov> and darkness `is' on the face of the deep, and the Spirit of\n",
            "############################## verb 2 ##############################\n",
            "encoder_input  [t_ylt.csv]: \"and God saith, `Let light <oov> and light is.\" <s> <s> <s> <s> <s> <s> <s> <s> <s> <s> <s>\n",
            "encoder_input  [t_bbe.csv]: \"And God said, Let there be light: and there was light.\" <s> <s> <s> <s> <s> <s> <s> <s> <s>\n",
            "decoder TF     [t_bbe.csv]: \"And God said, <oov> <oov> <oov> and light is.\" <s> <s> <s> <s> <s> <s> <s> <s> <s> <s> <s>\n",
            "decoder TF     [t_ylt.csv]: \"and God saith, <oov> <oov> <oov> and light is.\" <s> <s> <s> <s> <s> <s> <s> <s> <s> <s> <s>\n",
            "############################## verb 999 ##############################\n",
            "encoder_input  [t_ylt.csv]: \"and the young man <oov> not to do the thing, for he had delight in Jacob's daughter, and he is\n",
            "encoder_input  [t_bbe.csv]: \"And without loss of time the young man did as they said, because he had delight in Jacob's daughter, and\n",
            "decoder TF     [t_bbe.csv]: \"When the young man <oov> not to do the man for he had no in his daughter, and he is\n",
            "decoder TF     [t_ylt.csv]: \"and the young person <oov> not to do the man for he had no in Jacob's daughter, and he is\n",
            "############################## verb 0 ##############################\n",
            "encoder_input  [t_ylt.csv]: In the beginning of God's preparing the heavens and the earth -- <s> <s> <s> <s> <s> <s> <s> <s>\n",
            "encoder_input  [t_bbe.csv]: At the first God made the heaven and the earth. <s> <s> <s> <s> <s> <s> <s> <s> <s> <s>\n",
            "decoder sample [t_bbe.csv]: In the beginning of God's preparing the heavens and the earth -- <s>\n",
            "decoder sample [t_ylt.csv]: In the beginning of God's preparing the heavens and the earth -- <s>\n",
            "############################## verb 1 ##############################\n",
            "encoder_input  [t_ylt.csv]: \"the earth hath <oov> waste and <oov> and darkness `is' on the face of the deep, and the Spirit of\n",
            "encoder_input  [t_bbe.csv]: And the earth was waste and without form; and it was dark on the face of the <oov> and the\n",
            "decoder sample [t_bbe.csv]: \"the earth hath <oov> waste and <oov> and darkness `is' on the face of the deep, and the Spirit of Jehovah\n",
            "decoder sample [t_ylt.csv]: \"the earth hath <oov> waste and <oov> and darkness `is' on the face of the deep, and the Spirit of Jehovah\n",
            "############################## verb 2 ##############################\n",
            "encoder_input  [t_ylt.csv]: \"and God saith, `Let light <oov> and light is.\" <s> <s> <s> <s> <s> <s> <s> <s> <s> <s> <s>\n",
            "encoder_input  [t_bbe.csv]: \"And God said, Let there be light: and there was light.\" <s> <s> <s> <s> <s> <s> <s> <s> <s>\n",
            "decoder sample [t_bbe.csv]: \"and God saith, <oov> `Let light and light is.\" <s>\n",
            "decoder sample [t_ylt.csv]: \"and God saith, <oov> `Let light and light is.\" <s>\n",
            "############################## verb 999 ##############################\n",
            "encoder_input  [t_ylt.csv]: \"and the young man <oov> not to do the thing, for he had delight in Jacob's daughter, and he is\n",
            "encoder_input  [t_bbe.csv]: \"And without loss of time the young man did as they said, because he had delight in Jacob's daughter, and\n",
            "decoder sample [t_bbe.csv]: \"and the young person doth take to the man for he hath said, and in her then they are not <oov>\n",
            "decoder sample [t_ylt.csv]: \"and the young person doth take to the man for he hath said, and in her then they are not <oov>\n"
          ],
          "name": "stdout"
        }
      ]
    },
    {
      "metadata": {
        "id": "QOjAoPF-gAqx",
        "colab_type": "text"
      },
      "cell_type": "markdown",
      "source": [
        "# SAVE LOAD MODEL"
      ]
    },
    {
      "metadata": {
        "id": "wDPYJxwbf5_H",
        "colab_type": "code",
        "colab": {}
      },
      "cell_type": "code",
      "source": [
        "class GoogleDrive():\n",
        "  \n",
        "  def __init__(self):\n",
        "    !pip install -U -q PyDrive\n",
        "    from pydrive.auth import GoogleAuth\n",
        "    from pydrive.drive import GoogleDrive\n",
        "    from google.colab import auth\n",
        "    from oauth2client.client import GoogleCredentials\n",
        "\n",
        "    auth.authenticate_user()\n",
        "    gauth = GoogleAuth()\n",
        "    gauth.credentials = GoogleCredentials.get_application_default()\n",
        "    self.drive = GoogleDrive(gauth)\n",
        "\n",
        "\n",
        "  def save_to_drive(self,pathname):\n",
        "    file_list = self.drive.ListFile({'q': \"'root' in parents and trashed=false\"}).GetList()\n",
        "    data_from_colab=None\n",
        "    for file1 in file_list:  \n",
        "       if file1['title']=='data_from_colab':\n",
        "          #print ('title: %s, id: %s' % (file1['title'], file1['id']))\n",
        "          data_from_colab = file1['id']\n",
        "\n",
        "    if (data_from_colab):\n",
        "      f = self.drive.CreateFile({'parents':[{u'id': data_from_colab}]})\n",
        "      f.SetContentFile(pathname)\n",
        "      f.Upload() \n",
        "      f_id = f['id']\n",
        "      print (f'saving {pathname} as id {f_id}')\n",
        "      return f_id\n",
        "    else:\n",
        "      raise Exception('did not find')\n",
        "\n",
        "      \n",
        "  def load_from_drive(self,id_in_drive,local_pathname): #find it from share\n",
        "    down= self.drive.CreateFile({'id': id_in_drive}) #{'id': '1nIcmbxc6c3Nic35O2JrSEmTmq7X6D2a2'}\n",
        "    down.GetContentFile(local_pathname)   \n",
        "  \n",
        "  \n",
        "\n",
        "def test():\n",
        "  \n",
        "  GoogleDrive()\n",
        "  i=save_to_drive('language-style-transfer/LICENSE')\n",
        "  load_from_drive(i,'language-style-transfer/LICENSE_OUT_2')\n",
        "  !ls -l language-style-transfer\n",
        "  \n"
      ],
      "execution_count": 0,
      "outputs": []
    },
    {
      "metadata": {
        "id": "lkRifQNB2sMa",
        "colab_type": "code",
        "colab": {}
      },
      "cell_type": "code",
      "source": [
        "\n",
        "   \n",
        "class Persistency():\n",
        "\n",
        "  def save_weights(self,model,model_names,save_to_gdrive=True):\n",
        "    import shutil\n",
        "    from time import gmtime, strftime\n",
        "\n",
        "    # keras can save model architecture + weights + opt_state using model.save\n",
        "    # It can also sepately save weights and architecture as json\n",
        "    # When using custom code (like our loss function), one need to use CustomObject (TODO)\n",
        "\n",
        "    #we have 3 top-level-models\n",
        "    # model = encoder_model + decoder_model\n",
        "    # d = d_classfier_model + d_encoder_model\n",
        "    # adv = encoder_model , classfier_model, decoder_model\n",
        "    # but they share few of their weights\n",
        "    time_str = strftime(\"%Y-%m-%d_%H-%M-%S\", gmtime())\n",
        "\n",
        "    models_base_dir = 'models'\n",
        "    models_time_dir = f'{models_base_dir}/{time_str}/'\n",
        "\n",
        "    if not os.path.exists(models_time_dir):\n",
        "       os.makedirs(models_time_dir)\n",
        "\n",
        "\n",
        "    #TODO: split part of model, decoder_sampling_model to decoder weights only\n",
        "    for i in range(len(models)):\n",
        "      models[i].save_weights(models_time_dir +model_names[i]+'.h5')\n",
        "\n",
        "    !ls -lh {models_base_dir}\n",
        "    shutil.make_archive(f'{models_base_dir}/models_weights_{time_str}','zip', models_time_dir) \n",
        "    !ls -lh {models_base_dir}\n",
        "\n",
        "    if (save_to_gdrive):\n",
        "      drive = GoogleDrive()\n",
        "      drive.save_to_drive(f'{models_base_dir}/models_weights_{time_str}.zip')\n",
        "\n",
        "\n",
        "  def load_weights_from(self,folder) :\n",
        "    #id_in_drive='1Jth1h97t_M6HngZgGLP64V7OFxjvR-3x'\n",
        "    #drive.load_from_drive(id_in_drive,f'{models_base_dir}/models_weights_{time_str}_OUT.zip')\n",
        "    for i in range(len(models)):\n",
        "      pathname = f'{folder}/{model_names[i]}.h5'\n",
        "      if not os.path.exists(pathname):\n",
        "        print (pathname,'missing. breaking!')\n",
        "        return\n",
        "      else:\n",
        "        print ('loading',pathname)\n",
        "      models[i].load_weights(pathname)\n",
        "    print ('load from ',folder,'complete. Make sure you already compiled the model and set optimizers')\n",
        "\n",
        "    \n",
        "#models      = [encoder_model   , model,    decoder_sampling_model,   d_classifier_model] #rest can be built from them?  \n",
        "#model_names = ['encoder_model', 'model', 'decoder_sampling_model','d_classifier_model' ] #rest can be built from them?  \n",
        "#Persistency().load_weights_from('models/2018-07-15_10-15-21',models,model_names)\n",
        "  \n",
        "\n",
        "\n"
      ],
      "execution_count": 0,
      "outputs": []
    },
    {
      "metadata": {
        "id": "ohNCfi8WZP3Z",
        "colab_type": "code",
        "colab": {
          "base_uri": "https://localhost:8080/",
          "height": 34
        },
        "outputId": "9f0d75d8-0ef1-4d0a-cbd4-2fe14566101d"
      },
      "cell_type": "code",
      "source": [
        "!ls models/2018-07-15_10-15-21"
      ],
      "execution_count": 163,
      "outputs": [
        {
          "output_type": "stream",
          "text": [
            "d_classifier_model.h5  decoder_sampling_model.h5  encoder_model.h5  model.h5\r\n"
          ],
          "name": "stdout"
        }
      ]
    },
    {
      "metadata": {
        "id": "XvIkFOWy55ov",
        "colab_type": "text"
      },
      "cell_type": "markdown",
      "source": [
        "# Error analysis"
      ]
    },
    {
      "metadata": {
        "id": "Ob6kDbRUBJki",
        "colab_type": "code",
        "colab": {
          "base_uri": "https://localhost:8080/",
          "height": 758
        },
        "outputId": "385f6685-dd39-4386-82ba-82bb37832cee"
      },
      "cell_type": "code",
      "source": [
        "show_sample('train',sample_id=[0,1,2,999],teacher_forcing=False)   #,8000+0\n",
        "print (' VAL '*10)\n",
        "show_sample('val'  ,sample_id=[0,1,2,999],teacher_forcing=False)   #,8000+0\n",
        "\n",
        "# VAL SO BAD , TOO MUCH OVERFIT . NOT ENOUGH DATA g0.5/2.5\n"
      ],
      "execution_count": 246,
      "outputs": [
        {
          "output_type": "stream",
          "text": [
            "############################## verb 0 ##############################\n",
            "encoder_input  [t_ylt.csv]: In the beginning of God's preparing the heavens and the earth -- <s> <s> <s> <s> <s> <s> <s> <s>\n",
            "encoder_input  [t_bbe.csv]: At the first God made the heaven and the earth. <s> <s> <s> <s> <s> <s> <s> <s> <s> <s>\n",
            "decoder sample [t_bbe.csv]: In the memory of our God, the heavens and the earth full.\" <s>\n",
            "decoder sample [t_ylt.csv]: In the beginning of our God, the heavens and the earth -- <s>\n",
            "############################## verb 1 ##############################\n",
            "encoder_input  [t_ylt.csv]: \"the earth hath <oov> waste and <oov> and darkness `is' on the face of the deep, and the Spirit of\n",
            "encoder_input  [t_bbe.csv]: And the earth was waste and without <oov> and it was dark on the face of the <oov> and the\n",
            "decoder sample [t_bbe.csv]: The earth has <oov> waste and <oov> and light night on the dust of the name of the earth and still\n",
            "decoder sample [t_ylt.csv]: \"the earth hath <oov> waste and <oov> and darkness `is' on the face of the deep, and the Spirit of sadness\n",
            "############################## verb 2 ##############################\n",
            "encoder_input  [t_ylt.csv]: \"and God saith, `Let light <oov> and light is.\" <s> <s> <s> <s> <s> <s> <s> <s> <s> <s> <s>\n",
            "encoder_input  [t_bbe.csv]: \"And God said, Let there be light: and there was light.\" <s> <s> <s> <s> <s> <s> <s> <s> <s>\n",
            "decoder sample [t_bbe.csv]: \"and God said, Let evil spirits and take <oov> <s>\n",
            "decoder sample [t_ylt.csv]: \"and God saith, `Let light <oov> and light on.\" <s>\n",
            "############################## verb 999 ##############################\n",
            "encoder_input  [t_ylt.csv]: \"and the young man <oov> not to do the thing, for he had delight in Jacob's daughter, and he is\n",
            "encoder_input  [t_bbe.csv]: \"And without loss of time the young man did as they said, because he had delight in Jacob's daughter, and\n",
            "decoder sample [t_bbe.csv]: \"and the young man <oov> not to do the thing, for he had delight in Jacob's daughter, and he is ready\n",
            "decoder sample [t_ylt.csv]: \"and the young man <oov> not to do the thing, for he had delight in Jacob's daughter, and he is gathering\n",
            " VAL  VAL  VAL  VAL  VAL  VAL  VAL  VAL  VAL  VAL \n",
            "############################## verb 0 ##############################\n",
            "encoder_input  [t_ylt.csv]: \"and this know, that if the master of the house had known in what watch the thief doth come, he\n",
            "encoder_input  [t_bbe.csv]: \"But be certain of this, that if the master of the house had had knowledge of the time when the\n",
            "decoder sample [t_bbe.csv]: \"and this reason, see, that the house of the servant of God made for so long life he will go after\n",
            "decoder sample [t_ylt.csv]: \"and this chamber, that the matters of the people that of this kingdom, `is' Jehovah -- she who falleth he doth\n",
            "############################## verb 1 ##############################\n",
            "encoder_input  [t_ylt.csv]: \"because of this also ye, become ye ready, because in what hour ye do not <oov> the Son of Man\n",
            "encoder_input  [t_bbe.csv]: Be ready <oov> for at a time which you have no thought of the Son of man will come. <s>\n",
            "decoder sample [t_bbe.csv]: \"Because of this offerings there was you, of Israel: when you see what do not said, Where the spirit of Israel,\"\n",
            "decoder sample [t_ylt.csv]: \"because of this days ye `are' ye, O disease of generation, till ye may not <oov> the iniquity which it cometh.\"\n",
            "############################## verb 2 ##############################\n",
            "encoder_input  [t_ylt.csv]: <oov> then, is the servant, faithful and wise, whom his lord did set over his household, to give them the\n",
            "encoder_input  [t_bbe.csv]: \"Who is the true and wise servant, whom his lord has put over those in his house, to give them\n",
            "decoder sample [t_bbe.csv]: <oov> then, is the same time, Sodom and whom his people put away his way to the hills, let him not\n",
            "decoder sample [t_ylt.csv]: <oov> <oov> is the kind command and Hananiah, whom his people away against his neighbour did a <oov> to give them\n",
            "############################## verb 999 ##############################\n",
            "encoder_input  [t_ylt.csv]: and it hath been <oov> told him by the Holy Spirit -- not to see death before he may see\n",
            "encoder_input  [t_bbe.csv]: \"And he had knowledge, through the Holy Spirit, that he would not see death till he had seen the Lord's\n",
            "decoder sample [t_bbe.csv]: \"It has it been <oov> she by him the day after, but to evil time to all who takes punishment on\n",
            "decoder sample [t_ylt.csv]: and it hath been <oov> him by himself, the Spirit by God, said to man -- From that shall he bringeth\n"
          ],
          "name": "stdout"
        }
      ]
    },
    {
      "metadata": {
        "id": "TkFXxinr0fNo",
        "colab_type": "code",
        "colab": {
          "base_uri": "https://localhost:8080/",
          "height": 627
        },
        "outputId": "b3ae0eec-c0e3-450d-f947-6aaed5fff1be"
      },
      "cell_type": "code",
      "source": [
        "\n",
        "\n",
        "\n",
        "#a= model.predict([x_train[s:e], x_train_d[s:e]])\n",
        "#for i in range(dataset.MAX_SEQUENCE_LENGTH):\n",
        "#  best=np.argmax(a[0,i])\n",
        "#  print (i,best,dataset.index2word[best],a[0,i,best],a[0,i,0])\n",
        "\n",
        "#NEED TO FIX CODE HERE\n",
        "from keras.losses import categorical_crossentropy\n",
        "p=model.predict([x_val,x_val_d])\n",
        "scores=K.eval(K.sum(categorical_crossentropy(K.constant(p), K.constant(y_val) ),axis=1))\n",
        "worse_10 = scores.argsort()[::-1][:10]\n",
        "\n",
        "for i in range(len(worse_10)):\n",
        "  bad=worse_10[i]\n",
        "  print (i,'arg',bad,'score',scores[bad],show_sample('val',False,bad))\n",
        "  \n"
      ],
      "execution_count": 287,
      "outputs": [
        {
          "output_type": "error",
          "ename": "ValueError",
          "evalue": "ignored",
          "traceback": [
            "\u001b[0;31m---------------------------------------------------------------------------\u001b[0m",
            "\u001b[0;31mValueError\u001b[0m                                Traceback (most recent call last)",
            "\u001b[0;32m<ipython-input-287-1e4d70dec522>\u001b[0m in \u001b[0;36m<module>\u001b[0;34m()\u001b[0m\n\u001b[1;32m      2\u001b[0m \u001b[0;32mfrom\u001b[0m \u001b[0mkeras\u001b[0m\u001b[0;34m.\u001b[0m\u001b[0mlosses\u001b[0m \u001b[0;32mimport\u001b[0m \u001b[0mcategorical_crossentropy\u001b[0m\u001b[0;34m\u001b[0m\u001b[0m\n\u001b[1;32m      3\u001b[0m \u001b[0mp\u001b[0m\u001b[0;34m=\u001b[0m\u001b[0mmodel\u001b[0m\u001b[0;34m.\u001b[0m\u001b[0mpredict\u001b[0m\u001b[0;34m(\u001b[0m\u001b[0;34m[\u001b[0m\u001b[0mx_val\u001b[0m\u001b[0;34m,\u001b[0m\u001b[0mx_val_d\u001b[0m\u001b[0;34m]\u001b[0m\u001b[0;34m)\u001b[0m\u001b[0;34m\u001b[0m\u001b[0m\n\u001b[0;32m----> 4\u001b[0;31m \u001b[0mscores\u001b[0m\u001b[0;34m=\u001b[0m\u001b[0mK\u001b[0m\u001b[0;34m.\u001b[0m\u001b[0meval\u001b[0m\u001b[0;34m(\u001b[0m\u001b[0mK\u001b[0m\u001b[0;34m.\u001b[0m\u001b[0msum\u001b[0m\u001b[0;34m(\u001b[0m\u001b[0mcategorical_crossentropy\u001b[0m\u001b[0;34m(\u001b[0m\u001b[0mK\u001b[0m\u001b[0;34m.\u001b[0m\u001b[0mconstant\u001b[0m\u001b[0;34m(\u001b[0m\u001b[0mp\u001b[0m\u001b[0;34m)\u001b[0m\u001b[0;34m,\u001b[0m \u001b[0mK\u001b[0m\u001b[0;34m.\u001b[0m\u001b[0mconstant\u001b[0m\u001b[0;34m(\u001b[0m\u001b[0my_val\u001b[0m\u001b[0;34m)\u001b[0m \u001b[0;34m)\u001b[0m\u001b[0;34m,\u001b[0m\u001b[0maxis\u001b[0m\u001b[0;34m=\u001b[0m\u001b[0;36m1\u001b[0m\u001b[0;34m)\u001b[0m\u001b[0;34m)\u001b[0m\u001b[0;34m\u001b[0m\u001b[0m\n\u001b[0m\u001b[1;32m      5\u001b[0m \u001b[0mworse_10\u001b[0m \u001b[0;34m=\u001b[0m \u001b[0mscores\u001b[0m\u001b[0;34m.\u001b[0m\u001b[0margsort\u001b[0m\u001b[0;34m(\u001b[0m\u001b[0;34m)\u001b[0m\u001b[0;34m[\u001b[0m\u001b[0;34m:\u001b[0m\u001b[0;34m:\u001b[0m\u001b[0;34m-\u001b[0m\u001b[0;36m1\u001b[0m\u001b[0;34m]\u001b[0m\u001b[0;34m[\u001b[0m\u001b[0;34m:\u001b[0m\u001b[0;36m10\u001b[0m\u001b[0;34m]\u001b[0m\u001b[0;34m\u001b[0m\u001b[0m\n\u001b[1;32m      6\u001b[0m \u001b[0;34m\u001b[0m\u001b[0m\n",
            "\u001b[0;32m/usr/local/lib/python3.6/dist-packages/keras/backend/tensorflow_backend.py\u001b[0m in \u001b[0;36mconstant\u001b[0;34m(value, dtype, shape, name)\u001b[0m\n\u001b[1;32m    422\u001b[0m     \u001b[0;32mif\u001b[0m \u001b[0mdtype\u001b[0m \u001b[0;32mis\u001b[0m \u001b[0;32mNone\u001b[0m\u001b[0;34m:\u001b[0m\u001b[0;34m\u001b[0m\u001b[0m\n\u001b[1;32m    423\u001b[0m         \u001b[0mdtype\u001b[0m \u001b[0;34m=\u001b[0m \u001b[0mfloatx\u001b[0m\u001b[0;34m(\u001b[0m\u001b[0;34m)\u001b[0m\u001b[0;34m\u001b[0m\u001b[0m\n\u001b[0;32m--> 424\u001b[0;31m     \u001b[0;32mreturn\u001b[0m \u001b[0mtf\u001b[0m\u001b[0;34m.\u001b[0m\u001b[0mconstant\u001b[0m\u001b[0;34m(\u001b[0m\u001b[0mvalue\u001b[0m\u001b[0;34m,\u001b[0m \u001b[0mdtype\u001b[0m\u001b[0;34m=\u001b[0m\u001b[0mdtype\u001b[0m\u001b[0;34m,\u001b[0m \u001b[0mshape\u001b[0m\u001b[0;34m=\u001b[0m\u001b[0mshape\u001b[0m\u001b[0;34m,\u001b[0m \u001b[0mname\u001b[0m\u001b[0;34m=\u001b[0m\u001b[0mname\u001b[0m\u001b[0;34m)\u001b[0m\u001b[0;34m\u001b[0m\u001b[0m\n\u001b[0m\u001b[1;32m    425\u001b[0m \u001b[0;34m\u001b[0m\u001b[0m\n\u001b[1;32m    426\u001b[0m \u001b[0;34m\u001b[0m\u001b[0m\n",
            "\u001b[0;32m/usr/local/lib/python3.6/dist-packages/tensorflow/python/framework/constant_op.py\u001b[0m in \u001b[0;36mconstant\u001b[0;34m(value, dtype, shape, name, verify_shape)\u001b[0m\n\u001b[1;32m    194\u001b[0m   tensor_value.tensor.CopyFrom(\n\u001b[1;32m    195\u001b[0m       tensor_util.make_tensor_proto(\n\u001b[0;32m--> 196\u001b[0;31m           value, dtype=dtype, shape=shape, verify_shape=verify_shape))\n\u001b[0m\u001b[1;32m    197\u001b[0m   \u001b[0mdtype_value\u001b[0m \u001b[0;34m=\u001b[0m \u001b[0mattr_value_pb2\u001b[0m\u001b[0;34m.\u001b[0m\u001b[0mAttrValue\u001b[0m\u001b[0;34m(\u001b[0m\u001b[0mtype\u001b[0m\u001b[0;34m=\u001b[0m\u001b[0mtensor_value\u001b[0m\u001b[0;34m.\u001b[0m\u001b[0mtensor\u001b[0m\u001b[0;34m.\u001b[0m\u001b[0mdtype\u001b[0m\u001b[0;34m)\u001b[0m\u001b[0;34m\u001b[0m\u001b[0m\n\u001b[1;32m    198\u001b[0m   const_tensor = g.create_op(\n",
            "\u001b[0;32m/usr/local/lib/python3.6/dist-packages/tensorflow/python/framework/tensor_util.py\u001b[0m in \u001b[0;36mmake_tensor_proto\u001b[0;34m(values, dtype, shape, verify_shape)\u001b[0m\n\u001b[1;32m    422\u001b[0m   \u001b[0;32melse\u001b[0m\u001b[0;34m:\u001b[0m\u001b[0;34m\u001b[0m\u001b[0m\n\u001b[1;32m    423\u001b[0m     \u001b[0;32mif\u001b[0m \u001b[0mvalues\u001b[0m \u001b[0;32mis\u001b[0m \u001b[0;32mNone\u001b[0m\u001b[0;34m:\u001b[0m\u001b[0;34m\u001b[0m\u001b[0m\n\u001b[0;32m--> 424\u001b[0;31m       \u001b[0;32mraise\u001b[0m \u001b[0mValueError\u001b[0m\u001b[0;34m(\u001b[0m\u001b[0;34m\"None values not supported.\"\u001b[0m\u001b[0;34m)\u001b[0m\u001b[0;34m\u001b[0m\u001b[0m\n\u001b[0m\u001b[1;32m    425\u001b[0m     \u001b[0;31m# if dtype is provided, forces numpy array to be the type\u001b[0m\u001b[0;34m\u001b[0m\u001b[0;34m\u001b[0m\u001b[0m\n\u001b[1;32m    426\u001b[0m     \u001b[0;31m# provided if possible.\u001b[0m\u001b[0;34m\u001b[0m\u001b[0;34m\u001b[0m\u001b[0m\n",
            "\u001b[0;31mValueError\u001b[0m: None values not supported."
          ]
        }
      ]
    },
    {
      "metadata": {
        "id": "8QaOXXjUAwVH",
        "colab_type": "text"
      },
      "cell_type": "markdown",
      "source": [
        "## Error of style disc."
      ]
    },
    {
      "metadata": {
        "id": "t_YnBS4fAr1M",
        "colab_type": "code",
        "colab": {
          "base_uri": "https://localhost:8080/",
          "height": 248
        },
        "outputId": "2a68d9f1-fedf-4ff5-e9b0-bab402a459d8"
      },
      "cell_type": "code",
      "source": [
        "### Error of style discriminator\n",
        "x,y=next(gen(dataset.result.val,10,'d'))\n",
        "print ('eval',d.evaluate(x,y))\n",
        "p=d.predict(x)\n",
        "for i in range(len(y)):\n",
        "  print (i,'error',(abs(y[i][0]-p[i][0])),'gold',y[i],p[i],dataset.one_x_as_text(x[i]))\n",
        "\n",
        "\n",
        "\n"
      ],
      "execution_count": 211,
      "outputs": [
        {
          "output_type": "stream",
          "text": [
            "\r10/10 [==============================] - 0s 2ms/step\n",
            "eval [0.6257959008216858, 0.8999999761581421]\n",
            "0 actual 0.38546136 [0. 1.] [0.38546136 0.6145386 ] For I have kept the ways of the Lord; I have not been turned away in sin from my God.\n",
            "1 actual 0.42803007 [0. 1.] [0.42803007 0.5719699 ] \"And while she was still talking with the king, <oov> the prophet came in.\" <s> <s> <s> <s> <s> <s>\n",
            "2 actual 0.31531385 [0. 1.] [0.31531385 0.6846862 ] \"Then he gave a cry to the servant who was waiting on him and said, Put this woman out, and\n",
            "3 actual 0.01998341 [1. 0.] [0.9800166  0.01998337] \"And all the people come up after him, and the people are <oov> with <oov> and <oov> -- great joy,\n",
            "4 actual 0.116271734 [0. 1.] [0.11627173 0.8837283 ] \"Now the servants of David and <oov> had been out attacking a band of armed men, and they came back\n",
            "5 actual 0.10636711 [0. 1.] [0.10636711 0.8936329 ] \"He made them of liquid metal in the lowland of Jordan, at the way across the river, at <oov> between\n",
            "6 actual 0.98686856 [1. 0.] [0.01313142 0.98686856] \"and the people who `are' in it he hath brought out, and setteth to the saw, and to cutting instruments\n",
            "7 actual 0.11351353 [1. 0.] [0.8864865 0.1135135] <oov> Thou hast been great, Jehovah God, for there is none like Thee, and there is no God save Thee,\n",
            "8 actual 0.10948968 [1. 0.] [0.8905103  0.10948969] \"and <oov> hath risen early, and stood by the side of the way of the gate, and it cometh to\n",
            "9 actual 0.0081293825 [0. 1.] [0.00812938 0.99187064] \"Is it not clear to you that Abner, the son of Ner, came with deceit to get knowledge of your\n"
          ],
          "name": "stdout"
        }
      ]
    },
    {
      "metadata": {
        "id": "yuyAKbHkxsJ-",
        "colab_type": "code",
        "colab": {}
      },
      "cell_type": "code",
      "source": [
        ""
      ],
      "execution_count": 0,
      "outputs": []
    },
    {
      "metadata": {
        "id": "E2yLpQu4mvAS",
        "colab_type": "text"
      },
      "cell_type": "markdown",
      "source": [
        "# FAQ and wierd exceptions\n",
        "\n",
        "* If you get exceptions related to cuda-lstm , inside the show_sample, but you actially not using it at all.  You will need to restart the notebook (thinking it's TF issue/bug)"
      ]
    },
    {
      "metadata": {
        "id": "y-9778X3mqOC",
        "colab_type": "code",
        "colab": {
          "base_uri": "https://localhost:8080/",
          "height": 477
        },
        "outputId": "706d54a5-0ef5-4523-b32a-8d631f0f003a"
      },
      "cell_type": "code",
      "source": [
        "# If d not training (accuracy close to 0.5): check this. from som reason, it is not trainlable\n",
        "# solution is to recompile, and redefine train_d . TODO: find source of problem\n",
        "#  Discrepancy between trainable weights and collected trainable weights, did you set `model.trainable` without calling `model.compile` after ?\n",
        "#  'Discrepancy between trainable weights and collected trainable'\n",
        "def print_d_mean():\n",
        "  print(d.get_layer('d__dense_softmax').get_weights()[0].mean(),'b',d.get_layer('d__dense_softmax').get_weights()[1].mean())\n",
        "print_d_mean()\n",
        "\n",
        "\n",
        "\n",
        "\n"
      ],
      "execution_count": 53,
      "outputs": [
        {
          "output_type": "stream",
          "text": [
            "-0.0030405987 b 0.0\n",
            "(len(d.trainable_weights)) 4\n",
            "encoder_inputs <keras.engine.topology.InputLayer object at 0x7f416565b320> False {'batch_input_shape': (None, None), 'dtype': 'float32', 'sparse': False, 'name': 'encoder_inputs'}\n",
            "embedding_7 <keras.layers.embeddings.Embedding object at 0x7f416565bc88> False {'name': 'embedding_7', 'trainable': False, 'batch_input_shape': (None, None), 'dtype': 'float32', 'input_dim': 10000, 'output_dim': 300, 'embeddings_initializer': {'class_name': 'RandomUniform', 'config': {'minval': -0.05, 'maxval': 0.05, 'seed': None}}, 'embeddings_regularizer': None, 'activity_regularizer': None, 'embeddings_constraint': None, 'mask_zero': False, 'input_length': None}\n",
            "bidirectional_7 <keras.layers.wrappers.Bidirectional object at 0x7f41656c9588> False {'name': 'bidirectional_7', 'trainable': False, 'layer': {'class_name': 'CuDNNLSTM', 'config': {'name': 'cu_dnnlstm_13', 'trainable': True, 'return_sequences': False, 'return_state': True, 'go_backwards': False, 'stateful': False, 'units': 256, 'kernel_initializer': {'class_name': 'VarianceScaling', 'config': {'scale': 1.0, 'mode': 'fan_avg', 'distribution': 'uniform', 'seed': None}}, 'recurrent_initializer': {'class_name': 'Orthogonal', 'config': {'gain': 1.0, 'seed': None}}, 'bias_initializer': {'class_name': 'Zeros', 'config': {}}, 'unit_forget_bias': True, 'kernel_regularizer': None, 'recurrent_regularizer': None, 'bias_regularizer': None, 'activity_regularizer': None, 'kernel_constraint': None, 'recurrent_constraint': None, 'bias_constraint': None}}, 'merge_mode': 'concat'}\n",
            "concatenate_13 <keras.layers.merge.Concatenate object at 0x7f41656d1da0> False {'name': 'concatenate_13', 'trainable': False, 'axis': -1}\n",
            "concatenate_14 <keras.layers.merge.Concatenate object at 0x7f41656c9128> False {'name': 'concatenate_14', 'trainable': False, 'axis': -1}\n",
            "d__concat1 <keras.layers.merge.Concatenate object at 0x7f40b92ff470> False {'name': 'd__concat1', 'trainable': False, 'axis': -1}\n",
            "d__dropout1 <keras.layers.core.Dropout object at 0x7f40b91a3c18> False {'name': 'd__dropout1', 'trainable': False, 'rate': 0.1, 'noise_shape': None, 'seed': None}\n",
            "d__dense1 <keras.layers.core.Dense object at 0x7f40b91a3f60> True {'name': 'd__dense1', 'trainable': True, 'units': 100, 'activation': 'relu', 'use_bias': True, 'kernel_initializer': {'class_name': 'VarianceScaling', 'config': {'scale': 1.0, 'mode': 'fan_avg', 'distribution': 'uniform', 'seed': None}}, 'bias_initializer': {'class_name': 'Zeros', 'config': {}}, 'kernel_regularizer': None, 'bias_regularizer': None, 'activity_regularizer': None, 'kernel_constraint': None, 'bias_constraint': None}\n",
            "d__dropout2 <keras.layers.core.Dropout object at 0x7f40b9256ba8> False {'name': 'd__dropout2', 'trainable': False, 'rate': 0.1, 'noise_shape': None, 'seed': None}\n",
            "d__dense_softmax <keras.layers.core.Dense object at 0x7f40b9140048> True {'name': 'd__dense_softmax', 'trainable': True, 'units': 2, 'activation': 'softmax', 'use_bias': True, 'kernel_initializer': {'class_name': 'VarianceScaling', 'config': {'scale': 1.0, 'mode': 'fan_avg', 'distribution': 'uniform', 'seed': None}}, 'bias_initializer': {'class_name': 'Zeros', 'config': {}}, 'kernel_regularizer': None, 'bias_regularizer': None, 'activity_regularizer': None, 'kernel_constraint': None, 'bias_constraint': None}\n",
            "Epoch 1/1\n",
            " 65/100 [==================>...........] - ETA: 0s - loss: 8.2063 - acc: 0.4909"
          ],
          "name": "stdout"
        },
        {
          "output_type": "stream",
          "text": [
            "100/100 [==============================] - 3s 30ms/step - loss: 8.1245 - acc: 0.4959 - val_loss: 7.0517 - val_acc: 0.5625\n",
            "-0.0030405987 b 0.0\n",
            "g\n",
            "Epoch 1/1\n"
          ],
          "name": "stdout"
        },
        {
          "output_type": "stream",
          "text": [
            "/usr/local/lib/python3.6/dist-packages/keras/engine/training.py:975: UserWarning: Discrepancy between trainable weights and collected trainable weights, did you set `model.trainable` without calling `model.compile` after ?\n",
            "  'Discrepancy between trainable weights and collected trainable'\n"
          ],
          "name": "stderr"
        },
        {
          "output_type": "stream",
          "text": [
            "50/50 [==============================] - 8s 161ms/step - loss: 4.9978 - val_loss: 5.0033\n",
            "-0.0030405987 b 0.0\n",
            "Epoch 1/1\n",
            "100/100 [==============================] - 4s 37ms/step - loss: 8.0288 - acc: 0.5019 - val_loss: 7.3035 - val_acc: 0.5469\n",
            "-0.0030405987 b 0.0\n",
            "(len(d.trainable_weights)) 4\n"
          ],
          "name": "stdout"
        }
      ]
    },
    {
      "metadata": {
        "id": "9rRMNtUdrey1",
        "colab_type": "code",
        "colab": {
          "base_uri": "https://localhost:8080/",
          "height": 266
        },
        "outputId": "52e825e1-1c78-40ec-c839-30328b26ebf3"
      },
      "cell_type": "code",
      "source": [
        ""
      ],
      "execution_count": 123,
      "outputs": [
        {
          "output_type": "stream",
          "text": [
            "0.0032313007 b 1.3737008e-08\n",
            "encoder_inputs <keras.engine.topology.InputLayer object at 0x7f40b60c1080> False {'batch_input_shape': (None, None), 'dtype': 'float32', 'sparse': False, 'name': 'encoder_inputs'}\n",
            "model_106 <keras.engine.training.Model object at 0x7f40b5e6b240> False {'name': 'model_106', 'layers': [{'name': 'encoder_inputs', 'class_name': 'InputLayer', 'config': {'batch_input_shape': (None, None), 'dtype': 'float32', 'sparse': False, 'name': 'encoder_inputs'}, 'inbound_nodes': []}, {'name': 'embedding_14', 'class_name': 'Embedding', 'config': {'name': 'embedding_14', 'trainable': True, 'batch_input_shape': (None, None), 'dtype': 'float32', 'input_dim': 10000, 'output_dim': 300, 'embeddings_initializer': {'class_name': 'RandomUniform', 'config': {'minval': -0.05, 'maxval': 0.05, 'seed': None}}, 'embeddings_regularizer': None, 'activity_regularizer': None, 'embeddings_constraint': None, 'mask_zero': False, 'input_length': None}, 'inbound_nodes': [[['encoder_inputs', 0, 0, {}]]]}, {'name': 'bidirectional_14', 'class_name': 'Bidirectional', 'config': {'name': 'bidirectional_14', 'trainable': True, 'layer': {'class_name': 'CuDNNLSTM', 'config': {'name': 'cu_dnnlstm_27', 'trainable': True, 'return_sequences': False, 'return_state': True, 'go_backwards': False, 'stateful': False, 'units': 256, 'kernel_initializer': {'class_name': 'VarianceScaling', 'config': {'scale': 1.0, 'mode': 'fan_avg', 'distribution': 'uniform', 'seed': None}}, 'recurrent_initializer': {'class_name': 'Orthogonal', 'config': {'gain': 1.0, 'seed': None}}, 'bias_initializer': {'class_name': 'Zeros', 'config': {}}, 'unit_forget_bias': True, 'kernel_regularizer': None, 'recurrent_regularizer': None, 'bias_regularizer': None, 'activity_regularizer': None, 'kernel_constraint': None, 'recurrent_constraint': None, 'bias_constraint': None}}, 'merge_mode': 'concat'}, 'inbound_nodes': [[['embedding_14', 0, 0, {}]]]}, {'name': 'concatenate_27', 'class_name': 'Concatenate', 'config': {'name': 'concatenate_27', 'trainable': True, 'axis': -1}, 'inbound_nodes': [[['bidirectional_14', 0, 1, {}], ['bidirectional_14', 0, 3, {}]]]}, {'name': 'concatenate_28', 'class_name': 'Concatenate', 'config': {'name': 'concatenate_28', 'trainable': True, 'axis': -1}, 'inbound_nodes': [[['bidirectional_14', 0, 2, {}], ['bidirectional_14', 0, 4, {}]]]}], 'input_layers': [['encoder_inputs', 0, 0]], 'output_layers': [['concatenate_27', 0, 0], ['concatenate_28', 0, 0]]}\n",
            "d__concat1 <keras.layers.merge.Concatenate object at 0x7f40b5dd76d8> False {'name': 'd__concat1', 'trainable': False, 'axis': -1}\n",
            "d__dropout1 <keras.layers.core.Dropout object at 0x7f40b5d2a978> False {'name': 'd__dropout1', 'trainable': False, 'rate': 0.1, 'noise_shape': None, 'seed': None}\n",
            "d__dense1 <keras.layers.core.Dense object at 0x7f40b5d21d68> True {'name': 'd__dense1', 'trainable': True, 'units': 100, 'activation': 'relu', 'use_bias': True, 'kernel_initializer': {'class_name': 'VarianceScaling', 'config': {'scale': 1.0, 'mode': 'fan_avg', 'distribution': 'uniform', 'seed': None}}, 'bias_initializer': {'class_name': 'Zeros', 'config': {}}, 'kernel_regularizer': None, 'bias_regularizer': None, 'activity_regularizer': None, 'kernel_constraint': None, 'bias_constraint': None}\n",
            "d__dropout2 <keras.layers.core.Dropout object at 0x7f40b5d21b00> False {'name': 'd__dropout2', 'trainable': False, 'rate': 0.1, 'noise_shape': None, 'seed': None}\n",
            "d__dense_softmax <keras.layers.core.Dense object at 0x7f40b5e6b208> True {'name': 'd__dense_softmax', 'trainable': True, 'units': 2, 'activation': 'softmax', 'use_bias': True, 'kernel_initializer': {'class_name': 'VarianceScaling', 'config': {'scale': 1.0, 'mode': 'fan_avg', 'distribution': 'uniform', 'seed': None}}, 'bias_initializer': {'class_name': 'Zeros', 'config': {}}, 'kernel_regularizer': None, 'bias_regularizer': None, 'activity_regularizer': None, 'kernel_constraint': None, 'bias_constraint': None}\n",
            "Epoch 1/1\n",
            "  3/150 [..............................] - ETA: 6s - loss: 8.0590 - acc: 0.5000"
          ],
          "name": "stdout"
        },
        {
          "output_type": "stream",
          "text": [
            "/usr/local/lib/python3.6/dist-packages/keras/engine/training.py:975: UserWarning: Discrepancy between trainable weights and collected trainable weights, did you set `model.trainable` without calling `model.compile` after ?\n",
            "  'Discrepancy between trainable weights and collected trainable'\n"
          ],
          "name": "stderr"
        },
        {
          "output_type": "stream",
          "text": [
            "150/150 [==============================] - 5s 34ms/step - loss: 8.0003 - acc: 0.5036 - val_loss: 6.5480 - val_acc: 0.5938\n",
            "0.0032313007 b 1.3737008e-08\n"
          ],
          "name": "stdout"
        }
      ]
    },
    {
      "metadata": {
        "id": "d3dYES7JhysJ",
        "colab_type": "code",
        "colab": {
          "base_uri": "https://localhost:8080/",
          "height": 52
        },
        "outputId": "6a77b242-a566-4746-eed2-a0f23fc3d34d"
      },
      "cell_type": "code",
      "source": [
        ""
      ],
      "execution_count": 122,
      "outputs": [
        {
          "output_type": "stream",
          "text": [
            "False trainable 0 11\n",
            "True trainable 4 7\n"
          ],
          "name": "stdout"
        }
      ]
    },
    {
      "metadata": {
        "id": "6eNZxwPWyERQ",
        "colab_type": "code",
        "colab": {
          "base_uri": "https://localhost:8080/",
          "height": 122
        },
        "outputId": "83a30d59-5a48-4159-8cc6-a39b271326e5"
      },
      "cell_type": "code",
      "source": [
        ""
      ],
      "execution_count": 93,
      "outputs": [
        {
          "output_type": "stream",
          "text": [
            "2\n",
            "<keras.engine.topology.InputLayer object at 0x7f40b7b04da0> False\n",
            "<keras.layers.core.Dense object at 0x7f40b7b04e10> True\n",
            "<keras.engine.topology.InputLayer object at 0x7f40b7b04da0> False\n",
            "<keras.layers.core.Dense object at 0x7f40b7b04e10> False\n"
          ],
          "name": "stdout"
        },
        {
          "output_type": "execute_result",
          "data": {
            "text/plain": [
              "3"
            ]
          },
          "metadata": {
            "tags": []
          },
          "execution_count": 93
        }
      ]
    }
  ]
}