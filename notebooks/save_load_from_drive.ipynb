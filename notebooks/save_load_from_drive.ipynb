{
  "nbformat": 4,
  "nbformat_minor": 0,
  "metadata": {
    "colab": {
      "name": "save_load_from_drive.ipynb",
      "version": "0.3.2",
      "provenance": [],
      "collapsed_sections": [],
      "include_colab_link": true
    },
    "kernelspec": {
      "name": "python3",
      "display_name": "Python 3"
    }
  },
  "cells": [
    {
      "cell_type": "markdown",
      "metadata": {
        "id": "view-in-github",
        "colab_type": "text"
      },
      "source": [
        "[View in Colaboratory](https://colab.research.google.com/github/assaflehr/language-style-transfer/blob/master/notebooks/save_load_from_drive.ipynb)"
      ]
    },
    {
      "metadata": {
        "id": "gvXxMsz9KiZW",
        "colab_type": "code",
        "colab": {
          "base_uri": "https://localhost:8080/",
          "height": 199
        },
        "outputId": "78ebc684-6d6c-4689-ff84-b2d030021e9a"
      },
      "cell_type": "code",
      "source": [
        "!pip install -U -q PyDrive\n",
        "\n",
        "from pydrive.auth import GoogleAuth\n",
        "from pydrive.drive import GoogleDrive\n",
        "from google.colab import auth\n",
        "from oauth2client.client import GoogleCredentials\n",
        "\n",
        "\n",
        "auth.authenticate_user()\n",
        "gauth = GoogleAuth()\n",
        "gauth.credentials = GoogleCredentials.get_application_default()\n",
        "drive = GoogleDrive(gauth)\n",
        "\n",
        "\n",
        "def save_to_drive(pathname):\n",
        "  file_list = drive.ListFile({'q': \"'root' in parents and trashed=false\"}).GetList()\n",
        "  data_from_colab=None\n",
        "  for file1 in file_list:  \n",
        "     if file1['title']=='data_from_colab':\n",
        "        #print ('title: %s, id: %s' % (file1['title'], file1['id']))\n",
        "        data_from_colab = file1['id']\n",
        "\n",
        "  if (data_from_colab):\n",
        "    f = drive.CreateFile({'parents':[{u'id': data_from_colab}]})\n",
        "    f.SetContentFile(pathname)\n",
        "    f.Upload() \n",
        "    f_id = f['id']\n",
        "    print (f'saving {pathname} as id {f_id}')\n",
        "    return f_id\n",
        "  else:\n",
        "    raise Exception('did not find')\n",
        "\n",
        "def load_from_drive(id_in_drive,local_pathname): #find it from share\n",
        "  down= drive.CreateFile({'id': id_in_drive}) #{'id': '1nIcmbxc6c3Nic35O2JrSEmTmq7X6D2a2'}\n",
        "  down.GetContentFile(local_pathname)   \n",
        "  \n",
        "\n",
        "def test():\n",
        "  i=save_to_drive('language-style-transfer/LICENSE')\n",
        "  load_from_drive(i,'language-style-transfer/LICENSE_OUT_2')\n",
        "  !ls -l language-style-transfer\n",
        "  \n",
        "test() "
      ],
      "execution_count": 4,
      "outputs": [
        {
          "output_type": "stream",
          "text": [
            "saving language-style-transfer/LICENSE as id 1V54UaBubVo8oQMzsYJMC5eeca4NN3krd\n",
            "total 56\n",
            "drwxr-xr-x 2 root root  4096 Jun 21 12:18 code\n",
            "drwxr-xr-x 3 root root  4096 Jun 21 12:18 data\n",
            "-rw-r--r-- 1 root root   274 Jun 21 12:18 download_model.sh\n",
            "drwxr-xr-x 2 root root  4096 Jun 21 12:18 img\n",
            "-rw-r--r-- 1 root root 11357 Jun 21 12:18 LICENSE\n",
            "-rw-r--r-- 1 root root 11357 Jun 21 14:47 LICENSE_OUT\n",
            "-rw-r--r-- 1 root root 11357 Jun 21 14:48 LICENSE_OUT_2\n",
            "-rw-r--r-- 1 root root  1955 Jun 21 12:18 README.md\n"
          ],
          "name": "stdout"
        }
      ]
    }
  ]
}